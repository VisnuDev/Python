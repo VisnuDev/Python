{
 "cells": [
  {
   "cell_type": "markdown",
   "id": "4b275dfc",
   "metadata": {},
   "source": [
    "# Visnu_python_basic_programming_assignment_5_ans"
   ]
  },
  {
   "cell_type": "code",
   "execution_count": null,
   "id": "592b9e80",
   "metadata": {},
   "outputs": [],
   "source": [
    "1.\tWrite a Python Program to Find LCM?\n",
    "2.\tWrite a Python Program to Find HCF?\n",
    "3.\tWrite a Python Program to Convert Decimal to Binary, Octal and Hexadecimal?\n",
    "4.\tWrite a Python Program To Find ASCII value of a character?\n",
    "5.\tWrite a Python Program to Make a Simple Calculator with 4 basic mathematical operations?\n"
   ]
  },
  {
   "cell_type": "code",
   "execution_count": 6,
   "id": "121af910",
   "metadata": {},
   "outputs": [
    {
     "name": "stdout",
     "output_type": "stream",
     "text": [
      "Enter the value a: 8\n",
      "Enter the value b: 12\n",
      "\n",
      "\n",
      "The LCM of 8 and 12 is: 24\n"
     ]
    }
   ],
   "source": [
    "#1.\tWrite a Python Program to Find LCM?\n",
    "\n",
    "def LCM(a, b):\n",
    "    m = max(a,b) +1\n",
    "    while True:\n",
    "        if m%a==0 and m%b==0:\n",
    "            return m\n",
    "        else:\n",
    "            m+=1\n",
    "            \n",
    "            \n",
    "\n",
    "            \n",
    "a= int(input(\"Enter the value a: \"))\n",
    "b= int(input(\"Enter the value b: \"))\n",
    "\n",
    "lcm= LCM(a, b)\n",
    "\n",
    "print(\"\\n\")\n",
    "\n",
    "print(f\"The LCM of {a} and {b} is: {lcm}\")\n"
   ]
  },
  {
   "cell_type": "code",
   "execution_count": 9,
   "id": "8f3db4a5",
   "metadata": {},
   "outputs": [
    {
     "name": "stdout",
     "output_type": "stream",
     "text": [
      "Enter the value a: 54\n",
      "Enter the value b: 78\n",
      "\n",
      "\n",
      "The HCF of 54 and 78 is: 6\n"
     ]
    }
   ],
   "source": [
    "#2.\tWrite a Python Program to Find HCF?\n",
    "\n",
    "def HCF(a, b):\n",
    "    m = min(a, b) -1\n",
    "    while True:\n",
    "        if a%m ==0 and b%m ==0:\n",
    "            return m\n",
    "        else:\n",
    "            m-=1\n",
    "            \n",
    "\n",
    "        \n",
    "            \n",
    "a= int(input(\"Enter the value a: \"))\n",
    "b= int(input(\"Enter the value b: \"))\n",
    "\n",
    "hcf= HCF(a, b)\n",
    "print(\"\\n\")            \n",
    "            \n",
    "print(f\"The HCF of {a} and {b} is: {hcf}\")"
   ]
  },
  {
   "cell_type": "code",
   "execution_count": 13,
   "id": "22605923",
   "metadata": {},
   "outputs": [
    {
     "name": "stdout",
     "output_type": "stream",
     "text": [
      "Enter a decimal number: 13\n",
      "0b1101\n",
      "0o15\n",
      "0xd\n"
     ]
    }
   ],
   "source": [
    "#3.\tWrite a Python Program to Convert Decimal to Binary, Octal and Hexadecimal?\n",
    "\n",
    "\n",
    "def dec_to_bin(n):\n",
    "    print(bin(n))\n",
    "    \n",
    "def dec_to_oct(n):\n",
    "    print(oct(n))\n",
    "    \n",
    "def dec_to_hex(n):\n",
    "    print(hex(n))\n",
    "    \n",
    "    \n",
    "    \n",
    "num= int(input(\"Enter a decimal number: \"))\n",
    "\n",
    "dec_to_bin(num)\n",
    "dec_to_oct(num)\n",
    "dec_to_hex(num)\n"
   ]
  },
  {
   "cell_type": "code",
   "execution_count": 22,
   "id": "3836e743",
   "metadata": {},
   "outputs": [
    {
     "name": "stdout",
     "output_type": "stream",
     "text": [
      "Enter a character to get its ascii value: A\n",
      "\n",
      "The Ascii value of A is: 65\n"
     ]
    }
   ],
   "source": [
    "#4.\tWrite a Python Program To Find ASCII value of a character?\n",
    "\n",
    "\n",
    "def get_ascii(c):\n",
    "    return ord(c)\n",
    "\n",
    "\n",
    "c= input(\"Enter a character to get its ascii value: \")\n",
    "\n",
    "asc= get_ascii(c)\n",
    "\n",
    "print(f\"\\nThe Ascii value of {c} is: {asc}\")"
   ]
  },
  {
   "cell_type": "code",
   "execution_count": 9,
   "id": "f1aeb62b",
   "metadata": {},
   "outputs": [
    {
     "name": "stdout",
     "output_type": "stream",
     "text": [
      "Basic Arithmetic calculator using Python\n",
      "Enter the arithemtic expression to perform calculation. Eg format (a + b): 5 - 2\n",
      "The subtraction of 5 and 2 is 3\n"
     ]
    }
   ],
   "source": [
    "#5.\tWrite a Python Program to Make a Simple Calculator with 4 basic mathematical operations?\n",
    "\n",
    "print(\"Basic Arithmetic calculator using Python\")\n",
    "\n",
    "\n",
    "def arith_calculator(a, op, b):\n",
    "    if op=='+':\n",
    "        print(f\"The addition of {a} and {b} is {a + b}\")\n",
    "    elif op=='-':\n",
    "        print(f\"The subtraction of {a} and {b} is {a - b}\")\n",
    "    elif op== 'x' or op=='*':\n",
    "        print(f\"The multiplication of {a} and {b} is {a * b}\")\n",
    "    elif op=='/':\n",
    "        print(f\"The division of {a} and {b} is {a / b}\")\n",
    "    elif op=='%':\n",
    "        print(f\"The reminder of dividing {a} by {b} is {a % b}\")\n",
    "\n",
    "\n",
    "a, op, b= map(str, input(\"Enter the arithemtic expression to perform calculation. Eg format (a + b): \").split())\n",
    "\n",
    "arith_calculator(int(a), op, int(b))\n"
   ]
  },
  {
   "cell_type": "code",
   "execution_count": null,
   "id": "6cd1b196",
   "metadata": {},
   "outputs": [],
   "source": []
  }
 ],
 "metadata": {
  "kernelspec": {
   "display_name": "Python 3",
   "language": "python",
   "name": "python3"
  },
  "language_info": {
   "codemirror_mode": {
    "name": "ipython",
    "version": 3
   },
   "file_extension": ".py",
   "mimetype": "text/x-python",
   "name": "python",
   "nbconvert_exporter": "python",
   "pygments_lexer": "ipython3",
   "version": "3.8.8"
  }
 },
 "nbformat": 4,
 "nbformat_minor": 5
}
