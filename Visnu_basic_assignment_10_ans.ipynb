{
 "cells": [
  {
   "cell_type": "code",
   "execution_count": null,
   "id": "7cbed1ad",
   "metadata": {},
   "outputs": [],
   "source": [
    "1. How do you distinguish between shutil.copy() and shutil.copytree()?\n",
    "2. What function is used to rename files?\n",
    "3. What is the difference between the delete functions in the send2trash and shutil modules?\n",
    "4.ZipFile objects have a close() method just like File objects’ close() method. What ZipFile method is equivalent to File objects’ open() method?\n",
    "5. Create a programme that searches a folder tree for files with a certain file extension (such as .pdf or .jpg). Copy these files from whatever location they are in to a new folder.\n"
   ]
  },
  {
   "cell_type": "code",
   "execution_count": null,
   "id": "6272ffd6",
   "metadata": {},
   "outputs": [],
   "source": [
    "1. How do you distinguish between shutil.copy() and shutil.copytree()?\n",
    "\n",
    "Ans:\n",
    "    The shutil.copy() function will copy a single file, \n",
    "    shutil.copytree() will copy an entire folder, along with all its contents.\n",
    "    \n",
    "    "
   ]
  },
  {
   "cell_type": "code",
   "execution_count": null,
   "id": "bd231928",
   "metadata": {},
   "outputs": [],
   "source": [
    "2. What function is used to rename files?\n",
    "\n",
    "Ans:\n",
    "    The shutil.move() function is used for renaming files, as well as move them.\n"
   ]
  },
  {
   "cell_type": "code",
   "execution_count": null,
   "id": "33140fe8",
   "metadata": {},
   "outputs": [],
   "source": [
    "3. What is the difference between the delete functions in the send2trash and shutil modules?\n",
    "\n",
    "Ans:\n",
    "     \n",
    "    -- Delete function send2trash module will move a file or folder to the recycle bin.\n",
    "    \n",
    "    -- Delete function shutil module will permanently delete files and folders."
   ]
  },
  {
   "cell_type": "code",
   "execution_count": null,
   "id": "fe0f27ab",
   "metadata": {},
   "outputs": [],
   "source": [
    "4.ZipFile objects have a close() method just like File objects’ close() method. \n",
    "What ZipFile method is equivalent to File objects’ open() method?\n",
    "\n",
    "\n",
    "\n",
    "Ans:\n",
    "    \n",
    "    The zipfile.ZipFile() function is equivalent to the open() function.\n",
    "    The first argument is the filename, and the second argument is the mode to open the ZIP files.\n",
    "    \n",
    "    The modes are (read, write, or append)."
   ]
  },
  {
   "cell_type": "code",
   "execution_count": null,
   "id": "7ad06a7f",
   "metadata": {},
   "outputs": [],
   "source": [
    "5. Create a programme that searches a folder tree for files with a certain file extension (such as .pdf or .jpg). Copy these files from whatever location they are in to a new folder.\n",
    "\n",
    "Ans:\n",
    "    \n",
    "    import shutil, os\n",
    "    sourcePath = input(‘Enter the absolute path of the source folder: ‘)\n",
    "    fileExtType = input(‘Enter the type of file to copy (such as .pdf or .jpg): ‘).lower()\n",
    "    destPath = input(‘Enter the absolute path of the destination folder: ‘)\n",
    "    for foldername, subfolders, filenames in os.walk(sourcePath):\n",
    "        for filename in filenames:\n",
    "            if filename.lower().endswith(fileExtType):\n",
    "                copySourcePath = os.path.join(foldername, filename)\n",
    "                shutil.copy(copySourcePath, destPath)\n",
    "            else:\n",
    "                continue"
   ]
  }
 ],
 "metadata": {
  "hide_input": false,
  "kernelspec": {
   "display_name": "Python 3",
   "language": "python",
   "name": "python3"
  },
  "language_info": {
   "codemirror_mode": {
    "name": "ipython",
    "version": 3
   },
   "file_extension": ".py",
   "mimetype": "text/x-python",
   "name": "python",
   "nbconvert_exporter": "python",
   "pygments_lexer": "ipython3",
   "version": "3.8.8"
  },
  "toc": {
   "base_numbering": 1,
   "nav_menu": {},
   "number_sections": true,
   "sideBar": true,
   "skip_h1_title": false,
   "title_cell": "Table of Contents",
   "title_sidebar": "Contents",
   "toc_cell": false,
   "toc_position": {},
   "toc_section_display": true,
   "toc_window_display": false
  }
 },
 "nbformat": 4,
 "nbformat_minor": 5
}
