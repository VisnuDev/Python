{
 "cells": [
  {
   "cell_type": "code",
   "execution_count": null,
   "id": "295ff958",
   "metadata": {},
   "outputs": [],
   "source": [
    "1. In what modes should the PdfFileReader() and PdfFileWriter() File objects will be opened?\n",
    "2. From a PdfFileReader object, how do you get a Page object for page 5?\n",
    "3. What PdfFileReader variable stores the number of pages in the PDF document?\n",
    "4. If a PdfFileReader object’s PDF is encrypted with the password swordfish, what must you do before you can obtain Page objects from it?\n",
    "5. What methods do you use to rotate a page?\n",
    "6. What is the difference between a Run object and a Paragraph object?\n",
    "7. How do you obtain a list of Paragraph objects for a Document object that’s stored in a variable named doc?\n",
    "8. What type of object has bold, underline, italic, strike, and outline variables?\n",
    "9. What is the difference between False, True, and None for the bold variable?\n",
    "10. How do you create a Document object for a new Word document?\n",
    "11. How do you add a paragraph with the text 'Hello, there!' to a Document object stored in a variable named doc?\n",
    "12. What integers represent the levels of headings available in Word documents?\n"
   ]
  },
  {
   "cell_type": "code",
   "execution_count": null,
   "id": "20160f65",
   "metadata": {},
   "outputs": [],
   "source": []
  },
  {
   "cell_type": "code",
   "execution_count": null,
   "id": "244091eb",
   "metadata": {},
   "outputs": [],
   "source": [
    "1. In what modes should the PdfFileReader() and PdfFileWriter() File objects will be opened?\n",
    "\n",
    "Ans:\n",
    "    These files will be opened in binary mode., read binary (rb) for PdfFileREader() and write binary (wb) PdfFileWriter()\n",
    "    "
   ]
  },
  {
   "cell_type": "code",
   "execution_count": null,
   "id": "8aab1f63",
   "metadata": {},
   "outputs": [],
   "source": []
  },
  {
   "cell_type": "code",
   "execution_count": null,
   "id": "51e16564",
   "metadata": {},
   "outputs": [],
   "source": [
    "2. From a PdfFileReader object, how do you get a Page object for page 5?\n",
    "\n",
    "Ans:\n",
    "    \n",
    "    Calling getPage(4) will return a Page object for page 5 since page 0 is the first page."
   ]
  },
  {
   "cell_type": "code",
   "execution_count": null,
   "id": "62eb277e",
   "metadata": {
    "ExecuteTime": {
     "end_time": "2022-10-31T18:08:27.727826Z",
     "start_time": "2022-10-31T18:08:27.636829Z"
    }
   },
   "outputs": [],
   "source": [
    "import PyPDF2 as pdf\n",
    "pdfFileObj = open(\"calender_2022.pdf\",'rb')\n",
    "pdfReader = pdf.PdfFileReader(pdfFileObj)\n",
    "pageObj = pdfReader.getPage(4)\n",
    "pageObj.extractText()"
   ]
  },
  {
   "cell_type": "code",
   "execution_count": null,
   "id": "ba2cc002",
   "metadata": {},
   "outputs": [],
   "source": []
  },
  {
   "cell_type": "code",
   "execution_count": null,
   "id": "64d82317",
   "metadata": {},
   "outputs": [],
   "source": [
    "3. What PdfFileReader variable stores the number of pages in the PDF document?\n",
    "\n",
    "Ans:\n",
    "    The total number of pages in the document is stored in the numPages variable of a PdfFileReader object."
   ]
  },
  {
   "cell_type": "code",
   "execution_count": 9,
   "id": "2b4cf586",
   "metadata": {
    "ExecuteTime": {
     "end_time": "2022-10-31T18:11:20.804229Z",
     "start_time": "2022-10-31T18:11:20.781222Z"
    }
   },
   "outputs": [
    {
     "data": {
      "text/plain": [
       "2"
      ]
     },
     "execution_count": 9,
     "metadata": {},
     "output_type": "execute_result"
    }
   ],
   "source": [
    "import PyPDF2 as pdf\n",
    "pdfFileObj = open(\"calender_2022.pdf\",'rb')\n",
    "pdfReader = pdf.PdfFileReader(pdfFileObj)\n",
    "pdfReader.numPages"
   ]
  },
  {
   "cell_type": "code",
   "execution_count": null,
   "id": "ffef4b53",
   "metadata": {},
   "outputs": [],
   "source": []
  },
  {
   "cell_type": "code",
   "execution_count": null,
   "id": "d41a5adf",
   "metadata": {},
   "outputs": [],
   "source": [
    "4. If a PdfFileReader object’s PDF is encrypted with the password swordfish, \n",
    "what must you do before you can obtain Page objects from it?\n",
    "\n",
    "\n",
    "#Ans:\n",
    "To read an encrypted PDF, call the decrypt() function and pass the password as a string, in our case it is swordfish. \n",
    "After we call decrypt() with the correct password, \n",
    "you’ll see that calling getPage() no longer causes an error. Call decrypt('swordfish')."
   ]
  },
  {
   "cell_type": "code",
   "execution_count": null,
   "id": "62640bb9",
   "metadata": {},
   "outputs": [],
   "source": []
  },
  {
   "cell_type": "code",
   "execution_count": null,
   "id": "c219251b",
   "metadata": {},
   "outputs": [],
   "source": [
    "5. What methods do you use to rotate a page?\n",
    "\n",
    "Ans:\n",
    "    \n",
    "The pages of a PDF can be rotated in 90-degree increments with the rotateClockwise() and rotateCounterClockwise() methods."
   ]
  },
  {
   "cell_type": "code",
   "execution_count": null,
   "id": "284f7382",
   "metadata": {},
   "outputs": [],
   "source": []
  },
  {
   "cell_type": "code",
   "execution_count": null,
   "id": "8d5c893f",
   "metadata": {},
   "outputs": [],
   "source": [
    "6. What is the difference between a Run object and a Paragraph object?"
   ]
  },
  {
   "cell_type": "code",
   "execution_count": null,
   "id": "d400d2e6",
   "metadata": {},
   "outputs": [],
   "source": [
    "#Ans:\n",
    "\n",
    "Paragraph Object : A document contains multiple paragraphs. A paragraph begins on a new line and contains multiple\n",
    "runs. The Document object contains a list of Paragraph objects for the paragraphs in the document.\n",
    "(A new paragraph begins whenever the user presses ENTER or RETURN while typing in a Word document.)\n",
    "\n",
    "Run Objects : Runs are contiguous groups of characters within a paragraph with the same style"
   ]
  },
  {
   "cell_type": "code",
   "execution_count": null,
   "id": "91fcb05b",
   "metadata": {},
   "outputs": [],
   "source": []
  },
  {
   "cell_type": "code",
   "execution_count": null,
   "id": "1eb1112c",
   "metadata": {},
   "outputs": [],
   "source": [
    "7. How do you obtain a list of Paragraph objects for a Document object that’s stored in a variable named doc?"
   ]
  },
  {
   "cell_type": "code",
   "execution_count": null,
   "id": "9f3933b6",
   "metadata": {},
   "outputs": [],
   "source": [
    "#Ans:\n",
    "\n",
    "#!pip install python-docx\n",
    "import docx\n",
    "doc = docx.Document('abc.docx')\n",
    "doc.paragraphs"
   ]
  },
  {
   "cell_type": "code",
   "execution_count": null,
   "id": "b7f1e25e",
   "metadata": {},
   "outputs": [],
   "source": []
  },
  {
   "cell_type": "code",
   "execution_count": null,
   "id": "f8ee6ec9",
   "metadata": {},
   "outputs": [],
   "source": [
    "8. What type of object has bold, underline, italic, strike, and outline variables?\n",
    "\n",
    "#Ans:\n",
    "\n",
    " A Run object has bold, underline,italic,strike and outline variables"
   ]
  },
  {
   "cell_type": "code",
   "execution_count": null,
   "id": "c5f5f67b",
   "metadata": {},
   "outputs": [],
   "source": []
  },
  {
   "cell_type": "code",
   "execution_count": null,
   "id": "5a1ab535",
   "metadata": {},
   "outputs": [],
   "source": [
    "9. What is the difference between False, True, and None for the bold variable?"
   ]
  },
  {
   "cell_type": "code",
   "execution_count": null,
   "id": "e7df958b",
   "metadata": {},
   "outputs": [],
   "source": [
    "#Ans:\n",
    "\n",
    "True always makes the run object bolded and False makes it always not bolded, \n",
    "no matter what the style's bold settings is. \n",
    "None will make the Run object just use the style's bold settings."
   ]
  },
  {
   "cell_type": "code",
   "execution_count": null,
   "id": "33545aff",
   "metadata": {},
   "outputs": [],
   "source": []
  },
  {
   "cell_type": "code",
   "execution_count": null,
   "id": "118827a0",
   "metadata": {},
   "outputs": [],
   "source": [
    "10. How do you create a Document object for a new Word document?"
   ]
  },
  {
   "cell_type": "code",
   "execution_count": null,
   "id": "7514d921",
   "metadata": {},
   "outputs": [],
   "source": [
    "#Ans:\n",
    "\n",
    "mydoc = docx.Document()"
   ]
  },
  {
   "cell_type": "code",
   "execution_count": null,
   "id": "19d75339",
   "metadata": {},
   "outputs": [],
   "source": []
  },
  {
   "cell_type": "code",
   "execution_count": null,
   "id": "c0c24af9",
   "metadata": {},
   "outputs": [],
   "source": [
    "11. How do you add a paragraph with the text 'Hello, there!' to a Document object stored in a variable named doc?\n",
    "\n",
    "#Ans:\n",
    "\n",
    "doc.add_paragraph('Hello, there!')"
   ]
  },
  {
   "cell_type": "code",
   "execution_count": null,
   "id": "b4b27689",
   "metadata": {},
   "outputs": [],
   "source": []
  },
  {
   "cell_type": "code",
   "execution_count": null,
   "id": "bc935f03",
   "metadata": {},
   "outputs": [],
   "source": [
    "12. What integers represent the levels of headings available in Word documents?\n",
    "\n",
    "#Ans:\n",
    "\n",
    "Integer from 0 to 4.\n",
    "\n",
    "The arguments to add_heading() are a string of the heading text and an integer from 0 to 4. \n",
    "The integer 0 makes the heading the Title style, which is used for the top of the document. \n",
    "Integers 1 to 4 are for various heading levels, with 1 being the main heading and 4 the lowest subheading."
   ]
  }
 ],
 "metadata": {
  "hide_input": false,
  "kernelspec": {
   "display_name": "Python 3",
   "language": "python",
   "name": "python3"
  },
  "language_info": {
   "codemirror_mode": {
    "name": "ipython",
    "version": 3
   },
   "file_extension": ".py",
   "mimetype": "text/x-python",
   "name": "python",
   "nbconvert_exporter": "python",
   "pygments_lexer": "ipython3",
   "version": "3.8.8"
  },
  "toc": {
   "base_numbering": 1,
   "nav_menu": {},
   "number_sections": true,
   "sideBar": true,
   "skip_h1_title": false,
   "title_cell": "Table of Contents",
   "title_sidebar": "Contents",
   "toc_cell": false,
   "toc_position": {},
   "toc_section_display": true,
   "toc_window_display": false
  }
 },
 "nbformat": 4,
 "nbformat_minor": 5
}
