{
 "cells": [
  {
   "cell_type": "code",
   "execution_count": null,
   "id": "52aee4ab",
   "metadata": {},
   "outputs": [],
   "source": [
    "1. What advantages do Excel spreadsheets have over CSV spreadsheets?\n",
    "2. What do you pass to csv.reader() and csv.writer() to create reader and writer objects?\n",
    "3. What modes do File objects for reader and writer objects need to be opened in?\n",
    "4. What method takes a list argument and writes it to a CSV file?\n",
    "5. What do the keyword arguments delimiter and line terminator do?\n",
    "6. What function takes a string of JSON data and returns a Python data structure?\n",
    "7. What function takes a Python data structure and returns a string of JSON data?"
   ]
  },
  {
   "cell_type": "code",
   "execution_count": null,
   "id": "eca6ad51",
   "metadata": {},
   "outputs": [],
   "source": [
    "1. What advantages do Excel spreadsheets have over CSV spreadsheets?\n",
    "\n",
    "Ans:\n",
    "    \n",
    "    --Excel can perform VBA coding, functions formulas but CSV cannot.\n",
    "    --Excel can handle large dataset much easier than CSV.\n",
    "    "
   ]
  },
  {
   "cell_type": "code",
   "execution_count": null,
   "id": "9277cf2b",
   "metadata": {},
   "outputs": [],
   "source": [
    "2. What do you pass to csv.reader() and csv.writer() to create reader and writer objects?\n",
    "\n",
    "\n",
    "Ans:\n",
    "    we can pass file pointer which is opened as read mode to csv.reader() \n",
    "\n",
    "    Eg: \n",
    "        import csv\n",
    "        with open('myfile.csv', 'r') as file:\n",
    "        reader = csv.reader(file)\n",
    "    \n",
    "    we can pass file pointer which is opened as write mode to csv.writer()\n",
    "\n",
    "    eg:\n",
    "        import csv\n",
    "        with open('myfile.csv', 'w') as file:\n",
    "        writer = csv. writer(file)"
   ]
  },
  {
   "cell_type": "code",
   "execution_count": null,
   "id": "2549bc73",
   "metadata": {},
   "outputs": [],
   "source": [
    "3. What modes do File objects for reader and writer objects need to be opened in?\n",
    "\n",
    "Ans:\n",
    "    \n",
    "    --For reader the file objects should be opened in read mode as below,\n",
    "    \n",
    "        import csv\n",
    "        with open('myfile.csv', 'r') as file:\n",
    "        reader = csv.reader(file)\n",
    "        \n",
    "    --For writer the file objects can be opened in either write mode or append mode,\n",
    "    \n",
    "    \n",
    "        import csv\n",
    "        with open(\"file_1.csv\", 'w') as write_file:\n",
    "        writer = csv.writer(write_file)\n",
    "        with open(\"file_2.csv\", 'a') as append_file:\n",
    "        append= csv.writer(append_file)\n",
    "    "
   ]
  },
  {
   "cell_type": "code",
   "execution_count": null,
   "id": "1211d120",
   "metadata": {},
   "outputs": [],
   "source": [
    "4. What method takes a list argument and writes it to a CSV file?\n",
    "\n",
    "\n",
    "Ans:\n",
    "    \n",
    "    writerows() - method writes list argument into CSV file.\n",
    "    \n",
    "Eg:\n",
    "    import csv\n",
    "    data = [['Visnu'], [10], ['Data scientist']]\n",
    "    file = open('myfile.csv', 'w+')\n",
    "    with file:   \n",
    "        write = csv.writer(file)\n",
    "        write.writerows(data)"
   ]
  },
  {
   "cell_type": "code",
   "execution_count": null,
   "id": "b8e6f842",
   "metadata": {},
   "outputs": [],
   "source": [
    "5. What do the keyword arguments delimiter and line terminator do?\n",
    "\n",
    "Ans:\n",
    "    delimiter- By default, a comma is used as a delimiter in a CSV file. \n",
    "    However, some CSV files can use delimiters other than a comma. Few popular ones are | and \\t.\n",
    "    \n",
    "    \n",
    "    lineterminator - A lineterminator is a string used to terminate lines produced by writer objects. \n",
    "    he default value is \\r\\n. You can change its value by passing any string as a lineterminator parameter.\n",
    "    \n",
    "    "
   ]
  },
  {
   "cell_type": "code",
   "execution_count": null,
   "id": "a6952bb5",
   "metadata": {},
   "outputs": [],
   "source": [
    "6. What function takes a string of JSON data and returns a Python data structure?\n",
    "\n",
    "Ans:\n",
    "    json.loads() - method can be used to convert json string into python data structure.\n",
    "    \n",
    "eg:\n",
    "    import json\n",
    "    \n",
    "    x = \"\"\"{\n",
    "    \"Name\": \"Visnu\",\n",
    "    \"Contact Number\": 111111111,\n",
    "    \"Email\": \"visn111111@gmail.com\",\n",
    "    \"Hobbies\":[\"Reading\", \"Sketching\", \"Horse Riding\"]\n",
    "    }\"\"\"\n",
    "\n",
    "\n",
    "    y=json.loads(x)\n",
    "\n",
    "    print(type(y))\n",
    "    "
   ]
  },
  {
   "cell_type": "code",
   "execution_count": null,
   "id": "ecd9eba1",
   "metadata": {},
   "outputs": [],
   "source": [
    "7. What function takes a Python data structure and returns a string of JSON data?\n",
    "\n",
    "Ans: \n",
    "    json.dumps() - can be used to convert python dict to json data\n",
    "\n",
    "Eg:\n",
    "    \n",
    "    import json\n",
    "\n",
    "    dictionary = {\n",
    "        \"name\": \"Visnu\",\n",
    "        \"department\": \"DS\",\n",
    "        \"Company\": 'Ineuron'}\n",
    "    json_object = json.dumps(dictionary)\n",
    "    print(json_object)\n"
   ]
  }
 ],
 "metadata": {
  "hide_input": false,
  "kernelspec": {
   "display_name": "Python 3",
   "language": "python",
   "name": "python3"
  },
  "language_info": {
   "codemirror_mode": {
    "name": "ipython",
    "version": 3
   },
   "file_extension": ".py",
   "mimetype": "text/x-python",
   "name": "python",
   "nbconvert_exporter": "python",
   "pygments_lexer": "ipython3",
   "version": "3.8.8"
  },
  "toc": {
   "base_numbering": 1,
   "nav_menu": {},
   "number_sections": true,
   "sideBar": true,
   "skip_h1_title": false,
   "title_cell": "Table of Contents",
   "title_sidebar": "Contents",
   "toc_cell": false,
   "toc_position": {},
   "toc_section_display": true,
   "toc_window_display": false
  }
 },
 "nbformat": 4,
 "nbformat_minor": 5
}
