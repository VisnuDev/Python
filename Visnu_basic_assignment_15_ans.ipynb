{
 "cells": [
  {
   "cell_type": "code",
   "execution_count": null,
   "id": "1baa723d",
   "metadata": {},
   "outputs": [],
   "source": [
    "1.How many seconds are in an hour? Use the interactive interpreter as a calculator and multiply the number of seconds in a minute (60) by the number of minutes in an hour (also 60).\n",
    "sol. 60 \n",
    "2. Assign the result from the previous task (seconds in an hour) to a variable called seconds_per_hour.\n",
    "3. How many seconds do you think there are in a day? Make use of the variables seconds per hour and minutes per hour.\n",
    "4. Calculate seconds per day again, but this time save the result in a variable called seconds_per_day\n",
    "5. Divide seconds_per_day by seconds_per_hour. Use floating-point (/) division.\n",
    "6. Divide seconds_per_day by seconds_per_hour, using integer (//) division. Did this number agree with the floating-point value from the previous question, aside from the final .0?\n",
    "7. Write a generator, genPrimes, that returns the sequence of prime numbers on successive calls to its next() method: 2, 3, 5, 7, 11, ...\n"
   ]
  },
  {
   "cell_type": "code",
   "execution_count": 4,
   "id": "28785d2f",
   "metadata": {
    "ExecuteTime": {
     "end_time": "2022-10-26T09:22:47.319582Z",
     "start_time": "2022-10-26T09:22:44.381037Z"
    }
   },
   "outputs": [
    {
     "name": "stdout",
     "output_type": "stream",
     "text": [
      "Hi! This is a time calculator\n",
      "Do you wanna know how many secs are there in an hour (y/n)?y\n",
      "The number of secs in an hour: 3600 secs\n",
      "Do you wanna know how many secs are there in a day (y/n)?y\n",
      "The number of secs in an day: 86400 secs\n",
      "24.0\n",
      "24\n",
      "Yes, the number agree with the floating-point value from the previous question, aside from the final .0\n"
     ]
    }
   ],
   "source": [
    "\n",
    "#step1\n",
    "\n",
    "print(\"Hi! This is a time calculator\")\n",
    "\n",
    "\n",
    "res= input(\"Do you wanna know how many secs are there in an hour (y/n)?\")\n",
    "\n",
    "if res.lower()=='y':\n",
    "    ans=60*60\n",
    "    print(f\"The number of secs in an hour: {ans} secs\")\n",
    "else:\n",
    "    print(\"Thank you for your response\")\n",
    "    \n",
    "    \n",
    "#step2\n",
    "\n",
    "seconds_per_hour=ans\n",
    "\n",
    "\n",
    "#step3\n",
    "\n",
    "hours_per_day=24\n",
    "res= input(\"Do you wanna know how many secs are there in a day (y/n)?\")\n",
    "\n",
    "\n",
    "if res.lower()=='y':\n",
    "    print(f\"The number of secs in an day: {seconds_per_hour* hours_per_day} secs\")\n",
    "else:\n",
    "    print(\"Thank you for your response\")\n",
    "\n",
    "\n",
    "    \n",
    "#step4\n",
    "\n",
    "seconds_per_day= seconds_per_hour* hours_per_day\n",
    "\n",
    "\n",
    "\n",
    "#step5\n",
    "\n",
    "ans1= seconds_per_day/seconds_per_hour\n",
    "print(ans1)\n",
    "\n",
    "\n",
    "#step6\n",
    "ans2= seconds_per_day//seconds_per_hour\n",
    "print(ans2)\n",
    "\n",
    "if ans1==ans2:\n",
    "    print(\"Yes, the number agree with the floating-point value from the previous question, aside from the final .0\")"
   ]
  },
  {
   "cell_type": "code",
   "execution_count": null,
   "id": "ce1557ac",
   "metadata": {},
   "outputs": [],
   "source": [
    "7. Write a generator, genPrimes, that returns the sequence of prime numbers on successive calls to its next() method: 2, 3, 5, 7, 11, ..."
   ]
  },
  {
   "cell_type": "code",
   "execution_count": 67,
   "id": "902bab26",
   "metadata": {
    "ExecuteTime": {
     "end_time": "2022-10-26T11:26:03.079161Z",
     "start_time": "2022-10-26T11:26:03.066161Z"
    }
   },
   "outputs": [
    {
     "name": "stdout",
     "output_type": "stream",
     "text": [
      "2\n",
      "3\n",
      "5\n",
      "7\n",
      "11\n",
      "13\n",
      "17\n",
      "19\n",
      "23\n",
      "29\n",
      "31\n",
      "37\n",
      "41\n",
      "43\n",
      "47\n",
      "53\n",
      "59\n",
      "61\n",
      "67\n",
      "71\n"
     ]
    }
   ],
   "source": [
    "##Ans:\n",
    "    \n",
    "def genPrimes(lim):\n",
    "    for n in range(2, lim):\n",
    "        flag=0\n",
    "        for x in range(2, n):\n",
    "            if n%x == 0:\n",
    "                flag=1\n",
    "                break\n",
    "        if flag==0:\n",
    "            yield n\n",
    "\n",
    "\n",
    "        \n",
    "n= genPrimes(1000)\n",
    "\n",
    "#calling next() for 20 times using for loop\n",
    "for i in range(20):\n",
    "    print(next(n))\n",
    "    "
   ]
  }
 ],
 "metadata": {
  "hide_input": false,
  "kernelspec": {
   "display_name": "Python 3",
   "language": "python",
   "name": "python3"
  },
  "language_info": {
   "codemirror_mode": {
    "name": "ipython",
    "version": 3
   },
   "file_extension": ".py",
   "mimetype": "text/x-python",
   "name": "python",
   "nbconvert_exporter": "python",
   "pygments_lexer": "ipython3",
   "version": "3.8.8"
  },
  "toc": {
   "base_numbering": 1,
   "nav_menu": {},
   "number_sections": true,
   "sideBar": true,
   "skip_h1_title": false,
   "title_cell": "Table of Contents",
   "title_sidebar": "Contents",
   "toc_cell": false,
   "toc_position": {},
   "toc_section_display": true,
   "toc_window_display": false
  }
 },
 "nbformat": 4,
 "nbformat_minor": 5
}
