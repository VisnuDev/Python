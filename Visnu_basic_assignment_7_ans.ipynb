{
 "cells": [
  {
   "cell_type": "markdown",
   "id": "0720d6c2",
   "metadata": {},
   "source": [
    "# Visnu_basic_assignment_7_ans"
   ]
  },
  {
   "cell_type": "code",
   "execution_count": null,
   "id": "1f2c804e",
   "metadata": {},
   "outputs": [],
   "source": [
    "1. What is the name of the feature responsible for generating Regex objects?\n",
    "2. Why do raw strings often appear in Regex objects?\n",
    "3. What is the return value of the search() method?\n",
    "4. From a Match item, how do you get the actual strings that match the pattern?\n",
    "5. In the regex which created from the r'(\\d\\d\\d)-(\\d\\d\\d-\\d\\d\\d\\d)', what does group zero cover? Group 2? Group 1?\n",
    "6. In standard expression syntax, parentheses and intervals have distinct meanings. How can you tell a regex that you want it to fit real parentheses and periods?\n",
    "7. The findall() method returns a string list or a list of string tuples. What causes it to return one of the two options?\n",
    "8. In standard expressions, what does the | character mean?\n",
    "9. In regular expressions, what does the character stand for?\n",
    "10.In regular expressions, what is the difference between the + and * characters?\n",
    "11. What is the difference between {4} and {4,5} in regular expression?\n",
    "12. What do you mean by the \\d, \\w, and \\s shorthand character classes signify in regular expressions?\n",
    "13. What do means by \\D, \\W, and \\S shorthand character classes signify in regular expressions?\n",
    "14. What is the difference between .*? and .*?\n",
    "15. What is the syntax for matching both numbers and lowercase letters with a character class?\n",
    "16. What is the procedure for making a normal expression in regax case insensitive?\n",
    "17. What does the . character normally match? What does it match if re.DOTALL is passed as 2nd argument in re.compile()?\n",
    "18. If numReg = re.compile(r'\\d+'), what will numRegex.sub('X', '11 drummers, 10 pipers, five rings, 4 hen') return?\n",
    "19. What does passing re.VERBOSE as the 2nd argument to re.compile() allow to do?\n",
    "20. How would you write a regex that match a number with comma for every three digits? It must match the given following:\n",
    "'42'\n",
    "'1,234'\n",
    "'6,368,745'\n",
    "but not the following:\n",
    "'12,34,567' (which has only two digits between the commas)\n",
    "'1234' (which lacks commas)\n",
    "21. How would you write a regex that matches the full name of someone whose last name is Watanabe? You can assume that the first name that comes before it will always be one word that begins with a capital letter. The regex must match the following:\n",
    "'Haruto Watanabe'\n",
    "'Alice Watanabe'\n",
    "'RoboCop Watanabe'\n",
    "but not the following:\n",
    "'haruto Watanabe' (where the first name is not capitalized)\n",
    "'Mr. Watanabe' (where the preceding word has a nonletter character)\n",
    "'Watanabe' (which has no first name)\n",
    "'Haruto watanabe' (where Watanabe is not capitalized)\n",
    "22. How would you write a regex that matches a sentence where the first word is either Alice, Bob, or Carol; the second word is either eats, pets, or throws; the third word is apples, cats, or baseballs; and the sentence ends with a period? This regex should be case-insensitive. It must match the following:\n",
    "'Alice eats apples.'\n",
    "'Bob pets cats.'\n",
    "'Carol throws baseballs.'\n",
    "'Alice throws Apples.'\n",
    "'BOB EATS CATS.'\n",
    "but not the following:\n",
    "'RoboCop eats apples.'\n",
    "'ALICE THROWS FOOTBALLS.'\n",
    "'Carol eats 7 cats.'\n",
    "\n"
   ]
  },
  {
   "cell_type": "code",
   "execution_count": null,
   "id": "8f4733cd",
   "metadata": {},
   "outputs": [],
   "source": []
  },
  {
   "cell_type": "code",
   "execution_count": null,
   "id": "c9e0cb81",
   "metadata": {},
   "outputs": [],
   "source": [
    "1. What is the name of the feature responsible for generating Regex objects?\n",
    "\n",
    "Ans:\n",
    "    The re.compile() used for Regex objects in \"re\" module. we can import into python as\n",
    "    import re\n",
    "    pattern = re.compile(r\"(\\b[A-Z]+\\b).(\\b\\d+\\b)\")\n",
    "    \n",
    "    pattern -- is an regex object \n",
    "    \n",
    "    "
   ]
  },
  {
   "cell_type": "code",
   "execution_count": null,
   "id": "9a2888d3",
   "metadata": {},
   "outputs": [],
   "source": [
    "2. Why do raw strings often appear in Regex objects?\n",
    "\n",
    "\n",
    "Ans:\n",
    "    The raw string notation (r\"text\") keeps regular expressions meaningful and confusion-free. \n",
    "    Without it, every backslash (\"\\\") in a regular expression would have to be prefixed with another one to escape it.\n",
    "                                 \n",
    "    Eg:\n",
    "        1) without raw string -- '\\n' is considered as new line special character\n",
    "            print(\"My name is \\nVisnu\") \n",
    "            output: My name is \n",
    "                    Visnu\n",
    "                \n",
    "        2)with raw string \n",
    "            print(r\"My name is \\nVisnu\")\n",
    "            output: My name is \\nVisnu\n",
    "        \n",
    "                            \n",
    "            "
   ]
  },
  {
   "cell_type": "code",
   "execution_count": null,
   "id": "927e8100",
   "metadata": {},
   "outputs": [],
   "source": [
    "3. What is the return value of the search() method?\n",
    "\n",
    "Ans:\n",
    "    search() - method retruns the re.search object if it is found, or it returns None if match is not found.\n",
    "    \n",
    "    eg:\n",
    "        txt=\"I am a ML engineer\"\n",
    "        re.search(\"ML\", txt ) --> returns - <re.Match object; span=(7, 9), match='ML'>\n",
    "        \n",
    "        re.search(\"AI\", txt) --> returns - None"
   ]
  },
  {
   "cell_type": "code",
   "execution_count": 16,
   "id": "5d946e38",
   "metadata": {
    "ExecuteTime": {
     "end_time": "2022-10-20T08:13:42.309041Z",
     "start_time": "2022-10-20T08:13:42.301042Z"
    }
   },
   "outputs": [
    {
     "name": "stdout",
     "output_type": "stream",
     "text": [
      "I am a ML engineer\n"
     ]
    }
   ],
   "source": [
    "import re \n",
    "txt=\"I am a ML engineer\"\n",
    "x= re.search(\"ML\", txt )\n",
    "\n",
    "print(x.string)"
   ]
  },
  {
   "cell_type": "code",
   "execution_count": null,
   "id": "78e04cb8",
   "metadata": {},
   "outputs": [],
   "source": [
    "4. From a Match item, how do you get the actual strings that match the pattern?\n",
    "\n",
    "Ans:\n",
    "    \n",
    "    we can use object_name.string to get the string.\n",
    "    \n",
    "    eg:\n",
    "        import re \n",
    "        txt=\"I am a ML engineer\"\n",
    "        x= re.search(\"ML\", txt )\n",
    "        print(x.string)\n",
    "        "
   ]
  },
  {
   "cell_type": "code",
   "execution_count": null,
   "id": "de87c5cf",
   "metadata": {},
   "outputs": [],
   "source": [
    "5. In the regex which created from the r'(\\d\\d\\d)-(\\d\\d\\d-\\d\\d\\d\\d)', what does group zero cover? Group 2? Group 1?\n",
    "\n",
    "\n",
    "Ans:\n",
    "     Group 0 is entire parenthesis - '(\\d\\d\\d)-(\\d\\d\\d-\\d\\d\\d\\d)'\n",
    "     Group 1 is first set parenthesis - '(\\d\\d\\d)'\n",
    "     Group 2 is second set parenthesis - '(\\d\\d\\d-\\d\\d\\d\\d)'\n",
    "        \n"
   ]
  },
  {
   "cell_type": "code",
   "execution_count": null,
   "id": "5bf80930",
   "metadata": {},
   "outputs": [],
   "source": [
    "6. In standard expression syntax, parentheses and intervals have distinct meanings. \n",
    "how can you tell a regex that you want it to fit real parentheses and periods?\n",
    "\n",
    "Ans:\n",
    "      \n",
    "    Backslash character can be used to escape periods and parenthesis like, '\\.', '\\(', '\\)'\n",
    "     "
   ]
  },
  {
   "cell_type": "code",
   "execution_count": null,
   "id": "d1885661",
   "metadata": {},
   "outputs": [],
   "source": [
    "7. The findall() method returns a string list or a list of string tuples. What causes it to return one of the two options?\n",
    "\n",
    "\n",
    "Ans:\n",
    "    If the regex has no groups, a list of strings is returned. \n",
    "    f the regex has groups, a list of tuples of strings is returned.\n",
    "    \n",
    "    Eg:\n",
    "        1) regex with no groups\n",
    "        \n",
    "        import re\n",
    "        s1= \"My name is Visnu\"\n",
    "        print(re.findall([a-j], s1)) \n",
    "         \n",
    "            output: ['a', 'e', 'i', 'i']\n",
    "        \n",
    "        \n",
    "        2) regex with groups\n",
    "        \n",
    "        import re\n",
    "        s1 = \"The price of ice-creams PINEAPPLE 20 MANGO 30 CHOCOLATE 40\"\n",
    "        pattern = re.compile(r\"(\\b[A-Z]+\\b).(\\b\\d+\\b)\")\n",
    "        pattern.findall(target_string)\n",
    "        \n",
    "        \n",
    "                output: [('PINEAPPLE', '20'), ('MANGO', '30'), ('CHOCOLATE', '40')]\n",
    "        \n",
    "        "
   ]
  },
  {
   "cell_type": "code",
   "execution_count": null,
   "id": "27879527",
   "metadata": {
    "ExecuteTime": {
     "end_time": "2022-10-20T12:41:26.157703Z",
     "start_time": "2022-10-20T12:41:26.139696Z"
    }
   },
   "outputs": [],
   "source": [
    "8. In standard expressions, what does the | character mean?\n",
    "\n",
    "Ans:\n",
    "    In standard expression '|' helps to implement either or option between groups.\n",
    "    \n",
    "    eg: \n",
    "        import re\n",
    "        s1 =\"The price of ice-creams PINEAPPLE 20 MANGO 30 CHOCOLATE 40\"\n",
    "        res= re.findall(\"[A-Z]|[0-9]\", s1)\n",
    "        print(res)\n",
    "        \n",
    "        output: ['T', 'P', 'I', 'N', 'E', 'A', 'P', 'P', 'L', 'E', '2', '0', 'M', 'A', 'N', 'G', 'O', \n",
    "                 '3', '0', 'C', 'H', 'O', 'C', 'O', 'L', 'A', 'T', 'E', '4', '0']\n",
    "            \n",
    "        \n",
    "    The above code find the pattern either [A-Z] or [0-9] because of '|' operator\n",
    "        "
   ]
  },
  {
   "cell_type": "code",
   "execution_count": null,
   "id": "be9df0c8",
   "metadata": {},
   "outputs": [],
   "source": [
    "9. In regular expressions, what does the character stand for?\n",
    "\n",
    "Ans: unable to answer since question is not clear.\n",
    "    "
   ]
  },
  {
   "cell_type": "code",
   "execution_count": null,
   "id": "bf2675ca",
   "metadata": {
    "ExecuteTime": {
     "end_time": "2022-10-24T05:13:53.284011Z",
     "start_time": "2022-10-24T05:13:53.264979Z"
    }
   },
   "outputs": [],
   "source": [
    "10.In regular expressions, what is the difference between the + and * characters?\n",
    "\n",
    "\n",
    "Ans:\n",
    "    \n",
    "    + and * are Metacharacters in regex. \n",
    "    \n",
    "    + -- one or more occurances\n",
    "    * -- Zero or more occurances\n",
    "    \n",
    "    Eg:\n",
    "        \n",
    "            import re\n",
    "            txt = \"heo planet\"\n",
    "            x = re.findall(\"he.*o\", txt)\n",
    "            y= re.findall(\"he.+o\", txt)\n",
    "            print(x)\n",
    "            print(y)\n",
    "            \n",
    "        output:\n",
    "            ['heo']\n",
    "            []"
   ]
  },
  {
   "cell_type": "code",
   "execution_count": null,
   "id": "98cf4e7d",
   "metadata": {},
   "outputs": [],
   "source": [
    "11. What is the difference between {4} and {4,5} in regular expression?\n",
    "\n",
    "\n",
    "Ans:\n",
    "    {4} - represent only any four characters should occur\n",
    "    {4, 5} - represent four or five characters cam occur\n",
    "    \n",
    "    eg:\n",
    "            import re \n",
    "            txt= \"My name is Visnu or Vishnu or VishhnuDev\"\n",
    "            x= re.findall(\"V.{4}u\", txt) #search for only 4 chars\n",
    "            print(x)  \n",
    "            y=re.findall(\"V.{4,5}u\", txt) #search for 4 or 5 chars\n",
    "            print(y) \n",
    "    \n",
    "    output:\n",
    "         \n",
    "        x--    ['Vishnu']\n",
    "        y--    ['Vishnu', 'Vishhnu']\n",
    "    \n",
    "    "
   ]
  },
  {
   "cell_type": "code",
   "execution_count": null,
   "id": "8e8128d8",
   "metadata": {},
   "outputs": [],
   "source": [
    "12. What do you mean by the \\d, \\w, and \\s shorthand character classes signify in regular expressions?\n",
    "\n",
    "\n",
    "Ans:\n",
    "    \n",
    "    \\d - Returns a match where the string contains digits (numbers from 0-9)\n",
    "    \n",
    "    \\w - Returns a match where the string contains any word characters \n",
    "    (characters from a to Z, digits from 0-9, and the underscore _ character)\n",
    "    \n",
    "    \\s - Returns a match where the string contains a white space character"
   ]
  },
  {
   "cell_type": "code",
   "execution_count": null,
   "id": "910656b7",
   "metadata": {},
   "outputs": [],
   "source": [
    "13. What do means by \\D, \\W, and \\S shorthand character classes signify in regular expressions?\n",
    "\n",
    "Ans:\n",
    "    \n",
    "    \\D - Returns a match where the string DOES NOT contain digits\n",
    "    \n",
    "    \\W - Returns a match where the string DOES NOT contain any word characters\n",
    "    \n",
    "    \\S - Returns a match where the string DOES NOT contain a white space character\n",
    "    \n"
   ]
  },
  {
   "cell_type": "code",
   "execution_count": null,
   "id": "0e874b80",
   "metadata": {},
   "outputs": [],
   "source": [
    "14. What is the difference between .*? and .*?\n",
    "\n",
    "Ans:\n",
    "    .*? - search for Zero or one occurances\n",
    "    .*  - search for zero or more occurances\n",
    "    \n",
    "    eg:\n",
    "        \n",
    "        import re \n",
    "        txt= \"My name is Vis Visnu or Vishnu or VishhnuDev\"\n",
    "        x= re.findall(\"V.*?u\", txt)\n",
    "        print(x)\n",
    "        y=re.findall(\"V.*u\", txt)\n",
    "        print(y)\n",
    "        \n",
    "    output:\n",
    "        ['Vis Visnu', 'Vishnu', 'Vishhnu']\n",
    "        ['Vis Visnu or Vishnu or Vishhnu']\n",
    "        "
   ]
  },
  {
   "cell_type": "code",
   "execution_count": null,
   "id": "49dc67ef",
   "metadata": {},
   "outputs": [],
   "source": []
  },
  {
   "cell_type": "code",
   "execution_count": null,
   "id": "8fa20d98",
   "metadata": {},
   "outputs": [],
   "source": [
    "15. What is the syntax for matching both numbers and lowercase letters with a character class?"
   ]
  },
  {
   "cell_type": "code",
   "execution_count": null,
   "id": "c55d90f9",
   "metadata": {},
   "outputs": [],
   "source": [
    "#Ans:\n",
    "\n",
    "we can use below syntax \n",
    "    [a-z0-9]\n",
    "\n",
    "    PFB the sample code"
   ]
  },
  {
   "cell_type": "code",
   "execution_count": 5,
   "id": "c39171b8",
   "metadata": {
    "ExecuteTime": {
     "end_time": "2022-10-31T17:28:55.821476Z",
     "start_time": "2022-10-31T17:28:55.804444Z"
    }
   },
   "outputs": [
    {
     "name": "stdout",
     "output_type": "stream",
     "text": [
      "['i', 's', 'n', 'u', '1', '0', '1', '0', 'g', 'm', 'a', 'i', 'l', 'c', 'o', 'm']\n"
     ]
    }
   ],
   "source": [
    "import re\n",
    "name=\"VisnuDEV1010@gmail.com\"\n",
    "res=re.findall(r'([a-z0-9])', name)\n",
    "\n",
    "print(res)"
   ]
  },
  {
   "cell_type": "code",
   "execution_count": null,
   "id": "e4485227",
   "metadata": {},
   "outputs": [],
   "source": []
  },
  {
   "cell_type": "code",
   "execution_count": null,
   "id": "6eae544c",
   "metadata": {},
   "outputs": [],
   "source": [
    "16. What is the procedure for making a normal expression in regax case insensitive?"
   ]
  },
  {
   "cell_type": "code",
   "execution_count": null,
   "id": "66b332f4",
   "metadata": {},
   "outputs": [],
   "source": [
    "#Ans:\n",
    "\n",
    "Passing re.I or re.IGNORECASE as the second argument to re.compile() will make the matching case insensitive."
   ]
  },
  {
   "cell_type": "code",
   "execution_count": null,
   "id": "219a589f",
   "metadata": {},
   "outputs": [],
   "source": []
  },
  {
   "cell_type": "code",
   "execution_count": null,
   "id": "f57cc587",
   "metadata": {},
   "outputs": [],
   "source": [
    "17. What does the . character normally match? What does it match if re.DOTALL is passed as 2nd argument in re.compile()?"
   ]
  },
  {
   "cell_type": "code",
   "execution_count": null,
   "id": "eaf71b15",
   "metadata": {},
   "outputs": [],
   "source": [
    "#Ans:\n",
    "\n",
    "The . character normally matches any character except the newline character. \n",
    "If re.DOTALL is passed as the second argument to re.compile(), \n",
    "then the dot will also match newline characters."
   ]
  },
  {
   "cell_type": "code",
   "execution_count": null,
   "id": "7ac73d7d",
   "metadata": {},
   "outputs": [],
   "source": []
  },
  {
   "cell_type": "code",
   "execution_count": null,
   "id": "c0e0fde6",
   "metadata": {},
   "outputs": [],
   "source": [
    "18. If numReg = re.compile(r'\\d+'), what will numRegex.sub('X', '11 drummers, 10 pipers, five rings, 4 hen') return?\n",
    "\n",
    "#Ans:\n",
    "It prints all except digits."
   ]
  },
  {
   "cell_type": "code",
   "execution_count": 8,
   "id": "61d4c484",
   "metadata": {
    "ExecuteTime": {
     "end_time": "2022-10-31T17:32:39.015519Z",
     "start_time": "2022-10-31T17:32:39.005517Z"
    }
   },
   "outputs": [
    {
     "data": {
      "text/plain": [
       "'X drummers, X pipers, five rings, X hen'"
      ]
     },
     "execution_count": 8,
     "metadata": {},
     "output_type": "execute_result"
    }
   ],
   "source": [
    "import re\n",
    "numRegex = re.compile(r'\\d+')\n",
    "numRegex.sub('X', '11 drummers, 10 pipers, five rings, 4 hen')"
   ]
  },
  {
   "cell_type": "code",
   "execution_count": null,
   "id": "1cc43dae",
   "metadata": {},
   "outputs": [],
   "source": []
  },
  {
   "cell_type": "code",
   "execution_count": null,
   "id": "53011b18",
   "metadata": {},
   "outputs": [],
   "source": [
    "19. What does passing re.VERBOSE as the 2nd argument to re.compile() allow to do?"
   ]
  },
  {
   "cell_type": "code",
   "execution_count": null,
   "id": "c27446cf",
   "metadata": {},
   "outputs": [],
   "source": [
    "#Ans:\n",
    "\n",
    "The re.VERBOSE argument allows you to add whitespace and comments to the string passed to re.compile()."
   ]
  },
  {
   "cell_type": "code",
   "execution_count": null,
   "id": "062d7a58",
   "metadata": {},
   "outputs": [],
   "source": []
  },
  {
   "cell_type": "code",
   "execution_count": null,
   "id": "d47a8c48",
   "metadata": {},
   "outputs": [],
   "source": [
    "20. How would you write a regex that match a number with comma for every three digits? It must match the given following:\n",
    "'42'\n",
    "'1,234'\n",
    "'6,368,745'\n",
    "but not the following:\n",
    "'12,34,567' (which has only two digits between the commas)\n",
    "'1234' (which lacks commas)"
   ]
  },
  {
   "cell_type": "code",
   "execution_count": null,
   "id": "6b8932e4",
   "metadata": {},
   "outputs": [],
   "source": [
    "#Ans:\n",
    "\n",
    "re.compile(r'^\\d{1,3}(,\\d{3})*$') will create this regex, but other regex strings can produce a similar regular expression."
   ]
  },
  {
   "cell_type": "code",
   "execution_count": null,
   "id": "aabc0039",
   "metadata": {},
   "outputs": [],
   "source": []
  },
  {
   "cell_type": "code",
   "execution_count": null,
   "id": "e9c9c76e",
   "metadata": {},
   "outputs": [],
   "source": [
    "21. How would you write a regex that matches the full name of someone whose last name is Watanabe? You can assume that the first name that comes before it will always be one word that begins with a capital letter. The regex must match the following:\n",
    "'Haruto Watanabe'\n",
    "'Alice Watanabe'\n",
    "'RoboCop Watanabe'\n",
    "but not the following:\n",
    "'haruto Watanabe' (where the first name is not capitalized)\n",
    "'Mr. Watanabe' (where the preceding word has a nonletter character)\n",
    "'Watanabe' (which has no first name)\n",
    "'Haruto watanabe' (where Watanabe is not capitalized)"
   ]
  },
  {
   "cell_type": "code",
   "execution_count": null,
   "id": "8e09646c",
   "metadata": {},
   "outputs": [],
   "source": [
    "#Ans:\n",
    "\n",
    "re.compile(r'[A-Z][a-z]*\\sNakamoto')"
   ]
  },
  {
   "cell_type": "code",
   "execution_count": null,
   "id": "c7e54e01",
   "metadata": {},
   "outputs": [],
   "source": []
  },
  {
   "cell_type": "code",
   "execution_count": null,
   "id": "9129a0ba",
   "metadata": {},
   "outputs": [],
   "source": [
    "22. How would you write a regex that matches a sentence where the first word is either Alice, Bob, or Carol; \n",
    "the second word is either eats, pets, or throws; the third word is apples, cats, or baseballs; \n",
    "and the sentence ends with a period? \n",
    "This regex should be case-insensitive. It must match the following:\n",
    "'Alice eats apples.'\n",
    "'Bob pets cats.'\n",
    "'Carol throws baseballs.'\n",
    "'Alice throws Apples.'\n",
    "'BOB EATS CATS.'\n",
    "but not the following:\n",
    "'RoboCop eats apples.'\n",
    "'ALICE THROWS FOOTBALLS.'\n",
    "'Carol eats 7 cats.'"
   ]
  },
  {
   "cell_type": "code",
   "execution_count": null,
   "id": "bb56c366",
   "metadata": {},
   "outputs": [],
   "source": [
    "#Ans:\n",
    "\n",
    "re.compile(r'(Alice|Bob|Carol)\\s(eats|pets|throws)\\s(apples|cats|baseballs).', re.IGNORECASE)\n"
   ]
  },
  {
   "cell_type": "code",
   "execution_count": null,
   "id": "df272959",
   "metadata": {},
   "outputs": [],
   "source": []
  }
 ],
 "metadata": {
  "hide_input": false,
  "kernelspec": {
   "display_name": "Python 3",
   "language": "python",
   "name": "python3"
  },
  "language_info": {
   "codemirror_mode": {
    "name": "ipython",
    "version": 3
   },
   "file_extension": ".py",
   "mimetype": "text/x-python",
   "name": "python",
   "nbconvert_exporter": "python",
   "pygments_lexer": "ipython3",
   "version": "3.8.8"
  },
  "toc": {
   "base_numbering": 1,
   "nav_menu": {},
   "number_sections": true,
   "sideBar": true,
   "skip_h1_title": false,
   "title_cell": "Table of Contents",
   "title_sidebar": "Contents",
   "toc_cell": false,
   "toc_position": {},
   "toc_section_display": true,
   "toc_window_display": false
  }
 },
 "nbformat": 4,
 "nbformat_minor": 5
}
