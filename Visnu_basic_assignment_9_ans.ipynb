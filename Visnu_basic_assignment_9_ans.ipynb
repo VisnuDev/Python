{
 "cells": [
  {
   "cell_type": "markdown",
   "id": "dd8e75b0",
   "metadata": {},
   "source": [
    "# Visnu_basic_assignment_9_ans"
   ]
  },
  {
   "cell_type": "code",
   "execution_count": null,
   "id": "da879627",
   "metadata": {},
   "outputs": [],
   "source": [
    "1. To what does a relative path refer?\n",
    "2. What does an absolute path start with your operating system?\n",
    "3. What do the functions os.getcwd() and os.chdir() do?\n",
    "4. What are the . and .. folders?\n",
    "5. In C:\\bacon\\eggs\\spam.txt, which part is the dir name, and which part is the base name?\n",
    "6. What are the three “mode” arguments that can be passed to the open() function?\n",
    "7. What happens if an existing file is opened in write mode?\n",
    "8. How do you tell the difference between read() and readlines()?\n",
    "9. What data structure does a shelf value resemble?\n"
   ]
  },
  {
   "cell_type": "code",
   "execution_count": null,
   "id": "2158fced",
   "metadata": {},
   "outputs": [],
   "source": [
    "1. To what does a relative path refer?\n",
    "\n",
    "Ans:\n",
    "    A relative path refers to a location that is relative to a current directory.\n",
    "    Relative paths make use of two special symbols, a dot (.) and a double-dot (..), \n",
    "    which translate into the current directory and the parent directory. \n",
    "    Double dots are used for moving up in the hierarchy. A single dot represents the current directory itself.\n",
    "    \n",
    "eg:\n",
    "    consider directory \"my_doc\" contains subdirectories \"a\", \"b\" and \"c\". \n",
    "    if we are currently in \"a\" directory and if wants to move to \"b\" directory then we need to provide,\n",
    "    \n",
    "    ../b\n",
    "    \n",
    "    "
   ]
  },
  {
   "cell_type": "code",
   "execution_count": null,
   "id": "b698b14d",
   "metadata": {},
   "outputs": [],
   "source": [
    "2. What does an absolute path start with your operating system?\n",
    "\n",
    "Ans:\n",
    "    \n",
    "    Absolute paths start with the root folder, such as / or C:\\.\n",
    "        \n",
    "        "
   ]
  },
  {
   "cell_type": "code",
   "execution_count": null,
   "id": "fb47bb87",
   "metadata": {},
   "outputs": [],
   "source": [
    "3. What do the functions os.getcwd() and os.chdir() do?\n",
    "\n",
    "Ans:\n",
    "    os.getcwd() - returns the current working directory\n",
    "    \n",
    "    os.chdir() - from present it changes to another directory\n",
    "    \n",
    "Eg:\n",
    "    PFB"
   ]
  },
  {
   "cell_type": "code",
   "execution_count": 3,
   "id": "45fba1cd",
   "metadata": {
    "ExecuteTime": {
     "end_time": "2022-10-16T02:07:20.051698Z",
     "start_time": "2022-10-16T02:07:20.041691Z"
    }
   },
   "outputs": [
    {
     "name": "stdout",
     "output_type": "stream",
     "text": [
      "X:\\Coding\\Full stack data science ineuron\\Python\\Python basic assignment\n",
      "After changing\n",
      "X:\\Coding\\Full stack data science ineuron\\Python\n",
      "None\n"
     ]
    }
   ],
   "source": [
    "import os\n",
    "\n",
    "print(os.getcwd())\n",
    "\n",
    "os.chdir(\"X:\\\\Coding\\\\Full stack data science ineuron\\\\Python\")\n",
    "\n",
    "print(\"After changing\")\n",
    "print(print(os.getcwd()))\n"
   ]
  },
  {
   "cell_type": "code",
   "execution_count": null,
   "id": "0d398eaf",
   "metadata": {},
   "outputs": [],
   "source": [
    "4) What are the . and .. folders?\n",
    "\n",
    "\n",
    "Ans:\n",
    "    \n",
    "    .  --> refers to the current directory\n",
    "    .. --> refres to immediate parent directory"
   ]
  },
  {
   "cell_type": "code",
   "execution_count": null,
   "id": "97a50255",
   "metadata": {},
   "outputs": [],
   "source": [
    "5. In C:\\bacon\\eggs\\spam.txt, which part is the dir name, and which part is the base name?\n",
    "    \n",
    "Ans:\n",
    "    \n",
    "    dir name --> C:\\bacon\\eggs\\\n",
    "    base name --> spam.txt\n",
    "        \n",
    "\n"
   ]
  },
  {
   "cell_type": "code",
   "execution_count": null,
   "id": "938db365",
   "metadata": {},
   "outputs": [],
   "source": [
    "6. What are the three “mode” arguments that can be passed to the open() function?\n",
    "\n",
    "Ans:\n",
    "    \n",
    "     'r' for read mode, \n",
    "     'w' for write mode, \n",
    "     'a' for append mode."
   ]
  },
  {
   "cell_type": "code",
   "execution_count": null,
   "id": "df446931",
   "metadata": {},
   "outputs": [],
   "source": [
    "7. What happens if an existing file is opened in write mode?\n",
    "\n",
    "Ans:\n",
    "    If the existing file is opened in write mode then all the data will get erased and completely overwritten.\n",
    "    "
   ]
  },
  {
   "cell_type": "code",
   "execution_count": null,
   "id": "679cf118",
   "metadata": {},
   "outputs": [],
   "source": [
    "8. How do you tell the difference between read() and readlines()?\n",
    "\n",
    "\n",
    "Ans:\n",
    "    \n",
    "    The read() method returns the file’s entire contents as a single string value. \n",
    "    The readlines() method returns a list of strings, where each string is a line from the file’s contents.\n",
    "    \n"
   ]
  },
  {
   "cell_type": "code",
   "execution_count": null,
   "id": "f152f2bf",
   "metadata": {},
   "outputs": [],
   "source": [
    "9. What data structure does a shelf value resemble?\n",
    "\n",
    "Ans:\n",
    "    A shelf value resembles a dictionary value.\n",
    "    it has keys and values, along with keys() and values() methods \n",
    "    that work similarly to the dictionary methods of the same names.\n",
    "    \n"
   ]
  }
 ],
 "metadata": {
  "hide_input": false,
  "kernelspec": {
   "display_name": "Python 3",
   "language": "python",
   "name": "python3"
  },
  "language_info": {
   "codemirror_mode": {
    "name": "ipython",
    "version": 3
   },
   "file_extension": ".py",
   "mimetype": "text/x-python",
   "name": "python",
   "nbconvert_exporter": "python",
   "pygments_lexer": "ipython3",
   "version": "3.8.8"
  },
  "toc": {
   "base_numbering": 1,
   "nav_menu": {},
   "number_sections": true,
   "sideBar": true,
   "skip_h1_title": false,
   "title_cell": "Table of Contents",
   "title_sidebar": "Contents",
   "toc_cell": false,
   "toc_position": {},
   "toc_section_display": true,
   "toc_window_display": false
  }
 },
 "nbformat": 4,
 "nbformat_minor": 5
}
