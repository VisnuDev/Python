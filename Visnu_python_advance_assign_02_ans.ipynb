{
 "cells": [
  {
   "cell_type": "code",
   "execution_count": null,
   "id": "48b50aff",
   "metadata": {},
   "outputs": [],
   "source": [
    "Q1. What is the relationship between classes and modules?\n",
    "Q2. How do you make instances and classes?\n",
    "Q3. Where and how should be class attributes created?\n",
    "Q4. Where and how are instance attributes created?\n",
    "Q5. What does the term \"self\" in a Python class mean?\n",
    "Q6. How does a Python class handle operator overloading?\n",
    "Q7. When do you consider allowing operator overloading of your classes?\n",
    "Q8. What is the most popular form of operator overloading?\n",
    "Q9. What are the two most important concepts to grasp in order to comprehend Python OOP code?\n"
   ]
  },
  {
   "cell_type": "code",
   "execution_count": null,
   "id": "a1139793",
   "metadata": {},
   "outputs": [],
   "source": []
  },
  {
   "cell_type": "code",
   "execution_count": null,
   "id": "51ec843f",
   "metadata": {},
   "outputs": [],
   "source": [
    "Q1. What is the relationship between classes and modules?"
   ]
  },
  {
   "cell_type": "code",
   "execution_count": null,
   "id": "c10c33d3",
   "metadata": {},
   "outputs": [],
   "source": [
    "#Ans:\n",
    "\n",
    "A Python class is like an outline/blueprint/mold for creating a new object. \n",
    "An object is anything that you wish to manipulate or change while working through the code. \n",
    "\n",
    "\n",
    "Whereas in Python, Modules are simply files with the . py extension containing Python code that can be imported inside another Python Program. \n",
    "In simple terms, we can consider a module to be the same as a code library or a file that contains a set of functions/Classes that you want to include in your application."
   ]
  },
  {
   "cell_type": "code",
   "execution_count": null,
   "id": "3d7efb28",
   "metadata": {},
   "outputs": [],
   "source": []
  },
  {
   "cell_type": "code",
   "execution_count": null,
   "id": "4483d8f0",
   "metadata": {},
   "outputs": [],
   "source": [
    "Q2. How do you make instances and classes?"
   ]
  },
  {
   "cell_type": "code",
   "execution_count": null,
   "id": "dea8a686",
   "metadata": {},
   "outputs": [],
   "source": [
    "#Ans:\n",
    "\n",
    "--To create a Class we have to use class keyword. As below we have created a class named \"Student\"\n",
    "\n",
    "\n",
    "class Student:\n",
    "    def __init__(self, name, reg_no, age):\n",
    "        self.name= name\n",
    "        self.reg_no= reg_no\n",
    "        self.age=age\n",
    "  \n",
    "\n",
    "\n",
    "\n",
    "---To create instances(objects) for the class, we need to use below format\n",
    "\n",
    "s1= Student(\"Visnu\", 5734, 25)\n",
    "\n",
    "\n",
    "In above s1 is an instance for the class Student\n",
    "        \n"
   ]
  },
  {
   "cell_type": "code",
   "execution_count": null,
   "id": "0392d0c7",
   "metadata": {},
   "outputs": [],
   "source": []
  },
  {
   "cell_type": "code",
   "execution_count": null,
   "id": "99138b44",
   "metadata": {},
   "outputs": [],
   "source": [
    "Q3. Where and how should be class attributes created?"
   ]
  },
  {
   "cell_type": "code",
   "execution_count": null,
   "id": "0b26799a",
   "metadata": {},
   "outputs": [],
   "source": [
    "#Ans:\n",
    "\n",
    "Class attributes are belomged to the class itself. These attributes are shared by all the instances oif the class. \n",
    "so wer need to create the class attribute inside the class but outside of the all methods.\n",
    "\n",
    "Eg: In below class the attribute \"company\" is a class attribute shared by all the instances of the classes.\n",
    "    \n"
   ]
  },
  {
   "cell_type": "code",
   "execution_count": null,
   "id": "20772369",
   "metadata": {},
   "outputs": [],
   "source": [
    "class Employee:\n",
    "    company=\"iNeuron\"\n",
    "    def __init__(self, name, age, salary):\n",
    "        self.name= name\n",
    "        self.age=age\n",
    "        self.salary=salary"
   ]
  },
  {
   "cell_type": "code",
   "execution_count": null,
   "id": "1766f467",
   "metadata": {},
   "outputs": [],
   "source": []
  },
  {
   "cell_type": "code",
   "execution_count": null,
   "id": "ba93ecbd",
   "metadata": {},
   "outputs": [],
   "source": [
    "Q4. Where and how are instance attributes created?"
   ]
  },
  {
   "cell_type": "code",
   "execution_count": null,
   "id": "5397a047",
   "metadata": {},
   "outputs": [],
   "source": [
    "#Ans:\n",
    "\n",
    "Instance attributes are usually created inside the method in the class. Every object has its own copy of instance attributes.\n",
    "\n",
    "usually the instance attributes are created under __init__() method of the class. So it creates unique copy for each object."
   ]
  },
  {
   "cell_type": "code",
   "execution_count": 2,
   "id": "032908db",
   "metadata": {
    "ExecuteTime": {
     "end_time": "2022-12-09T11:38:23.821892Z",
     "start_time": "2022-12-09T11:38:23.814891Z"
    }
   },
   "outputs": [
    {
     "name": "stdout",
     "output_type": "stream",
     "text": [
      "S1 variables: {'name': 'Visnu', 'roll_no': 445633}\n",
      "S2 variables: {'name': 'Devaraj', 'roll_no': 564335}\n"
     ]
    }
   ],
   "source": [
    "#Eg:\n",
    "\n",
    "class Student:\n",
    "    def __init__(self, name, roll_no):\n",
    "        self.name= name\n",
    "        self.roll_no =roll_no\n",
    "        \n",
    "\n",
    "s1=Student(\"Visnu\", 445633)\n",
    "s2=Student(\"Devaraj\", 564335)\n",
    "\n",
    "print(f\"S1 variables: {vars(s1)}\")\n",
    "print(f\"S2 variables: {vars(s2)}\")"
   ]
  },
  {
   "cell_type": "code",
   "execution_count": null,
   "id": "828b4859",
   "metadata": {},
   "outputs": [],
   "source": [
    "Explanation:\n",
    "    In above program instance attributes are unique for the objects s1 and s2 of the class Student."
   ]
  },
  {
   "cell_type": "code",
   "execution_count": null,
   "id": "617b66f4",
   "metadata": {},
   "outputs": [],
   "source": []
  },
  {
   "cell_type": "code",
   "execution_count": null,
   "id": "d56b2f74",
   "metadata": {},
   "outputs": [],
   "source": [
    "Q5. What does the term \"self\" in a Python class mean?"
   ]
  },
  {
   "cell_type": "code",
   "execution_count": null,
   "id": "9afe051f",
   "metadata": {},
   "outputs": [],
   "source": [
    "#Ans:\n",
    "\n",
    "The \"self\" is used in class method which refers to the calling object. \n",
    "Using \"self\" we can access the instance attributes of calling object.\n"
   ]
  },
  {
   "cell_type": "code",
   "execution_count": 4,
   "id": "55fdf4fd",
   "metadata": {
    "ExecuteTime": {
     "end_time": "2022-12-09T12:30:34.090247Z",
     "start_time": "2022-12-09T12:30:34.068249Z"
    }
   },
   "outputs": [
    {
     "name": "stdout",
     "output_type": "stream",
     "text": [
      "Visnu\n"
     ]
    }
   ],
   "source": [
    "#Eg:\n",
    "\n",
    "class Student:\n",
    "    def __init__(self, name, roll_no):\n",
    "        self.name= name\n",
    "        self.roll_no =roll_no\n",
    "        \n",
    "\n",
    "s1=Student(\"Visnu\", 445633)\n",
    "s2=Student(\"Devaraj\", 564335)\n",
    "\n",
    "\n",
    "print(s1.name)\n"
   ]
  },
  {
   "cell_type": "code",
   "execution_count": null,
   "id": "a740482d",
   "metadata": {},
   "outputs": [],
   "source": [
    "Explanation:\n",
    "    \n",
    "    In above code \"self\" keyword in __init__ method refers to calling object."
   ]
  },
  {
   "cell_type": "code",
   "execution_count": null,
   "id": "58a793e1",
   "metadata": {},
   "outputs": [],
   "source": []
  },
  {
   "cell_type": "code",
   "execution_count": null,
   "id": "6cf505c6",
   "metadata": {},
   "outputs": [],
   "source": [
    "Q6. How does a Python class handle operator overloading?"
   ]
  },
  {
   "cell_type": "code",
   "execution_count": null,
   "id": "ca677e94",
   "metadata": {},
   "outputs": [],
   "source": [
    "#Ans:\n",
    "\n",
    "Operator overloading is a technique of providing additional meaning to an operator. \n",
    "\n",
    "python uses some Magic methods for operator overloading. they are like\n",
    "\n",
    "__add__()   --> +\n",
    "__sub__()   --> -\n",
    "__mul__()   --> *\n",
    "__div__()   --> /"
   ]
  },
  {
   "cell_type": "code",
   "execution_count": 7,
   "id": "ee701eef",
   "metadata": {
    "ExecuteTime": {
     "end_time": "2022-12-09T12:41:56.677630Z",
     "start_time": "2022-12-09T12:41:56.657624Z"
    }
   },
   "outputs": [
    {
     "name": "stdout",
     "output_type": "stream",
     "text": [
      "visnu devaraj\n"
     ]
    }
   ],
   "source": [
    "\n",
    "class Name:\n",
    "    def __init__(self, n):\n",
    "        self.name = n\n",
    " \n",
    "     # adding two objects\n",
    "    def __add__(self, other):\n",
    "        return self.name + \" \" + other .name\n",
    "    \n",
    "\n",
    "first = Name(\"visnu\")\n",
    "last= Name(\"devaraj\")\n",
    "\n",
    "full_name= first + last\n",
    "print(full_name)"
   ]
  },
  {
   "cell_type": "code",
   "execution_count": null,
   "id": "3df3e4f7",
   "metadata": {},
   "outputs": [],
   "source": [
    "Exp:\n",
    "    In above code the '+' overloaded to __add__() and return the instance attributes of first and last object of class Name.\n",
    "And it returns the full name."
   ]
  },
  {
   "cell_type": "code",
   "execution_count": null,
   "id": "c506fd7a",
   "metadata": {},
   "outputs": [],
   "source": []
  },
  {
   "cell_type": "code",
   "execution_count": null,
   "id": "1c77712e",
   "metadata": {},
   "outputs": [],
   "source": [
    "Q7. When do you consider allowing operator overloading of your classes?"
   ]
  },
  {
   "cell_type": "code",
   "execution_count": null,
   "id": "094a97f2",
   "metadata": {},
   "outputs": [],
   "source": [
    "Ans:\n",
    "    \n",
    "-- Whenever we want to provide different functionality to an operator we can use Operator overloading.\n",
    "\n",
    "-- Python uses magic methods for operator overloading. like __add__(), __sub__()., etc\n",
    "\n",
    "    "
   ]
  },
  {
   "cell_type": "code",
   "execution_count": null,
   "id": "9367e958",
   "metadata": {},
   "outputs": [],
   "source": []
  },
  {
   "cell_type": "code",
   "execution_count": null,
   "id": "82450970",
   "metadata": {},
   "outputs": [],
   "source": [
    "Q8. What is the most popular form of operator overloading?"
   ]
  },
  {
   "cell_type": "code",
   "execution_count": null,
   "id": "d34029af",
   "metadata": {},
   "outputs": [],
   "source": [
    "#Ans:\n",
    "\n",
    "The most popular form of operator overloading is using magic methods. they are \n",
    "\n",
    "like\n",
    "\n",
    "__add__()   --> +\n",
    "__sub__()   --> -\n",
    "__mul__()   --> *\n",
    "__div__()   --> /\n"
   ]
  },
  {
   "cell_type": "code",
   "execution_count": null,
   "id": "525c8c43",
   "metadata": {},
   "outputs": [],
   "source": []
  },
  {
   "cell_type": "code",
   "execution_count": null,
   "id": "41a796c2",
   "metadata": {},
   "outputs": [],
   "source": [
    "Q9. What are the two most important concepts to grasp in order to comprehend Python OOP code?"
   ]
  },
  {
   "cell_type": "code",
   "execution_count": null,
   "id": "b8e04596",
   "metadata": {},
   "outputs": [],
   "source": [
    "#Ans:\n",
    "\n",
    "In order to comprhend the OOPs code we need o grasp the concepts like \n",
    "\n",
    "Class\n",
    "Object\n",
    "construtor\n",
    "Inheritance\n",
    "Polymorphism\n",
    "Function and operator Overloading\n",
    "Abstraction.\n"
   ]
  }
 ],
 "metadata": {
  "hide_input": false,
  "kernelspec": {
   "display_name": "Python 3",
   "language": "python",
   "name": "python3"
  },
  "language_info": {
   "codemirror_mode": {
    "name": "ipython",
    "version": 3
   },
   "file_extension": ".py",
   "mimetype": "text/x-python",
   "name": "python",
   "nbconvert_exporter": "python",
   "pygments_lexer": "ipython3",
   "version": "3.8.8"
  },
  "toc": {
   "base_numbering": 1,
   "nav_menu": {},
   "number_sections": true,
   "sideBar": true,
   "skip_h1_title": false,
   "title_cell": "Table of Contents",
   "title_sidebar": "Contents",
   "toc_cell": false,
   "toc_position": {},
   "toc_section_display": true,
   "toc_window_display": false
  }
 },
 "nbformat": 4,
 "nbformat_minor": 5
}
