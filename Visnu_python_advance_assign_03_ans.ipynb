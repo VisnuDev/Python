{
 "cells": [
  {
   "cell_type": "code",
   "execution_count": null,
   "id": "1630befc",
   "metadata": {},
   "outputs": [],
   "source": [
    "1. What is the concept of an abstract superclass?\n",
    "\n",
    "2. What happens when a class statement's top level contains a basic assignment statement?\n",
    "\n",
    "3. Why does a class need to manually call a superclass's __init__ method?\n",
    "\n",
    "4. How can you augment, instead of completely replacing, an inherited method?\n",
    "\n",
    "5. How is the local scope of a class different from that of a function?\n"
   ]
  },
  {
   "cell_type": "code",
   "execution_count": null,
   "id": "49b9e115",
   "metadata": {},
   "outputs": [],
   "source": []
  },
  {
   "cell_type": "code",
   "execution_count": null,
   "id": "06f9b887",
   "metadata": {},
   "outputs": [],
   "source": [
    "1. What is the concept of an abstract superclass?\n",
    "\n",
    "#Ans:\n",
    "\n",
    "An abstract class in Python is typically created to declare a set of methods that must be created in any\n",
    "child class built on top of this abstract class. \n",
    "\n",
    "Similarly, an abstract method is one that doesn't have any implementation."
   ]
  },
  {
   "cell_type": "code",
   "execution_count": 4,
   "id": "a7e98e71",
   "metadata": {
    "ExecuteTime": {
     "end_time": "2022-12-09T15:12:29.281889Z",
     "start_time": "2022-12-09T15:12:29.257898Z"
    }
   },
   "outputs": [
    {
     "name": "stdout",
     "output_type": "stream",
     "text": [
      "Drawing a Circle\n"
     ]
    }
   ],
   "source": [
    "#Eg:\n",
    "\n",
    "class Shape():\n",
    "    def __init__(self, shape_name):\n",
    "        self.shape_name = shape_name\n",
    "    \n",
    "    def draw(self):\n",
    "        pass\n",
    "    \n",
    "    \n",
    "    \n",
    "class Circle(Shape):\n",
    "    def __init__(self):\n",
    "        super().__init__(\"circle\")\n",
    " \n",
    "    def draw(self):\n",
    "        print(\"Drawing a Circle\")\n",
    "        \n",
    "        \n",
    "circle = Circle()\n",
    "circle.draw()"
   ]
  },
  {
   "cell_type": "code",
   "execution_count": null,
   "id": "b97c4774",
   "metadata": {},
   "outputs": [],
   "source": [
    "Exp: \n",
    "    \n",
    "    I above code the Shape is the abstract class , which conatins the undefined draw() method \n",
    "    which is defined in its child class Circle."
   ]
  },
  {
   "cell_type": "code",
   "execution_count": null,
   "id": "35120347",
   "metadata": {},
   "outputs": [],
   "source": []
  },
  {
   "cell_type": "code",
   "execution_count": null,
   "id": "4a8960a4",
   "metadata": {},
   "outputs": [],
   "source": []
  },
  {
   "cell_type": "code",
   "execution_count": null,
   "id": "2d2e3b20",
   "metadata": {},
   "outputs": [],
   "source": [
    "2. What happens when a class statement's top level contains a basic assignment statement?\n",
    "\n",
    "#ans:\n",
    "\n",
    "The assignemnt statement in class statement's top level then  it is considered as a class attributes or class variable.\n",
    "\n",
    "Class attributes are a single copy variable which are shared by all the objects of the class.\n"
   ]
  },
  {
   "cell_type": "code",
   "execution_count": 5,
   "id": "2dcc4a0f",
   "metadata": {
    "ExecuteTime": {
     "end_time": "2022-12-09T15:26:39.599164Z",
     "start_time": "2022-12-09T15:26:39.584154Z"
    }
   },
   "outputs": [
    {
     "name": "stdout",
     "output_type": "stream",
     "text": [
      "True\n"
     ]
    }
   ],
   "source": [
    "#eg:\n",
    "\n",
    "class Boys:\n",
    "    gender='Male'\n",
    "    def __init__(self, name, age):\n",
    "        self.name=name\n",
    "        self.age=age\n",
    "        \n",
    "        \n",
    "b1= Boys(\"Visnu\", 20)\n",
    "b2= Boys(\"Devaraj\", 24)\n",
    "\n",
    "\n",
    "print(b1.gender==b2.gender)"
   ]
  },
  {
   "cell_type": "code",
   "execution_count": null,
   "id": "d3fa44b7",
   "metadata": {},
   "outputs": [],
   "source": [
    "Explanation:\n",
    "    In above code 'gender' is class attribute that has been shared by the both objects b1 and b2"
   ]
  },
  {
   "cell_type": "code",
   "execution_count": null,
   "id": "16a657b4",
   "metadata": {},
   "outputs": [],
   "source": []
  },
  {
   "cell_type": "code",
   "execution_count": null,
   "id": "a4a9b38d",
   "metadata": {},
   "outputs": [],
   "source": [
    "3. Why does a class need to manually call a superclass's __init__ method?\n",
    "\n",
    "\n",
    "#Ans:\n",
    "\n",
    "When we use __init__ method in child class. it actually overrides the __init__ method of parent class. \n",
    "\n",
    "so we need manually call the __init__ method of superclass to use them.\n",
    "\n",
    "We can use super() to manually call the __init__() method of superclass\n",
    " "
   ]
  },
  {
   "cell_type": "code",
   "execution_count": 6,
   "id": "8ebecbca",
   "metadata": {
    "ExecuteTime": {
     "end_time": "2022-12-09T16:45:11.945672Z",
     "start_time": "2022-12-09T16:45:11.925675Z"
    }
   },
   "outputs": [
    {
     "name": "stdout",
     "output_type": "stream",
     "text": [
      "{'name': 'Visnu', 'age': 24, 'salary': 20000}\n"
     ]
    }
   ],
   "source": [
    "#Eg:\n",
    "\n",
    "class Person:\n",
    "    def __init__(self,name,age):\n",
    "        self.name = name\n",
    "        self.age = age       \n",
    "class Employee(Person):\n",
    "    def __init__(self,name,age,salary):\n",
    "        super().__init__(name,age)\n",
    "        self.salary = salary\n",
    "emp_1 = Employee('Visnu', 24, 20000)\n",
    "print(emp_1.__dict__)\n"
   ]
  },
  {
   "cell_type": "code",
   "execution_count": null,
   "id": "1aa684ae",
   "metadata": {},
   "outputs": [],
   "source": []
  },
  {
   "cell_type": "code",
   "execution_count": null,
   "id": "fa580fd9",
   "metadata": {},
   "outputs": [],
   "source": [
    "4. How can you augment, instead of completely replacing, an inherited method?\n",
    "\n",
    "#Ans:\n",
    "\n",
    "Super()- method helps to augment, instead of replacing the inherited method.\n"
   ]
  },
  {
   "cell_type": "code",
   "execution_count": 7,
   "id": "6a2ee554",
   "metadata": {
    "ExecuteTime": {
     "end_time": "2022-12-09T17:02:51.311972Z",
     "start_time": "2022-12-09T17:02:51.291939Z"
    }
   },
   "outputs": [
    {
     "name": "stdout",
     "output_type": "stream",
     "text": [
      "{'name': 'Visnu', 'age': 24, 'salary': 20000}\n"
     ]
    }
   ],
   "source": [
    "#Eg:\n",
    "\n",
    "class Person:\n",
    "    def __init__(self,name,age):\n",
    "        self.name = name\n",
    "        self.age = age       \n",
    "class Employee(Person):\n",
    "    def __init__(self,name,age,salary):\n",
    "        super().__init__(name,age)\n",
    "        self.salary = salary\n",
    "emp_1 = Employee('Visnu', 24, 20000)\n",
    "print(emp_1.__dict__)"
   ]
  },
  {
   "cell_type": "code",
   "execution_count": null,
   "id": "e190a401",
   "metadata": {},
   "outputs": [],
   "source": []
  },
  {
   "cell_type": "code",
   "execution_count": null,
   "id": "b57f81bc",
   "metadata": {},
   "outputs": [],
   "source": [
    "5. How is the local scope of a class different from that of a function?\n",
    "\n",
    "#Ans:\n",
    "\n",
    "The variables which are created inside the class (but outside class functions) have the class local scope. \n",
    "Those variables also called as class attributes or class variables.All the objects of the class shares the single copy of the class variable.\n",
    "\n",
    "But, variables declared inside the function have local scope of function. which can be used inside the function with bare name.\n",
    "Inorder to use those varibles outside the function we need to use (.) operator.\n",
    " "
   ]
  },
  {
   "cell_type": "code",
   "execution_count": 9,
   "id": "9a7143e7",
   "metadata": {
    "ExecuteTime": {
     "end_time": "2022-12-09T17:08:44.028588Z",
     "start_time": "2022-12-09T17:08:44.008553Z"
    }
   },
   "outputs": [
    {
     "name": "stdout",
     "output_type": "stream",
     "text": [
      "True\n"
     ]
    }
   ],
   "source": [
    "#Eg:\n",
    "\n",
    "class Boys:\n",
    "    gender='Male'\n",
    "    def __init__(self, name, age):\n",
    "        self.name=name\n",
    "        self.age=age\n",
    "        \n",
    "        \n",
    "b1= Boys(\"Visnu\", 20)\n",
    "b2= Boys(\"Devaraj\", 24)\n",
    "\n",
    "\n",
    "print(b1.gender==b2.gender)"
   ]
  }
 ],
 "metadata": {
  "hide_input": false,
  "kernelspec": {
   "display_name": "Python 3",
   "language": "python",
   "name": "python3"
  },
  "language_info": {
   "codemirror_mode": {
    "name": "ipython",
    "version": 3
   },
   "file_extension": ".py",
   "mimetype": "text/x-python",
   "name": "python",
   "nbconvert_exporter": "python",
   "pygments_lexer": "ipython3",
   "version": "3.8.8"
  },
  "toc": {
   "base_numbering": 1,
   "nav_menu": {},
   "number_sections": true,
   "sideBar": true,
   "skip_h1_title": false,
   "title_cell": "Table of Contents",
   "title_sidebar": "Contents",
   "toc_cell": false,
   "toc_position": {},
   "toc_section_display": true,
   "toc_window_display": false
  }
 },
 "nbformat": 4,
 "nbformat_minor": 5
}
