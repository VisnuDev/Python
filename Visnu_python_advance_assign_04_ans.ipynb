{
 "cells": [
  {
   "cell_type": "code",
   "execution_count": null,
   "id": "10aceecf",
   "metadata": {},
   "outputs": [],
   "source": [
    "Q1. Which two operator overloading methods can you use in your classes to support iteration?\n",
    "\n",
    "Q2. In what contexts do the two operator overloading methods manage printing?\n",
    "\n",
    "Q3. In a class, how do you intercept slice operations?\n",
    "\n",
    "Q4. In a class, how do you capture in-place addition?\n",
    "\n",
    "Q5. When is it appropriate to use operator overloading?\n"
   ]
  },
  {
   "cell_type": "code",
   "execution_count": null,
   "id": "cdf17f2e",
   "metadata": {},
   "outputs": [],
   "source": []
  },
  {
   "cell_type": "code",
   "execution_count": null,
   "id": "992a9030",
   "metadata": {},
   "outputs": [],
   "source": [
    "Q1. Which two operator overloading methods can you use in your classes to support iteration?\n",
    "\n",
    "#Ans:\n",
    "\n",
    "the two methods are \n",
    "\n",
    "__iter__ -- return the iterator object\n",
    "__next__ -- return the next value of iteration"
   ]
  },
  {
   "cell_type": "code",
   "execution_count": 18,
   "id": "ef4353cd",
   "metadata": {
    "ExecuteTime": {
     "end_time": "2022-12-12T16:52:05.529639Z",
     "start_time": "2022-12-12T16:52:05.510607Z"
    }
   },
   "outputs": [
    {
     "name": "stdout",
     "output_type": "stream",
     "text": [
      "1 2 3 4 5 6 7 8 9 10 11 12 13 14 15 16 17 18 19 20 "
     ]
    }
   ],
   "source": [
    "#Eg:\n",
    "\n",
    "class Counter:\n",
    "    def __init__(self,low,high):\n",
    "        self.current = low\n",
    "        self.high = high\n",
    "    def __iter__(self):\n",
    "        return self\n",
    "    def __next__(self):\n",
    "        if self.current > self.high:\n",
    "            raise StopIteration\n",
    "        else:\n",
    "            self.current += 1\n",
    "            return self.current - 1\n",
    "for ele in Counter(1,20):\n",
    "    print(ele, end=\" \")"
   ]
  },
  {
   "cell_type": "code",
   "execution_count": null,
   "id": "6e19423f",
   "metadata": {},
   "outputs": [],
   "source": []
  },
  {
   "cell_type": "code",
   "execution_count": null,
   "id": "8c46ae8f",
   "metadata": {},
   "outputs": [],
   "source": [
    "Q2. In what contexts do the two operator overloading methods manage printing?\n",
    "\n",
    "#ans:\n",
    "\n",
    "The __str()__ method in Class can be used to overloading the printing methods. As below\n"
   ]
  },
  {
   "cell_type": "code",
   "execution_count": 4,
   "id": "17afef80",
   "metadata": {
    "ExecuteTime": {
     "end_time": "2022-12-12T16:28:38.499086Z",
     "start_time": "2022-12-12T16:28:38.486092Z"
    }
   },
   "outputs": [
    {
     "name": "stdout",
     "output_type": "stream",
     "text": [
      "<__main__.Student object at 0x0000016DECA07100>\n"
     ]
    }
   ],
   "source": [
    "class Student:\n",
    "    def __init__(self,name,roll_no):\n",
    "        self.name = name\n",
    "        self.roll_no = roll_no\n",
    "        \n",
    "s1 = Student(\"Visnu\",546)\n",
    "print(str(s1))\n",
    "\n",
    "\n",
    "class Student:\n",
    "    def __init__(self,name,roll_no):\n",
    "        self.name = name\n",
    "        self.roll_no = roll_no\n",
    "    def __str__(self):\n",
    "        return f'Student Name: {self.name} and Roll No: {self.roll_no}'\n",
    "    \n",
    "s1 = Student(\"Visnu\",546)\n",
    "print(str(s1))"
   ]
  },
  {
   "cell_type": "code",
   "execution_count": null,
   "id": "8ef2d71c",
   "metadata": {},
   "outputs": [],
   "source": [
    "Explanation:\n",
    "    \n",
    "    In above code __str()__ method to overload the handled the printing."
   ]
  },
  {
   "cell_type": "code",
   "execution_count": null,
   "id": "daf50dfb",
   "metadata": {},
   "outputs": [],
   "source": []
  },
  {
   "cell_type": "code",
   "execution_count": null,
   "id": "4251ab07",
   "metadata": {},
   "outputs": [],
   "source": []
  },
  {
   "cell_type": "code",
   "execution_count": null,
   "id": "9ab79c7c",
   "metadata": {},
   "outputs": [],
   "source": [
    "Q3. In a class, how do you intercept slice operations?\n",
    "\n",
    "#Ans:\n",
    "\n",
    "In a class use of slice() in __getitem__ method is used for intercept slice operation. \n",
    "This slice method is provided with start integer number, stop integer number and step integer number.\n",
    "\n",
    " __getitem__(slice(start,stop,step))"
   ]
  },
  {
   "cell_type": "code",
   "execution_count": null,
   "id": "a0fbab18",
   "metadata": {},
   "outputs": [],
   "source": []
  },
  {
   "cell_type": "code",
   "execution_count": null,
   "id": "473eaa4f",
   "metadata": {},
   "outputs": [],
   "source": [
    "Q4. In a class, how do you capture in-place addition?\n",
    "\n",
    "#Ans:\n",
    "\n",
    "Usually, In place addition is performed like a+=b. where variable a stores the addtion of a and b.\n",
    "In a class, we can use iadd() to perform inplace addition."
   ]
  },
  {
   "cell_type": "code",
   "execution_count": 15,
   "id": "1b1afb0a",
   "metadata": {
    "ExecuteTime": {
     "end_time": "2022-12-12T16:49:03.484500Z",
     "start_time": "2022-12-12T16:49:03.469495Z"
    }
   },
   "outputs": [
    {
     "name": "stdout",
     "output_type": "stream",
     "text": [
      "17\n"
     ]
    }
   ],
   "source": [
    "#Eg:\n",
    "\n",
    "class num:\n",
    "    def __init__(self, a):\n",
    "        self.a=a\n",
    "    def __iadd__(self, other):\n",
    "        self.a += other.a\n",
    "        return self.a\n",
    "            \n",
    "    \n",
    "    \n",
    "s1 = num(5)\n",
    "s2= num(12)\n",
    "\n",
    "s1+=s2\n",
    "\n",
    "print(s1)"
   ]
  },
  {
   "cell_type": "code",
   "execution_count": null,
   "id": "d454333d",
   "metadata": {},
   "outputs": [],
   "source": []
  },
  {
   "cell_type": "code",
   "execution_count": null,
   "id": "2cffffc8",
   "metadata": {},
   "outputs": [],
   "source": [
    "Q5. When is it appropriate to use operator overloading?\n",
    "\n",
    "#Ans:\n",
    "\n",
    "Operator overloading is used when we want to use an operator other than its normal operation\n",
    "to have different meaning according to the context required in user defined function.\n",
    "\n",
    "Eg:\n",
    "    \n",
    "    __add__() can be used to overload + in class."
   ]
  },
  {
   "cell_type": "code",
   "execution_count": 17,
   "id": "d8a10085",
   "metadata": {
    "ExecuteTime": {
     "end_time": "2022-12-12T16:51:27.262580Z",
     "start_time": "2022-12-12T16:51:27.254593Z"
    }
   },
   "outputs": [
    {
     "name": "stdout",
     "output_type": "stream",
     "text": [
      "42\n"
     ]
    }
   ],
   "source": [
    "#Eg:\n",
    "\n",
    "class num:\n",
    "    def __init__(self, a):\n",
    "        self.a=a\n",
    "    def __add__(self, other):\n",
    "        return self.a + other.a\n",
    "            \n",
    "    \n",
    "    \n",
    "s1 = num(8)\n",
    "s2= num(34)\n",
    "\n",
    "print(s1+s2)\n",
    "\n"
   ]
  }
 ],
 "metadata": {
  "hide_input": false,
  "kernelspec": {
   "display_name": "Python 3",
   "language": "python",
   "name": "python3"
  },
  "language_info": {
   "codemirror_mode": {
    "name": "ipython",
    "version": 3
   },
   "file_extension": ".py",
   "mimetype": "text/x-python",
   "name": "python",
   "nbconvert_exporter": "python",
   "pygments_lexer": "ipython3",
   "version": "3.8.8"
  },
  "toc": {
   "base_numbering": 1,
   "nav_menu": {},
   "number_sections": true,
   "sideBar": true,
   "skip_h1_title": false,
   "title_cell": "Table of Contents",
   "title_sidebar": "Contents",
   "toc_cell": false,
   "toc_position": {},
   "toc_section_display": true,
   "toc_window_display": false
  }
 },
 "nbformat": 4,
 "nbformat_minor": 5
}
