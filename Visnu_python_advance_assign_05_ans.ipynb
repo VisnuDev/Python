{
 "cells": [
  {
   "cell_type": "code",
   "execution_count": null,
   "id": "d011316e",
   "metadata": {},
   "outputs": [],
   "source": [
    "Q1. What is the meaning of multiple inheritance?\n",
    "\n",
    "Q2. What is the concept of delegation?\n",
    "\n",
    "Q3. What is the concept of composition?\n",
    "\n",
    "Q4. What are bound methods and how do we use them?\n",
    "\n",
    "Q5. What is the purpose of pseudoprivate attributes?"
   ]
  },
  {
   "cell_type": "code",
   "execution_count": null,
   "id": "2a303c0f",
   "metadata": {},
   "outputs": [],
   "source": []
  },
  {
   "cell_type": "code",
   "execution_count": null,
   "id": "1311ec2d",
   "metadata": {},
   "outputs": [],
   "source": [
    "Q1. What is the meaning of multiple inheritance?\n",
    "\n",
    "Ans:\n",
    "    \n",
    "   A class inherited from more than one parent class is called as multiple inheritance."
   ]
  },
  {
   "cell_type": "code",
   "execution_count": 2,
   "id": "8b13c388",
   "metadata": {
    "ExecuteTime": {
     "end_time": "2022-12-16T17:41:10.673423Z",
     "start_time": "2022-12-16T17:41:10.630423Z"
    }
   },
   "outputs": [
    {
     "data": {
      "text/plain": [
       "'Name= visnu'"
      ]
     },
     "execution_count": 2,
     "metadata": {},
     "output_type": "execute_result"
    }
   ],
   "source": [
    "#Eg:\n",
    "\n",
    "class personal:\n",
    "    def __init__(self, name, age, gender):\n",
    "        self.name=name\n",
    "        self.age= age\n",
    "        self.gender =gender\n",
    "class professional:\n",
    "    def __init__(self, edu, comp):\n",
    "        self.edu= edu\n",
    "        self.comp=comp\n",
    "        \n",
    "\n",
    "class Info(personal, professional):\n",
    "    def get_name(self):\n",
    "        return f\"Name= {self.name}\"\n",
    "    def get_comp(self):\n",
    "        return f\"Company= {self.comp}\"\n",
    "    \n",
    "    \n",
    "p= Info(\"visnu\", 24, \"male\")\n",
    "\n",
    "\n",
    "p.get_name()"
   ]
  },
  {
   "cell_type": "code",
   "execution_count": null,
   "id": "4345c28d",
   "metadata": {},
   "outputs": [],
   "source": []
  },
  {
   "cell_type": "code",
   "execution_count": null,
   "id": "0ad2a9af",
   "metadata": {},
   "outputs": [],
   "source": [
    "Q2. What is the concept of delegation?\n",
    "\n",
    "#Ans:\n",
    "\n",
    "Delegation helps object composition to achieve code reuse like inheritance. \n",
    "In Delegation the object of one class is passed to instance attribute of another class."
   ]
  },
  {
   "cell_type": "code",
   "execution_count": 3,
   "id": "bd1abac5",
   "metadata": {
    "ExecuteTime": {
     "end_time": "2022-12-16T17:59:05.062451Z",
     "start_time": "2022-12-16T17:59:05.048451Z"
    }
   },
   "outputs": [
    {
     "name": "stdout",
     "output_type": "stream",
     "text": [
      "Welcome\n",
      "My name is Visnu\n"
     ]
    }
   ],
   "source": [
    "#Eg:\n",
    "\n",
    "class Info:\n",
    "    def greetings(self):\n",
    "        print(\"Welcome\")\n",
    "    def whoami(self):\n",
    "        print(\"My name is Visnu\")\n",
    "    \n",
    "class print_info:\n",
    "    def __init__(self, obj):\n",
    "        self.obj = obj\n",
    "    def myinfo(self):\n",
    "        self.obj.greetings()\n",
    "        self.obj.whoami()\n",
    "        \n",
    "        \n",
    "a= Info()\n",
    "\n",
    "b= print_info(a)\n",
    "\n",
    "b.myinfo()"
   ]
  },
  {
   "cell_type": "code",
   "execution_count": null,
   "id": "387c84ef",
   "metadata": {},
   "outputs": [],
   "source": []
  },
  {
   "cell_type": "code",
   "execution_count": null,
   "id": "534107e8",
   "metadata": {},
   "outputs": [],
   "source": [
    "Q3. What is the concept of composition?\n",
    "\n",
    "#Ans:\n",
    "\n",
    "\n",
    "In the concept of Composition, a class refers to one or more other classes by using instances of \n",
    "those classes as a instance variable. \n",
    "Irrespective of inheritence in this approach all the parent class members are not inherited into child class, \n",
    "but only required methods from a class are used by using class instances."
   ]
  },
  {
   "cell_type": "code",
   "execution_count": 1,
   "id": "4064d27b",
   "metadata": {
    "ExecuteTime": {
     "end_time": "2022-12-17T06:36:08.758730Z",
     "start_time": "2022-12-17T06:36:08.742711Z"
    }
   },
   "outputs": [
    {
     "name": "stdout",
     "output_type": "stream",
     "text": [
      "My name is Visnu\n"
     ]
    }
   ],
   "source": [
    "#Eg:\n",
    "\n",
    "class Info:\n",
    "    def __init__(self, name):\n",
    "        self.name=name\n",
    "    def greetings(self):\n",
    "        print(\"Welcome\")\n",
    "    def whoami(self):\n",
    "        print(f\"My name is {self.name}\")\n",
    "    \n",
    "class print_info:\n",
    "    def __init__(self, name):\n",
    "        self.name = name\n",
    "        self.name= Info(self.name)\n",
    "    def myinfo(self):\n",
    "        self.name.whoami()\n",
    "        \n",
    "        \n",
    "        \n",
    "        \n",
    "x= print_info(\"Visnu\")\n",
    "x.myinfo()"
   ]
  },
  {
   "cell_type": "code",
   "execution_count": null,
   "id": "747a0060",
   "metadata": {},
   "outputs": [],
   "source": []
  },
  {
   "cell_type": "code",
   "execution_count": null,
   "id": "2ce9d0ac",
   "metadata": {},
   "outputs": [],
   "source": [
    "Q4. What are bound methods and how do we use them?\n",
    "\n",
    "#Ans:\n",
    "\n",
    "If a function is an attribute of class and it is accessed via the instances, they are called bound methods. \n",
    "A bound method is one that has self as its first argument. \n",
    "Since these are dependent on the instance of classes, these are also known as instance methods."
   ]
  },
  {
   "cell_type": "code",
   "execution_count": 5,
   "id": "0bc25303",
   "metadata": {
    "ExecuteTime": {
     "end_time": "2022-12-17T15:42:46.372555Z",
     "start_time": "2022-12-17T15:42:46.342550Z"
    }
   },
   "outputs": [
    {
     "name": "stdout",
     "output_type": "stream",
     "text": [
      "Welcome\n",
      "My name is visnu\n"
     ]
    }
   ],
   "source": [
    "#eg:\n",
    "\n",
    "class Info:\n",
    "    def __init__(self, name):\n",
    "        self.name=name\n",
    "    def greetings():  #unbound method\n",
    "        print(\"Welcome\")\n",
    "    def whoami(self):  #Bound method\n",
    "        print(f\"My name is {self.name}\")\n",
    "        \n",
    "    \n",
    "    \n",
    "    \n",
    "Info.greetings() #unbound method calling\n",
    "\n",
    "n= Info(\"visnu\")\n",
    "n.whoami()  #bound method calling"
   ]
  },
  {
   "cell_type": "code",
   "execution_count": null,
   "id": "7362ddd5",
   "metadata": {},
   "outputs": [],
   "source": []
  },
  {
   "cell_type": "code",
   "execution_count": null,
   "id": "3bd3721e",
   "metadata": {},
   "outputs": [],
   "source": [
    "Q5. What is the purpose of pseudoprivate attributes?\n",
    "\n",
    "Ans:\n",
    "    \n",
    "Pseudoprivate attributes are also useful in larger frameworks or tools, \n",
    "both to avoid introducing new method names that might accidentally hide definitions elsewhere in the class tree \n",
    "and to reduce the chance of internal methods being replaced by names defined lower in the tree. \n",
    "If a method is intended for use only within a class that may be mixed into other classes, \n",
    "the double underscore prefix ensures that the method won't interfere with other names in the tree, \n",
    "especially in multiple-inheritance scenarios.\n",
    "\n",
    "Pseudoprivate names also prevent subclasses from accidentally redefining the internal method's names."
   ]
  },
  {
   "cell_type": "code",
   "execution_count": null,
   "id": "1092d054",
   "metadata": {},
   "outputs": [],
   "source": [
    "#Eg:\n",
    "\n",
    "class Super:\n",
    "    def method(self): # A real application method\n",
    "        pass\n",
    "class Tool:\n",
    "    def _method(self): # becomes _Tool_method\n",
    "        pass\n",
    "    def other(self): # uses internal method\n",
    "        self._method()\n",
    "class Subl(Tool,Super):\n",
    "    def actions(self):\n",
    "        self.method()\n",
    "class Sub2(Tool):\n",
    "    def __init__(self):\n",
    "        self.method = 99"
   ]
  }
 ],
 "metadata": {
  "hide_input": false,
  "kernelspec": {
   "display_name": "Python 3",
   "language": "python",
   "name": "python3"
  },
  "language_info": {
   "codemirror_mode": {
    "name": "ipython",
    "version": 3
   },
   "file_extension": ".py",
   "mimetype": "text/x-python",
   "name": "python",
   "nbconvert_exporter": "python",
   "pygments_lexer": "ipython3",
   "version": "3.8.8"
  },
  "toc": {
   "base_numbering": 1,
   "nav_menu": {},
   "number_sections": true,
   "sideBar": true,
   "skip_h1_title": false,
   "title_cell": "Table of Contents",
   "title_sidebar": "Contents",
   "toc_cell": false,
   "toc_position": {},
   "toc_section_display": true,
   "toc_window_display": false
  }
 },
 "nbformat": 4,
 "nbformat_minor": 5
}
