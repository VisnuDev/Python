{
 "cells": [
  {
   "cell_type": "code",
   "execution_count": null,
   "id": "534d5c17",
   "metadata": {},
   "outputs": [],
   "source": [
    "Q1. Describe three applications for exception processing.\n",
    "\n",
    "Q2. What happens if you don't do something extra to treat an exception?\n",
    "\n",
    "Q3. What are your options for recovering from an exception in your script?\n",
    "\n",
    "Q4. Describe two methods for triggering exceptions in your script.\n",
    "\n",
    "Q5. Identify two methods for specifying actions to be executed at termination time, regardless of\n",
    "whether or not an exception exists."
   ]
  },
  {
   "cell_type": "code",
   "execution_count": null,
   "id": "896c6ca7",
   "metadata": {},
   "outputs": [],
   "source": []
  },
  {
   "cell_type": "code",
   "execution_count": null,
   "id": "5d9b4d50",
   "metadata": {},
   "outputs": [],
   "source": [
    "Q1. Describe three applications for exception processing.\n",
    "\n",
    "\n",
    "#Ans:\n",
    "\n",
    "It helps to find the excpetions happens at runtime. Expections halt the program execution. \n",
    "\n",
    "Exception processing has many applications like below,\n",
    "\n",
    "1) Check Arithmetic exception on mathematical operations.\n",
    "2)Check Input exception due to invalid input\n",
    "3)check file I/O exception while file handlindg."
   ]
  },
  {
   "cell_type": "code",
   "execution_count": null,
   "id": "f7367c35",
   "metadata": {},
   "outputs": [],
   "source": []
  },
  {
   "cell_type": "code",
   "execution_count": null,
   "id": "93041c33",
   "metadata": {},
   "outputs": [],
   "source": [
    "Q2. What happens if you don't do something extra to treat an exception?\n",
    "\n",
    "\n",
    "#Ans:\n",
    "\n",
    "If the exeption is not handled then it may cause abnormal termination of the program or the entire program may crash."
   ]
  },
  {
   "cell_type": "code",
   "execution_count": null,
   "id": "7c05dc0f",
   "metadata": {},
   "outputs": [],
   "source": []
  },
  {
   "cell_type": "code",
   "execution_count": null,
   "id": "9cf74823",
   "metadata": {},
   "outputs": [],
   "source": [
    "Q3. What are your options for recovering from an exception in your script?\n",
    "\n",
    "#Ans:\n",
    "\n",
    "Using proper exception handling we can recover from exception. In python we can use\n",
    "\n",
    "try\n",
    "except\n",
    "\n",
    "statements to handle the exception in python."
   ]
  },
  {
   "cell_type": "code",
   "execution_count": null,
   "id": "98b02733",
   "metadata": {},
   "outputs": [],
   "source": []
  },
  {
   "cell_type": "code",
   "execution_count": null,
   "id": "93359387",
   "metadata": {},
   "outputs": [],
   "source": [
    "Q4. Describe two methods for triggering exceptions in your script.\n",
    "\n",
    "#Ans:\n",
    "\n",
    ": raise and assert are two methods that can be used to trigger manual exceptions in your script.\n",
    "\n",
    "raise method triggers an exception if condition provided to it turns out to be True.\n",
    "assert will let the program to continue execution if condition provided to it turns out to be True else exception will be raised\n"
   ]
  },
  {
   "cell_type": "code",
   "execution_count": 4,
   "id": "73a9e92a",
   "metadata": {
    "ExecuteTime": {
     "end_time": "2022-12-21T17:39:22.199463Z",
     "start_time": "2022-12-21T17:39:22.174469Z"
    }
   },
   "outputs": [
    {
     "ename": "Exception",
     "evalue": "a Value Should not exceed 5 The Provided Value of a is 7",
     "output_type": "error",
     "traceback": [
      "\u001b[1;31m---------------------------------------------------------------------------\u001b[0m",
      "\u001b[1;31mException\u001b[0m                                 Traceback (most recent call last)",
      "\u001b[1;32m<ipython-input-4-a9c15ce86568>\u001b[0m in \u001b[0;36m<module>\u001b[1;34m\u001b[0m\n\u001b[0;32m      1\u001b[0m \u001b[1;31m# Example of raise\u001b[0m\u001b[1;33m\u001b[0m\u001b[1;33m\u001b[0m\u001b[1;33m\u001b[0m\u001b[0m\n\u001b[0;32m      2\u001b[0m \u001b[0ma\u001b[0m \u001b[1;33m=\u001b[0m \u001b[1;36m7\u001b[0m\u001b[1;33m\u001b[0m\u001b[1;33m\u001b[0m\u001b[0m\n\u001b[1;32m----> 3\u001b[1;33m \u001b[1;32mraise\u001b[0m \u001b[0mException\u001b[0m\u001b[1;33m(\u001b[0m\u001b[1;34mf'a Value Should not exceed 5 The Provided Value of a is {a}'\u001b[0m\u001b[1;33m)\u001b[0m\u001b[1;33m\u001b[0m\u001b[1;33m\u001b[0m\u001b[0m\n\u001b[0m",
      "\u001b[1;31mException\u001b[0m: a Value Should not exceed 5 The Provided Value of a is 7"
     ]
    }
   ],
   "source": [
    "# Example of raise\n",
    "a = 7\n",
    "raise Exception(f'a Value Should not exceed 5 The Provided Value of a is {a}')"
   ]
  },
  {
   "cell_type": "code",
   "execution_count": 5,
   "id": "f3d3d4c0",
   "metadata": {
    "ExecuteTime": {
     "end_time": "2022-12-21T17:39:41.187522Z",
     "start_time": "2022-12-21T17:39:41.159522Z"
    }
   },
   "outputs": [
    {
     "ename": "AssertionError",
     "evalue": "5 is not equal to 10",
     "output_type": "error",
     "traceback": [
      "\u001b[1;31m---------------------------------------------------------------------------\u001b[0m",
      "\u001b[1;31mAssertionError\u001b[0m                            Traceback (most recent call last)",
      "\u001b[1;32m<ipython-input-5-ddbcb15fb45b>\u001b[0m in \u001b[0;36m<module>\u001b[1;34m\u001b[0m\n\u001b[0;32m      1\u001b[0m \u001b[1;31m# Example of assert\u001b[0m\u001b[1;33m\u001b[0m\u001b[1;33m\u001b[0m\u001b[1;33m\u001b[0m\u001b[0m\n\u001b[1;32m----> 2\u001b[1;33m \u001b[1;32massert\u001b[0m\u001b[1;33m(\u001b[0m\u001b[1;36m5\u001b[0m\u001b[1;33m==\u001b[0m\u001b[1;36m10\u001b[0m\u001b[1;33m)\u001b[0m\u001b[1;33m,\u001b[0m \u001b[1;34m\"5 is not equal to 10\"\u001b[0m\u001b[1;33m\u001b[0m\u001b[1;33m\u001b[0m\u001b[0m\n\u001b[0m",
      "\u001b[1;31mAssertionError\u001b[0m: 5 is not equal to 10"
     ]
    }
   ],
   "source": [
    "# Example of assert\n",
    "assert(5==10), \"5 is not equal to 10\""
   ]
  },
  {
   "cell_type": "code",
   "execution_count": null,
   "id": "c4a1b5b4",
   "metadata": {},
   "outputs": [],
   "source": [
    "Q5. Identify two methods for specifying actions to be executed at termination time, regardless of\n",
    "whether or not an exception exists.\n",
    "\n",
    "#Ans:\n",
    "\n",
    "In Python we can use,\n",
    "\n",
    "else and finally \n",
    "\n",
    "blocks for specifying actions to be executed at termination time, regardless of whether an exceptions exists or not."
   ]
  }
 ],
 "metadata": {
  "hide_input": false,
  "kernelspec": {
   "display_name": "Python 3",
   "language": "python",
   "name": "python3"
  },
  "language_info": {
   "codemirror_mode": {
    "name": "ipython",
    "version": 3
   },
   "file_extension": ".py",
   "mimetype": "text/x-python",
   "name": "python",
   "nbconvert_exporter": "python",
   "pygments_lexer": "ipython3",
   "version": "3.8.8"
  },
  "toc": {
   "base_numbering": 1,
   "nav_menu": {},
   "number_sections": true,
   "sideBar": true,
   "skip_h1_title": false,
   "title_cell": "Table of Contents",
   "title_sidebar": "Contents",
   "toc_cell": false,
   "toc_position": {},
   "toc_section_display": true,
   "toc_window_display": false
  }
 },
 "nbformat": 4,
 "nbformat_minor": 5
}
