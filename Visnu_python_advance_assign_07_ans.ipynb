{
 "cells": [
  {
   "cell_type": "code",
   "execution_count": null,
   "id": "4fa9102f",
   "metadata": {},
   "outputs": [],
   "source": [
    "Q1. What is the purpose of the try statement?\n",
    "\n",
    "Q2. What are the two most popular try statement variations?\n",
    "\n",
    "Q3. What is the purpose of the raise statement?\n",
    "\n",
    "Q4. What does the assert statement do, and what other statement is it like?\n",
    "\n",
    "Q5. What is the purpose of the with/as argument, and what other statement is it like?"
   ]
  },
  {
   "cell_type": "code",
   "execution_count": null,
   "id": "8fbacff3",
   "metadata": {},
   "outputs": [],
   "source": []
  },
  {
   "cell_type": "code",
   "execution_count": null,
   "id": "7efaf81e",
   "metadata": {},
   "outputs": [],
   "source": [
    "Q1. What is the purpose of the try statement?\n",
    "\n",
    "\n",
    "#Ans:\n",
    "try statement is used for exception handling in python. \n",
    "it consists of a block of risky statements which might cause an exception during runtime. \n",
    "if code within try block raises exception, then the exception will be reverted to the corresponding except block.\n"
   ]
  },
  {
   "cell_type": "code",
   "execution_count": 1,
   "id": "ce2e69ef",
   "metadata": {
    "ExecuteTime": {
     "end_time": "2022-12-21T17:50:42.605664Z",
     "start_time": "2022-12-21T17:50:42.586671Z"
    }
   },
   "outputs": [
    {
     "name": "stdout",
     "output_type": "stream",
     "text": [
      "Division by zero is not possible\n"
     ]
    }
   ],
   "source": [
    "#Eg:\n",
    "\n",
    "try:\n",
    "    print(5/0)\n",
    "except: \n",
    "    print(\"Division by zero is not possible\")"
   ]
  },
  {
   "cell_type": "code",
   "execution_count": null,
   "id": "0b84d6a3",
   "metadata": {},
   "outputs": [],
   "source": []
  },
  {
   "cell_type": "code",
   "execution_count": null,
   "id": "5cc05da6",
   "metadata": {},
   "outputs": [],
   "source": [
    "Q2. What are the two most popular try statement variations?\n",
    "\n",
    "#Ans:\n",
    "\n",
    "The Popular try statement variations are:\n",
    "try,except\n",
    "try,except,finally\n",
    "try,except,finally,else\n",
    "\n",
    "The try block is used to check code for exceptions during runtime. \n",
    "The code inside try block will execute completely when there is no error in the program. \n",
    "Whereas the code inside except block will execute whenever the program encounters some error in the preceeding try block.\n",
    "\n",
    "Whereas the code enters the else block if and only if the try clause does not raise any exception. \n",
    "The code in the finally block will execute irrespective of exception."
   ]
  },
  {
   "cell_type": "code",
   "execution_count": null,
   "id": "eda19c36",
   "metadata": {},
   "outputs": [],
   "source": []
  },
  {
   "cell_type": "code",
   "execution_count": null,
   "id": "b6d4700c",
   "metadata": {},
   "outputs": [],
   "source": [
    "Q3. What is the purpose of the raise statement?\n",
    "\n",
    "\n",
    "#Ans:\n",
    "\n",
    "raise statement is used to trigger an exception explicitly, if a certain condition is False per requirement of programmer. \n",
    "raise statement helps in triggering exception as per programming logic."
   ]
  },
  {
   "cell_type": "code",
   "execution_count": null,
   "id": "514dc09d",
   "metadata": {},
   "outputs": [],
   "source": []
  },
  {
   "cell_type": "code",
   "execution_count": null,
   "id": "c542645d",
   "metadata": {},
   "outputs": [],
   "source": [
    "Q4. What does the assert statement do, and what other statement is it like?\n",
    "\n",
    "#Ans:\n",
    "\n",
    "There are few assertions that programmer always want to be true to avoid code failure. \n",
    "Those type of requirements are fulfilled by assert statement. \n",
    "This statement takes a boolean condition output of which is True, Further Program Executes. \n",
    "if output of assert statement is False, it raises an Assertion Error. \n"
   ]
  },
  {
   "cell_type": "code",
   "execution_count": 8,
   "id": "ff88bc45",
   "metadata": {
    "ExecuteTime": {
     "end_time": "2022-12-21T17:57:35.508646Z",
     "start_time": "2022-12-21T17:57:35.494646Z"
    }
   },
   "outputs": [
    {
     "ename": "AssertionError",
     "evalue": "X should be non zero",
     "output_type": "error",
     "traceback": [
      "\u001b[1;31m---------------------------------------------------------------------------\u001b[0m",
      "\u001b[1;31mAssertionError\u001b[0m                            Traceback (most recent call last)",
      "\u001b[1;32m<ipython-input-8-ced17bae698e>\u001b[0m in \u001b[0;36m<module>\u001b[1;34m\u001b[0m\n\u001b[0;32m      1\u001b[0m \u001b[0mx\u001b[0m\u001b[1;33m=\u001b[0m\u001b[1;36m0\u001b[0m\u001b[1;33m\u001b[0m\u001b[1;33m\u001b[0m\u001b[0m\n\u001b[1;32m----> 2\u001b[1;33m \u001b[1;32massert\u001b[0m\u001b[1;33m(\u001b[0m\u001b[0mx\u001b[0m\u001b[1;33m!=\u001b[0m\u001b[1;36m0\u001b[0m\u001b[1;33m)\u001b[0m\u001b[1;33m,\u001b[0m \u001b[1;34m\"X should be non zero\"\u001b[0m\u001b[1;33m\u001b[0m\u001b[1;33m\u001b[0m\u001b[0m\n\u001b[0m",
      "\u001b[1;31mAssertionError\u001b[0m: X should be non zero"
     ]
    }
   ],
   "source": [
    "\n",
    "x=0\n",
    "assert(x!=0), \"X should be non zero\""
   ]
  },
  {
   "cell_type": "code",
   "execution_count": null,
   "id": "a9a2a8de",
   "metadata": {},
   "outputs": [],
   "source": []
  },
  {
   "cell_type": "code",
   "execution_count": null,
   "id": "35bafc23",
   "metadata": {},
   "outputs": [],
   "source": [
    "Q5. What is the purpose of the with/as argument, and what other statement is it like?\n",
    "\n",
    "#Ans:\n",
    "\n",
    "with/as statement simplifies use of file handling in python. \n",
    "When we use a with statement for file reading, \n",
    "there is no need for programmer to explicitly takecare of activities like resource deallocation and file closing by using file.close() method. \n",
    "with statement itself ensures proper acquisition and release of resources. \n",
    "this avoids triggering of exceptions if file closing is unknowingly forgotten in the code execution.\n"
   ]
  },
  {
   "cell_type": "code",
   "execution_count": 10,
   "id": "3500cb33",
   "metadata": {
    "ExecuteTime": {
     "end_time": "2022-12-21T18:00:31.744304Z",
     "start_time": "2022-12-21T18:00:31.734308Z"
    }
   },
   "outputs": [],
   "source": [
    "#Eg:\n",
    "\n",
    "with open(\"My_file.txt\", 'w') as file:\n",
    "    file.write(\"My name is Visnu\")"
   ]
  }
 ],
 "metadata": {
  "hide_input": false,
  "kernelspec": {
   "display_name": "Python 3",
   "language": "python",
   "name": "python3"
  },
  "language_info": {
   "codemirror_mode": {
    "name": "ipython",
    "version": 3
   },
   "file_extension": ".py",
   "mimetype": "text/x-python",
   "name": "python",
   "nbconvert_exporter": "python",
   "pygments_lexer": "ipython3",
   "version": "3.8.8"
  },
  "toc": {
   "base_numbering": 1,
   "nav_menu": {},
   "number_sections": true,
   "sideBar": true,
   "skip_h1_title": false,
   "title_cell": "Table of Contents",
   "title_sidebar": "Contents",
   "toc_cell": false,
   "toc_position": {},
   "toc_section_display": true,
   "toc_window_display": false
  }
 },
 "nbformat": 4,
 "nbformat_minor": 5
}
