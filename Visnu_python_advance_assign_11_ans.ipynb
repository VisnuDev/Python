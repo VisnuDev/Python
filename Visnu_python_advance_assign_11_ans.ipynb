{
 "cells": [
  {
   "cell_type": "code",
   "execution_count": null,
   "id": "328abad6",
   "metadata": {},
   "outputs": [],
   "source": [
    "Q1. What is the concept of a metaclass?\n",
    "\n",
    "Q2. What is the best way to declare a class's metaclass?\n",
    "\n",
    "Q3. How do class decorators overlap with metaclasses for handling classes?\n",
    "\n",
    "Q4. How do class decorators overlap with metaclasses for handling instances?"
   ]
  },
  {
   "cell_type": "code",
   "execution_count": null,
   "id": "ed2d2f6a",
   "metadata": {},
   "outputs": [],
   "source": []
  },
  {
   "cell_type": "code",
   "execution_count": null,
   "id": "0510dc55",
   "metadata": {},
   "outputs": [],
   "source": [
    "Q1. What is the concept of a metaclass?\n",
    "\n",
    "\n",
    "Ans:\n",
    "\n",
    "A metaclass in Python is a class of a class that defines how a class behaves. \n",
    "A class is itself an instance of a metaclass. \n",
    "A class in Python defines how the instance of the class will behave."
   ]
  },
  {
   "cell_type": "code",
   "execution_count": null,
   "id": "89f7ba4b",
   "metadata": {},
   "outputs": [],
   "source": []
  },
  {
   "cell_type": "code",
   "execution_count": null,
   "id": "121eb131",
   "metadata": {
    "ExecuteTime": {
     "end_time": "2022-12-27T18:39:38.092536Z",
     "start_time": "2022-12-27T18:39:38.081543Z"
    }
   },
   "outputs": [],
   "source": [
    "Q2. What is the best way to declare a class's metaclass?\n",
    "\n",
    "\n",
    "#Ans:\n",
    " \n",
    "we can use type method to create a metaclass.\n",
    "\n",
    "we can also use metaclass Keyword.\n"
   ]
  },
  {
   "cell_type": "code",
   "execution_count": 5,
   "id": "19952e44",
   "metadata": {
    "ExecuteTime": {
     "end_time": "2022-12-27T18:39:30.354574Z",
     "start_time": "2022-12-27T18:39:30.333609Z"
    }
   },
   "outputs": [
    {
     "name": "stdout",
     "output_type": "stream",
     "text": [
      "<class '__main__.myclass'>\n",
      "<class '__main__.yourclass'>\n"
     ]
    }
   ],
   "source": [
    "#using type() method\n",
    " \n",
    "class myclass:\n",
    "    def __init__(self,stdate, endate):\n",
    "        self.s= stdate\n",
    "        self.e= endate\n",
    "    \n",
    "    \n",
    "    \n",
    "x = myclass(\"25-Dec\", \"31-dec\")\n",
    "\n",
    "print(myclass)\n",
    "\n",
    "\n",
    "y = type(\"yourclass\", (),\n",
    "        {\n",
    "            \"s\":\"23\",\n",
    "            \"e\": \"29\"\n",
    "        })\n",
    "\n",
    "\n",
    "print(y)"
   ]
  },
  {
   "cell_type": "code",
   "execution_count": 8,
   "id": "a40c98e4",
   "metadata": {
    "ExecuteTime": {
     "end_time": "2022-12-28T09:38:52.828850Z",
     "start_time": "2022-12-28T09:38:52.810846Z"
    }
   },
   "outputs": [
    {
     "name": "stdout",
     "output_type": "stream",
     "text": [
      "<class 'type'>\n",
      "<class '__main__.meta'>\n"
     ]
    }
   ],
   "source": [
    "#using metaclass keyword.\n",
    "\n",
    "class meta(type):\n",
    "    pass\n",
    "\n",
    "class my_meta(metaclass=meta):\n",
    "    pass\n",
    "\n",
    "print(type(meta))\n",
    "\n",
    "print(type(my_meta))"
   ]
  },
  {
   "cell_type": "code",
   "execution_count": null,
   "id": "4267e2c1",
   "metadata": {},
   "outputs": [],
   "source": []
  },
  {
   "cell_type": "code",
   "execution_count": null,
   "id": "fc2dda6b",
   "metadata": {},
   "outputs": [],
   "source": [
    "Q3. How do class decorators overlap with metaclasses for handling classes?\n",
    "\n",
    "\n",
    "Ans:\n",
    "\n",
    "Anything you can do with a class decorator, you can of course do with a custom metaclasses \n",
    "(just apply the functionality of the \"decorator function\", i.e., the one that takes a class object and modifies it, \n",
    " in the course of the metaclass's __new__ or __init__ that make the class object!)."
   ]
  },
  {
   "cell_type": "code",
   "execution_count": null,
   "id": "f767368b",
   "metadata": {},
   "outputs": [],
   "source": []
  },
  {
   "cell_type": "code",
   "execution_count": null,
   "id": "9ec0fd01",
   "metadata": {},
   "outputs": [],
   "source": [
    "Q4. How do class decorators overlap with metaclasses for handling instances?\n",
    "\n",
    "Ans:\n",
    "    \n",
    "Anything you can do with a class decorator, you can of course do with a custom metaclasses \n",
    "(just apply the functionality of the \"decorator function\", i.e., the one that takes a class object and modifies it, \n",
    " in the course of the metaclass's __new__ or __init__ that make the class object!).\n"
   ]
  }
 ],
 "metadata": {
  "hide_input": false,
  "kernelspec": {
   "display_name": "Python 3",
   "language": "python",
   "name": "python3"
  },
  "language_info": {
   "codemirror_mode": {
    "name": "ipython",
    "version": 3
   },
   "file_extension": ".py",
   "mimetype": "text/x-python",
   "name": "python",
   "nbconvert_exporter": "python",
   "pygments_lexer": "ipython3",
   "version": "3.8.8"
  },
  "toc": {
   "base_numbering": 1,
   "nav_menu": {},
   "number_sections": true,
   "sideBar": true,
   "skip_h1_title": false,
   "title_cell": "Table of Contents",
   "title_sidebar": "Contents",
   "toc_cell": false,
   "toc_position": {},
   "toc_section_display": true,
   "toc_window_display": false
  }
 },
 "nbformat": 4,
 "nbformat_minor": 5
}
