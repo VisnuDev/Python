{
 "cells": [
  {
   "cell_type": "code",
   "execution_count": null,
   "id": "644e9900",
   "metadata": {},
   "outputs": [],
   "source": [
    "Q1. Does assigning a value to a string's indexed character violate Python's string immutability?\n",
    "Q2. Does using the += operator to concatenate strings violate Python's string immutability? Why or why not?\n",
    "Q3. In Python, how many different ways are there to index a character?\n",
    "Q4. What is the relationship between indexing and slicing?\n",
    "Q5. What is an indexed character's exact data type? What is the data form of a slicing-generated substring?\n",
    "Q6. What is the relationship between string and character \"types\" in Python?\n",
    "Q7. Identify at least two operators and one method that allow you to combine one or more smaller strings to create a larger string.\n",
    "Q8. What is the benefit of first checking the target string with in or not in before using the index method to find a substring\n",
    "Q9. Which operators and built-in string methods produce simple Boolean (true/false) results?\n"
   ]
  },
  {
   "cell_type": "code",
   "execution_count": null,
   "id": "554b81ae",
   "metadata": {},
   "outputs": [],
   "source": []
  },
  {
   "cell_type": "markdown",
   "id": "2e50a754",
   "metadata": {},
   "source": [
    "Q1. Does assigning a value to a string's indexed character violate Python's string immutability?\n",
    "\n",
    "\n",
    "Ans:\n",
    "    \n",
    "String is an immutable. so we cannot assign any value to a string indexed character.\n",
    "\n",
    "It causes Typeerror as below\n"
   ]
  },
  {
   "cell_type": "code",
   "execution_count": 5,
   "id": "44a3e4f5",
   "metadata": {
    "ExecuteTime": {
     "end_time": "2022-12-28T14:21:36.003246Z",
     "start_time": "2022-12-28T14:21:35.679244Z"
    },
    "scrolled": true
   },
   "outputs": [
    {
     "name": "stdout",
     "output_type": "stream",
     "text": [
      "Visnu\n",
      "2902579646128\n"
     ]
    },
    {
     "ename": "TypeError",
     "evalue": "'str' object does not support item assignment",
     "output_type": "error",
     "traceback": [
      "\u001b[1;31m---------------------------------------------------------------------------\u001b[0m",
      "\u001b[1;31mTypeError\u001b[0m                                 Traceback (most recent call last)",
      "\u001b[1;32m<ipython-input-5-db040549ae93>\u001b[0m in \u001b[0;36m<module>\u001b[1;34m\u001b[0m\n\u001b[0;32m      4\u001b[0m \u001b[0mprint\u001b[0m\u001b[1;33m(\u001b[0m\u001b[0mid\u001b[0m\u001b[1;33m(\u001b[0m\u001b[0mname\u001b[0m\u001b[1;33m)\u001b[0m\u001b[1;33m)\u001b[0m\u001b[1;33m\u001b[0m\u001b[1;33m\u001b[0m\u001b[0m\n\u001b[0;32m      5\u001b[0m \u001b[1;33m\u001b[0m\u001b[0m\n\u001b[1;32m----> 6\u001b[1;33m \u001b[0mname\u001b[0m\u001b[1;33m[\u001b[0m\u001b[1;36m0\u001b[0m\u001b[1;33m]\u001b[0m\u001b[1;33m=\u001b[0m\u001b[1;34m\"J\"\u001b[0m\u001b[1;33m\u001b[0m\u001b[1;33m\u001b[0m\u001b[0m\n\u001b[0m",
      "\u001b[1;31mTypeError\u001b[0m: 'str' object does not support item assignment"
     ]
    }
   ],
   "source": [
    "#Eg:\n",
    "\n",
    "name= \"Visnu\"\n",
    "\n",
    "print(name)\n",
    "print(id(name))\n",
    "\n",
    "name[0]=\"J\""
   ]
  },
  {
   "cell_type": "code",
   "execution_count": null,
   "id": "94cda07f",
   "metadata": {},
   "outputs": [],
   "source": []
  },
  {
   "cell_type": "markdown",
   "id": "3ed04c6f",
   "metadata": {},
   "source": [
    "Q2. Does using the += operator to concatenate strings violate Python's string immutability? Why or why not?\n",
    "\n",
    "\n",
    "#Ans:\n",
    "\n",
    "It does not violate string immutability. Using += actually create new association of the variable instead of modifying the \n",
    "current variable. we can verify them by using id() method."
   ]
  },
  {
   "cell_type": "code",
   "execution_count": 8,
   "id": "c507d4a7",
   "metadata": {
    "ExecuteTime": {
     "end_time": "2022-12-28T14:25:37.274006Z",
     "start_time": "2022-12-28T14:25:37.256037Z"
    }
   },
   "outputs": [
    {
     "name": "stdout",
     "output_type": "stream",
     "text": [
      "Visnu\n",
      "2902579646128\n",
      "Visnu devaraj\n",
      "2902605278320\n"
     ]
    }
   ],
   "source": [
    "#Eg:\n",
    "\n",
    "name = \"Visnu\"\n",
    "print(name)\n",
    "print(id(name))\n",
    "\n",
    "name += \" devaraj\"\n",
    "print(name)\n",
    "print(id(name))\n",
    "\n",
    "\n",
    "#we can see the reference of the object changed which means. New object name has been created instead of modifying the \n",
    "#previous one."
   ]
  },
  {
   "cell_type": "code",
   "execution_count": null,
   "id": "e2b2c1bd",
   "metadata": {},
   "outputs": [],
   "source": []
  },
  {
   "cell_type": "markdown",
   "id": "edec82f5",
   "metadata": {},
   "source": [
    "Q3. In Python, how many different ways are there to index a character?\n",
    "\n",
    "\n",
    "#Ans:\n",
    "\n",
    "In python, we can use positive and negative indexing.\n",
    "\n",
    "positive indexing -> index ranges from 0 to len(string)-1\n",
    "\n",
    "negative indexing -> index ranges from -(len(string)) to -1\n",
    "\n",
    "\n"
   ]
  },
  {
   "cell_type": "code",
   "execution_count": 13,
   "id": "1c6b3d81",
   "metadata": {
    "ExecuteTime": {
     "end_time": "2022-12-28T14:31:54.364002Z",
     "start_time": "2022-12-28T14:31:54.352002Z"
    }
   },
   "outputs": [
    {
     "name": "stdout",
     "output_type": "stream",
     "text": [
      "v d j\n",
      "j d v\n"
     ]
    }
   ],
   "source": [
    "#eg:\n",
    "\n",
    "name = \"visnu devaraj\"\n",
    "\n",
    "print(name[0], name[6], name[12]) #positive indexing\n",
    "\n",
    "print(name[-1], name[-7], name[-13]) #negative indexing"
   ]
  },
  {
   "cell_type": "code",
   "execution_count": null,
   "id": "52150e2c",
   "metadata": {},
   "outputs": [],
   "source": []
  },
  {
   "cell_type": "markdown",
   "id": "7e45c7d6",
   "metadata": {},
   "source": [
    "Q4. What is the relationship between indexing and slicing?\n",
    "\n",
    "#Ans:\n",
    "\n",
    "Indexing helps to access **individual** characters at a time in a string.\n",
    "\n",
    "Slicing helps to access any **group(multiple)** characters in a string.\n"
   ]
  },
  {
   "cell_type": "code",
   "execution_count": 15,
   "id": "72f22f4b",
   "metadata": {
    "ExecuteTime": {
     "end_time": "2022-12-28T14:35:25.422298Z",
     "start_time": "2022-12-28T14:35:25.413298Z"
    }
   },
   "outputs": [
    {
     "name": "stdout",
     "output_type": "stream",
     "text": [
      "v e\n",
      "visnu\n"
     ]
    }
   ],
   "source": [
    "#eg:\n",
    "\n",
    "name = \"visnu devaraj\"\n",
    "\n",
    "print(name[0], name[7]) #indexing\n",
    "\n",
    "\n",
    "print(name[0:5]) #slicing\n"
   ]
  },
  {
   "cell_type": "code",
   "execution_count": null,
   "id": "6a799aa5",
   "metadata": {},
   "outputs": [],
   "source": []
  },
  {
   "cell_type": "markdown",
   "id": "488d377b",
   "metadata": {},
   "source": [
    "Q5. What is an indexed character's exact data type? What is the data form of a slicing-generated substring?\n",
    "\n",
    "Ans:\n",
    "\n",
    "Both indexed character and sliced substring have **String** data type"
   ]
  },
  {
   "cell_type": "code",
   "execution_count": 16,
   "id": "18395e52",
   "metadata": {
    "ExecuteTime": {
     "end_time": "2022-12-28T14:43:48.368191Z",
     "start_time": "2022-12-28T14:43:48.351238Z"
    }
   },
   "outputs": [
    {
     "name": "stdout",
     "output_type": "stream",
     "text": [
      "<class 'str'>\n",
      "<class 'str'>\n"
     ]
    }
   ],
   "source": [
    "#Eg:\n",
    "\n",
    "name = \"visnu devaraj\"\n",
    "\n",
    "print(type(name[7])) #indexing\n",
    "\n",
    "\n",
    "print(type(name[0:5])) #slicing"
   ]
  },
  {
   "cell_type": "code",
   "execution_count": null,
   "id": "96330b8d",
   "metadata": {},
   "outputs": [],
   "source": []
  },
  {
   "cell_type": "markdown",
   "id": "1dda70da",
   "metadata": {},
   "source": [
    "Q6. What is the relationship between string and character \"types\" in Python?\n",
    "\n",
    "Ans:\n",
    "    \n",
    "In Python , an object contains single or group of characters are called **String**"
   ]
  },
  {
   "cell_type": "code",
   "execution_count": 18,
   "id": "6b3fab53",
   "metadata": {
    "ExecuteTime": {
     "end_time": "2022-12-28T14:47:23.343055Z",
     "start_time": "2022-12-28T14:47:23.325063Z"
    }
   },
   "outputs": [
    {
     "name": "stdout",
     "output_type": "stream",
     "text": [
      "<class 'str'>\n",
      "<class 'str'>\n"
     ]
    }
   ],
   "source": [
    "#Eg:\n",
    "\n",
    "a = \"V\"\n",
    "print(type(a))\n",
    "name = \"visnu devaraj\"\n",
    "print(type(name))"
   ]
  },
  {
   "cell_type": "code",
   "execution_count": null,
   "id": "5eea5cfa",
   "metadata": {},
   "outputs": [],
   "source": []
  },
  {
   "cell_type": "code",
   "execution_count": null,
   "id": "83d5c122",
   "metadata": {},
   "outputs": [],
   "source": [
    "Q7. Identify at least two operators and one method that allow you to combine \n",
    "one or more smaller strings to create a larger string.\n",
    "\n",
    "\n",
    "Ans:\n",
    "    \n",
    "+ and, += operators allow to combine one or more smaller strings to create a larger string. \n",
    "\n",
    ".join() method joins element of iterable type like list and tuple to get a combined string."
   ]
  },
  {
   "cell_type": "code",
   "execution_count": 27,
   "id": "40b21f0b",
   "metadata": {
    "ExecuteTime": {
     "end_time": "2022-12-28T14:53:07.271153Z",
     "start_time": "2022-12-28T14:53:07.257187Z"
    }
   },
   "outputs": [
    {
     "name": "stdout",
     "output_type": "stream",
     "text": [
      "Visnu is a data scientist\n",
      "Visnu is a data scientist\n",
      "Vis\n"
     ]
    }
   ],
   "source": [
    "#Eg:\n",
    "\n",
    "name= \"Visnu\"\n",
    "\n",
    "prof =\" is a data scientist\"\n",
    "\n",
    "print(name + prof)\n",
    "\n",
    "name += prof\n",
    "print(name)\n",
    "\n",
    "print(\"\".join([\"V\" , \"i\", \"s\"]))\n",
    "\n"
   ]
  },
  {
   "cell_type": "code",
   "execution_count": null,
   "id": "16fe6e6f",
   "metadata": {},
   "outputs": [],
   "source": []
  },
  {
   "cell_type": "markdown",
   "id": "357e0c46",
   "metadata": {},
   "source": [
    "Q8. What is the benefit of first checking the target string with in or not in before using the index method to find a substring\n",
    "\n",
    "\n",
    "Ans:\n",
    "    \n",
    "Checking the target string with in or not Operators before using the index method to find a substring just helps confirming availability of substring and thus avoid raising of ValueError.\n"
   ]
  },
  {
   "cell_type": "code",
   "execution_count": 30,
   "id": "05bff064",
   "metadata": {
    "ExecuteTime": {
     "end_time": "2022-12-28T14:56:29.324252Z",
     "start_time": "2022-12-28T14:56:29.314215Z"
    }
   },
   "outputs": [],
   "source": [
    "#Eg:\n",
    "\n",
    "name =\"visnu\"\n",
    "\n",
    "name.index('d') # raises values error\n",
    "\n",
    "\n",
    "if 'd' in name:\n",
    "    print(name.index('d')) #No error "
   ]
  },
  {
   "cell_type": "code",
   "execution_count": null,
   "id": "7b90352a",
   "metadata": {},
   "outputs": [],
   "source": []
  },
  {
   "cell_type": "code",
   "execution_count": null,
   "id": "a8382e59",
   "metadata": {},
   "outputs": [],
   "source": [
    "Q9. Which operators and built-in string methods produce simple Boolean (true/false) results?\n",
    "\n",
    "Ans:\n",
    "    \n",
    "Below string operators and methods produce simple Boolean results.\n",
    "\n",
    "\n",
    "operators: in, not\n",
    "\n",
    "\n",
    "methods:\n",
    "    \n",
    "    .isalpha()\n",
    "    .isalnum()\n",
    "    .isdecimal()\n",
    "    .isdigit()\n",
    "    .islower()\n",
    "    .isnumeric()\n",
    "    .isprintable()\n",
    "    .isspace()"
   ]
  }
 ],
 "metadata": {
  "hide_input": false,
  "kernelspec": {
   "display_name": "Python 3",
   "language": "python",
   "name": "python3"
  },
  "language_info": {
   "codemirror_mode": {
    "name": "ipython",
    "version": 3
   },
   "file_extension": ".py",
   "mimetype": "text/x-python",
   "name": "python",
   "nbconvert_exporter": "python",
   "pygments_lexer": "ipython3",
   "version": "3.8.8"
  },
  "toc": {
   "base_numbering": 1,
   "nav_menu": {},
   "number_sections": true,
   "sideBar": true,
   "skip_h1_title": false,
   "title_cell": "Table of Contents",
   "title_sidebar": "Contents",
   "toc_cell": false,
   "toc_position": {},
   "toc_section_display": true,
   "toc_window_display": false
  }
 },
 "nbformat": 4,
 "nbformat_minor": 5
}
