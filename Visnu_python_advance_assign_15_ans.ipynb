{
 "cells": [
  {
   "cell_type": "code",
   "execution_count": null,
   "id": "1340e267",
   "metadata": {},
   "outputs": [],
   "source": [
    "1.\tWhat are the new features added in Python 3.8 version?\n",
    "2.\tWhat is monkey patching in Python?\n",
    "3.\tWhat is the difference between a shallow copy and deep copy?\n",
    "4.\tWhat is the maximum possible length of an identifier?\n",
    "5.\tWhat is generator comprehension?\n"
   ]
  },
  {
   "cell_type": "code",
   "execution_count": null,
   "id": "13048a39",
   "metadata": {},
   "outputs": [],
   "source": []
  },
  {
   "cell_type": "markdown",
   "id": "576010b5",
   "metadata": {},
   "source": [
    "1.What are the new features added in Python 3.8 version?\n",
    "\n",
    "**Ans:**\n",
    "    \n",
    "    1)Positional-only parameters(/)\n",
    "There is a new function parameter syntax “/” which indicates that some function parameters must be specified positionally and can’t be used as keyword arguments. The addition of “/” improves the language’s consistency and allows a robust API design.\n",
    "\n",
    "\n",
    "   2) Assignment Expressions(:=)\n",
    "This operator is used to assign and return a value in the same expression. This removes the need for initializing the variable upfront. The major benefit of this is it saves some lines of code. It is also known as “The Walrus Operator” due to its similarity to the eyes and tusks of a walrus.\n",
    "\n",
    "\n",
    "    3)reversed() works with a dictionary\n",
    "Unlike Python 3.7, now in Python 3.8, the built-in method “reversed()” can be used for accessing the elements in the reverse order of insertion.\n",
    "\n",
    "\n",
    "   4) No parentheses for return and yield statements\n",
    "   \n",
    "‘yield’ and ‘return’ statements do not require parentheses to return multiple values."
   ]
  },
  {
   "cell_type": "code",
   "execution_count": null,
   "id": "1e4e761c",
   "metadata": {},
   "outputs": [],
   "source": []
  },
  {
   "cell_type": "markdown",
   "id": "12d20813",
   "metadata": {
    "ExecuteTime": {
     "end_time": "2023-01-05T06:47:50.670211Z",
     "start_time": "2023-01-05T06:47:50.648214Z"
    }
   },
   "source": [
    "2.\tWhat is monkey patching in Python?\n",
    "\n",
    "**Ans:**\n",
    "    \n",
    "   In Python, the term monkey patch refers to making dynamic (or run-time) modifications to a class or module. In Python, we can actually change the behavior of code at run-time.\n",
    "    "
   ]
  },
  {
   "cell_type": "code",
   "execution_count": 2,
   "id": "8aafafaf",
   "metadata": {
    "ExecuteTime": {
     "end_time": "2023-01-05T06:49:36.349306Z",
     "start_time": "2023-01-05T06:49:36.334306Z"
    }
   },
   "outputs": [
    {
     "name": "stdout",
     "output_type": "stream",
     "text": [
      "monkey_f() is being called\n"
     ]
    }
   ],
   "source": [
    "#Eg:\n",
    "\n",
    "class A:\n",
    "    def func(self):\n",
    "        print(\"func() is being called\")\n",
    "\n",
    "def monkey_f(self):\n",
    "    print(\"monkey_f() is being called\")\n",
    "\n",
    "A.func = monkey_f\n",
    "some_object = A()\n",
    "some_object.func()"
   ]
  },
  {
   "cell_type": "code",
   "execution_count": null,
   "id": "39c626ae",
   "metadata": {},
   "outputs": [],
   "source": []
  },
  {
   "cell_type": "markdown",
   "id": "b7f5e16e",
   "metadata": {},
   "source": [
    "3.\tWhat is the difference between a shallow copy and deep copy?\n",
    "\n",
    "\n",
    "**Ans:**\n",
    "    \n",
    "    \n",
    "The Differences between a Shallow Copy and deep copy are as follows:\n",
    "\n",
    "When an object is copied using copy(), it is called shallow copy as changes made in copied object will also make corresponding changes in original object, because both the objects will be referencing same address location.\n",
    "\n",
    "When an object is copied using deepcopy(), it is called deep copy as changes made in copied object will not make corresponding changes in original object, because both the objects will not be referencing same address location."
   ]
  },
  {
   "cell_type": "code",
   "execution_count": null,
   "id": "81e0682d",
   "metadata": {},
   "outputs": [],
   "source": []
  },
  {
   "cell_type": "markdown",
   "id": "2f396adf",
   "metadata": {},
   "source": [
    "4.\tWhat is the maximum possible length of an identifier?\n",
    "\n",
    "**Ans:**\n",
    "    \n",
    "    In Python, the highest possible length of an identifier is 79 characters. \n",
    "    Python is a high level programming language. It’s also a complex form and a collector of waste."
   ]
  },
  {
   "cell_type": "code",
   "execution_count": null,
   "id": "9615b195",
   "metadata": {},
   "outputs": [],
   "source": []
  },
  {
   "cell_type": "markdown",
   "id": "151a4176",
   "metadata": {},
   "source": [
    "5.\tWhat is generator comprehension?\n",
    "\n",
    "**Ans:**\n",
    "    \n",
    "    \n",
    "A generator comprehension is a single-line specification for defining a generator in Python.\n",
    "\n",
    "It is absolutely essential to learn this syntax in order to write simple and readable code.\n",
    "Generator comprehension uses round bracket unlike square bracket in list comprehension."
   ]
  }
 ],
 "metadata": {
  "hide_input": false,
  "kernelspec": {
   "display_name": "Python 3",
   "language": "python",
   "name": "python3"
  },
  "language_info": {
   "codemirror_mode": {
    "name": "ipython",
    "version": 3
   },
   "file_extension": ".py",
   "mimetype": "text/x-python",
   "name": "python",
   "nbconvert_exporter": "python",
   "pygments_lexer": "ipython3",
   "version": "3.8.8"
  },
  "toc": {
   "base_numbering": 1,
   "nav_menu": {},
   "number_sections": true,
   "sideBar": true,
   "skip_h1_title": false,
   "title_cell": "Table of Contents",
   "title_sidebar": "Contents",
   "toc_cell": false,
   "toc_position": {},
   "toc_section_display": true,
   "toc_window_display": false
  }
 },
 "nbformat": 4,
 "nbformat_minor": 5
}
