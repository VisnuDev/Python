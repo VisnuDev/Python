{
 "cells": [
  {
   "cell_type": "code",
   "execution_count": null,
   "id": "ef7e5fab",
   "metadata": {},
   "outputs": [],
   "source": [
    "Q1. Define the relationship between a class and its instances. Is it a one-to-one or a one-to-many partnership, for example?\n",
    "\n",
    "Q2. What kind of data is held only in an instance?\n",
    "\n",
    "Q3. What kind of knowledge is stored in a class?\n",
    "\n",
    "Q4. What exactly is a method, and how is it different from a regular function?\n",
    "\n",
    "Q5. Is inheritance supported in Python, and if so, what is the syntax?\n",
    "\n",
    "Q6. How much encapsulation (making instance or class variables private) does Python support?\n",
    "\n",
    "Q7. How do you distinguish between a class variable and an instance variable?\n",
    "\n",
    "Q8. When, if ever, can self be included in a class's method definitions?\n",
    "\n",
    "Q9. What is the difference between the _ _add_ _ and the _ _radd_ _ methods?\n",
    "\n",
    "Q10. When is it necessary to use a reflection method? When do you not need it, even though you support the operation in question?\n",
    "\n",
    "Q11. What is the _ _iadd_ _ method called?\n",
    "\n",
    "Q12. Is the _ _init_ _ method inherited by subclasses? What do you do if you need to customize its behavior within a subclass?\n"
   ]
  },
  {
   "cell_type": "code",
   "execution_count": null,
   "id": "44137bd7",
   "metadata": {},
   "outputs": [],
   "source": []
  },
  {
   "cell_type": "code",
   "execution_count": null,
   "id": "33871aec",
   "metadata": {},
   "outputs": [],
   "source": [
    "Q1. Define the relationship between a class and its instances. Is it a one-to-one or a one-to-many partnership, for example?\n",
    "\n",
    "\n",
    "Ans:\n",
    "    \n",
    "    Class is like a Blue print or more like of user defined data type which contains various methods and variables.\n",
    "    \n",
    "    Instances of class is called an object which is a real world entity.\n",
    "    \n",
    "    The class and intances have one-to-many relationship.\n",
    "    \n"
   ]
  },
  {
   "cell_type": "code",
   "execution_count": null,
   "id": "0d1f3a6c",
   "metadata": {},
   "outputs": [],
   "source": []
  },
  {
   "cell_type": "code",
   "execution_count": null,
   "id": "6db62446",
   "metadata": {},
   "outputs": [],
   "source": [
    "Q2. What kind of data is held only in an instance?\n",
    "\n",
    "Ans:\n",
    "    \n",
    "    Instance object can contain the data that points to the class instance. \n",
    "    using the instance we can access the variables and methods of its class."
   ]
  },
  {
   "cell_type": "code",
   "execution_count": null,
   "id": "872e9e15",
   "metadata": {},
   "outputs": [],
   "source": []
  },
  {
   "cell_type": "code",
   "execution_count": null,
   "id": "21f7505b",
   "metadata": {},
   "outputs": [],
   "source": [
    "Q3. What kind of knowledge is stored in a class?\n",
    "\n",
    "Ans:\n",
    "    \n",
    "    Class creates a user-defined data structure, which holds its own data members and member functions, \n",
    "    which can be accessed and used by creating an instance of that class. \n",
    "    A class is like a blueprint for an object."
   ]
  },
  {
   "cell_type": "code",
   "execution_count": null,
   "id": "71a5387e",
   "metadata": {},
   "outputs": [],
   "source": []
  },
  {
   "cell_type": "code",
   "execution_count": null,
   "id": "13b209e2",
   "metadata": {},
   "outputs": [],
   "source": [
    "Q4. What exactly is a method, and how is it different from a regular function?\n",
    "\n",
    "Ans:\n",
    "    \n",
    "    Method is more like similar to a function but the key difference is that method belong to any class. \n",
    "    \n",
    "    Methods are accessed using instance of the class.\n",
    "    \n",
    "    But Fuctions are independent, They can be called directly. \n",
    "    \n",
    "    "
   ]
  },
  {
   "cell_type": "code",
   "execution_count": null,
   "id": "45fabc4a",
   "metadata": {},
   "outputs": [],
   "source": []
  },
  {
   "cell_type": "code",
   "execution_count": null,
   "id": "38161101",
   "metadata": {},
   "outputs": [],
   "source": [
    "Q5. Is inheritance supported in Python, and if so, what is the syntax?\n",
    "\n",
    "Ans:\n",
    "    \n",
    "    Yes, python supports inherirtance, The syntax example is below,\n",
    "    \n",
    "    \n",
    "    In below example grade is derived from class Student.\n",
    "    "
   ]
  },
  {
   "cell_type": "code",
   "execution_count": null,
   "id": "bbab10b6",
   "metadata": {},
   "outputs": [],
   "source": [
    "#Eg:\n",
    "class student():\n",
    "    def name(self, fname, lname):\n",
    "        self.fname= fname\n",
    "        self.lname= lname\n",
    "        \n",
    "class grade(student):\n",
    "    pass\n",
    "    "
   ]
  },
  {
   "cell_type": "code",
   "execution_count": null,
   "id": "ccfc16ee",
   "metadata": {},
   "outputs": [],
   "source": []
  },
  {
   "cell_type": "code",
   "execution_count": null,
   "id": "6d94678a",
   "metadata": {},
   "outputs": [],
   "source": [
    "Q6. How much encapsulation (making instance or class variables private) does Python support?\n",
    "\n",
    "Ans:\n",
    "    \n",
    "    Encapsulation tends to wrap data and the methods.\n",
    "    This puts restrictions on accessing variables and methods directly and can prevent the accidental modification of data. \n",
    "    To prevent accidental change, an objects variable can only be changed by an objects method."
   ]
  },
  {
   "cell_type": "code",
   "execution_count": null,
   "id": "8100e350",
   "metadata": {},
   "outputs": [],
   "source": []
  },
  {
   "cell_type": "code",
   "execution_count": null,
   "id": "d9089a31",
   "metadata": {},
   "outputs": [],
   "source": [
    "Q7. How do you distinguish between a class variable and an instance variable?\n",
    "\n",
    "\n",
    "Ans:\n",
    "    \n",
    "    Class variable is variable that are commanly accessed by all the instances of the class.\n",
    "    \n",
    "    where Instance variable belong to only that specific instance. each instance have it's own copy of the varible\n",
    "    \n",
    "    find the below example,\n",
    "    "
   ]
  },
  {
   "cell_type": "code",
   "execution_count": null,
   "id": "6a415873",
   "metadata": {
    "ExecuteTime": {
     "end_time": "2023-01-24T16:29:16.671911Z",
     "start_time": "2023-01-24T16:29:16.658889Z"
    }
   },
   "outputs": [],
   "source": [
    "class company():\n",
    "    company_name= \"Ineuron\"\n",
    "    def emp_name(self, name, age):\n",
    "        self.name= name\n",
    "        self.age= age\n",
    "        \n",
    "        \n",
    "        \n",
    "In above code, Comapny_name is Class variable\n",
    "\n",
    "where name and age are instance variables."
   ]
  },
  {
   "cell_type": "code",
   "execution_count": null,
   "id": "34c8ea4b",
   "metadata": {},
   "outputs": [],
   "source": []
  },
  {
   "cell_type": "code",
   "execution_count": null,
   "id": "7962098a",
   "metadata": {},
   "outputs": [],
   "source": [
    "Q8. When, if ever, can self be included in a class's method definitions?\n",
    "\n",
    "Ans:\n",
    "    \n",
    "    Yes, self be included in a class method. self denotes the calling instance or object of class."
   ]
  },
  {
   "cell_type": "code",
   "execution_count": null,
   "id": "14288da8",
   "metadata": {},
   "outputs": [],
   "source": []
  },
  {
   "cell_type": "code",
   "execution_count": null,
   "id": "7d535f08",
   "metadata": {},
   "outputs": [],
   "source": [
    "Q9. What is the difference between the _ _add_ _ and the _ _radd_ _ methods?\n",
    "\n",
    "\n",
    "Ans: \n",
    "    \n",
    "    __add__ and __radd__  are magic methods.\n",
    "    \n",
    "    __add__ will be called in case '+' opearting overloading.\n",
    "    \n",
    "    but, in case of __radd__, it will first call __add__, if it returns any error, then it will call __radd__ instead of\n",
    "    \n",
    "    raising error.\n",
    "\n"
   ]
  },
  {
   "cell_type": "code",
   "execution_count": 17,
   "id": "b6bd2d3a",
   "metadata": {
    "ExecuteTime": {
     "end_time": "2023-02-15T07:19:09.170969Z",
     "start_time": "2023-02-15T07:19:09.154966Z"
    }
   },
   "outputs": [
    {
     "name": "stdout",
     "output_type": "stream",
     "text": [
      "VisnuDevaraj\n",
      "DevarajVisnu\n"
     ]
    }
   ],
   "source": [
    "#Eg:\n",
    "class sample: \n",
    "    def __init__(self, a): \n",
    "        self.a = a \n",
    "    def __add__(self, other): \n",
    "        return self.a + other\n",
    "    def __radd__(self, other): \n",
    "        return other + self.a\n",
    "Ob1=sample(\"Visnu\") \n",
    "Ob2=Ob1 + \"Devaraj\"\n",
    "print(Ob2) \n",
    "Ob3= \"Devaraj\" + Ob1\n",
    "print(Ob3)\n",
    "\n",
    "\n",
    "    "
   ]
  },
  {
   "cell_type": "code",
   "execution_count": null,
   "id": "cc49d3c0",
   "metadata": {
    "ExecuteTime": {
     "end_time": "2023-02-15T07:05:43.257760Z",
     "start_time": "2023-02-15T07:05:43.239770Z"
    }
   },
   "outputs": [],
   "source": []
  },
  {
   "cell_type": "code",
   "execution_count": null,
   "id": "39812a4d",
   "metadata": {},
   "outputs": [],
   "source": [
    "Q10. When is it necessary to use a reflection method? When do you not need it, even though you support the operation in question?\n",
    "\n",
    "\n",
    "Ans:\n",
    "    Reflection method we often encounter the requirement that a method in the executing object, \n",
    "    or a variable in the calling object, or a field of the object should be assigned, \n",
    "    while the method name or field name can not be determined when encoding the code, \n",
    "    and need to be input in the form of passing strings through parameters."
   ]
  },
  {
   "cell_type": "code",
   "execution_count": null,
   "id": "8af6a9b3",
   "metadata": {},
   "outputs": [],
   "source": []
  },
  {
   "cell_type": "code",
   "execution_count": null,
   "id": "f17afb71",
   "metadata": {},
   "outputs": [],
   "source": [
    "Q11. What is the _ _iadd_ _ method called?\n",
    "\n",
    "\n",
    "Ans:\n",
    "    \n",
    "    __iadd__ method is called when we use implementation like a+=b which is a.__iadd__(b)"
   ]
  },
  {
   "cell_type": "code",
   "execution_count": 19,
   "id": "0fb48baf",
   "metadata": {
    "ExecuteTime": {
     "end_time": "2023-02-15T07:20:41.225241Z",
     "start_time": "2023-02-15T07:20:41.203244Z"
    }
   },
   "outputs": [
    {
     "name": "stdout",
     "output_type": "stream",
     "text": [
      "VisnuDevaraj\n"
     ]
    }
   ],
   "source": [
    "#Eg:\n",
    "\n",
    "class sample: \n",
    "    def __init__(self, a): \n",
    "        self.a = a \n",
    "    def __add__(self, other): \n",
    "        return self.a + other\n",
    "    def __iadd__(self, other): \n",
    "        return sample(self.a + other)\n",
    "Ob1=sample(\"Visnu\") \n",
    "Ob1 += \"Devaraj\"\n",
    "print(Ob1.a) \n",
    "\n"
   ]
  },
  {
   "cell_type": "code",
   "execution_count": null,
   "id": "8118b5e2",
   "metadata": {},
   "outputs": [],
   "source": []
  },
  {
   "cell_type": "code",
   "execution_count": null,
   "id": "605c7709",
   "metadata": {},
   "outputs": [],
   "source": [
    "Q12. Is the _ _init_ _ method inherited by subclasses? What do you do if you need to customize its behavior within a subclass?\n",
    "\n",
    "\n",
    "Ans:\n",
    "    Yes, __init__ method will be inherited by subclasses. if we want to customize its behaviour within a subclass we can use super() method.\n",
    "    "
   ]
  },
  {
   "cell_type": "code",
   "execution_count": null,
   "id": "bb3918a7",
   "metadata": {},
   "outputs": [],
   "source": []
  }
 ],
 "metadata": {
  "hide_input": false,
  "kernelspec": {
   "display_name": "Python 3",
   "language": "python",
   "name": "python3"
  },
  "language_info": {
   "codemirror_mode": {
    "name": "ipython",
    "version": 3
   },
   "file_extension": ".py",
   "mimetype": "text/x-python",
   "name": "python",
   "nbconvert_exporter": "python",
   "pygments_lexer": "ipython3",
   "version": "3.8.8"
  },
  "toc": {
   "base_numbering": 1,
   "nav_menu": {},
   "number_sections": true,
   "sideBar": true,
   "skip_h1_title": false,
   "title_cell": "Table of Contents",
   "title_sidebar": "Contents",
   "toc_cell": false,
   "toc_position": {},
   "toc_section_display": true,
   "toc_window_display": false
  }
 },
 "nbformat": 4,
 "nbformat_minor": 5
}
