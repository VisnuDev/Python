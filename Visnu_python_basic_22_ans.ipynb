{
 "cells": [
  {
   "cell_type": "code",
   "execution_count": null,
   "id": "3247810f",
   "metadata": {},
   "outputs": [],
   "source": [
    "1. What is the result of the code, and explain?\n",
    "\n",
    "X = 'iNeuron'\n",
    "\n",
    "def func():\n",
    "\n",
    "print(X)\n",
    "\n",
    "func()"
   ]
  },
  {
   "cell_type": "code",
   "execution_count": null,
   "id": "d2e65b4e",
   "metadata": {},
   "outputs": [],
   "source": []
  },
  {
   "cell_type": "code",
   "execution_count": 1,
   "id": "a654a0b8",
   "metadata": {
    "ExecuteTime": {
     "end_time": "2022-10-27T14:31:59.589280Z",
     "start_time": "2022-10-27T14:31:59.569285Z"
    }
   },
   "outputs": [
    {
     "name": "stdout",
     "output_type": "stream",
     "text": [
      "iNeuron\n"
     ]
    }
   ],
   "source": [
    "#Ans:\n",
    "\n",
    "X = 'iNeuron'\n",
    "\n",
    "def func():\n",
    "    print(X)\n",
    "    \n",
    "func()"
   ]
  },
  {
   "cell_type": "code",
   "execution_count": null,
   "id": "1cdf57c7",
   "metadata": {},
   "outputs": [],
   "source": [
    "result: iNeuron\n",
    "    \n",
    "Exp: the func() call print the values stored in X which is 'iNeuron'\n"
   ]
  },
  {
   "cell_type": "code",
   "execution_count": null,
   "id": "0a4cf87d",
   "metadata": {},
   "outputs": [],
   "source": []
  },
  {
   "cell_type": "code",
   "execution_count": null,
   "id": "b85ef02c",
   "metadata": {},
   "outputs": [],
   "source": [
    "\n",
    "2. What is the result of the code, and explain?\n",
    "\n",
    "X = 'iNeuron'\n",
    "def func():\n",
    "X = 'NI!'\n",
    "func()\n",
    "print(X)\n",
    "\n"
   ]
  },
  {
   "cell_type": "code",
   "execution_count": 2,
   "id": "a1c313b6",
   "metadata": {
    "ExecuteTime": {
     "end_time": "2022-10-27T14:34:08.175850Z",
     "start_time": "2022-10-27T14:34:08.158885Z"
    }
   },
   "outputs": [
    {
     "name": "stdout",
     "output_type": "stream",
     "text": [
      "iNeuron\n"
     ]
    }
   ],
   "source": [
    "X = 'iNeuron'\n",
    "\n",
    "def func():\n",
    "    X = 'NI!'\n",
    "\n",
    "func()\n",
    "\n",
    "print(X)"
   ]
  },
  {
   "cell_type": "code",
   "execution_count": null,
   "id": "b20134b8",
   "metadata": {},
   "outputs": [],
   "source": [
    "Exp:\n",
    "\n",
    "The line, func() Call the function we defined, with \"NI\" as the value of X inside the funtion, \n",
    "The line, print(X), prints the value of X, which is \"iNeuron\", which is outside func()."
   ]
  },
  {
   "cell_type": "code",
   "execution_count": null,
   "id": "ca884ac4",
   "metadata": {},
   "outputs": [],
   "source": []
  },
  {
   "cell_type": "code",
   "execution_count": null,
   "id": "ccbc4907",
   "metadata": {},
   "outputs": [],
   "source": [
    "3. What does this code print, and why?\n",
    "\n",
    "X = 'iNeuron'\n",
    "\n",
    "def func():\n",
    "\n",
    "X = 'NI'\n",
    "\n",
    "print(X)\n",
    "\n",
    "func()\n",
    "\n",
    "print(X)\n",
    "\n"
   ]
  },
  {
   "cell_type": "code",
   "execution_count": 3,
   "id": "255332fe",
   "metadata": {
    "ExecuteTime": {
     "end_time": "2022-10-29T16:59:20.579165Z",
     "start_time": "2022-10-29T16:59:20.538163Z"
    }
   },
   "outputs": [
    {
     "name": "stdout",
     "output_type": "stream",
     "text": [
      "NI\n",
      "iNeuron\n"
     ]
    }
   ],
   "source": [
    "X = 'iNeuron'\n",
    "\n",
    "def func():\n",
    "    X = 'NI'\n",
    "    print(X)\n",
    "\n",
    "func()\n",
    "\n",
    "print(X)"
   ]
  },
  {
   "cell_type": "code",
   "execution_count": null,
   "id": "2837866d",
   "metadata": {},
   "outputs": [],
   "source": [
    "Exp:\n",
    "    \n",
    "The line, func() Call the function we defined which prints the value of X, which is \"NI\" inside the funtion.\n",
    "\n",
    "The line, print(X), prints the value of X, which is \"iNeuron\", which is outside func()."
   ]
  },
  {
   "cell_type": "code",
   "execution_count": null,
   "id": "30b14f1b",
   "metadata": {},
   "outputs": [],
   "source": []
  },
  {
   "cell_type": "code",
   "execution_count": null,
   "id": "920a8103",
   "metadata": {},
   "outputs": [],
   "source": [
    "4. What output does this code produce? Why?\n",
    "\n",
    "X = 'iNeuron'\n",
    "\n",
    "def func():\n",
    "\n",
    "global X\n",
    "\n",
    "X = 'NI'\n",
    "\n",
    "func()\n",
    "\n",
    "print(X)\n",
    "\n"
   ]
  },
  {
   "cell_type": "code",
   "execution_count": 4,
   "id": "3ef36434",
   "metadata": {
    "ExecuteTime": {
     "end_time": "2022-10-29T17:01:01.075436Z",
     "start_time": "2022-10-29T17:01:01.057442Z"
    }
   },
   "outputs": [
    {
     "name": "stdout",
     "output_type": "stream",
     "text": [
      "NI\n"
     ]
    }
   ],
   "source": [
    "X = 'iNeuron'\n",
    "\n",
    "def func():\n",
    "    global X\n",
    "    X = 'NI'\n",
    "\n",
    "func()\n",
    "\n",
    "print(X)"
   ]
  },
  {
   "cell_type": "code",
   "execution_count": null,
   "id": "1a48b0b3",
   "metadata": {},
   "outputs": [],
   "source": [
    "Exp: \n",
    "    \n",
    "The func() Call the function we defined, with \"NI\" as the value of X inside the funtion, \n",
    "and we have used global keyword, which means, global keyword allows us to modify the variable X, \n",
    "outside of the current function.\n",
    "\n",
    "Then print(X), prints the value of X, which is now changed to \"NI\", as we used global keyword inside the function."
   ]
  },
  {
   "cell_type": "code",
   "execution_count": null,
   "id": "25f75ba9",
   "metadata": {},
   "outputs": [],
   "source": []
  },
  {
   "cell_type": "code",
   "execution_count": null,
   "id": "54333e14",
   "metadata": {},
   "outputs": [],
   "source": [
    "5.\n",
    "\n",
    "X = 'iNeuron'\n",
    "\n",
    "def func():\n",
    "\n",
    "X = 'NI'\n",
    "\n",
    "def nested():\n",
    "\n",
    "print(X)\n",
    "\n",
    "nested()\n",
    "\n",
    "func()\n",
    "\n",
    "X"
   ]
  },
  {
   "cell_type": "code",
   "execution_count": 7,
   "id": "c98bfcb6",
   "metadata": {
    "ExecuteTime": {
     "end_time": "2022-10-29T17:05:42.929051Z",
     "start_time": "2022-10-29T17:05:42.905061Z"
    }
   },
   "outputs": [
    {
     "name": "stdout",
     "output_type": "stream",
     "text": [
      "iNeuron\n"
     ]
    },
    {
     "data": {
      "text/plain": [
       "'iNeuron'"
      ]
     },
     "execution_count": 7,
     "metadata": {},
     "output_type": "execute_result"
    }
   ],
   "source": [
    "\n",
    "X = 'iNeuron'\n",
    "\n",
    "def func():\n",
    "    X = 'NI'\n",
    "\n",
    "def nested():\n",
    "    print(X)\n",
    "\n",
    "    \n",
    "nested()\n",
    "func()\n",
    "\n",
    "X"
   ]
  },
  {
   "cell_type": "code",
   "execution_count": null,
   "id": "2e1f4d46",
   "metadata": {},
   "outputs": [],
   "source": [
    "Exp: \n",
    "    \n",
    "    The nested() method call print(X) which refers to global X variable so 'iNeuron' got printed. \n",
    "    Then func() method call assign X='NI' but here X refers to local variable with scope just inside the function \n",
    "so it does not change the global X value.\n",
    "\n",
    "    So the X value still remains 'iNeuron'\n"
   ]
  },
  {
   "cell_type": "code",
   "execution_count": null,
   "id": "5442b343",
   "metadata": {},
   "outputs": [],
   "source": []
  },
  {
   "cell_type": "code",
   "execution_count": 10,
   "id": "a887b180",
   "metadata": {
    "ExecuteTime": {
     "end_time": "2022-10-29T17:12:59.644922Z",
     "start_time": "2022-10-29T17:12:59.632917Z"
    }
   },
   "outputs": [
    {
     "name": "stdout",
     "output_type": "stream",
     "text": [
      "iNeuron\n",
      "iNeuron\n"
     ]
    }
   ],
   "source": [
    "6. \n",
    "\n",
    "def func():\n",
    "    X = 'NI'\n",
    "    def nested():\n",
    "        nonlocal X\n",
    "        X = 'Spam'\n",
    "        \n",
    "        \n",
    "\n",
    "nested()\n",
    "\n",
    "print(X)\n",
    "\n",
    "func()\n",
    "\n"
   ]
  },
  {
   "cell_type": "code",
   "execution_count": null,
   "id": "6362e893",
   "metadata": {},
   "outputs": [],
   "source": [
    "Exp:\n",
    "    \n",
    "The nonlocal keyword is used to work with variables inside nested functions,\n",
    "where the variable should not belong to the inner function.\n",
    "Use the keyword nonlocal to declare that the variable is not local."
   ]
  }
 ],
 "metadata": {
  "hide_input": false,
  "kernelspec": {
   "display_name": "Python 3",
   "language": "python",
   "name": "python3"
  },
  "language_info": {
   "codemirror_mode": {
    "name": "ipython",
    "version": 3
   },
   "file_extension": ".py",
   "mimetype": "text/x-python",
   "name": "python",
   "nbconvert_exporter": "python",
   "pygments_lexer": "ipython3",
   "version": "3.8.8"
  },
  "toc": {
   "base_numbering": 1,
   "nav_menu": {},
   "number_sections": true,
   "sideBar": true,
   "skip_h1_title": false,
   "title_cell": "Table of Contents",
   "title_sidebar": "Contents",
   "toc_cell": false,
   "toc_position": {},
   "toc_section_display": true,
   "toc_window_display": false
  }
 },
 "nbformat": 4,
 "nbformat_minor": 5
}
