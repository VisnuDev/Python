{
 "cells": [
  {
   "cell_type": "code",
   "execution_count": null,
   "id": "7641f49a",
   "metadata": {},
   "outputs": [],
   "source": [
    "1. What is the result of the code, and why?\n",
    ">>> def func(a, b=6, c=8):\n",
    "print(a, b, c)\n",
    ">>> func(1, 2)\n",
    "2. What is the result of this code, and why?\n",
    ">>> def func(a, b, c=5):\n",
    "print(a, b, c)\n",
    ">>> func(1, c=3, b=2)\n",
    "3. How about this code: what is its result, and why?\n",
    ">>> def func(a, *pargs):\n",
    "print(a, pargs)\n",
    ">>> func(1, 2, 3)\n",
    "4. What does this code print, and why?\n",
    ">>> def func(a, **kargs):\n",
    "print(a, kargs)\n",
    ">>> func(a=1, c=3, b=2)\n",
    "5. What gets printed by this, and explain?\n",
    ">>> def func(a, b, c=8, d=5): print(a, b, c, d)\n",
    ">>> func(1, *(5, 6))\n",
    "6. what is the result of this, and explain?\n",
    ">>> def func(a, b, c): a = 2; b[0] = 'x'; c['a'] = 'y'\n",
    ">>> l=1; m=[1]; n={'a':0}\n",
    ">>> func(l, m, n)\n",
    ">>> l, m, n\n"
   ]
  },
  {
   "cell_type": "code",
   "execution_count": null,
   "id": "9b4805f0",
   "metadata": {},
   "outputs": [],
   "source": []
  },
  {
   "cell_type": "code",
   "execution_count": null,
   "id": "08f3c022",
   "metadata": {},
   "outputs": [],
   "source": [
    "1. What is the result of the code, and why?\n",
    ">>> def func(a, b=6, c=8):\n",
    "print(a, b, c)\n",
    ">>> func(1, 2)"
   ]
  },
  {
   "cell_type": "code",
   "execution_count": 1,
   "id": "b20f1a19",
   "metadata": {
    "ExecuteTime": {
     "end_time": "2022-10-27T13:57:19.311599Z",
     "start_time": "2022-10-27T13:57:19.266594Z"
    }
   },
   "outputs": [
    {
     "name": "stdout",
     "output_type": "stream",
     "text": [
      "1 2 8\n"
     ]
    }
   ],
   "source": [
    "def func(a, b=6, c=8):\n",
    "    print(a, b, c)\n",
    "\n",
    "func(1, 2)"
   ]
  },
  {
   "cell_type": "code",
   "execution_count": null,
   "id": "4edb993b",
   "metadata": {},
   "outputs": [],
   "source": [
    "The result of code: 1 2 8 \n",
    "    \n",
    "Exp: The above function uses Default arguments technique.\n",
    "    while calling the func() the value is not passed for argument c, so it takes the default value for c=8"
   ]
  },
  {
   "cell_type": "code",
   "execution_count": null,
   "id": "b9f20dfb",
   "metadata": {},
   "outputs": [],
   "source": []
  },
  {
   "cell_type": "code",
   "execution_count": null,
   "id": "b244ebb1",
   "metadata": {},
   "outputs": [],
   "source": [
    "2. What is the result of this code, and why?\n",
    ">>> def func(a, b, c=5):\n",
    "print(a, b, c)\n",
    ">>> func(1, c=3, b=2)"
   ]
  },
  {
   "cell_type": "code",
   "execution_count": 2,
   "id": "2ec2d898",
   "metadata": {
    "ExecuteTime": {
     "end_time": "2022-10-27T14:00:28.632503Z",
     "start_time": "2022-10-27T14:00:28.617502Z"
    }
   },
   "outputs": [
    {
     "name": "stdout",
     "output_type": "stream",
     "text": [
      "1 2 3\n"
     ]
    }
   ],
   "source": [
    "def func(a, b, c=5):\n",
    "    print(a, b, c)\n",
    "func(1, c=3, b=2)"
   ]
  },
  {
   "cell_type": "code",
   "execution_count": null,
   "id": "be579115",
   "metadata": {},
   "outputs": [],
   "source": [
    "result: 1 2 3\n",
    "    \n",
    "Exp: The function uses keyword arguments technique. \n",
    "    while calling func() we mentioned c=3, b=2 so the values are assigned to respective parameters."
   ]
  },
  {
   "cell_type": "code",
   "execution_count": null,
   "id": "70186dd3",
   "metadata": {},
   "outputs": [],
   "source": []
  },
  {
   "cell_type": "code",
   "execution_count": null,
   "id": "51828590",
   "metadata": {},
   "outputs": [],
   "source": [
    "3. How about this code: what is its result, and why?\n",
    ">>> def func(a, *pargs):\n",
    "print(a, pargs)\n",
    ">>> func(1, 2, 3)"
   ]
  },
  {
   "cell_type": "code",
   "execution_count": 3,
   "id": "400515f5",
   "metadata": {
    "ExecuteTime": {
     "end_time": "2022-10-27T14:03:02.603356Z",
     "start_time": "2022-10-27T14:03:02.591357Z"
    }
   },
   "outputs": [
    {
     "name": "stdout",
     "output_type": "stream",
     "text": [
      "1 (2, 3)\n"
     ]
    }
   ],
   "source": [
    "def func(a, *pargs):\n",
    "    print(a, pargs)\n",
    "    \n",
    "func(1, 2, 3)"
   ]
  },
  {
   "cell_type": "code",
   "execution_count": null,
   "id": "f6e9f1ab",
   "metadata": {},
   "outputs": [],
   "source": [
    "result: 1 (2, 3)\n",
    "    \n",
    "Exp: The above fucntion uses arbitrary arguments technique, \n",
    "    so the value 1 assigned to a, and 2,3 are assigned to *pargs as tuple"
   ]
  },
  {
   "cell_type": "code",
   "execution_count": null,
   "id": "3c1f7e92",
   "metadata": {},
   "outputs": [],
   "source": []
  },
  {
   "cell_type": "code",
   "execution_count": null,
   "id": "e631542c",
   "metadata": {},
   "outputs": [],
   "source": [
    "4. What does this code print, and why?\n",
    ">>> def func(a, **kargs):\n",
    "print(a, kargs)\n",
    ">>> func(a=1, c=3, b=2)"
   ]
  },
  {
   "cell_type": "code",
   "execution_count": 7,
   "id": "101c1326",
   "metadata": {
    "ExecuteTime": {
     "end_time": "2022-10-27T14:06:26.181430Z",
     "start_time": "2022-10-27T14:06:26.166441Z"
    }
   },
   "outputs": [
    {
     "name": "stdout",
     "output_type": "stream",
     "text": [
      "1 {'c': 3, 'b': 2}\n"
     ]
    }
   ],
   "source": [
    "def func(a, **kargs):\n",
    "    print(a, kargs)\n",
    "    \n",
    "func(a=1, c=3, b=2)"
   ]
  },
  {
   "cell_type": "code",
   "execution_count": null,
   "id": "14a1854c",
   "metadata": {
    "ExecuteTime": {
     "end_time": "2022-10-27T14:05:50.187337Z",
     "start_time": "2022-10-27T14:05:49.781343Z"
    }
   },
   "outputs": [],
   "source": [
    "result: 1 {'c': 3, 'b': 2} \n",
    "    \n",
    "    \n",
    "Exp: In above function, value 1 assigned to a, \n",
    "    but since we mentioned **kargs as keyword arguments the parameters are stored in the form of dictionary.\n",
    "    {'c': 3, 'b': 2} "
   ]
  },
  {
   "cell_type": "code",
   "execution_count": null,
   "id": "a7e9c96f",
   "metadata": {},
   "outputs": [],
   "source": []
  },
  {
   "cell_type": "code",
   "execution_count": null,
   "id": "050a7d05",
   "metadata": {},
   "outputs": [],
   "source": [
    "5. What gets printed by this, and explain?\n",
    ">>> def func(a, b, c=8, d=5): print(a, b, c, d)\n",
    ">>> func(1, *(5, 6))"
   ]
  },
  {
   "cell_type": "code",
   "execution_count": 8,
   "id": "04bbb5bb",
   "metadata": {
    "ExecuteTime": {
     "end_time": "2022-10-27T14:19:55.937661Z",
     "start_time": "2022-10-27T14:19:55.916695Z"
    }
   },
   "outputs": [
    {
     "name": "stdout",
     "output_type": "stream",
     "text": [
      "1 5 6 5\n"
     ]
    }
   ],
   "source": [
    "def func(a, b, c=8, d=5): \n",
    "    print(a, b, c, d)\n",
    "\n",
    "func(1, *(5, 6))"
   ]
  },
  {
   "cell_type": "code",
   "execution_count": null,
   "id": "88afe1fb",
   "metadata": {},
   "outputs": [],
   "source": [
    "res: 1 5 6 5\n",
    "\n",
    "Exp: The value 1 assigned to a, 5 assigned to b, 6 assigned to c,\n",
    "    but since no value passed for d, the default 5 assigned to d."
   ]
  },
  {
   "cell_type": "code",
   "execution_count": null,
   "id": "52bf968a",
   "metadata": {},
   "outputs": [],
   "source": []
  },
  {
   "cell_type": "code",
   "execution_count": null,
   "id": "da38b170",
   "metadata": {},
   "outputs": [],
   "source": [
    "6. what is the result of this, and explain?\n",
    ">>> def func(a, b, c): a = 2; b[0] = 'x'; c['a'] = 'y'\n",
    ">>> l=1; m=[1]; n={'a':0}\n",
    ">>> func(l, m, n)\n",
    ">>> l, m, n"
   ]
  },
  {
   "cell_type": "code",
   "execution_count": 13,
   "id": "b7abd016",
   "metadata": {
    "ExecuteTime": {
     "end_time": "2022-10-27T14:26:50.058401Z",
     "start_time": "2022-10-27T14:26:50.038404Z"
    }
   },
   "outputs": [],
   "source": [
    "def func(a, b, c): \n",
    "    a = 2; b[0] = 'x'; c['a'] = 'y'\n",
    "l=1; m=[1]; n={'a':0}\n",
    "func(l, m, n)"
   ]
  }
 ],
 "metadata": {
  "hide_input": false,
  "kernelspec": {
   "display_name": "Python 3",
   "language": "python",
   "name": "python3"
  },
  "language_info": {
   "codemirror_mode": {
    "name": "ipython",
    "version": 3
   },
   "file_extension": ".py",
   "mimetype": "text/x-python",
   "name": "python",
   "nbconvert_exporter": "python",
   "pygments_lexer": "ipython3",
   "version": "3.8.8"
  },
  "toc": {
   "base_numbering": 1,
   "nav_menu": {},
   "number_sections": true,
   "sideBar": true,
   "skip_h1_title": false,
   "title_cell": "Table of Contents",
   "title_sidebar": "Contents",
   "toc_cell": false,
   "toc_position": {},
   "toc_section_display": true,
   "toc_window_display": false
  }
 },
 "nbformat": 4,
 "nbformat_minor": 5
}
