{
 "cells": [
  {
   "cell_type": "code",
   "execution_count": null,
   "id": "94127eb6",
   "metadata": {},
   "outputs": [],
   "source": [
    "1) What is the difference between enclosing a list comprehension in square brackets and parentheses?\n",
    "2) What is the relationship between generators and iterators?\n",
    "3) What are the signs that a function is a generator function?\n",
    "4) What is the purpose of a yield statement?\n",
    "5) What is the relationship between map calls and list comprehensions? Make a comparison and contrast between the two.\n"
   ]
  },
  {
   "cell_type": "code",
   "execution_count": null,
   "id": "187acc7b",
   "metadata": {},
   "outputs": [],
   "source": []
  },
  {
   "cell_type": "code",
   "execution_count": null,
   "id": "08951eab",
   "metadata": {},
   "outputs": [],
   "source": [
    "1) What is the difference between enclosing a list comprehension in square brackets and parentheses?"
   ]
  },
  {
   "cell_type": "code",
   "execution_count": null,
   "id": "e8a6c1a6",
   "metadata": {},
   "outputs": [],
   "source": [
    "#Ans:\n",
    "\n",
    "The list comprehension enclosed by square brackets [] returns the list while enclosed by parenthesis acts as s generator."
   ]
  },
  {
   "cell_type": "code",
   "execution_count": null,
   "id": "eda283fc",
   "metadata": {},
   "outputs": [],
   "source": []
  },
  {
   "cell_type": "code",
   "execution_count": null,
   "id": "b82409d4",
   "metadata": {},
   "outputs": [],
   "source": [
    "2) What is the relationship between generators and iterators?"
   ]
  },
  {
   "cell_type": "code",
   "execution_count": null,
   "id": "df12ed88",
   "metadata": {},
   "outputs": [],
   "source": [
    "#Ans:\n",
    "\n",
    "Generators : It is another way of creating iterators in a simple way where it uses the keyword “yield” \n",
    "    instead of returning it in a defined function. Generators are implemented using a function. \n",
    "    Just as iterators, generators also follow lazy evaluation. \n",
    "    Here, the yield function returns the data without affecting or exiting the function. \n",
    "    It will return a sequence of data in an iterable format where we need to iterate over the \n",
    "sequence to use the data as they won’t store the entire sequence in the memory.\n",
    "\n",
    "Iterators : An iterator is an object which contains a countable number of values and \n",
    "    it is used to iterate over iterable objects like list, tuples, sets, etc. \n",
    "    Iterators are implemented using a class and a local variable for iterating is not required here, \n",
    "    It follows lazy evaluation where the evaluation of the expression will be on hold and stored in the memory \n",
    "    until the item is called specifically which helps us to avoid repeated evaluation"
   ]
  },
  {
   "cell_type": "code",
   "execution_count": null,
   "id": "dc1ca4b5",
   "metadata": {},
   "outputs": [],
   "source": []
  },
  {
   "cell_type": "code",
   "execution_count": null,
   "id": "f5592b3d",
   "metadata": {},
   "outputs": [],
   "source": [
    "3) What are the signs that a function is a generator function?"
   ]
  },
  {
   "cell_type": "code",
   "execution_count": null,
   "id": "ae58c902",
   "metadata": {},
   "outputs": [],
   "source": [
    "#Ans:\n",
    "\n",
    "Generator function uses yield instead of return statement.\n"
   ]
  },
  {
   "cell_type": "code",
   "execution_count": null,
   "id": "4916dc70",
   "metadata": {},
   "outputs": [],
   "source": []
  },
  {
   "cell_type": "code",
   "execution_count": null,
   "id": "ef0f217f",
   "metadata": {},
   "outputs": [],
   "source": [
    "4) What is the purpose of a yield statement?"
   ]
  },
  {
   "cell_type": "code",
   "execution_count": null,
   "id": "db256792",
   "metadata": {},
   "outputs": [],
   "source": [
    "#Ans:\n",
    "\n",
    "yield statement are used in generator. unlike return statement Yield return from a function without destroying the states of its local variable and when the function is called, \n",
    "the execution starts from the last yield statement. \n",
    "yield is what makes a generator. \n"
   ]
  },
  {
   "cell_type": "code",
   "execution_count": null,
   "id": "b2af44a2",
   "metadata": {},
   "outputs": [],
   "source": []
  },
  {
   "cell_type": "code",
   "execution_count": null,
   "id": "367b333d",
   "metadata": {},
   "outputs": [],
   "source": [
    "5) What is the relationship between map calls and list comprehensions? Make a comparison and contrast between the two."
   ]
  },
  {
   "cell_type": "code",
   "execution_count": null,
   "id": "d6257e56",
   "metadata": {},
   "outputs": [],
   "source": [
    "#Ans:\n",
    "\n",
    "List comprehension is more concise and easier to read as compared to map.\n",
    "\n",
    "List comprehension allows filtering. In map, we have no such facility. For example, to print all even numbers in range of 100, we can write [n for n in range(100) if n%2 == 0]. There is no alternate for it in map.\n",
    "\n",
    "List comprehension are used when a list of results is required as map only returns a map object and does not return any list.\n",
    "\n",
    "List comprehension is faster than map when we need to evaluate expressions that are too long or complicated to express.\n",
    "\n",
    "Map is faster in case of calling an already defined function (as no lambda is required)."
   ]
  }
 ],
 "metadata": {
  "hide_input": false,
  "kernelspec": {
   "display_name": "Python 3",
   "language": "python",
   "name": "python3"
  },
  "language_info": {
   "codemirror_mode": {
    "name": "ipython",
    "version": 3
   },
   "file_extension": ".py",
   "mimetype": "text/x-python",
   "name": "python",
   "nbconvert_exporter": "python",
   "pygments_lexer": "ipython3",
   "version": "3.8.8"
  },
  "toc": {
   "base_numbering": 1,
   "nav_menu": {},
   "number_sections": true,
   "sideBar": true,
   "skip_h1_title": false,
   "title_cell": "Table of Contents",
   "title_sidebar": "Contents",
   "toc_cell": false,
   "toc_position": {},
   "toc_section_display": true,
   "toc_window_display": false
  }
 },
 "nbformat": 4,
 "nbformat_minor": 5
}
