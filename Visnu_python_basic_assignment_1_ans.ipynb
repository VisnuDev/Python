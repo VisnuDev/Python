{
 "cells": [
  {
   "cell_type": "markdown",
   "id": "ef0e8326",
   "metadata": {},
   "source": [
    "# Assignment_01_answers(Visnu)"
   ]
  },
  {
   "cell_type": "code",
   "execution_count": null,
   "id": "e3764ac3",
   "metadata": {},
   "outputs": [],
   "source": [
    "1. In the below elements which of them are values or an expression? eg:- values can be integer or string and expressions will be mathematical operators.\n",
    "* \n",
    "'hello'\n",
    "-87.8\n",
    "- \n",
    "/ \n",
    "+\n",
    "6 \n",
    "\n",
    "\n",
    "Answer for 1:\n",
    "    \n",
    "* ---> expression(multiplication operator)\n",
    "\n",
    "'hello' --->value(string)\n",
    "\n",
    "-87.8  --->value( negative float number)\n",
    "\n",
    "-     --->expression(subtraction operator)\n",
    "\n",
    "/    --->expression(Division operator)\n",
    "\n",
    "+   --->expression(addition operator)\n",
    "\n",
    "6  ---->value(positive integer)\n",
    "\n",
    " \n",
    "\n"
   ]
  },
  {
   "cell_type": "code",
   "execution_count": null,
   "id": "1450c99a",
   "metadata": {},
   "outputs": [],
   "source": [
    "\n",
    "2. What is the difference between string and variable?\n",
    "\n",
    "Answer for 2:\n",
    "    \n",
    "        String is group of characters enclosed within quotes.\n",
    "        String is a data type in python\n",
    "        Eg:\n",
    "        \"Machine learning\", \"1.2\", \"34\"\n",
    "        \n",
    "        \n",
    "        Variable is a container to store any values\n",
    "        Variable can store values of any data type like int, float, str, list, set., etc.\n",
    "        A variable can be of str type\n",
    "        \n",
    "        Eg:\n",
    "        \n",
    "        name=\"visnu\"\n",
    "        age=23\n",
    "        salary=15322.44\n",
    "        \n",
    "        In above name, age, salary are variables\n",
    "        \n",
    "        \n",
    "        \n",
    "    "
   ]
  },
  {
   "cell_type": "code",
   "execution_count": null,
   "id": "fc508023",
   "metadata": {},
   "outputs": [],
   "source": [
    "3. Describe three different data types.\n",
    "\n",
    "Ans:\n",
    "    The three basic data types of python are \n",
    "    1) int - contains positive or negative whole numbers. They do not have any fractional part\n",
    "        eg: 10, 20, 0, -1 -34., etc\n",
    "    2) float- Contains positive or negative numbers with whole part and fractional part\n",
    "        eg: 3.14, 54.23, -5433.22 .,etc\n",
    "            \n",
    "    3) str- Contains a single or group of characters enclosed within quotes\n",
    "        eg: \"Data science\", \"3.14\", '100'\n",
    "            \n",
    "    "
   ]
  },
  {
   "cell_type": "code",
   "execution_count": null,
   "id": "a9d0c77c",
   "metadata": {},
   "outputs": [],
   "source": [
    "4. What is an expression made up of? What do all expressions do?\n",
    "\n",
    "Ans:\n",
    "    \n",
    "    An expression is made of variables or constants or operators which represents a value. Expression performs operations on variables or constants or operators and yield values as output.\n",
    "    \n",
    "    Eg: \n",
    "        \n",
    "    a=10\n",
    "    b=a-8\n",
    "    c=a**2"
   ]
  },
  {
   "cell_type": "code",
   "execution_count": null,
   "id": "b76ae138",
   "metadata": {},
   "outputs": [],
   "source": [
    "5. This assignment statements, like spam = 10. What is the difference between an expression and a statement?\n",
    "\n",
    "Difference\n",
    "    1)An expression evaluates something and returns a value. But a statement executes something.\n",
    "    2)An expression must return a value.But statement may or may not return a value.\n",
    "    3)All Statements can be an expression, But all expressions cannot be a statement.\n",
    "    \n",
    "  \n",
    "    "
   ]
  },
  {
   "cell_type": "code",
   "execution_count": null,
   "id": "16dc0ed8",
   "metadata": {},
   "outputs": [],
   "source": [
    "6. After running the following code, what does the variable bacon contain?\n",
    "bacon = 22\n",
    "bacon + 1\n",
    "\n",
    "\n",
    "Ans:\n",
    "    Even after executing the bacon contains 22. since we are not reassigning the incrementation to bacon variable, the bacon value still remains as 22.\n"
   ]
  },
  {
   "cell_type": "code",
   "execution_count": null,
   "id": "055b6a7b",
   "metadata": {},
   "outputs": [],
   "source": [
    "7. What should the values of the following two terms be?\n",
    "'spam' + 'spamspam'\n",
    "'spam' * 3\n",
    "\n",
    "\n",
    "Ans:\n",
    "    \n",
    "    the values of the both terms are same: spamspamspam\n"
   ]
  },
  {
   "cell_type": "code",
   "execution_count": null,
   "id": "617fde71",
   "metadata": {},
   "outputs": [],
   "source": [
    "8. Why is eggs a valid variable name while 100 is invalid?\n",
    "\n",
    "Ans:\n",
    "    A variable name can start with a alphabetic character or even underscore but not with an integer. That is why 100 is invalid.\n",
    "    \n",
    "    Eg: \n",
    "    name --> valid\n",
    "    _age --> valid\n",
    "    100 --> invalid\n",
    "    "
   ]
  },
  {
   "cell_type": "code",
   "execution_count": null,
   "id": "a5c4b23c",
   "metadata": {},
   "outputs": [],
   "source": [
    "9. What three functions can be used to get the integer, floating-point number, or string version of a value?\n",
    "\n",
    "\n",
    "int()--> to get a integer value\n",
    "\n",
    "Eg: age=int(input(\"Enter your age: \"))\n",
    "\n",
    "float()--> to get a float value\n",
    "\n",
    "Eg: salary=float(input(\"Enter your salary: \"))\n",
    "\n",
    "str()-->to get string version of a value\n",
    "\n",
    "print(\"I am \" +str(age) + \" years old.\")"
   ]
  },
  {
   "cell_type": "code",
   "execution_count": null,
   "id": "08290cf3",
   "metadata": {},
   "outputs": [],
   "source": [
    "10. Why does this expression cause an error? How can you fix it?\n",
    "'I have eaten ' + 99 + ' burritos.'\n",
    "\n",
    "Ans: \n",
    "    the below expression causes error. because we cannot concatenate an integer with a string data type.\n",
    "    \n",
    "    Sol: to solve this error we need to enclose 99 with quotes or use str(99). like below\n",
    "        \n",
    "    'I have eaten ' + '99' + ' burritos.'    \n",
    "    \n",
    "    or\n",
    "    'I have eaten ' + str(99) + ' burritos.'   "
   ]
  },
  {
   "cell_type": "code",
   "execution_count": null,
   "id": "d90c4cbd",
   "metadata": {},
   "outputs": [],
   "source": []
  },
  {
   "cell_type": "code",
   "execution_count": null,
   "id": "b9cee9c7",
   "metadata": {},
   "outputs": [],
   "source": []
  },
  {
   "cell_type": "code",
   "execution_count": null,
   "id": "88e64b83",
   "metadata": {},
   "outputs": [],
   "source": []
  }
 ],
 "metadata": {
  "hide_input": false,
  "kernelspec": {
   "display_name": "Python 3",
   "language": "python",
   "name": "python3"
  },
  "language_info": {
   "codemirror_mode": {
    "name": "ipython",
    "version": 3
   },
   "file_extension": ".py",
   "mimetype": "text/x-python",
   "name": "python",
   "nbconvert_exporter": "python",
   "pygments_lexer": "ipython3",
   "version": "3.8.8"
  },
  "toc": {
   "base_numbering": 1,
   "nav_menu": {},
   "number_sections": true,
   "sideBar": true,
   "skip_h1_title": false,
   "title_cell": "Table of Contents",
   "title_sidebar": "Contents",
   "toc_cell": false,
   "toc_position": {},
   "toc_section_display": true,
   "toc_window_display": false
  }
 },
 "nbformat": 4,
 "nbformat_minor": 5
}
