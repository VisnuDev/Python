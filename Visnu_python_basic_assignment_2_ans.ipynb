{
 "cells": [
  {
   "cell_type": "markdown",
   "id": "e12474a9",
   "metadata": {},
   "source": [
    "# Visnu_python_basic_assignment_2_answers"
   ]
  },
  {
   "cell_type": "code",
   "execution_count": null,
   "id": "435c4e28",
   "metadata": {},
   "outputs": [],
   "source": [
    "1.What are the two values of the Boolean data type? How do you write them?\n",
    "2. What are the three different types of Boolean operators?\n",
    "3. Make a list of each Boolean operator's truth tables (i.e. every possible combination of Boolean values for the operator and what it evaluate ).\n",
    "4. What are the values of the following expressions?\n",
    "(5 > 4) and (3 == 5)\n",
    "not (5 > 4)\n",
    "(5 > 4) or (3 == 5)\n",
    "not ((5 > 4) or (3 == 5))\n",
    "(True and True) and (True == False)\n",
    "(not False) or (not True)\n",
    "5. What are the six comparison operators?\n",
    "6. How do you tell the difference between the equal to and assignment operators?Describe a condition and when you would use one.\n",
    "7. Identify the three blocks in this code:\n",
    "spam = 0\n",
    "if spam == 10:\n",
    "print('eggs')\n",
    "if spam > 5:\n",
    "print('bacon')\n",
    "else:\n",
    "print('ham')\n",
    "print('spam')\n",
    "print('spam')\n",
    "8. Write code that prints Hello if 1 is stored in spam, prints Howdy if 2 is stored in spam, and prints Greetings! if anything else is stored in spam.\n",
    "\n",
    "9.If your programme is stuck in an endless loop, what keys you’ll press?\n",
    "10. How can you tell the difference between break and continue?\n",
    "11. In a for loop, what is the difference between range(10), range(0, 10), and range(0, 10, 1)?\n",
    "12. Write a short program that prints the numbers 1 to 10 using a for loop. Then write an equivalent program that prints the numbers 1 to 10 using a while loop.\n",
    "13. If you had a function named bacon() inside a module named spam, how would you call it after importing spam?\n"
   ]
  },
  {
   "cell_type": "code",
   "execution_count": null,
   "id": "0f2a9357",
   "metadata": {},
   "outputs": [],
   "source": [
    "1.What are the two values of the Boolean data type? How do you write them?\n",
    "\n",
    "Ans:\n",
    "    \n",
    "    The two values of boolean data type are\n",
    "    1) True\n",
    "    2) False\n",
    "    \n",
    "    \n",
    "   -- while writing boolean data type the First letter must be in uppercase, otherwise it causes error.\n",
    "    \n",
    "    --true or false cause error.\n",
    "    \n",
    "    "
   ]
  },
  {
   "cell_type": "code",
   "execution_count": null,
   "id": "16a9db90",
   "metadata": {},
   "outputs": [],
   "source": [
    "2. What are the three different types of Boolean operators?\n",
    "\n",
    "ANS:\n",
    "    \n",
    "    The three types of boolean operators are\n",
    "    1) and -- returns True only if all the expressions are True.\n",
    "    2) or --- returns True if any one of the expressions is true\n",
    "    3) not -- returns the inverse of the expression\n",
    "\n"
   ]
  },
  {
   "cell_type": "code",
   "execution_count": null,
   "id": "f3b02dbd",
   "metadata": {},
   "outputs": [],
   "source": [
    "3. Make a list of each Boolean operator's truth tables \n",
    "(i.e. every possible combination of Boolean values for the operator and what it evaluate ).\n",
    "\n",
    "\n",
    "Ans:\n",
    "    \n",
    "1)AND operator\n",
    "\n",
    "True and True = True\n",
    "True and False = False\n",
    "False and True =False\n",
    "False and False =False\n",
    "\n",
    "\n",
    "2)OR operator\n",
    "\n",
    "True or True = True\n",
    "True or False = True\n",
    "False or True =True\n",
    "False or False =False\n",
    "\n",
    "\n",
    "3)Not operator\n",
    "\n",
    "not True= False\n",
    "not False= True"
   ]
  },
  {
   "cell_type": "code",
   "execution_count": null,
   "id": "2d82ae04",
   "metadata": {},
   "outputs": [],
   "source": [
    "4. What are the values of the following expressions?\n",
    "\n",
    "\n",
    "(5 > 4) and (3 == 5)------->False\n",
    "not (5 > 4)------->False\n",
    "(5 > 4) or (3 == 5)--------->True\n",
    "not ((5 > 4) or (3 == 5))--------->False\n",
    "(True and True) and (True == False)------->False\n",
    "(not False) or (not True)--------->True\n",
    "\n"
   ]
  },
  {
   "cell_type": "code",
   "execution_count": null,
   "id": "c11b6938",
   "metadata": {},
   "outputs": [],
   "source": [
    "5. What are the six comparison operators?\n",
    "\n",
    "<  --------> less than\n",
    "\n",
    ">  --------> greater than\n",
    "\n",
    "<= --------> less than or equal to\n",
    "\n",
    ">= --------> greater than or equal to\n",
    "\n",
    "== --------> equality\n",
    "\n",
    "!= --------> Not equal\n",
    "\n"
   ]
  },
  {
   "cell_type": "code",
   "execution_count": 5,
   "id": "e5011cd7",
   "metadata": {},
   "outputs": [
    {
     "data": {
      "text/plain": [
       "True"
      ]
     },
     "execution_count": 5,
     "metadata": {},
     "output_type": "execute_result"
    }
   ],
   "source": [
    "6. How do you tell the difference between the equal to and assignment operators?Describe a condition and when you would use one.\n",
    "\n",
    "Assignment operator use single '=' operator .\n",
    "This operator assign a value to a variable. \n",
    "Eg: x=10 -->the x is variable that contains value integer 10.\n",
    "    \n",
    "Equal to operator uses '==' operator.\n",
    "This operator helps to compare a value with a variable or a variable with another varaible.\n",
    "Eg:\n",
    "    x==10,\n",
    "    x==y\n",
    "It check the LHS and RHS value and return either True or False.\n",
    "\n",
    "    \n",
    "The key difference I would like to mention is equal to operator returns a boolean value. \n",
    "But the assignment does not return any value.\n",
    "\n",
    "\n",
    "\n",
    "\n"
   ]
  },
  {
   "cell_type": "code",
   "execution_count": null,
   "id": "0edf7082",
   "metadata": {},
   "outputs": [],
   "source": [
    "7. Identify the three blocks in this code:\n",
    "spam = 0\n",
    "if spam == 10:\n",
    "print('eggs')\n",
    "if spam > 5:\n",
    "print('bacon')\n",
    "else:\n",
    "print('ham')\n",
    "print('spam')\n",
    "print('spam')\n",
    "\n",
    "\n",
    "ANS:\n",
    "    \n",
    "1) if block\n",
    "\n",
    "if spam == 10:\n",
    "print('eggs')\n",
    "\n",
    "\n",
    "2) if block\n",
    "\n",
    "if spam > 5:\n",
    "print('bacon')\n",
    "\n",
    "\n",
    "3) else block\n",
    "\n",
    "else:\n",
    "print('ham')\n",
    "print('spam')\n",
    "print('spam')\n",
    "\n",
    "\n",
    "\n"
   ]
  },
  {
   "cell_type": "markdown",
   "id": "b37bb759",
   "metadata": {},
   "source": [
    "8. Write code that prints Hello if 1 is stored in spam, prints Howdy if 2 is stored in spam, and prints Greetings! if anything else is stored in spam.\n"
   ]
  },
  {
   "cell_type": "code",
   "execution_count": 2,
   "id": "c045b5cc",
   "metadata": {
    "ExecuteTime": {
     "end_time": "2022-10-06T16:26:27.136271Z",
     "start_time": "2022-10-06T16:26:27.112332Z"
    }
   },
   "outputs": [
    {
     "name": "stdout",
     "output_type": "stream",
     "text": [
      "Howdy\n"
     ]
    }
   ],
   "source": [
    "#8. Ans\n",
    "\n",
    "spam=2\n",
    "\n",
    "if spam==1:\n",
    "    print('Hello')\n",
    "elif spam==2:\n",
    "    print('Howdy')\n",
    "else:\n",
    "    print('Greetings!')"
   ]
  },
  {
   "cell_type": "markdown",
   "id": "74c1cb44",
   "metadata": {},
   "source": [
    "9.If your programme is stuck in an endless loop, what keys you’ll press?\n",
    "\n",
    "Answer: ctrl + c"
   ]
  },
  {
   "cell_type": "code",
   "execution_count": null,
   "id": "a18cde06",
   "metadata": {},
   "outputs": [],
   "source": [
    "10. How can you tell the difference between break and continue?\n",
    "\n",
    "Ans:\n",
    "    \n",
    "    The break statement exits loop. so the remaining iterations of the loop will not be executed. \n",
    "    But the continue statement eliminates only the current iteration. All the remaining iterations will be executed.\n",
    "    \n",
    "\n",
    "    \n",
    "\n",
    "\n"
   ]
  },
  {
   "cell_type": "code",
   "execution_count": 4,
   "id": "309f565a",
   "metadata": {
    "ExecuteTime": {
     "end_time": "2022-10-06T16:28:04.287949Z",
     "start_time": "2022-10-06T16:28:04.268009Z"
    }
   },
   "outputs": [
    {
     "name": "stdout",
     "output_type": "stream",
     "text": [
      "break\n",
      "0\n",
      "1\n",
      "2\n",
      "3\n",
      "4\n",
      "5\n",
      "6\n",
      "Continue\n",
      "0\n",
      "1\n",
      "2\n",
      "3\n",
      "4\n",
      "5\n",
      "6\n",
      "8\n",
      "9\n"
     ]
    }
   ],
   "source": [
    "#break\n",
    "print(\"break\")\n",
    "for i in range(0,10,1):\n",
    "    if i==7:\n",
    "        break\n",
    "    print(i)\n",
    " \n",
    "\n",
    "\n",
    "\n",
    "\n",
    "#continue\n",
    "    \n",
    "print(\"Continue\")\n",
    "for i in range(0,10,1):\n",
    "    if i==7:\n",
    "        continue\n",
    "    print(i)\n",
    "\n",
    "            \n",
    "\n"
   ]
  },
  {
   "cell_type": "code",
   "execution_count": null,
   "id": "5f68bd1a",
   "metadata": {},
   "outputs": [],
   "source": [
    "11. In a for loop, what is the difference between range(10), range(0, 10), and range(0, 10, 1)?\n",
    "\n",
    "Ans:\n",
    "    \n",
    "    In practical execution there is no difference between range(10), range(0, 10), and range(0, 10, 1)."
   ]
  },
  {
   "cell_type": "code",
   "execution_count": null,
   "id": "413069ab",
   "metadata": {},
   "outputs": [],
   "source": [
    "12. Write a short program that prints the numbers 1 to 10 using a for loop. \n",
    "Then write an equivalent program that prints the numbers 1 to 10 using a while loop.\n",
    "\n",
    "\n",
    "Ans: \n",
    "\n",
    "1) for loop\n",
    "for i in range(1, 11, 1):\n",
    "    print(i)\n",
    "    \n",
    "    \n",
    "    \n",
    "2) while loop\n",
    "x=1    \n",
    "while True:\n",
    "    if x==11:\n",
    "        break\n",
    "    else:\n",
    "        print(x)\n",
    "        x+=1\n",
    "    \n",
    "    "
   ]
  },
  {
   "cell_type": "code",
   "execution_count": null,
   "id": "324808ca",
   "metadata": {},
   "outputs": [],
   "source": [
    "13. If you had a function named bacon() inside a module named spam, how would you call it after importing spam?\n",
    "\n",
    "Ans:\n",
    "\n",
    "import spam\n",
    "    \n",
    "spam.bacon() #calling bacon() function from spam module"
   ]
  },
  {
   "cell_type": "code",
   "execution_count": null,
   "id": "71b1ce71",
   "metadata": {},
   "outputs": [],
   "source": []
  }
 ],
 "metadata": {
  "hide_input": false,
  "kernelspec": {
   "display_name": "Python 3",
   "language": "python",
   "name": "python3"
  },
  "language_info": {
   "codemirror_mode": {
    "name": "ipython",
    "version": 3
   },
   "file_extension": ".py",
   "mimetype": "text/x-python",
   "name": "python",
   "nbconvert_exporter": "python",
   "pygments_lexer": "ipython3",
   "version": "3.8.8"
  },
  "toc": {
   "base_numbering": 1,
   "nav_menu": {},
   "number_sections": true,
   "sideBar": true,
   "skip_h1_title": false,
   "title_cell": "Table of Contents",
   "title_sidebar": "Contents",
   "toc_cell": false,
   "toc_position": {},
   "toc_section_display": true,
   "toc_window_display": false
  }
 },
 "nbformat": 4,
 "nbformat_minor": 5
}
