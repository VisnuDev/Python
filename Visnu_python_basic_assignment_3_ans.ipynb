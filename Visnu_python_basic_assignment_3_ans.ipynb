{
 "cells": [
  {
   "cell_type": "markdown",
   "id": "99df97fd",
   "metadata": {},
   "source": [
    "# Visnu_python_basic_assignment_3_ans"
   ]
  },
  {
   "cell_type": "code",
   "execution_count": null,
   "id": "437bdbd8",
   "metadata": {},
   "outputs": [],
   "source": [
    "1. Why are functions advantageous to have in your programs?\n",
    "2. When does the code in a function run: when it's specified or when it's called?\n",
    "3. What statement creates a function?\n",
    "4. What is the difference between a function and a function call?\n",
    "5. How many global scopes are there in a Python program? How many local scopes?\n",
    "6. What happens to variables in a local scope when the function call returns?\n",
    "7. What is the concept of a return value? Is it possible to have a return value in an expression?\n",
    "8. If a function does not have a return statement, what is the return value of a call to that function?\n",
    "9. How do you make a function variable refer to the global variable?\n",
    "10. What is the data type of None?\n",
    "11. What does the sentence import areallyourpetsnamederic do?\n",
    "12. If you had a bacon() feature in a spam module, what would you call it after importing spam?\n",
    "13. What can you do to save a programme from crashing if it encounters an error?\n",
    "14. What is the purpose of the try clause? What is the purpose of the except clause?\n"
   ]
  },
  {
   "cell_type": "code",
   "execution_count": null,
   "id": "5278a58e",
   "metadata": {},
   "outputs": [],
   "source": [
    "1. Why are functions advantageous to have in your programs?\n",
    "\n",
    "Ans:\n",
    "    \n",
    "        The advantages of functions are:\n",
    "        1)\tHelps to implement divide and conqueror strategy.\n",
    "        2)\tCode reusability\n",
    "        3)\tHide the implementation\n",
    "        4)\tMake the code simple, easy to update.\n",
    "        5)  Helps in modular programming\n"
   ]
  },
  {
   "cell_type": "code",
   "execution_count": null,
   "id": "43748870",
   "metadata": {},
   "outputs": [],
   "source": [
    "2. When does the code in a function run: when it's specified or when it's called?\n",
    "    \n",
    "ans:\n",
    "    \n",
    "    A function runs when it is called.\n",
    "    \n"
   ]
  },
  {
   "cell_type": "code",
   "execution_count": null,
   "id": "965aa349",
   "metadata": {},
   "outputs": [],
   "source": [
    "3. What statement creates a function?\n",
    "\n",
    "Ans:\n",
    "    \n",
    "    'def' statement helps to create a function.\n",
    "    \n",
    "    eg:\n",
    "        def odd_or_even(num):\n",
    "            if num%2==0:\n",
    "                return 'even'\n",
    "            else:\n",
    "                return 'odd'\n"
   ]
  },
  {
   "cell_type": "code",
   "execution_count": null,
   "id": "ae029d32",
   "metadata": {},
   "outputs": [],
   "source": [
    "4. What is the difference between a function and a function call?\n",
    "\n",
    "Ans:\n",
    "    \n",
    "    Function\n",
    "        A function is a group of code that executes the code and return something. \n",
    "        A function will be executed only when its called.\n",
    "    \n",
    "        Eg:\n",
    "            def odd_or_even(num):\n",
    "                if num%2==0:\n",
    "                    return 'even'\n",
    "                else:\n",
    "                    return 'odd'\n",
    "            \n",
    "    \n",
    "    Function call:\n",
    "        A function call is the process of asking the interpreter to execute the function's code.\n",
    "        \n",
    "        Eg:\n",
    "            odd_or_even(56)\n",
    "        \n",
    "    \n",
    "        "
   ]
  },
  {
   "cell_type": "code",
   "execution_count": null,
   "id": "b1f89f0e",
   "metadata": {},
   "outputs": [],
   "source": [
    "5. How many global scopes are there in a Python program? How many local scopes?\n",
    "\n",
    "Ans:\n",
    "    \n",
    "    There is one global scope and one local scope in python. the local scope is created when the function is called."
   ]
  },
  {
   "cell_type": "code",
   "execution_count": null,
   "id": "e2bc9d4a",
   "metadata": {},
   "outputs": [],
   "source": [
    "6. What happens to variables in a local scope when the function call returns?\n",
    "\n",
    "Ans:\n",
    "    \n",
    "    Whenever the function call returns the variables in a local scope are destroyed and cannot be used.\n",
    "    \n",
    "    Eg:\n",
    "        \n",
    "def scope(x):\n",
    "    y=10 #defining a local  varible\n",
    "    print(\"Inside the function: \") #printing variables inside the function\n",
    "    print(f\"x= {x}\")\n",
    "    print(f\"y= {y}\")\n",
    "        \n",
    "        \n",
    "x= 20 #declaring a global variable\n",
    "scope(x) #calling a simple function\n",
    "\n",
    "print(\"Outside the function: \")\n",
    "print(f\"x={x}\")\n",
    "print(f\"y={y}\")\n",
    "\n",
    "\n",
    "\n",
    "Output:\n",
    "    \n",
    "Inside the function: \n",
    "x= 20\n",
    "y= 10\n",
    "Outside the function: \n",
    "x=20\n",
    "---------------------------------------------------------------------------\n",
    "NameError                                 Traceback (most recent call last)\n",
    "<ipython-input-1-f3cbf62d47cc> in <module>\n",
    "     11 print(\"Outside the function: \")\n",
    "     12 print(f\"x={x}\")\n",
    "---> 13 print(f\"y={y}\")\n",
    "\n",
    "NameError: name 'y' is not defined\n",
    "    \n",
    "    \n",
    "\n",
    "Conclusion:\n",
    "    See! we cannot access the local variable 'y' outside the function \n",
    "    since it has been destroyed when the function call returns"
   ]
  },
  {
   "cell_type": "code",
   "execution_count": null,
   "id": "4907c239",
   "metadata": {},
   "outputs": [],
   "source": [
    "7. What is the concept of a return value? Is it possible to have a return value in an expression?\n",
    "\n",
    "Ans:\n",
    "\n",
    "    A return value is a vlaue that a function gives after its evaluation.\n",
    "    yes, it is possible to have a return value in an expression."
   ]
  },
  {
   "cell_type": "code",
   "execution_count": null,
   "id": "b4030f39",
   "metadata": {},
   "outputs": [],
   "source": [
    "8. If a function does not have a return statement, what is the return value of a call to that function?\n",
    "\n",
    "\n",
    "Ans:\n",
    "    If a function doesn't have a return statement then it always return the default value \"None\".\n",
    "    \n",
    "\n",
    "Eg:\n",
    "\n",
    "def add(a, b): #defining function with no return statement\n",
    "    c= a+b\n",
    "        \n",
    "    \n",
    "res= add(10, 20)\n",
    "\n",
    "print(res)\n",
    "\n",
    "Output: None\n",
    "    \n",
    "\n",
    "Conclusion:\n",
    "    The above Eg shows us that the function returns None when there is no return statement."
   ]
  },
  {
   "cell_type": "code",
   "execution_count": null,
   "id": "c415d79d",
   "metadata": {},
   "outputs": [],
   "source": [
    "9. How do you make a function variable refer to the global variable?\n",
    "\n",
    "Ans:\n",
    "    To make a function variable to refer to a global variable we can simply use global keyword.\n",
    "    \n",
    "Eg:\n",
    "\n",
    "a= 10\n",
    "def add(a):\n",
    "    global a\n",
    "    a = a+10\n",
    "    print(a)\n",
    "    \n",
    "add()\n",
    "\n",
    "output:\n",
    "    \n",
    "20"
   ]
  },
  {
   "cell_type": "code",
   "execution_count": null,
   "id": "2cb7b324",
   "metadata": {},
   "outputs": [],
   "source": [
    "10. What is the data type of None?\n",
    "\n",
    "Ans:\n",
    "    The None is the object of nonetype class. It refers to null object. None keyword is immutable."
   ]
  },
  {
   "cell_type": "code",
   "execution_count": null,
   "id": "1c14235b",
   "metadata": {},
   "outputs": [],
   "source": []
  },
  {
   "cell_type": "code",
   "execution_count": null,
   "id": "b1ea62e9",
   "metadata": {},
   "outputs": [],
   "source": [
    "11. What does the sentence import areallyourpetsnamederic do?\n",
    "\n",
    "Ans:\n",
    "    \n",
    "    The import statement helps to import module. \n",
    "    \"import areallyourpetsnamederic\" helps to import a module named 'areallyourpetsnamederic'\n",
    "    "
   ]
  },
  {
   "cell_type": "code",
   "execution_count": null,
   "id": "473a136d",
   "metadata": {},
   "outputs": [],
   "source": [
    "12. If you had a bacon() feature in a spam module, what would you call it after importing spam?\n",
    "\n",
    "\n",
    "Ans:\n",
    "    \n",
    "    The function can be called as\n",
    "    \n",
    "    import spam\n",
    "    --\n",
    "    --\n",
    "    spam.bacon() #calling function\n"
   ]
  },
  {
   "cell_type": "code",
   "execution_count": null,
   "id": "ffcf407d",
   "metadata": {},
   "outputs": [],
   "source": [
    "13. What can you do to save a programme from crashing if it encounters an error?\n",
    "\n",
    "Ans: \n",
    "    To avoid a program from crashing we can put the code inside a try block."
   ]
  },
  {
   "cell_type": "code",
   "execution_count": null,
   "id": "1d5b0827",
   "metadata": {},
   "outputs": [],
   "source": [
    "14. What is the purpose of the try clause? What is the purpose of the except clause?\n",
    "\n",
    "\n",
    "Ans:\n",
    "    \n",
    "     Try clause is used to check for error in code inside is block. In case if the error occurs then except block next\n",
    "to the try clause will be executed.\n"
   ]
  }
 ],
 "metadata": {
  "hide_input": false,
  "kernelspec": {
   "display_name": "Python 3",
   "language": "python",
   "name": "python3"
  },
  "language_info": {
   "codemirror_mode": {
    "name": "ipython",
    "version": 3
   },
   "file_extension": ".py",
   "mimetype": "text/x-python",
   "name": "python",
   "nbconvert_exporter": "python",
   "pygments_lexer": "ipython3",
   "version": "3.8.8"
  },
  "toc": {
   "base_numbering": 1,
   "nav_menu": {},
   "number_sections": true,
   "sideBar": true,
   "skip_h1_title": false,
   "title_cell": "Table of Contents",
   "title_sidebar": "Contents",
   "toc_cell": false,
   "toc_position": {},
   "toc_section_display": true,
   "toc_window_display": false
  }
 },
 "nbformat": 4,
 "nbformat_minor": 5
}
