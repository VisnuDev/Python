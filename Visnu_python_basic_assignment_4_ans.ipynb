{
 "cells": [
  {
   "cell_type": "markdown",
   "id": "333ea76e",
   "metadata": {},
   "source": [
    "# Visnu_python_basic_assignment_4_ans"
   ]
  },
  {
   "cell_type": "code",
   "execution_count": null,
   "id": "41a91402",
   "metadata": {},
   "outputs": [],
   "source": [
    "1. What exactly is []?\n",
    "2. In a list of values stored in a variable called spam, how would you assign the value 'hello' as the third value? (Assume [2, 4, 6, 8, 10] are in spam.)\n",
    "Let's pretend the spam includes the list ['a', 'b', 'c', 'd'] for the next three queries.\n",
    "3. What is the value of spam[int(int('3' * 2) / 11)]?\n",
    "4. What is the value of spam[-1]?\n",
    "5. What is the value of spam[:2]?\n",
    "Let's pretend bacon has the list [3.14, 'cat,' 11, 'cat,' True] for the next three questions.\n",
    "6. What is the value of bacon.index('cat')?\n",
    "7. How does bacon.append(99) change the look of the list value in bacon?\n",
    "8. How does bacon.remove('cat') change the look of the list in bacon?\n",
    "9. What are the list concatenation and list replication operators?\n",
    "10. What is difference between the list methods append() and insert()?\n",
    "11. What are the two methods for removing items from a list?\n",
    "12. Describe how list values and string values are identical.\n",
    "13. What's the difference between tuples and lists?\n",
    "14. How do you type a tuple value that only contains the integer 42?\n",
    "15. How do you get a list value's tuple form? How do you get a tuple value's list form?\n",
    "16. Variables that \"contain\" list values are not necessarily lists themselves. Instead, what do they contain?\n",
    "17. How do you distinguish between copy.copy() and copy.deepcopy()?\n"
   ]
  },
  {
   "cell_type": "code",
   "execution_count": null,
   "id": "dc48c1c2",
   "metadata": {},
   "outputs": [],
   "source": [
    "1. What exactly is []?\n",
    "\n",
    "Ans:\n",
    "    \n",
    "    [] - helps to represent an empty list which contains no elements in it.\n",
    "    "
   ]
  },
  {
   "cell_type": "code",
   "execution_count": null,
   "id": "fd0b7552",
   "metadata": {},
   "outputs": [],
   "source": [
    "2. In a list of values stored in a variable called spam, how would you assign the value 'hello' as the third value? \n",
    "(Assume [2, 4, 6, 8, 10] are in spam.)\n",
    "\n",
    "\n",
    "Ans:\n",
    "    \n",
    "    we can assign the third value as hello using,\n",
    "    \n",
    "    spam[2]='hello'"
   ]
  },
  {
   "cell_type": "code",
   "execution_count": null,
   "id": "ecafbaa7",
   "metadata": {},
   "outputs": [],
   "source": [
    "Let's pretend the spam includes the list ['a', 'b', 'c', 'd'] for the next three queries.\n",
    "\n",
    "3. What is the value of spam[int(int('3' * 2) / 11)]?\n",
    "\n",
    "Ans:\n",
    "    \n",
    "    the result is spam[3] which is 'd'\n",
    "    \n"
   ]
  },
  {
   "cell_type": "code",
   "execution_count": null,
   "id": "ed6e3be7",
   "metadata": {},
   "outputs": [],
   "source": [
    "4. What is the value of spam[-1]?\n",
    "\n",
    "Ans:\n",
    "    spam[-1]= 'd' -->last element in list (negative indexing)\n"
   ]
  },
  {
   "cell_type": "code",
   "execution_count": null,
   "id": "a9187edc",
   "metadata": {},
   "outputs": [],
   "source": [
    "5. What is the value of spam[:2]?\n",
    "\n",
    "Ans:\n",
    "    spam[:2] is \n",
    "    ['a', 'b']  (0th and 1st index elements)"
   ]
  },
  {
   "cell_type": "code",
   "execution_count": null,
   "id": "be4b312f",
   "metadata": {},
   "outputs": [],
   "source": [
    "Let's pretend bacon has the list [3.14, 'cat,' 11, 'cat,' True] for the next three questions.\n",
    "\n",
    "\n",
    "6. What is the value of bacon.index('cat')?\n",
    "Ans:\n",
    "    It returns the index of 1st occurance of the element in the list.\n",
    "    Ans: 1"
   ]
  },
  {
   "cell_type": "code",
   "execution_count": null,
   "id": "8e50037c",
   "metadata": {},
   "outputs": [],
   "source": [
    "7. How does bacon.append(99) change the look of the list value in bacon?\n",
    "\n",
    "Ans:\n",
    "    99 will be added as last element to list\n",
    "    \n",
    "     [3.14, 'cat,' 11, 'cat,' True, 99]\n",
    "        \n"
   ]
  },
  {
   "cell_type": "code",
   "execution_count": null,
   "id": "15d7bedd",
   "metadata": {},
   "outputs": [],
   "source": [
    "8. How does bacon.remove('cat') change the look of the list in bacon?\n",
    "\n",
    "Ans:\n",
    "    It just removes the first occurance of 'cat' from the list. After removing\n",
    "\n",
    "    [3.14, 11, 'cat', True, 99]"
   ]
  },
  {
   "cell_type": "code",
   "execution_count": null,
   "id": "5178adeb",
   "metadata": {},
   "outputs": [],
   "source": [
    "9. What are the list concatenation and list replication operators?\n",
    "\n",
    "Ans: \n",
    "    \n",
    "    '+' is for list concatenation\n",
    "    '*' is for list replication\n",
    "    "
   ]
  },
  {
   "cell_type": "code",
   "execution_count": null,
   "id": "1074f3f3",
   "metadata": {},
   "outputs": [],
   "source": [
    "10. What is difference between the list methods append() and insert()?\n",
    "\n",
    "Ans:\n",
    "    \n",
    "    append() - add element only at the end of the list\n",
    "    \n",
    "    insert() - add element at specified index in the list."
   ]
  },
  {
   "cell_type": "code",
   "execution_count": null,
   "id": "4380aba4",
   "metadata": {},
   "outputs": [],
   "source": [
    "11. What are the two methods for removing items from a list?\n",
    "\n",
    "Ans:\n",
    "    two ways:\n",
    "        1) we can use del statement\n",
    "        2) we can use remove() method\n"
   ]
  },
  {
   "cell_type": "code",
   "execution_count": null,
   "id": "0290756d",
   "metadata": {},
   "outputs": [],
   "source": [
    "12. Describe how list values and string values are identical.\n",
    "\n",
    "Ans: The list and string values have identical properties like\n",
    "    \n",
    "    1) Both handle indexing and slicing\n",
    "    2) replication and concatenation\n",
    "    3) Both are iterables\n",
    "    "
   ]
  },
  {
   "cell_type": "code",
   "execution_count": null,
   "id": "25184595",
   "metadata": {},
   "outputs": [],
   "source": [
    "13. What's the difference between tuples and lists?\n",
    "\n",
    "Ans:\n",
    "    \n",
    "    1) The list are described inside [] brackets and tuple are described inside () brackets.\n",
    "    2) The lists are mutable. but the tuples are immutable."
   ]
  },
  {
   "cell_type": "code",
   "execution_count": null,
   "id": "1b29991b",
   "metadata": {},
   "outputs": [],
   "source": [
    "14. How do you type a tuple value that only contains the integer 42?\n",
    "\n",
    "Ans:\n",
    "    tup =(42, )"
   ]
  },
  {
   "cell_type": "code",
   "execution_count": null,
   "id": "9464c6d9",
   "metadata": {},
   "outputs": [],
   "source": [
    "15. How do you get a list value's tuple form? How do you get a tuple value's list form?\n",
    "\n",
    "Ans:\n",
    "    we can use list() and tuple() methods\n",
    "    \n",
    "Eg:\n",
    "    \n",
    "lt= [1,2,3] --> list\n",
    "tu= (4,5,6) --> tuple\n",
    "\n",
    "print(tuple(lt))\n",
    "--> (1,2,3)\n",
    "print(list(tu))\n",
    "-->[4,5,6]"
   ]
  },
  {
   "cell_type": "code",
   "execution_count": null,
   "id": "19420015",
   "metadata": {},
   "outputs": [],
   "source": [
    "16. Variables that \"contain\" list values are not necessarily lists themselves. Instead, what do they contain?\n",
    "\n",
    "Ans: May be the list conatins elements of some other data types. \n",
    "    \n",
    "Eg:\n",
    "    lst = [ (1,2,3), (\"python\", 33, 7.8) ]\n",
    "    \n",
    "    (1,2,3) -> tuple\n",
    "    (\"python\", 33, 7.8) --> tuple"
   ]
  },
  {
   "cell_type": "code",
   "execution_count": null,
   "id": "23640116",
   "metadata": {},
   "outputs": [],
   "source": [
    "17. How do you distinguish between copy.copy() and copy.deepcopy()?\n",
    "\n",
    "Ans:\n",
    "    copy.copy() --> performs shallow copy \n",
    "Any changes made in the copied object DOES NOT reflect to original object.\n",
    "\n",
    "\n",
    "    copy.deepcopy() --> perfrms deep copy \n",
    "Any changes made in the copied object DOES reflect to original object.\n"
   ]
  }
 ],
 "metadata": {
  "hide_input": false,
  "kernelspec": {
   "display_name": "Python 3",
   "language": "python",
   "name": "python3"
  },
  "language_info": {
   "codemirror_mode": {
    "name": "ipython",
    "version": 3
   },
   "file_extension": ".py",
   "mimetype": "text/x-python",
   "name": "python",
   "nbconvert_exporter": "python",
   "pygments_lexer": "ipython3",
   "version": "3.8.8"
  },
  "toc": {
   "base_numbering": 1,
   "nav_menu": {},
   "number_sections": true,
   "sideBar": true,
   "skip_h1_title": false,
   "title_cell": "Table of Contents",
   "title_sidebar": "Contents",
   "toc_cell": false,
   "toc_position": {},
   "toc_section_display": true,
   "toc_window_display": false
  }
 },
 "nbformat": 4,
 "nbformat_minor": 5
}
