{
 "cells": [
  {
   "cell_type": "markdown",
   "id": "2da0ed0b",
   "metadata": {},
   "source": [
    "# Visnu_python_basic_assignment_6_ans"
   ]
  },
  {
   "cell_type": "code",
   "execution_count": null,
   "id": "485f7160",
   "metadata": {},
   "outputs": [],
   "source": [
    "1. What are escape characters, and how do you use them?\n",
    "2. What do the escape characters n and t stand for?\n",
    "3. What is the way to include backslash characters in a string?\n",
    "4. The string \"Howl's Moving Castle\" is a correct value. Why isn't the single quote character in the word Howl's not escaped a problem?\n",
    "5. How do you write a string of newlines if you don't want to use the n character?\n",
    "6. What are the values of the given expressions?\n",
    "'Hello, world!'[1]\n",
    "'Hello, world!'[0:5]\n",
    "'Hello, world!'[:5]\n",
    "'Hello, world!'[3:]\n",
    "\n",
    "7. What are the values of the following expressions?\n",
    "'Hello'.upper()\n",
    "'Hello'.upper().isupper()\n",
    "'Hello'.upper().lower()\n",
    "8. What are the values of the following expressions?\n",
    "'Remember, remember, the fifth of July.'.split()\n",
    "'-'.join('There can only one.'.split())\n",
    "9. What are the methods for right-justifying, left-justifying, and centering a string?\n",
    "10. What is the best way to remove whitespace characters from the start or end?\n"
   ]
  },
  {
   "cell_type": "code",
   "execution_count": null,
   "id": "e84bbd3e",
   "metadata": {},
   "outputs": [],
   "source": [
    "1. What are escape characters, and how do you use them?\n",
    "\n",
    "Ans:\n",
    "    Escape characters are special characters helps to prevent the compiler \n",
    "from accepting part of a string as a command or input. \n",
    "we need to prefix the character with backslash \"\\\" to create an escape character\n",
    "\n",
    "Eg: \\n, \\t and \\r"
   ]
  },
  {
   "cell_type": "code",
   "execution_count": null,
   "id": "4db53dba",
   "metadata": {},
   "outputs": [],
   "source": [
    "2. What do the escape characters n and t stand for?\n",
    "\n",
    "Ans:\n",
    "    \\n - new line\n",
    "    \\t - horizantal tab\n",
    "    "
   ]
  },
  {
   "cell_type": "code",
   "execution_count": null,
   "id": "b03948b2",
   "metadata": {},
   "outputs": [],
   "source": [
    "3. What is the way to include backslash characters in a string?\n",
    "\n",
    "Ans:\n",
    "    By using double backslash (\\\\) we can include a \\ in a string\n",
    "    \n",
    "    Eg: \n",
    "        print(\"AI\\\\ML\") -->output: AI\\ML"
   ]
  },
  {
   "cell_type": "code",
   "execution_count": null,
   "id": "c176eac4",
   "metadata": {},
   "outputs": [],
   "source": [
    "4. The string \"Howl's Moving Castle\" is a correct value. \n",
    "Why is not single quote character in the word Howl is not escaped a problem?\n",
    "\n",
    "Ans:\n",
    "    The single quote is not escaped since the whole string is enclosed within the double quotes.\n",
    "    \n"
   ]
  },
  {
   "cell_type": "code",
   "execution_count": null,
   "id": "9e71a10a",
   "metadata": {},
   "outputs": [],
   "source": [
    "5. How do you write a string of newlines if you don't want to use the n character?\n",
    "\n",
    "Ans: \n",
    "    we can use linesep from os package to resolve it."
   ]
  },
  {
   "cell_type": "code",
   "execution_count": null,
   "id": "e7aa5ce3",
   "metadata": {},
   "outputs": [],
   "source": [
    "6. What are the values of the given expressions?\n",
    "'Hello, world!'[1]\n",
    "'Hello, world!'[0:5]\n",
    "'Hello, world!'[:5]\n",
    "'Hello, world!'[3:]\n",
    "\n",
    "Ans: \n",
    "    'Hello, world!'[1]----->'e'\n",
    "    'Hello, world!'[0:5]------> 'Hello'\n",
    "    'Hello, world!'[:5]-------> 'Hello'\n",
    "    'Hello, world!'[3:]-----> 'lo, world!'\n",
    "    \n"
   ]
  },
  {
   "cell_type": "code",
   "execution_count": null,
   "id": "f6611681",
   "metadata": {},
   "outputs": [],
   "source": [
    "7. What are the values of the following expressions?\n",
    "\n",
    "Ans: \n",
    "    \n",
    "'Hello'.upper() ----> 'HELLO'\n",
    "'Hello'.upper().isupper()---->True\n",
    "'Hello'.upper().lower()------>'hello'\n",
    "\n",
    "\n"
   ]
  },
  {
   "cell_type": "code",
   "execution_count": null,
   "id": "0070cea9",
   "metadata": {},
   "outputs": [],
   "source": [
    "8. What are the values of the following expressions?\n",
    "\n",
    "Ans:\n",
    "    \n",
    "'Remember, remember, the fifth of July.'.split()---------> ['Remember,', 'remember,', 'the', 'fifth', 'of', 'July.']\n",
    "\n",
    "\n",
    "'-'.join('There can only one.'.split()) -----------> 'There-can-only-one.'\n",
    "\n"
   ]
  },
  {
   "cell_type": "code",
   "execution_count": null,
   "id": "5cf91164",
   "metadata": {},
   "outputs": [],
   "source": [
    "9. What are the methods for right-justifying, left-justifying, and centering a string?\n",
    "\n",
    "Ans:\n",
    "    The methods are\n",
    "        ljust()\n",
    "        rjust()\n",
    "        center()\n"
   ]
  },
  {
   "cell_type": "code",
   "execution_count": null,
   "id": "a6c5624d",
   "metadata": {},
   "outputs": [],
   "source": [
    "\n",
    "10. What is the best way to remove whitespace characters from the start or end?\n",
    "\n",
    "Ans:\n",
    "    strip() method is used to remove both leading and trailing spaces."
   ]
  }
 ],
 "metadata": {
  "hide_input": false,
  "kernelspec": {
   "display_name": "Python 3",
   "language": "python",
   "name": "python3"
  },
  "language_info": {
   "codemirror_mode": {
    "name": "ipython",
    "version": 3
   },
   "file_extension": ".py",
   "mimetype": "text/x-python",
   "name": "python",
   "nbconvert_exporter": "python",
   "pygments_lexer": "ipython3",
   "version": "3.8.8"
  },
  "toc": {
   "base_numbering": 1,
   "nav_menu": {},
   "number_sections": true,
   "sideBar": true,
   "skip_h1_title": false,
   "title_cell": "Table of Contents",
   "title_sidebar": "Contents",
   "toc_cell": false,
   "toc_position": {},
   "toc_section_display": true,
   "toc_window_display": false
  }
 },
 "nbformat": 4,
 "nbformat_minor": 5
}
