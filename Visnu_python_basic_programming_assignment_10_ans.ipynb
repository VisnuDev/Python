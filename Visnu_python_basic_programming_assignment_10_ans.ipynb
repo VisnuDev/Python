{
 "cells": [
  {
   "cell_type": "markdown",
   "id": "10e919e0",
   "metadata": {},
   "source": [
    "# Visnu_python_basic_programming_assignment_10_ans"
   ]
  },
  {
   "cell_type": "code",
   "execution_count": null,
   "id": "68853cfa",
   "metadata": {},
   "outputs": [],
   "source": [
    "1.\tWrite a Python program to find sum of elements in list?\n",
    "2.\tWrite a Python program to  Multiply all numbers in the list?\n",
    "3.\tWrite a Python program to find smallest number in a list?\n",
    "4.\tWrite a Python program to find largest number in a list?\n",
    "5.\tWrite a Python program to find second largest number in a list?\n",
    "6.\tWrite a Python program to find N largest elements from a list?\n",
    "7.\tWrite a Python program to print even numbers in a list?\n",
    "8.\tWrite a Python program to print odd numbers in a List?\n",
    "9.\tWrite a Python program to Remove empty List from List?\n",
    "10.\tWrite a Python program to Cloning or Copying a list?\n",
    "11.\tWrite a Python program to Count occurrences of an element in a list?\n"
   ]
  },
  {
   "cell_type": "code",
   "execution_count": 8,
   "id": "fa98c689",
   "metadata": {},
   "outputs": [
    {
     "name": "stdout",
     "output_type": "stream",
     "text": [
      "Sum of all elements in the list: \n",
      "55\n"
     ]
    }
   ],
   "source": [
    "#1.\tWrite a Python program to find sum of elements in list?\n",
    "\n",
    "lt =[1, 2, 3, 4, 5, 6, 7, 8, 9, 10]\n",
    "\n",
    "\n",
    "print(\"Sum of all elements in the list: \")\n",
    "\n",
    "add=0\n",
    "for i in lt:\n",
    "    add += i\n",
    "    \n",
    "print(add)\n"
   ]
  },
  {
   "cell_type": "code",
   "execution_count": 10,
   "id": "abfb37b4",
   "metadata": {},
   "outputs": [
    {
     "name": "stdout",
     "output_type": "stream",
     "text": [
      "Multiplication of all elements in the list: \n",
      "3628800\n"
     ]
    }
   ],
   "source": [
    "#2.\tWrite a Python program to  Multiply all numbers in the list?\n",
    "\n",
    "lt =[1, 2, 3, 4, 5, 6, 7, 8, 9, 10]\n",
    "\n",
    "mul=1\n",
    "print(\"Multiplication of all elements in the list: \")\n",
    "\n",
    "for i in lt:\n",
    "    mul *= i\n",
    "    \n",
    "print(mul)"
   ]
  },
  {
   "cell_type": "code",
   "execution_count": 12,
   "id": "86c6d69b",
   "metadata": {},
   "outputs": [
    {
     "name": "stdout",
     "output_type": "stream",
     "text": [
      "Minimum: 1\n"
     ]
    }
   ],
   "source": [
    "#3.\tWrite a Python program to find smallest number in a list?\n",
    "\n",
    "lt =[1, 2, 3, 4, 5, 6, 7, 8, 9, 10]\n",
    "\n",
    "\n",
    "print(f\"Minimum: {min(lt)}\")"
   ]
  },
  {
   "cell_type": "code",
   "execution_count": 13,
   "id": "c153f7c1",
   "metadata": {},
   "outputs": [
    {
     "name": "stdout",
     "output_type": "stream",
     "text": [
      "Maximum: 10\n"
     ]
    }
   ],
   "source": [
    "#4.\tWrite a Python program to find largest number in a list?\n",
    "\n",
    "lt =[1, 2, 3, 4, 5, 6, 7, 8, 9, 10]\n",
    "\n",
    "print(f\"Maximum: {max(lt)}\")"
   ]
  },
  {
   "cell_type": "code",
   "execution_count": 22,
   "id": "311ef2f7",
   "metadata": {},
   "outputs": [
    {
     "name": "stdout",
     "output_type": "stream",
     "text": [
      "Second largest of list: 9\n"
     ]
    }
   ],
   "source": [
    "#5.\tWrite a Python program to find second largest number in a list?\n",
    "\n",
    "lt =[1, 2, 3, 4, 5, 6, 7, 8, 9, 10]\n",
    "\n",
    "def secondLargest(lt):\n",
    "    x=lt.copy() \n",
    "    x.remove(max(x))\n",
    "    return max(x)\n",
    "    \n",
    "\n",
    "second_max= secondLargest(lt)\n",
    "\n",
    "print(f\"Second largest of list: {second_max}\")"
   ]
  },
  {
   "cell_type": "code",
   "execution_count": 25,
   "id": "9b5461a7",
   "metadata": {},
   "outputs": [
    {
     "name": "stdout",
     "output_type": "stream",
     "text": [
      "Enter a value less than 10: 4\n",
      "10\n",
      "9\n",
      "8\n",
      "7\n"
     ]
    }
   ],
   "source": [
    "# 6.\tWrite a Python program to find N largest elements from a list?\n",
    "\n",
    "lt =[1, 2, 3, 4, 5, 6, 7, 8, 9, 10]\n",
    "\n",
    "\n",
    "def findNLargest(lt, n):\n",
    "    x=lt.copy()\n",
    "    for i in range(n):\n",
    "        maxi=max(x)\n",
    "        x.remove(max(x))\n",
    "        print(maxi)\n",
    "        \n",
    "        \n",
    "\n",
    "\n",
    "n= int(input(\"Enter a value less than 10: \"))\n",
    "        \n",
    "print(f\"The {n} largest numbers of list: \")\n",
    "findNLargest(lt, n)"
   ]
  },
  {
   "cell_type": "code",
   "execution_count": 27,
   "id": "ba921642",
   "metadata": {},
   "outputs": [
    {
     "name": "stdout",
     "output_type": "stream",
     "text": [
      "Even numbers in the list: \n",
      "2\n",
      "4\n",
      "6\n",
      "8\n",
      "10\n"
     ]
    }
   ],
   "source": [
    "#7.\tWrite a Python program to print even numbers in a list?\n",
    "\n",
    "def printEven(lt):\n",
    "    for i in lt:\n",
    "        if i%2==0:\n",
    "            print(i)\n",
    "        else:\n",
    "            pass\n",
    "\n",
    "\n",
    "lt =[1, 2, 3, 4, 5, 6, 7, 8, 9, 10]\n",
    "\n",
    "\n",
    "print(\"Even numbers in the list: \")\n",
    "printEven(lt)"
   ]
  },
  {
   "cell_type": "code",
   "execution_count": 28,
   "id": "ffe8442b",
   "metadata": {},
   "outputs": [
    {
     "name": "stdout",
     "output_type": "stream",
     "text": [
      "Odd numbers in the list: \n",
      "1\n",
      "3\n",
      "5\n",
      "7\n",
      "9\n"
     ]
    }
   ],
   "source": [
    "#8.\tWrite a Python program to print odd numbers in a List?\n",
    "\n",
    "lt =[1, 2, 3, 4, 5, 6, 7, 8, 9, 10]\n",
    "\n",
    "\n",
    "def printOdd(lt):\n",
    "    for i in lt:\n",
    "        if i%2!=0:\n",
    "            print(i)\n",
    "        else:\n",
    "            pass\n",
    "        \n",
    "        \n",
    "print(\"Odd numbers in the list: \")\n",
    "printOdd(lt)"
   ]
  },
  {
   "cell_type": "code",
   "execution_count": 40,
   "id": "5f5fabb9",
   "metadata": {},
   "outputs": [
    {
     "name": "stdout",
     "output_type": "stream",
     "text": [
      "After removing the Empty lists in the list: \n",
      "[[1, 2, 3], [2, 3, 4], [4, 5], [10, 30, 40, 100]]\n"
     ]
    }
   ],
   "source": [
    "#9.\tWrite a Python program to Remove empty List from List?\n",
    "\n",
    "lt= [  [1,2,3],\n",
    "       [],\n",
    "       [2,3,4],\n",
    "       [],\n",
    "       [4,5],\n",
    "       [],\n",
    "       [],\n",
    "       [10,30, 40, 100 ]  ]\n",
    "\n",
    "\n",
    "\n",
    "\n",
    "def removeEmptyLists(lt):\n",
    "    x=lt.copy()\n",
    "    for i in lt:\n",
    "        if len(i)==0:\n",
    "            x.remove(i)\n",
    "    return x\n",
    "\n",
    "lt=removeEmptyLists(lt)\n",
    "\n",
    "print(\"After removing the Empty lists in the list: \")\n",
    "\n",
    "print(lt)\n",
    "\n"
   ]
  },
  {
   "cell_type": "code",
   "execution_count": 29,
   "id": "fd0d37e4",
   "metadata": {},
   "outputs": [
    {
     "name": "stdout",
     "output_type": "stream",
     "text": [
      "Copied list: [1, 2, 3, 4, 5, 6, 7, 8, 9, 10]\n"
     ]
    }
   ],
   "source": [
    "#10.\tWrite a Python program to Cloning or Copying a list?\n",
    "\n",
    "\n",
    "lt =[1, 2, 3, 4, 5, 6, 7, 8, 9, 10]\n",
    "\n",
    "\n",
    "lt_copy= list(lt)\n",
    "\n",
    "print(f\"Copied list: {lt_copy}\")\n"
   ]
  },
  {
   "cell_type": "code",
   "execution_count": 34,
   "id": "fb57ea35",
   "metadata": {},
   "outputs": [
    {
     "name": "stdout",
     "output_type": "stream",
     "text": [
      "Enter a number less than 10 to find it's occurance: 6\n",
      "The number 6 is occuring 3 times in the list\n"
     ]
    }
   ],
   "source": [
    "#11.\tWrite a Python program to Count occurrences of an element in a list?\n",
    "\n",
    "\n",
    "lt=[1,1,4,5,2,7,2,3,5,7,8,9,7,8,9,4,5,6,1,2,0,8,5,4,3,6,7,8,9,2,3,4,5,6,1,2,4,5,7,8]\n",
    "\n",
    "\n",
    "\n",
    "n= int(input(\"Enter a number less than 10 to find it's occurance: \"))\n",
    "\n",
    "print(f\"The number {n} is occuring {lt.count(n)} times in the list\")"
   ]
  }
 ],
 "metadata": {
  "kernelspec": {
   "display_name": "Python 3",
   "language": "python",
   "name": "python3"
  },
  "language_info": {
   "codemirror_mode": {
    "name": "ipython",
    "version": 3
   },
   "file_extension": ".py",
   "mimetype": "text/x-python",
   "name": "python",
   "nbconvert_exporter": "python",
   "pygments_lexer": "ipython3",
   "version": "3.8.8"
  }
 },
 "nbformat": 4,
 "nbformat_minor": 5
}
