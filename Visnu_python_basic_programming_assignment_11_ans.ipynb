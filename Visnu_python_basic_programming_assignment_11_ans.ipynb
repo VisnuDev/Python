{
 "cells": [
  {
   "cell_type": "markdown",
   "id": "a7648999",
   "metadata": {},
   "source": [
    "# Visnu_python_basic_programming_assignment_11_ans"
   ]
  },
  {
   "cell_type": "code",
   "execution_count": null,
   "id": "9a110989",
   "metadata": {},
   "outputs": [],
   "source": [
    "1.\tWrite a Python program to find words which are greater than given length k?\n",
    "2.\tWrite a Python program for removing i-th character from a string?\n",
    "3.\tWrite a Python program to split and join a string?\n",
    "4.\tWrite a Python to check if a given string is binary string or not?\n",
    "5.\tWrite a Python program to find uncommon words from two Strings?\n",
    "6.\tWrite a Python to find all duplicate characters in string?\n",
    "7.\tWrite a Python Program to check if a string contains any special character?\n"
   ]
  },
  {
   "cell_type": "code",
   "execution_count": 7,
   "id": "ebcd8d24",
   "metadata": {
    "ExecuteTime": {
     "end_time": "2021-07-15T04:46:57.055822Z",
     "start_time": "2021-07-15T04:46:55.537430Z"
    }
   },
   "outputs": [
    {
     "name": "stdout",
     "output_type": "stream",
     "text": [
      "Enter the length: 6\n",
      "The words with length greater than 6 are: \n",
      "science\n",
      "concept\n",
      "statistics,\n",
      "analysis,\n",
      "informatics,\n",
      "related\n",
      "methods\n"
     ]
    }
   ],
   "source": [
    "# 1.\tWrite a Python program to find words which are greater than given length k?\n",
    "\n",
    "\n",
    "string= \"Data science is a concept to unify statistics, data analysis, informatics, and their related methods\" \n",
    "\n",
    "\n",
    "k =int(input(\"Enter the length: \"))\n",
    "\n",
    "words= string.split()\n",
    "\n",
    "print(f\"The words with length greater than {k} are: \")\n",
    "\n",
    "for w in words:\n",
    "    if len(w) > k:\n",
    "        print(w)\n"
   ]
  },
  {
   "cell_type": "code",
   "execution_count": 6,
   "id": "0920b8fb",
   "metadata": {
    "ExecuteTime": {
     "end_time": "2021-07-15T04:46:48.483306Z",
     "start_time": "2021-07-15T04:46:46.306330Z"
    }
   },
   "outputs": [
    {
     "name": "stdout",
     "output_type": "stream",
     "text": [
      "Enter the position to remove that character from the string: 4\n",
      "After removing character at position 4: Dat Science\n"
     ]
    }
   ],
   "source": [
    "#2.\tWrite a Python program for removing i-th character from a string?\n",
    "\n",
    "string= \"Data Science\"\n",
    "\n",
    "i =int(input(\"Enter the position to remove that character from the string: \"))\n",
    "\n",
    "string =string[:i-1] + string[i:]\n",
    "print(F\"After removing character at position {i}: {string}\")\n"
   ]
  },
  {
   "cell_type": "code",
   "execution_count": 5,
   "id": "b021e244",
   "metadata": {
    "ExecuteTime": {
     "end_time": "2021-07-15T04:46:39.122711Z",
     "start_time": "2021-07-15T04:46:39.110745Z"
    }
   },
   "outputs": [
    {
     "name": "stdout",
     "output_type": "stream",
     "text": [
      "After Spliting: \n",
      "['Data science is a concept to unify statistics', ' data analysis', ' informatics', ' and their related methods']\n",
      "After joining: \n",
      "Data science is a concept to unify statistics, data analysis, informatics, and their related methods\n"
     ]
    }
   ],
   "source": [
    "# 3.\tWrite a Python program to split and join a string?\n",
    "\n",
    "\n",
    "\n",
    "string= \"Data science is a concept to unify statistics, data analysis, informatics, and their related methods\" \n",
    "\n",
    "\n",
    "def splitString(st, c):\n",
    "    splited_string= st.split(c)\n",
    "    return splited_string\n",
    "\n",
    "\n",
    "def joinString(lt, c):\n",
    "    joined_string= c.join(lt)\n",
    "    return joined_string\n",
    "\n",
    "\n",
    "splited_string= splitString(string, ',')\n",
    "\n",
    "print(\"After Spliting: \")\n",
    "print(splited_string)\n",
    "\n",
    "\n",
    "\n",
    "merged_string = joinString(splited_string, ',')\n",
    "\n",
    "print(\"After joining: \")\n",
    "print(merged_string)"
   ]
  },
  {
   "cell_type": "code",
   "execution_count": 4,
   "id": "69220d64",
   "metadata": {
    "ExecuteTime": {
     "end_time": "2021-07-15T04:46:36.211681Z",
     "start_time": "2021-07-15T04:46:30.225682Z"
    }
   },
   "outputs": [
    {
     "name": "stdout",
     "output_type": "stream",
     "text": [
      "Enter the string:10100100100\n",
      "The string is Binary\n"
     ]
    }
   ],
   "source": [
    "# 4.\tWrite a Python to check if a given string is binary string or not?\n",
    "\n",
    "\n",
    "def checkBinaryString(st):\n",
    "    for i in st:\n",
    "        if i!='0' and i!='1':\n",
    "            return False\n",
    "    return True\n",
    "\n",
    "\n",
    "\n",
    "\n",
    "st =input(\"Enter the string:\")\n",
    "\n",
    "type(st)\n",
    "\n",
    "if checkBinaryString(st):\n",
    "    print(\"The string is Binary\")\n",
    "else:\n",
    "    print(\"The string is Not Binary\")\n",
    "    \n"
   ]
  },
  {
   "cell_type": "code",
   "execution_count": 1,
   "id": "f7ae4b2b",
   "metadata": {
    "ExecuteTime": {
     "end_time": "2021-07-15T04:45:04.267788Z",
     "start_time": "2021-07-15T04:42:44.615427Z"
    }
   },
   "outputs": [
    {
     "name": "stdout",
     "output_type": "stream",
     "text": [
      "Enter the 1st string: Data science Artificial intelligence machine learning \n",
      "Enter the 2nd string: Data analytics Human intelligence self learning\n",
      "The uncommon words from both string are: \n",
      "science\n",
      "Artificial\n",
      "machine\n",
      "analytics\n",
      "Human\n",
      "self\n"
     ]
    }
   ],
   "source": [
    "#5.\tWrite a Python program to find uncommon words from two Strings?\n",
    "\n",
    "\n",
    "s1 = input(\"Enter the 1st string: \")\n",
    "\n",
    "s2 = input(\"Enter the 2nd string: \")\n",
    "\n",
    "\n",
    "def getUncommonWords(s1, s2):\n",
    "    s1_words= s1.split()\n",
    "    s2_words= s2.split()\n",
    "    \n",
    "    uncommon_words= [word for word in s1_words if word not in s2_words] + \\\n",
    "    [word for word in s2_words if word not in s1_words] \n",
    "    \n",
    "    return uncommon_words\n",
    "    \n",
    "    \n",
    "    \n",
    "unc_words = getUncommonWords(s1, s2)\n",
    "\n",
    "print(\"The uncommon words from both string are: \")\n",
    "\n",
    "for w in unc_words:\n",
    "    print(w)"
   ]
  },
  {
   "cell_type": "code",
   "execution_count": 2,
   "id": "eaeb33a9",
   "metadata": {
    "ExecuteTime": {
     "end_time": "2021-07-15T04:45:21.834555Z",
     "start_time": "2021-07-15T04:45:19.612680Z"
    }
   },
   "outputs": [
    {
     "name": "stdout",
     "output_type": "stream",
     "text": [
      "Enter the string: Data science Artificial intelligence machine learning\n",
      "The duplicate characters of the string: ['a', 't', ' ', 'c', 'i', 'e', 'n', 'r', 'l', 'g']\n"
     ]
    }
   ],
   "source": [
    "#6.\tWrite a Python to find all duplicate characters in string?\n",
    "\n",
    "\n",
    "def getDuplicateCharacters(st):\n",
    "    char_dict= {}\n",
    "    for c in st:\n",
    "        if char_dict.get(c, None) != None:\n",
    "            char_dict[c] += 1\n",
    "        else:\n",
    "            char_dict[c] = 1\n",
    "            \n",
    "    return [keys for keys, values in char_dict.items() if values>1 ]\n",
    "\n",
    "\n",
    "\n",
    "\n",
    "st= input(\"Enter the string: \")\n",
    "\n",
    "dup_chars= getDuplicateCharacters(st)\n",
    "\n",
    "print(f\"The duplicate characters of the string: {[c for c in dup_chars]}\")"
   ]
  },
  {
   "cell_type": "code",
   "execution_count": 3,
   "id": "82f84b8c",
   "metadata": {
    "ExecuteTime": {
     "end_time": "2021-07-15T04:46:18.735472Z",
     "start_time": "2021-07-15T04:46:01.812926Z"
    }
   },
   "outputs": [
    {
     "name": "stdout",
     "output_type": "stream",
     "text": [
      "Enter the string: Data science, Artificial intelligence/machine learning\n",
      "The string contains special characters\n"
     ]
    }
   ],
   "source": [
    "# 7.\tWrite a Python Program to check if a string contains any special character?\n",
    "\n",
    "\n",
    "import re\n",
    "\n",
    "def checkForSpecialCharacters(st):\n",
    "    spec_char= re.compile('[@_!#$%^&*()<>?/\\|}{~:]')\n",
    "    \n",
    "    if spec_char.search(st)==None:\n",
    "        return False\n",
    "    else:\n",
    "        return True\n",
    "    \n",
    "    \n",
    "\n",
    "st = input(\"Enter the string: \")\n",
    "\n",
    "if checkForSpecialCharacters(st):\n",
    "    print(\"The string contains special characters\")\n",
    "else:\n",
    "    print(\"The string has no special characters\")"
   ]
  },
  {
   "cell_type": "code",
   "execution_count": null,
   "id": "42a526d1",
   "metadata": {},
   "outputs": [],
   "source": []
  }
 ],
 "metadata": {
  "hide_input": false,
  "kernelspec": {
   "display_name": "Python 3",
   "language": "python",
   "name": "python3"
  },
  "language_info": {
   "codemirror_mode": {
    "name": "ipython",
    "version": 3
   },
   "file_extension": ".py",
   "mimetype": "text/x-python",
   "name": "python",
   "nbconvert_exporter": "python",
   "pygments_lexer": "ipython3",
   "version": "3.8.8"
  },
  "toc": {
   "base_numbering": 1,
   "nav_menu": {},
   "number_sections": false,
   "sideBar": true,
   "skip_h1_title": false,
   "title_cell": "Table of Contents",
   "title_sidebar": "Contents",
   "toc_cell": false,
   "toc_position": {},
   "toc_section_display": true,
   "toc_window_display": false
  }
 },
 "nbformat": 4,
 "nbformat_minor": 5
}
