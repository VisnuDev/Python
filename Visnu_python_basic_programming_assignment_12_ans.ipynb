{
 "cells": [
  {
   "cell_type": "markdown",
   "id": "c4ab9983",
   "metadata": {
    "ExecuteTime": {
     "end_time": "2021-07-15T04:48:08.036783Z",
     "start_time": "2021-07-15T04:48:07.727253Z"
    }
   },
   "source": [
    "# Visnu_python_basic_programming_assignment_12_ans"
   ]
  },
  {
   "cell_type": "code",
   "execution_count": null,
   "id": "d309d577",
   "metadata": {},
   "outputs": [],
   "source": [
    "1.\tWrite a Python program to Extract Unique values dictionary values?\n",
    "2.\tWrite a Python program to find the sum of all items in a dictionary?\n",
    "3.\tWrite a Python program to Merging two Dictionaries?\n",
    "4.\tWrite a Python program to convert key-values list to flat dictionary?\n",
    "5.\tWrite a Python program to insertion at the beginning in OrderedDict?\n",
    "6.\tWrite a Python program to check order of character in string using OrderedDict()?\n",
    "7.\tWrite a Python program to sort Python Dictionaries by Key or Value?\n"
   ]
  },
  {
   "cell_type": "code",
   "execution_count": 3,
   "id": "2a22d5ce",
   "metadata": {
    "ExecuteTime": {
     "end_time": "2021-07-15T05:36:38.740010Z",
     "start_time": "2021-07-15T05:36:38.722025Z"
    }
   },
   "outputs": [
    {
     "name": "stdout",
     "output_type": "stream",
     "text": [
      "The unique values from the dictionary are: \n",
      "1\n",
      "2\n",
      "3\n",
      "7\n",
      "8\n"
     ]
    }
   ],
   "source": [
    "#1.\tWrite a Python program to Extract Unique values dictionary values?\n",
    "\n",
    "\n",
    "\n",
    "def getUniqueValues(dic):\n",
    "    unique_values= set(val for key, val in dic.items() for  )\n",
    "    return unique_values\n",
    "\n",
    "\n",
    "\n",
    "dic= {'k1': 1, 'k2' : 2, 'k3':3 , 'k4': 2, 'k5': 7, 'k6': 2, 'k7':3, 'k8': 8, 'k9':3}\n",
    "\n",
    "\n",
    "\n",
    "unique_values= getUniqueValues(dic)\n",
    "\n",
    "print(\"The unique values from the dictionary are: \")\n",
    "for x in unique_values:\n",
    "    print(x)"
   ]
  },
  {
   "cell_type": "code",
   "execution_count": 5,
   "id": "ae71f938",
   "metadata": {
    "ExecuteTime": {
     "end_time": "2021-07-15T06:19:21.928581Z",
     "start_time": "2021-07-15T06:19:21.914650Z"
    }
   },
   "outputs": [
    {
     "name": "stdout",
     "output_type": "stream",
     "text": [
      "The sum of all values in the dictionary is :31\n"
     ]
    }
   ],
   "source": [
    "#2.\tWrite a Python program to find the sum of all items in a dictionary?\n",
    "\n",
    "\n",
    "def sumOfDictValues(dt):\n",
    "    add=0\n",
    "    for val in dt.values():\n",
    "        add += val\n",
    "    return add\n",
    "\n",
    "\n",
    "\n",
    "\n",
    "dic= {'k1': 1, 'k2' : 2, 'k3':3 , 'k4': 2, 'k5': 7, 'k6': 2, 'k7':3, 'k8': 8, 'k9':3}\n",
    "\n",
    "\n",
    "add =sumOfDictValues(dic)\n",
    "\n",
    "print(f\"The sum of all values in the dictionary is :{add}\")\n",
    "\n"
   ]
  },
  {
   "cell_type": "code",
   "execution_count": 27,
   "id": "55a02e15",
   "metadata": {
    "ExecuteTime": {
     "end_time": "2021-07-15T06:41:36.832975Z",
     "start_time": "2021-07-15T06:41:36.816021Z"
    }
   },
   "outputs": [
    {
     "name": "stdout",
     "output_type": "stream",
     "text": [
      "The new dict after merging: \n",
      "{'a': 10, 'b': 8, 'd': 6, 'c': 4, 'k1': 1, 'k2': 2, 'k3': 3, 'k4': 2, 'k5': 7, 'k6': 2, 'k7': 3, 'k8': 8, 'k9': 3}\n"
     ]
    }
   ],
   "source": [
    "# 3.\tWrite a Python program to Merging two Dictionaries?\n",
    "\n",
    "\n",
    "def mergeDict(dict1, dict2):\n",
    "    dict3=dict2\n",
    "    dict3.update(dict1)\n",
    "    return dict3\n",
    "\n",
    "dict1= {'k1': 1, 'k2' : 2, 'k3':3 , 'k4': 2, 'k5': 7, 'k6': 2, 'k7':3, 'k8': 8, 'k9':3}\n",
    "\n",
    "dict2= {'a': 10, 'b': 8, 'd': 6, 'c': 4} \n",
    "\n",
    "merged_dict= mergeDict(dict1, dict2)\n",
    "\n",
    "\n",
    "\n",
    "print(\"The new dict after merging: \")\n",
    "print(merged_dict)\n"
   ]
  },
  {
   "cell_type": "code",
   "execution_count": 31,
   "id": "037f9231",
   "metadata": {
    "ExecuteTime": {
     "end_time": "2021-07-15T06:49:11.005613Z",
     "start_time": "2021-07-15T06:49:10.994646Z"
    }
   },
   "outputs": [
    {
     "name": "stdout",
     "output_type": "stream",
     "text": [
      "The flat dictionary after merging the lists: \n",
      "{'k1': 1, 'k2': 2, 'k3': 5, 'k4': 2, 'k5': 7}\n"
     ]
    }
   ],
   "source": [
    "#4.\tWrite a Python program to convert key-values list to flat dictionary?\n",
    "\n",
    "\n",
    "\n",
    "def liststoDict(k_ls, v_ls):\n",
    "    dict={}\n",
    "    for i in range(len(k_ls)):\n",
    "        dict[k_ls[i]]=v_ls[i]\n",
    "    return dict\n",
    "\n",
    "\n",
    "\n",
    "key_ls = ['k1', 'k2', 'k3', 'k4', 'k5']\n",
    "val_ls = [1, 2, 5, 2, 7]\n",
    "\n",
    "\n",
    "dic= liststoDict(key_ls, val_ls)\n",
    "\n",
    "print(\"The flat dictionary after merging the lists: \")\n",
    "\n",
    "print(dic)"
   ]
  },
  {
   "cell_type": "code",
   "execution_count": 53,
   "id": "1061b362",
   "metadata": {
    "ExecuteTime": {
     "end_time": "2021-07-15T14:37:39.332462Z",
     "start_time": "2021-07-15T14:37:32.347598Z"
    }
   },
   "outputs": [
    {
     "name": "stdout",
     "output_type": "stream",
     "text": [
      "Original dictionary :  OrderedDict([('js', '1'), ('python', '2')])\n",
      "Enter the key-value pair to be added in the OrderedDict\n",
      "key : c++\n",
      "value : 3\n",
      "Resultant Dictionary after inserting element at the begining: OrderedDict([('c++', '3'), ('js', '1'), ('python', '2')])\n"
     ]
    }
   ],
   "source": [
    "#5.\tWrite a Python program to insertion at the beginning in OrderedDict?\n",
    "\n",
    "from collections import OrderedDict\n",
    "\n",
    "\n",
    "dic1 = OrderedDict([('js', '1'), ('python', '2')])\n",
    "print(\"Original dictionary : \", str(dic1))\n",
    "\n",
    "print(\"Enter the key-value pair to be added in the OrderedDict\")\n",
    "key = input(\"key : \")\n",
    "value = input(\"value : \")\n",
    "added_dict = OrderedDict([(key, value)])\n",
    "\n",
    "\n",
    "dic1.update({key:value})\n",
    "dic1.move_to_end(key, last = False)\n",
    "\n",
    "\n",
    "print (\"Resultant Dictionary after inserting element at the begining: \"+str(dic1))"
   ]
  },
  {
   "cell_type": "code",
   "execution_count": 6,
   "id": "8eaac4a1",
   "metadata": {
    "ExecuteTime": {
     "end_time": "2021-07-16T07:54:34.333897Z",
     "start_time": "2021-07-16T07:54:33.244874Z"
    }
   },
   "outputs": [
    {
     "name": "stdout",
     "output_type": "stream",
     "text": [
      "How do you want to order the dictionary (K / V): v\n",
      "{'z': 0, 'o': 1, 'g': 2, 'f': 3, 'x': 4, 'v': 5, 'm': 6, 'b': 7, 'w': 8, 'a': 9, 'k': 10}\n"
     ]
    }
   ],
   "source": [
    "#7.\tWrite a Python program to sort Python Dictionaries by Key or Value?\n",
    "\n",
    "\n",
    "dic={'a':9, 'f':3,  'v':5, 'k':10, 'b':7 , 'o':1 , 'x':4, 'g': 2, 'm':6, 'z': 0, 'w': 8}\n",
    "\n",
    "\n",
    "ch= input(\"How do you want to order the dictionary (K / V): \")\n",
    "    \n",
    "dic2={}\n",
    "\n",
    "if ch.lower()=='K':\n",
    "    for i in sorted(dic):\n",
    "        dic2[i]=dic[i]\n",
    "        \n",
    "elif ch.lower()=='v':\n",
    "    dic2=dict(sorted(dic.items(), key=lambda x:x[1]))\n",
    "        \n",
    "    \n",
    "\n",
    "print(dic2)"
   ]
  },
  {
   "cell_type": "code",
   "execution_count": null,
   "id": "8273af93",
   "metadata": {},
   "outputs": [],
   "source": []
  }
 ],
 "metadata": {
  "hide_input": false,
  "kernelspec": {
   "display_name": "Python 3",
   "language": "python",
   "name": "python3"
  },
  "language_info": {
   "codemirror_mode": {
    "name": "ipython",
    "version": 3
   },
   "file_extension": ".py",
   "mimetype": "text/x-python",
   "name": "python",
   "nbconvert_exporter": "python",
   "pygments_lexer": "ipython3",
   "version": "3.8.8"
  },
  "toc": {
   "base_numbering": 1,
   "nav_menu": {},
   "number_sections": false,
   "sideBar": true,
   "skip_h1_title": false,
   "title_cell": "Table of Contents",
   "title_sidebar": "Contents",
   "toc_cell": false,
   "toc_position": {},
   "toc_section_display": true,
   "toc_window_display": false
  }
 },
 "nbformat": 4,
 "nbformat_minor": 5
}
