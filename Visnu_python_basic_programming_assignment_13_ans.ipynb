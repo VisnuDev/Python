{
 "cells": [
  {
   "cell_type": "markdown",
   "id": "9d49c143",
   "metadata": {
    "ExecuteTime": {
     "end_time": "2021-07-15T14:38:47.434377Z",
     "start_time": "2021-07-15T14:38:47.170059Z"
    }
   },
   "source": [
    "# Visnu_python_basic_programming_assignment_13_ans"
   ]
  },
  {
   "cell_type": "markdown",
   "id": "f5765af8",
   "metadata": {},
   "source": [
    "Question 1:\n",
    "\n",
    "Write a program that calculates and prints the value according to the given formula:\n",
    "\n",
    "Q = Square root of [(2 * C * D)/H]\n",
    "\n",
    "Following are the fixed values of C and H:\n",
    "\n",
    "C is 50. H is 30.\n",
    "\n",
    "D is the variable whose values should be input to your program in a comma-separated sequence.\n",
    "\n",
    "Example\n",
    "\n",
    "Let us assume the following comma separated input sequence is given to the program:\n",
    "\n",
    "100,150,180\n",
    "\n",
    "The output of the program should be:\n",
    "\n",
    "18,22,24\n"
   ]
  },
  {
   "cell_type": "code",
   "execution_count": 48,
   "id": "491328e7",
   "metadata": {
    "ExecuteTime": {
     "end_time": "2021-07-15T16:22:06.734252Z",
     "start_time": "2021-07-15T16:22:00.234440Z"
    }
   },
   "outputs": [
    {
     "name": "stdout",
     "output_type": "stream",
     "text": [
      "Enter the values of D(with comma seperated): 100,150,180\n",
      "18,22,24,"
     ]
    }
   ],
   "source": [
    "# 1-Ans:\n",
    "\n",
    "\n",
    "\n",
    "def calc(D):\n",
    "    C=50\n",
    "    H=30\n",
    "    return int( ((2*C*D)/H)**0.5 )\n",
    "\n",
    "\n",
    "\n",
    "D_list= input(\"Enter the values of D(with comma seperated): \").split(',')\n",
    "\n",
    "for i in range(len(D_list)):\n",
    "    D_list[i]=int(D_list[i])\n",
    "    \n",
    "    \n",
    "for i in D_list:\n",
    "    print(calc(i), end=',')\n",
    "\n",
    "    "
   ]
  },
  {
   "cell_type": "code",
   "execution_count": null,
   "id": "ff197e72",
   "metadata": {},
   "outputs": [],
   "source": []
  },
  {
   "cell_type": "markdown",
   "id": "b4ab6ff7",
   "metadata": {},
   "source": [
    "Question 2:\n",
    "Write a program which takes 2 digits, X,Y as input and generates a 2-dimensional array. The element value in the i-th row and j-th column of the array should be i*j.\n",
    "\n",
    "Note: i=0,1.., X-1; j=0,1,¡¬Y-1.\n",
    "\n",
    "Example\n",
    "\n",
    "Suppose the following inputs are given to the program:\n",
    "\n",
    "3,5\n",
    "\n",
    "Then, the output of the program should be:\n",
    "\n",
    "[[0, 0, 0, 0, 0], [0, 1, 2, 3, 4], [0, 2, 4, 6, 8]] "
   ]
  },
  {
   "cell_type": "code",
   "execution_count": 47,
   "id": "a450f93f",
   "metadata": {
    "ExecuteTime": {
     "end_time": "2021-07-15T16:21:52.120756Z",
     "start_time": "2021-07-15T16:21:49.459231Z"
    }
   },
   "outputs": [
    {
     "name": "stdout",
     "output_type": "stream",
     "text": [
      "Enter the value x: 3\n",
      "Enter the value y: 5\n",
      "The 2D array with dimension 3 x 5 is: \n",
      "[[0, 0, 0, 0, 0], [0, 1, 2, 3, 4], [0, 2, 4, 6, 8]]\n"
     ]
    }
   ],
   "source": [
    "# 2-Ans:\n",
    "\n",
    "\n",
    "def Create2DArray(x, y):\n",
    "    array=[[i*j for j in range(y) ] for i in range(x)]\n",
    "    return array\n",
    "\n",
    "\n",
    "x= int(input(\"Enter the value x: \"))\n",
    "y= int(input(\"Enter the value y: \"))\n",
    "\n",
    "array= Create2DArray(x, y)\n",
    "\n",
    "print(f\"The 2D array with dimension {x} x {y} is: \")\n",
    "\n",
    "print(array)"
   ]
  },
  {
   "cell_type": "code",
   "execution_count": null,
   "id": "f923606f",
   "metadata": {},
   "outputs": [],
   "source": []
  },
  {
   "cell_type": "markdown",
   "id": "d1be0f9b",
   "metadata": {},
   "source": [
    "Question 3:\n",
    "Write a program that accepts a comma separated sequence of words as input and prints the words in a comma-separated sequence after sorting them alphabetically.\n",
    "\n",
    "Suppose the following input is supplied to the program:\n",
    "\n",
    "without,hello,bag,world\n",
    "\n",
    "Then, the output should be:\n",
    "\n",
    "bag,hello,without,world"
   ]
  },
  {
   "cell_type": "code",
   "execution_count": 46,
   "id": "72f1b7a0",
   "metadata": {
    "ExecuteTime": {
     "end_time": "2021-07-15T16:21:42.181470Z",
     "start_time": "2021-07-15T16:21:39.129476Z"
    }
   },
   "outputs": [
    {
     "name": "stdout",
     "output_type": "stream",
     "text": [
      "Enter the sentence: without,hello,bag,world\n",
      "\n",
      "The Sentence after sorting: \n",
      "bag,hello,without,world\n"
     ]
    }
   ],
   "source": [
    "# 3-Ans:\n",
    "\n",
    "\n",
    "def SortWords(sent):\n",
    "    word_list= sent.split(',')\n",
    "    word_list.sort()\n",
    "    final_sent= ','.join(word_list)\n",
    "    return final_sent\n",
    "\n",
    "\n",
    "sent= input(\"Enter the sentence: \")\n",
    "\n",
    "final_sent=SortWords(sent)\n",
    "\n",
    "print(\"\\nThe Sentence after sorting: \")\n",
    "\n",
    "print(final_sent)"
   ]
  },
  {
   "cell_type": "code",
   "execution_count": null,
   "id": "7d7b04b3",
   "metadata": {},
   "outputs": [],
   "source": []
  },
  {
   "cell_type": "markdown",
   "id": "333da46d",
   "metadata": {},
   "source": [
    "Question 4:\n",
    "Write a program that accepts a sequence of whitespace separated words as input and prints the words after removing all duplicate words and sorting them alphanumerically.\n",
    "\n",
    "Suppose the following input is supplied to the program:\n",
    "\n",
    "hello world and practice makes perfect and hello world again\n",
    "\n",
    "Then, the output should be:\n",
    "\n",
    "again and hello makes perfect practice world"
   ]
  },
  {
   "cell_type": "code",
   "execution_count": 45,
   "id": "09e9373d",
   "metadata": {
    "ExecuteTime": {
     "end_time": "2021-07-15T16:21:29.344672Z",
     "start_time": "2021-07-15T16:21:27.918154Z"
    }
   },
   "outputs": [
    {
     "name": "stdout",
     "output_type": "stream",
     "text": [
      "Enter the sentence: hello world and practice makes perfect and hello world again\n",
      "again and hello makes perfect practice world\n"
     ]
    }
   ],
   "source": [
    "# Ans-4\n",
    "\n",
    "\n",
    "def RemoveDupAndSortWords(sent):\n",
    "    word_list= sent.split(' ')\n",
    "    word_list= list(set(word_list))\n",
    "    word_list.sort()\n",
    "    final_sent= ' '.join(word_list)\n",
    "    return final_sent\n",
    "\n",
    "\n",
    "sent = input(\"Enter the sentence: \")\n",
    "final_sent= RemoveDupAndSortWords(sent)\n",
    "\n",
    "print(final_sent)\n",
    "    "
   ]
  },
  {
   "cell_type": "code",
   "execution_count": null,
   "id": "1fbd9a59",
   "metadata": {},
   "outputs": [],
   "source": []
  },
  {
   "cell_type": "markdown",
   "id": "f0f6ab76",
   "metadata": {},
   "source": [
    "Question 5:\n",
    "Write a program that accepts a sentence and calculate the number of letters and digits.\n",
    "\n",
    "Suppose the following input is supplied to the program:\n",
    "\n",
    "hello world! 123\n",
    "\n",
    "Then, the output should be:\n",
    "\n",
    "LETTERS 10\n",
    "\n",
    "DIGITS 3"
   ]
  },
  {
   "cell_type": "code",
   "execution_count": 44,
   "id": "846f2c64",
   "metadata": {
    "ExecuteTime": {
     "end_time": "2021-07-15T16:21:18.590612Z",
     "start_time": "2021-07-15T16:21:17.190039Z"
    }
   },
   "outputs": [
    {
     "name": "stdout",
     "output_type": "stream",
     "text": [
      "Enter the sentence: hello world! 123\n",
      "LETTERS 10\n",
      "DIGITS 3\n"
     ]
    }
   ],
   "source": [
    "# 5-Ans:\n",
    "\n",
    "def CountLettersAndDigits(string):\n",
    "    l=d=0\n",
    "    for x in string:\n",
    "        if x.isalpha():\n",
    "            l+=1\n",
    "        if x.isnumeric():\n",
    "            d+=1\n",
    "    return l,d\n",
    "    \n",
    "sent= input(\"Enter the sentence: \")\n",
    "\n",
    "l, d= CountLettersAndDigits(sent)\n",
    "\n",
    "print(f\"LETTERS {l}\")\n",
    "print(f\"DIGITS {d}\")\n"
   ]
  },
  {
   "cell_type": "code",
   "execution_count": null,
   "id": "473b9d6a",
   "metadata": {},
   "outputs": [],
   "source": []
  },
  {
   "cell_type": "markdown",
   "id": "8b70d39a",
   "metadata": {},
   "source": [
    "Question 6:\n",
    "A website requires the users to input username and password to register. Write a program to check the validity of password input by users.\n",
    "\n",
    "Following are the criteria for checking the password:\n",
    "\n",
    "1. At least 1 letter between [a-z]\n",
    "\n",
    "2. At least 1 number between [0-9]\n",
    "\n",
    "1. At least 1 letter between [A-Z]\n",
    "\n",
    "3. At least 1 character from [$#@]\n",
    "\n",
    "4. Minimum length of transaction password: 6\n",
    "\n",
    "5. Maximum length of transaction password: 12\n",
    "\n",
    "Your program should accept a sequence of comma separated passwords and will check them according to the above criteria. Passwords that match the criteria are to be printed, each separated by a comma.\n",
    "\n",
    "Example\n",
    "\n",
    "If the following passwords are given as input to the program:\n",
    "\n",
    "ABd1234@1,a F1#,2w3E*,2We3345\n",
    "\n",
    "Then, the output of the program should be:\n",
    "\n",
    "ABd1234@1\n",
    "                                                      "
   ]
  },
  {
   "cell_type": "code",
   "execution_count": 43,
   "id": "5148ded5",
   "metadata": {
    "ExecuteTime": {
     "end_time": "2021-07-15T16:21:06.003515Z",
     "start_time": "2021-07-15T16:21:04.301728Z"
    }
   },
   "outputs": [
    {
     "name": "stdout",
     "output_type": "stream",
     "text": [
      "Enter the passwords with comma seperated: ABd1234@1,a F1#,2w3E*,2We3345\n",
      "The valid password are: \n",
      "ABd1234@1\n"
     ]
    }
   ],
   "source": [
    "# 6-Ans:\n",
    "\n",
    "import re\n",
    "\n",
    "def checkPasswdValidity(passwd):\n",
    "    if len(passwd)< 6 or len(passwd)>12:\n",
    "        return False\n",
    "    elif not re.search('[a-z]', passwd):\n",
    "        return False\n",
    "    elif not re.search('[A-Z]', passwd):\n",
    "        return False\n",
    "    elif not re.search('[0-9]', passwd):\n",
    "        return False\n",
    "    elif not re.search('[$#@]', passwd):\n",
    "        return False\n",
    "    else:\n",
    "        return True\n",
    "\n",
    "    \n",
    "    \n",
    "    \n",
    "    \n",
    "    \n",
    "lst= input(\"Enter the passwords with comma seperated: \").split(',')    \n",
    "    \n",
    "print(\"The valid password are: \")\n",
    "for pd in lst:\n",
    "    if checkPasswdValidity(pd):\n",
    "        print(pd)\n",
    "        \n"
   ]
  },
  {
   "cell_type": "code",
   "execution_count": null,
   "id": "2e18b1df",
   "metadata": {},
   "outputs": [],
   "source": []
  }
 ],
 "metadata": {
  "hide_input": false,
  "kernelspec": {
   "display_name": "Python 3",
   "language": "python",
   "name": "python3"
  },
  "language_info": {
   "codemirror_mode": {
    "name": "ipython",
    "version": 3
   },
   "file_extension": ".py",
   "mimetype": "text/x-python",
   "name": "python",
   "nbconvert_exporter": "python",
   "pygments_lexer": "ipython3",
   "version": "3.8.8"
  },
  "toc": {
   "base_numbering": 1,
   "nav_menu": {},
   "number_sections": false,
   "sideBar": true,
   "skip_h1_title": false,
   "title_cell": "Table of Contents",
   "title_sidebar": "Contents",
   "toc_cell": false,
   "toc_position": {},
   "toc_section_display": true,
   "toc_window_display": false
  }
 },
 "nbformat": 4,
 "nbformat_minor": 5
}
