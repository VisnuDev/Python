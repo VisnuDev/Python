{
 "cells": [
  {
   "cell_type": "markdown",
   "id": "887756db",
   "metadata": {},
   "source": [
    "# Visnu_python_basic_programming_assignment_14_ans"
   ]
  },
  {
   "cell_type": "code",
   "execution_count": null,
   "id": "e8c75496",
   "metadata": {},
   "outputs": [],
   "source": []
  },
  {
   "cell_type": "markdown",
   "id": "2e084a6d",
   "metadata": {},
   "source": [
    "Question 1:\n",
    "\n",
    "Define a class with a generator which can iterate the numbers, which are divisible by 7, between a given range 0 and n."
   ]
  },
  {
   "cell_type": "code",
   "execution_count": 17,
   "id": "d456a566",
   "metadata": {
    "ExecuteTime": {
     "end_time": "2021-07-16T05:56:41.940774Z",
     "start_time": "2021-07-16T05:56:38.799435Z"
    }
   },
   "outputs": [
    {
     "name": "stdout",
     "output_type": "stream",
     "text": [
      "Enter the number: 100\n",
      "7\n",
      "14\n",
      "21\n",
      "28\n",
      "35\n",
      "42\n",
      "49\n",
      "56\n",
      "63\n",
      "70\n",
      "77\n",
      "84\n",
      "91\n",
      "98\n"
     ]
    }
   ],
   "source": [
    "#1-ans:\n",
    "\n",
    "def num_generator(n):\n",
    "    for i in range(7, n+1):\n",
    "        if i%7 ==0:\n",
    "            yield i\n",
    "\n",
    "            \n",
    "            \n",
    "n= int(input(\"Enter the number: \"))\n",
    "\n",
    "for x in num_generator(n):\n",
    "    print(x)"
   ]
  },
  {
   "cell_type": "code",
   "execution_count": null,
   "id": "1480b067",
   "metadata": {},
   "outputs": [],
   "source": []
  },
  {
   "cell_type": "markdown",
   "id": "00f75019",
   "metadata": {},
   "source": [
    "Question 2:\n",
    "Write a program to compute the frequency of the words from the input. The output should output after sorting the key alphanumerically. \n",
    "\n",
    "Suppose the following input is supplied to the program:\n",
    "\n",
    "New to Python or choosing between Python 2 and Python 3? Read Python 2 or Python 3.\n",
    "\n",
    "Then, the output should be:\n",
    "\n",
    "2:2\n",
    "\n",
    "3.:1\n",
    "\n",
    "3?:1\n",
    "\n",
    "New:1\n",
    "\n",
    "Python:5\n",
    "\n",
    "Read:1\n",
    "\n",
    "and:1\n",
    "\n",
    "between:1\n",
    "\n",
    "choosing:1\n",
    "\n",
    "or:2\n",
    "\n",
    "to:1"
   ]
  },
  {
   "cell_type": "code",
   "execution_count": 32,
   "id": "4fb1e458",
   "metadata": {
    "ExecuteTime": {
     "end_time": "2021-07-16T07:57:05.957311Z",
     "start_time": "2021-07-16T07:57:04.208328Z"
    }
   },
   "outputs": [
    {
     "name": "stdout",
     "output_type": "stream",
     "text": [
      "Enter the sentence: New to Python or choosing between Python 2 and Python 3? Read Python 2 or Python 3.\n",
      "The frequency of words in the sentence: \n",
      "2:2\n",
      "3.:1\n",
      "3?:1\n",
      "New:1\n",
      "Python:5\n",
      "Read:1\n",
      "and:1\n",
      "between:1\n",
      "choosing:1\n",
      "or:2\n",
      "to:1\n"
     ]
    }
   ],
   "source": [
    "# 2-ANS:\n",
    "\n",
    "def word_frequency(sent):\n",
    "    freq={}\n",
    "    word_list=sent.split(' ')\n",
    "    for w in word_list:\n",
    "        if freq.get(w)==None:\n",
    "            freq[w]=1\n",
    "        else:\n",
    "            freq[w]+=1\n",
    "    freq=dict(sorted(freq.items(), key=lambda x: x[0]))\n",
    "    return freq\n",
    "    \n",
    "    \n",
    "    \n",
    "    \n",
    "    \n",
    "\n",
    "sent= input(\"Enter the sentence: \")\n",
    "freq= word_frequency(sent)\n",
    "\n",
    "print(\"The frequency of words in the sentence: \")\n",
    "\n",
    "for K, V in freq.items():\n",
    "    print(f\"{K}:{V}\")\n",
    "    \n",
    "    \n",
    "\n",
    "\n",
    "    "
   ]
  },
  {
   "cell_type": "code",
   "execution_count": null,
   "id": "13d64411",
   "metadata": {},
   "outputs": [],
   "source": []
  },
  {
   "cell_type": "markdown",
   "id": "7fc9d2ab",
   "metadata": {},
   "source": [
    "Question 3:\n",
    "\n",
    "Define a class Person and its two child classes: Male and Female. All classes have a method \"getGender\" which can print \"Male\" for Male class and \"Female\" for Female class."
   ]
  },
  {
   "cell_type": "code",
   "execution_count": 21,
   "id": "db3d2f4c",
   "metadata": {
    "ExecuteTime": {
     "end_time": "2021-07-16T06:19:54.289221Z",
     "start_time": "2021-07-16T06:19:54.275119Z"
    }
   },
   "outputs": [
    {
     "name": "stdout",
     "output_type": "stream",
     "text": [
      "Male\n",
      "Female\n"
     ]
    }
   ],
   "source": [
    "#Q3- Ans:\n",
    "\n",
    "class Person:\n",
    "    pass\n",
    "\n",
    "\n",
    "class Male(Person):\n",
    "    def getGender(self):\n",
    "        return 'Male'\n",
    "        \n",
    "class Female(Person):\n",
    "    def getGender(self):\n",
    "        return 'Female'\n",
    "        \n",
    "\n",
    "m= Male()\n",
    "\n",
    "f= Female()\n",
    "\n",
    "\n",
    "print(m.getGender())\n",
    "\n",
    "print(f.getGender())"
   ]
  },
  {
   "cell_type": "code",
   "execution_count": null,
   "id": "4b125914",
   "metadata": {},
   "outputs": [],
   "source": []
  },
  {
   "cell_type": "markdown",
   "id": "57e21d92",
   "metadata": {},
   "source": [
    "Question 4:\n",
    "Please write a program to generate all sentences where subject is in [\"I\", \"You\"] and verb is in [\"Play\", \"Love\"] and the object is in [\"Hockey\",\"Football\"]."
   ]
  },
  {
   "cell_type": "code",
   "execution_count": 33,
   "id": "754e9446",
   "metadata": {
    "ExecuteTime": {
     "end_time": "2021-07-16T08:02:27.535263Z",
     "start_time": "2021-07-16T08:02:27.523130Z"
    }
   },
   "outputs": [
    {
     "name": "stdout",
     "output_type": "stream",
     "text": [
      "I Play Hockey\n",
      "I Play Football\n",
      "I Love Hockey\n",
      "I Love Football\n",
      "You Play Hockey\n",
      "You Play Football\n",
      "You Love Hockey\n",
      "You Love Football\n"
     ]
    }
   ],
   "source": [
    "#4- Ans:\n",
    "\n",
    "\n",
    "sub=['I', 'You']\n",
    "verb=['Play', 'Love']\n",
    "obj=['Hockey', 'Football']\n",
    "\n",
    "\n",
    "for i in sub:\n",
    "    for j in verb:\n",
    "        for k in obj:\n",
    "            print(f\"{i} {j} {k}\")\n",
    "            \n",
    "            \n",
    "        "
   ]
  },
  {
   "cell_type": "code",
   "execution_count": null,
   "id": "19956c9c",
   "metadata": {},
   "outputs": [],
   "source": []
  },
  {
   "cell_type": "markdown",
   "id": "5fee1464",
   "metadata": {},
   "source": [
    "Question 5:\n",
    "Please write a program to compress and decompress the string \"hello world!hello world!hello world!hello world!\"."
   ]
  },
  {
   "cell_type": "code",
   "execution_count": 44,
   "id": "a7b86466",
   "metadata": {
    "ExecuteTime": {
     "end_time": "2021-07-16T08:12:10.660645Z",
     "start_time": "2021-07-16T08:12:10.653662Z"
    }
   },
   "outputs": [
    {
     "name": "stdout",
     "output_type": "stream",
     "text": [
      "b'x\\x9c\\xcbH\\xcd\\xc9\\xc9W(\\xcf/\\xcaIQ\\xcc \\x82\\r\\x00\\xbd[\\x11\\xf5'\n",
      "b'hello world!hello world!hello world!hello world!'\n"
     ]
    }
   ],
   "source": [
    "#Q5-Ans:\n",
    "\n",
    "import zlib\n",
    "string = b'hello world!hello world!hello world!hello world!'\n",
    "\n",
    "compressed_string = zlib.compress(string)\n",
    "\n",
    "print(compressed_string)\n",
    "\n",
    "print(zlib.decompress(compressed_string))\n"
   ]
  },
  {
   "cell_type": "code",
   "execution_count": null,
   "id": "1510999b",
   "metadata": {},
   "outputs": [],
   "source": []
  },
  {
   "cell_type": "markdown",
   "id": "af206c7a",
   "metadata": {},
   "source": [
    "Question 6:\n",
    "Please write a binary search function which searches an item in a sorted list. \n",
    "\n",
    "The function should return the index of element to be searched in the list."
   ]
  },
  {
   "cell_type": "code",
   "execution_count": 45,
   "id": "38d8e866",
   "metadata": {
    "ExecuteTime": {
     "end_time": "2021-07-16T08:54:45.331406Z",
     "start_time": "2021-07-16T08:54:40.773428Z"
    }
   },
   "outputs": [
    {
     "name": "stdout",
     "output_type": "stream",
     "text": [
      "[5, 9, 15, 23, 37, 39, 47, 51, 58, 69, 83, 90, 99]\n",
      "Enter the number to search in list: 83\n",
      "The searched element is found at the index: 10\n"
     ]
    }
   ],
   "source": [
    "\n",
    "#6-Ans:\n",
    "\n",
    "#Binary search\n",
    "def binary_search(lt, n):\n",
    "    start=0\n",
    "    end=len(lt)-1\n",
    "    while start<=end:\n",
    "        mid= int( (start + end) )\n",
    "        if lt[mid]>n:\n",
    "            end=mid-1\n",
    "        elif lt[mid]<n:\n",
    "            start=mid+1\n",
    "        elif lt[mid]==n:\n",
    "            return mid\n",
    "    return None\n",
    "\n",
    "\n",
    "\n",
    "lt=[5, 9, 15, 23, 37, 39, 47, 51, 58, 69, 83, 90, 99]\n",
    "\n",
    "print(lt)\n",
    "\n",
    "num=int(input(\"Enter the number to search in list: \") )\n",
    "\n",
    "ind= binary_search(lt, num)\n",
    "\n",
    "if ind!=None:\n",
    "    print(f\"The searched element is found at the index: {ind}\")\n",
    "\n",
    "         \n"
   ]
  },
  {
   "cell_type": "code",
   "execution_count": null,
   "id": "3a0c33c7",
   "metadata": {},
   "outputs": [],
   "source": []
  }
 ],
 "metadata": {
  "hide_input": false,
  "kernelspec": {
   "display_name": "Python 3",
   "language": "python",
   "name": "python3"
  },
  "language_info": {
   "codemirror_mode": {
    "name": "ipython",
    "version": 3
   },
   "file_extension": ".py",
   "mimetype": "text/x-python",
   "name": "python",
   "nbconvert_exporter": "python",
   "pygments_lexer": "ipython3",
   "version": "3.8.8"
  },
  "toc": {
   "base_numbering": 1,
   "nav_menu": {},
   "number_sections": false,
   "sideBar": true,
   "skip_h1_title": false,
   "title_cell": "Table of Contents",
   "title_sidebar": "Contents",
   "toc_cell": false,
   "toc_position": {},
   "toc_section_display": true,
   "toc_window_display": false
  }
 },
 "nbformat": 4,
 "nbformat_minor": 5
}
