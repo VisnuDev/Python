{
 "cells": [
  {
   "cell_type": "markdown",
   "id": "6df0a71d",
   "metadata": {},
   "source": [
    "# Visnu_python_basic_programming_assignment_15_ans"
   ]
  },
  {
   "cell_type": "code",
   "execution_count": null,
   "id": "6f89e8ff",
   "metadata": {},
   "outputs": [],
   "source": []
  },
  {
   "cell_type": "markdown",
   "id": "6751c609",
   "metadata": {},
   "source": [
    "Question 1:\n",
    "Please write a program using generator to print the numbers which can be divisible by 5 and 7 between 0 and n in comma separated form while n is input by console.\n",
    "Example:\n",
    "If the following n is given as input to the program:\n",
    "100\n",
    "Then, the output of the program should be:\n",
    "0,35,70"
   ]
  },
  {
   "cell_type": "code",
   "execution_count": 1,
   "id": "8c47ac68",
   "metadata": {
    "ExecuteTime": {
     "end_time": "2021-07-16T09:33:00.700328Z",
     "start_time": "2021-07-16T09:32:58.353929Z"
    }
   },
   "outputs": [
    {
     "name": "stdout",
     "output_type": "stream",
     "text": [
      "Enter the limit n: 100\n",
      "0,35,70,"
     ]
    }
   ],
   "source": [
    "# Q1-Ans:\n",
    "\n",
    "def getDividerGenertor(n):\n",
    "    for i in range(0, n+1):\n",
    "        if i%5==0 and i%7==0:\n",
    "            yield i\n",
    "            \n",
    "            \n",
    "            \n",
    "n= int(input(\"Enter the limit n: \"))\n",
    "\n",
    "for x in getDividerGenertor(n):\n",
    "    print(x, end=',')"
   ]
  },
  {
   "cell_type": "code",
   "execution_count": null,
   "id": "3fff8801",
   "metadata": {},
   "outputs": [],
   "source": []
  },
  {
   "cell_type": "markdown",
   "id": "e41a4613",
   "metadata": {
    "ExecuteTime": {
     "end_time": "2021-07-18T17:38:58.870126Z",
     "start_time": "2021-07-18T17:38:58.861961Z"
    }
   },
   "source": [
    "Question 2:\n",
    "Please write a program using generator to print the even numbers between 0 and n in comma separated form while n is input by console.\n",
    "Example:\n",
    "If the following n is given as input to the program:\n",
    "10\n",
    "Then, the output of the program should be:\n",
    "0,2,4,6,8,10"
   ]
  },
  {
   "cell_type": "code",
   "execution_count": null,
   "id": "ab8f9c89",
   "metadata": {
    "ExecuteTime": {
     "end_time": "2021-07-16T09:35:11.750775Z",
     "start_time": "2021-07-16T09:35:09.618603Z"
    }
   },
   "outputs": [],
   "source": [
    "#Q2-Ans:\n",
    "\n",
    "def getEvenNumbers(n):\n",
    "    for i in range(0, n+1):\n",
    "        if i%2==0:\n",
    "            yield i\n",
    "            \n",
    "            \n",
    "n= int(input(\"Enter the limit n: \"))\n",
    "\n",
    "for x in getEvenNumbers(n):\n",
    "    print(x, end=',')"
   ]
  },
  {
   "cell_type": "code",
   "execution_count": null,
   "id": "822f080e",
   "metadata": {},
   "outputs": [],
   "source": []
  },
  {
   "cell_type": "markdown",
   "id": "4d4260fe",
   "metadata": {},
   "source": [
    "Question 3:\n",
    "The Fibonacci Sequence is computed based on the following formula:\n",
    "f(n)=0 if n=0\n",
    "f(n)=1 if n=1\n",
    "f(n)=f(n-1)+f(n-2) if n>1\n",
    "Please write a program using list comprehension to print the Fibonacci Sequence in comma separated form with a given n input by console.\n",
    "Example:\n",
    "If the following n is given as input to the program:\n",
    "7\n",
    "\n",
    "Then, the output of the program should be:\n",
    "0,1,1,2,3,5,8,13"
   ]
  },
  {
   "cell_type": "code",
   "execution_count": 14,
   "id": "1473ad5e",
   "metadata": {
    "ExecuteTime": {
     "end_time": "2021-07-18T17:13:54.857529Z",
     "start_time": "2021-07-18T17:13:53.857878Z"
    }
   },
   "outputs": [
    {
     "name": "stdout",
     "output_type": "stream",
     "text": [
      "Enter the number: 7\n",
      "[0, 1, 1, 2, 3, 5, 8, 13]\n"
     ]
    }
   ],
   "source": [
    "#Q3-Ans:\n",
    "\n",
    "def fibonacci(n):\n",
    "    a,b=0,1\n",
    "    i=0\n",
    "    while i<=n:\n",
    "        yield a\n",
    "        a, b=b,a+b\n",
    "        i+=1\n",
    "    \n",
    "    \n",
    "\n",
    "n= int(input(\"Enter the number: \"))\n",
    "\n",
    "print([x for x in fibonacci(n)])\n",
    "\n",
    "\n",
    "    "
   ]
  },
  {
   "cell_type": "code",
   "execution_count": null,
   "id": "c373b977",
   "metadata": {},
   "outputs": [],
   "source": []
  },
  {
   "cell_type": "markdown",
   "id": "d83d5d35",
   "metadata": {},
   "source": [
    "Question 4:\n",
    "Assuming that we have some email addresses in the \"username@companyname.com\" format, please write program to print the user name of a given email address. Both user names and company names are composed of letters only.\n",
    "Example:\n",
    "If the following email address is given as input to the program:\n",
    "john@google.com\n",
    "Then, the output of the program should be:\n",
    "john"
   ]
  },
  {
   "cell_type": "code",
   "execution_count": 15,
   "id": "386b1958",
   "metadata": {
    "ExecuteTime": {
     "end_time": "2021-07-18T17:17:21.487752Z",
     "start_time": "2021-07-18T17:17:13.887466Z"
    }
   },
   "outputs": [
    {
     "name": "stdout",
     "output_type": "stream",
     "text": [
      "Enter the email_id: visnu@gmail.com\n",
      "The username is: visnu\n"
     ]
    }
   ],
   "source": [
    "# Q4-Ans:\n",
    "\n",
    "def getUsername(email_id):\n",
    "    lst= email_id.split('@')\n",
    "    return lst[0]\n",
    "\n",
    "\n",
    "email= input(\"Enter the email_id: \")\n",
    "\n",
    "print(f\"The username is: {getUsername(email)}\")"
   ]
  },
  {
   "cell_type": "code",
   "execution_count": null,
   "id": "b7bcb176",
   "metadata": {},
   "outputs": [],
   "source": []
  },
  {
   "cell_type": "markdown",
   "id": "f763be25",
   "metadata": {},
   "source": [
    "Question 5:\n",
    "Define a class named Shape and its subclass Square. The Square class has an init function which takes a length as argument. Both classes have a area function which can print the area of the shape where Shape's area is 0 by default."
   ]
  },
  {
   "cell_type": "code",
   "execution_count": 18,
   "id": "49d3b703",
   "metadata": {
    "ExecuteTime": {
     "end_time": "2021-07-18T17:38:33.406536Z",
     "start_time": "2021-07-18T17:38:33.395230Z"
    }
   },
   "outputs": [
    {
     "name": "stdout",
     "output_type": "stream",
     "text": [
      "0\n",
      "100\n"
     ]
    }
   ],
   "source": [
    "#Q5 -Ans:\n",
    "\n",
    "\n",
    "class Shape:\n",
    "    area=0\n",
    "        \n",
    "\n",
    "class Square(Shape):\n",
    "    def __init__(self, length):\n",
    "        self.length=length\n",
    "        \n",
    "    def area(self):\n",
    "        self.area= self.length**2\n",
    "        return self.area\n",
    "    \n",
    "    \n",
    "x= Square(10)\n",
    "\n",
    "y= Shape()\n",
    "\n",
    "print(y.area)\n",
    "\n",
    "print(x.area())"
   ]
  },
  {
   "cell_type": "code",
   "execution_count": null,
   "id": "8fad02a8",
   "metadata": {},
   "outputs": [],
   "source": []
  }
 ],
 "metadata": {
  "hide_input": false,
  "kernelspec": {
   "display_name": "Python 3",
   "language": "python",
   "name": "python3"
  },
  "language_info": {
   "codemirror_mode": {
    "name": "ipython",
    "version": 3
   },
   "file_extension": ".py",
   "mimetype": "text/x-python",
   "name": "python",
   "nbconvert_exporter": "python",
   "pygments_lexer": "ipython3",
   "version": "3.8.8"
  },
  "toc": {
   "base_numbering": 1,
   "nav_menu": {},
   "number_sections": true,
   "sideBar": true,
   "skip_h1_title": false,
   "title_cell": "Table of Contents",
   "title_sidebar": "Contents",
   "toc_cell": false,
   "toc_position": {},
   "toc_section_display": true,
   "toc_window_display": false
  }
 },
 "nbformat": 4,
 "nbformat_minor": 5
}
