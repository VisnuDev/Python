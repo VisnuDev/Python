{
 "cells": [
  {
   "cell_type": "markdown",
   "id": "b28e3b7b",
   "metadata": {},
   "source": [
    "# Visnu_python_basic_programming_assignment_16_ans\n"
   ]
  },
  {
   "cell_type": "code",
   "execution_count": null,
   "id": "20f41304",
   "metadata": {},
   "outputs": [],
   "source": []
  },
  {
   "cell_type": "raw",
   "id": "d4661c36",
   "metadata": {},
   "source": [
    "Question1. Write a function that stutters a word as if someone is struggling to read it. The first two letters are repeated twice with an ellipsis ... and space after each, and then the word is pronounced with a question mark ?.\n",
    "Examples\n",
    "stutter(\"incredible\") ➞ \"in... in... incredible?\"\n",
    "\n",
    "stutter(\"enthusiastic\") ➞ \"en... en... enthusiastic?\"\n",
    "\n",
    "stutter(\"outstanding\") ➞ \"ou... ou... outstanding?\"\n",
    "\n",
    "Hint :- Assume all input is in lower case and at least two characters long.\n"
   ]
  },
  {
   "cell_type": "code",
   "execution_count": 27,
   "id": "0a83a5f7",
   "metadata": {
    "ExecuteTime": {
     "end_time": "2021-07-19T04:12:17.410176Z",
     "start_time": "2021-07-19T04:12:17.392223Z"
    }
   },
   "outputs": [
    {
     "name": "stdout",
     "output_type": "stream",
     "text": [
      "in... in... incredible?\n",
      "en... en... enthusiastic?\n",
      "ou... ou... outstanding?\n",
      "da... da... datascience?\n",
      "Length of word should be atleast 2\n"
     ]
    }
   ],
   "source": [
    "#Q1 -Ans:\n",
    "\n",
    "def stutter(word):\n",
    "    if len(word)>=2:\n",
    "        word= word.lower()\n",
    "        stutter_word=\"\"\n",
    "        stutter_word += word[0:2] +'... '+word[0:2]+'... ' +word+'?'\n",
    "        return stutter_word\n",
    "    else:\n",
    "        return \"Length of word should be atleast 2\"\n",
    "    \n",
    "\n",
    "\n",
    "print(stutter('incredible'))\n",
    "\n",
    "print(stutter(\"enthusiastic\"))\n",
    "\n",
    "print(stutter(\"outstanding\"))\n",
    "\n",
    "\n",
    "print(stutter(\"Datascience\"))\n",
    "\n",
    "print(stutter(\"A\"))\n",
    "\n",
    "    "
   ]
  },
  {
   "cell_type": "code",
   "execution_count": null,
   "id": "3a686699",
   "metadata": {},
   "outputs": [],
   "source": []
  },
  {
   "cell_type": "raw",
   "id": "835943da",
   "metadata": {},
   "source": [
    "Question 2.Create a function that takes an angle in radians and returns the corresponding angle in degrees rounded to one decimal place.\n",
    "Examples\n",
    "radians_to_degrees(1) ➞ 57.3\n",
    "\n",
    "radians_to_degrees(20) ➞ 1145.9\n",
    "\n",
    "radians_to_degrees(50) ➞ 2864.8\n"
   ]
  },
  {
   "cell_type": "code",
   "execution_count": 19,
   "id": "da9cbdd7",
   "metadata": {
    "ExecuteTime": {
     "end_time": "2021-07-19T03:58:05.146148Z",
     "start_time": "2021-07-19T03:58:05.134185Z"
    }
   },
   "outputs": [
    {
     "name": "stdout",
     "output_type": "stream",
     "text": [
      "57.3\n",
      "1145.9\n",
      "2864.8\n"
     ]
    }
   ],
   "source": [
    "#Q2- Ans\n",
    "\n",
    "def radians_to_degrees(rad):\n",
    "    return rad * (57.2958)\n",
    "\n",
    "\n",
    "print('%0.1f' %radians_to_degrees(1))\n",
    "print('%0.1f' %radians_to_degrees(20))\n",
    "print('%0.1f' %radians_to_degrees(50))\n"
   ]
  },
  {
   "cell_type": "code",
   "execution_count": null,
   "id": "16f1debc",
   "metadata": {},
   "outputs": [],
   "source": []
  },
  {
   "cell_type": "raw",
   "id": "a5a58455",
   "metadata": {},
   "source": [
    "Question 3. In this challenge, establish if a given integer num is a Curzon number. If 1 plus 2 elevated to num is exactly divisible by 1 plus 2 multiplied by num, then num is a Curzon number.\n",
    "Given a non-negative integer num, implement a function that returns True if num is a Curzon number, or False otherwise.\n",
    "Examples\n",
    "is_curzon(5) ➞ True\n",
    "# 2 ** 5 + 1 = 33\n",
    "# 2 * 5 + 1 = 11\n",
    "# 33 is a multiple of 11\n",
    "\n",
    "is_curzon(10) ➞ False\n",
    "# 2 ** 10 + 1 = 1025\n",
    "# 2 * 10 + 1 = 21\n",
    "# 1025 is not a multiple of 21\n",
    "\n",
    "is_curzon(14) ➞ True\n",
    "# 2 ** 14 + 1 = 16385\n",
    "# 2 * 14 + 1 = 29\n",
    "# 16385 is a multiple of 29"
   ]
  },
  {
   "cell_type": "code",
   "execution_count": 13,
   "id": "34f8d604",
   "metadata": {
    "ExecuteTime": {
     "end_time": "2021-07-19T03:50:46.320696Z",
     "start_time": "2021-07-19T03:50:46.298756Z"
    }
   },
   "outputs": [
    {
     "name": "stdout",
     "output_type": "stream",
     "text": [
      "True\n",
      "False\n",
      "True\n",
      "False\n"
     ]
    }
   ],
   "source": [
    "#Q3- Ans:\n",
    "\n",
    "def is_curzon(num):\n",
    "    a= 2*num +1\n",
    "    b= 2 ** num +1\n",
    "    if b%a==0:\n",
    "        return True\n",
    "    else:\n",
    "        return False\n",
    "    \n",
    "\n",
    "    \n",
    "print(is_curzon(5))\n",
    "print(is_curzon(10))\n",
    "print(is_curzon(14))\n",
    "\n",
    "print(is_curzon(25))\n",
    "\n"
   ]
  },
  {
   "cell_type": "code",
   "execution_count": null,
   "id": "8f509bf2",
   "metadata": {},
   "outputs": [],
   "source": []
  },
  {
   "cell_type": "raw",
   "id": "33076400",
   "metadata": {},
   "source": [
    "Question 4.Given the side length x find the area of a hexagon.\n",
    " \n",
    "Examples\n",
    "area_of_hexagon(1) ➞ 2.6\n",
    "\n",
    "area_of_hexagon(2) ➞ 10.4\n",
    "\n",
    "area_of_hexagon(3) ➞ 23.4"
   ]
  },
  {
   "cell_type": "code",
   "execution_count": 10,
   "id": "493e76d7",
   "metadata": {
    "ExecuteTime": {
     "end_time": "2021-07-19T03:11:08.081551Z",
     "start_time": "2021-07-19T03:11:08.068846Z"
    }
   },
   "outputs": [
    {
     "name": "stdout",
     "output_type": "stream",
     "text": [
      "2.598076211353316\n",
      "10.392304845413264\n",
      "23.382685902179844\n",
      "127.30573435631248\n"
     ]
    }
   ],
   "source": [
    "#Q4 - Ans\n",
    "import math\n",
    "\n",
    "def area_of_hexagon(size):\n",
    "    area= (3/2) *math.sqrt(3)* size**2\n",
    "    return area\n",
    "\n",
    "\n",
    "print(area_of_hexagon(1))\n",
    "print(area_of_hexagon(2))\n",
    "print(area_of_hexagon(3))\n",
    "\n",
    "print(area_of_hexagon(7))"
   ]
  },
  {
   "cell_type": "code",
   "execution_count": null,
   "id": "5ad7bd35",
   "metadata": {},
   "outputs": [],
   "source": [
    "\n"
   ]
  },
  {
   "cell_type": "raw",
   "id": "ab6d2fbe",
   "metadata": {},
   "source": [
    "Question 5. Create a function that returns a base-2 (binary) representation of a base-10 (decimal) string number. To convert is simple: ((2) means base-2 and (10) means base-10) 010101001(2) = 1 + 8 + 32 + 128.\n",
    "Going from right to left, the value of the most right bit is 1, now from that every bit to the left will be x2 the value, value of an 8 bit binary numbers are (256, 128, 64, 32, 16, 8, 4, 2, 1).\n",
    "Examples\n",
    "binary(1) ➞ \"1\"\n",
    "# 1*1 = 1\n",
    "\n",
    "binary(5) ➞ \"101\"\n",
    "# 1*1 + 1*4 = 5\n",
    "\n",
    "binary(10) ➞ \"1010\"\n",
    "# 1*2 + 1*8 = 10\n"
   ]
  },
  {
   "cell_type": "code",
   "execution_count": 7,
   "id": "bc1a01fc",
   "metadata": {
    "ExecuteTime": {
     "end_time": "2021-07-19T03:06:28.343627Z",
     "start_time": "2021-07-19T03:06:28.327034Z"
    }
   },
   "outputs": [
    {
     "name": "stdout",
     "output_type": "stream",
     "text": [
      "1\n",
      "101\n",
      "1010\n",
      "10101101\n"
     ]
    }
   ],
   "source": [
    "#Q5-Ans:\n",
    "\n",
    "def binary(num):\n",
    "    result= \"\"\n",
    "    while num>0:\n",
    "        rem= num%2\n",
    "        num=num//2\n",
    "        result=str(rem) + result\n",
    "    return result\n",
    "\n",
    "\n",
    "\n",
    "print(binary(1))\n",
    "\n",
    "print(binary(5))\n",
    "\n",
    "print(binary(10))\n",
    "\n",
    "print(binary(173))"
   ]
  },
  {
   "cell_type": "code",
   "execution_count": null,
   "id": "c5810423",
   "metadata": {
    "ExecuteTime": {
     "end_time": "2021-07-19T04:01:25.012501Z",
     "start_time": "2021-07-19T04:01:24.978588Z"
    }
   },
   "outputs": [],
   "source": []
  },
  {
   "cell_type": "code",
   "execution_count": null,
   "id": "731749be",
   "metadata": {},
   "outputs": [],
   "source": []
  }
 ],
 "metadata": {
  "hide_input": false,
  "kernelspec": {
   "display_name": "Python 3",
   "language": "python",
   "name": "python3"
  },
  "language_info": {
   "codemirror_mode": {
    "name": "ipython",
    "version": 3
   },
   "file_extension": ".py",
   "mimetype": "text/x-python",
   "name": "python",
   "nbconvert_exporter": "python",
   "pygments_lexer": "ipython3",
   "version": "3.8.8"
  },
  "toc": {
   "base_numbering": 1,
   "nav_menu": {},
   "number_sections": true,
   "sideBar": true,
   "skip_h1_title": false,
   "title_cell": "Table of Contents",
   "title_sidebar": "Contents",
   "toc_cell": false,
   "toc_position": {},
   "toc_section_display": true,
   "toc_window_display": false
  }
 },
 "nbformat": 4,
 "nbformat_minor": 5
}
