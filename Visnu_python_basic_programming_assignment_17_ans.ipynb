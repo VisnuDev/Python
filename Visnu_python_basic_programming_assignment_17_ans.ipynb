{
 "cells": [
  {
   "cell_type": "markdown",
   "id": "a2f98435",
   "metadata": {},
   "source": [
    "# Visnu_python_basic_programming_assignment_17_ans"
   ]
  },
  {
   "cell_type": "raw",
   "id": "acf1da78",
   "metadata": {},
   "source": [
    "Question1. Create a function that takes three arguments a, b, c and returns the sum of the numbers that are evenly divided by c from the range a, b inclusive.\n",
    "Examples\n",
    "evenly_divisible(1, 10, 20) ➞ 0\n",
    "# No number between 1 and 10 can be evenly divided by 20.\n",
    "\n",
    "evenly_divisible(1, 10, 2) ➞ 30\n",
    "# 2 + 4 + 6 + 8 + 10 = 30\n",
    "\n",
    "evenly_divisible(1, 10, 3) ➞ 18\n",
    "# 3 + 6 + 9 = 18\n"
   ]
  },
  {
   "cell_type": "code",
   "execution_count": 25,
   "id": "e35a1e88",
   "metadata": {
    "ExecuteTime": {
     "end_time": "2021-07-19T15:55:11.311191Z",
     "start_time": "2021-07-19T15:55:11.296970Z"
    }
   },
   "outputs": [
    {
     "name": "stdout",
     "output_type": "stream",
     "text": [
      "0\n",
      "18\n",
      "30\n"
     ]
    }
   ],
   "source": [
    "# Q1-Ans:\n",
    "\n",
    "def evenly_divisible(a, b, c):\n",
    "    if c > b or a > b:\n",
    "        return 0\n",
    "    else:\n",
    "        add=0\n",
    "        for i in range(a, b+1):\n",
    "            if i%c==0:\n",
    "                add+=i\n",
    "    return add\n",
    "\n",
    "\n",
    "print(evenly_divisible(1, 10, 20))\n",
    "\n",
    "print(evenly_divisible(1, 10, 3))\n",
    "\n",
    "print(evenly_divisible(1, 10, 2))"
   ]
  },
  {
   "cell_type": "code",
   "execution_count": null,
   "id": "6d743472",
   "metadata": {},
   "outputs": [],
   "source": []
  },
  {
   "cell_type": "raw",
   "id": "e703a042",
   "metadata": {},
   "source": [
    "Question2. Create a function that returns True if a given inequality expression is correct and False otherwise.\n",
    "Examples\n",
    "correct_signs(\"3 < 7 < 11\") ➞ True\n",
    "\n",
    "correct_signs(\"13 > 44 > 33 > 1\") ➞ False\n",
    "\n",
    "correct_signs(\"1 < 2 < 6 < 9 > 3\") ➞ True"
   ]
  },
  {
   "cell_type": "code",
   "execution_count": 24,
   "id": "9a96ab9d",
   "metadata": {
    "ExecuteTime": {
     "end_time": "2021-07-19T15:49:54.360632Z",
     "start_time": "2021-07-19T15:49:54.334692Z"
    }
   },
   "outputs": [
    {
     "name": "stdout",
     "output_type": "stream",
     "text": [
      "True\n",
      "False\n",
      "True\n"
     ]
    }
   ],
   "source": [
    "#Q2- Ans:\n",
    "\n",
    "def correct_signs(expr):\n",
    "    lst= expr.split()\n",
    "    n= int(len(lst)/2)\n",
    "    for i in range(0,n,2):\n",
    "        if lst[i+1]=='<':\n",
    "            if lst[i]<lst[i+2]:\n",
    "                flag=0\n",
    "            else:\n",
    "                return False\n",
    "        elif lst[i+1]=='>':\n",
    "            if lst[i]>lst[i+2]:\n",
    "                flag=0\n",
    "            else:\n",
    "                return False\n",
    "    if flag==0:\n",
    "        return True\n",
    "    \n",
    "    \n",
    "    \n",
    "print(correct_signs(\"3 < 7 < 11\"))\n",
    "\n",
    "print(correct_signs(\"13 > 44 > 33 > 1\"))\n",
    "            \n",
    "\n",
    "print(correct_signs(\"1 < 2 < 6 < 9 > 3\"))"
   ]
  },
  {
   "cell_type": "code",
   "execution_count": null,
   "id": "a30db6b4",
   "metadata": {},
   "outputs": [],
   "source": []
  },
  {
   "cell_type": "raw",
   "id": "7c24bea9",
   "metadata": {},
   "source": [
    "Question3. Create a function that replaces all the vowels in a string with a specified character.\n",
    "Examples\n",
    "replace_vowels(\"the aardvark\", \"#\") ➞ \"th# ##rdv#rk\"\n",
    "\n",
    "replace_vowels(\"minnie mouse\", \"?\") ➞ \"m?nn?? m??s?\"\n",
    "\n",
    "replace_vowels(\"shakespeare\", \"*\") ➞ \"sh*k*sp**r*\""
   ]
  },
  {
   "cell_type": "code",
   "execution_count": 21,
   "id": "dc52fedb",
   "metadata": {
    "ExecuteTime": {
     "end_time": "2021-07-19T15:27:50.234709Z",
     "start_time": "2021-07-19T15:27:50.221961Z"
    }
   },
   "outputs": [
    {
     "name": "stdout",
     "output_type": "stream",
     "text": [
      "th# ##rdv#rk\n",
      "m?nn?? m??s?\n",
      "sh*k*sp**r*\n"
     ]
    }
   ],
   "source": [
    "#Q3- Ans:\n",
    "\n",
    "def replace_vowels(string, char):\n",
    "    vowels='aeiou'\n",
    "    for i in range(len(string)):\n",
    "        if string[i] in vowels:\n",
    "            string= string[:i] + char + string[i+1: ]\n",
    "    return string\n",
    "\n",
    "\n",
    "\n",
    "print(replace_vowels(\"the aardvark\", \"#\"))\n",
    "\n",
    "print(replace_vowels(\"minnie mouse\", \"?\"))\n",
    "\n",
    "print(replace_vowels(\"shakespeare\", \"*\"))\n"
   ]
  },
  {
   "cell_type": "code",
   "execution_count": null,
   "id": "23f01abd",
   "metadata": {},
   "outputs": [],
   "source": []
  },
  {
   "cell_type": "raw",
   "id": "c8ed5c07",
   "metadata": {},
   "source": [
    "Question4. Write a function that calculates the factorial of a number recursively.\n",
    "Examples\n",
    "factorial(5) ➞ 120\n",
    "\n",
    "factorial(3) ➞ 6\n",
    "\n",
    "factorial(1) ➞ 1\n",
    "\n",
    "factorial(0) ➞ 1\n"
   ]
  },
  {
   "cell_type": "code",
   "execution_count": 13,
   "id": "04f355c8",
   "metadata": {
    "ExecuteTime": {
     "end_time": "2021-07-19T15:18:59.311429Z",
     "start_time": "2021-07-19T15:18:59.292323Z"
    }
   },
   "outputs": [
    {
     "name": "stdout",
     "output_type": "stream",
     "text": [
      "5040\n",
      "120\n",
      "6\n",
      "1\n",
      "1\n"
     ]
    }
   ],
   "source": [
    "#Q4-Ans:\n",
    "\n",
    "def fact_rec(num):\n",
    "    if num==0:\n",
    "        return 1\n",
    "    else:\n",
    "        return num * fact_rec(num-1)\n",
    "    \n",
    "\n",
    "    \n",
    "    \n",
    "print(fact_rec(7))\n",
    "\n",
    "print(fact_rec(5))\n",
    "\n",
    "print(fact_rec(3))\n",
    "\n",
    "print(fact_rec(1))\n",
    "\n",
    "print(fact_rec(0))\n"
   ]
  },
  {
   "cell_type": "code",
   "execution_count": null,
   "id": "39b57a43",
   "metadata": {},
   "outputs": [],
   "source": []
  },
  {
   "cell_type": "raw",
   "id": "12a6ad9f",
   "metadata": {},
   "source": [
    "Question 5\n",
    "Hamming distance is the number of characters that differ between two strings.\n",
    "To illustrate:\n",
    "String1: \"abcbba\"\n",
    "String2: \"abcbda\"\n",
    "\n",
    "Hamming Distance: 1 - \"b\" vs. \"d\" is the only difference.\n",
    "Create a function that computes the hamming distance between two strings.\n",
    "Examples\n",
    "hamming_distance(\"abcde\", \"bcdef\") ➞ 5\n",
    "\n",
    "hamming_distance(\"abcde\", \"abcde\") ➞ 0\n",
    "\n",
    "hamming_distance(\"strong\", \"strung\") ➞ 1"
   ]
  },
  {
   "cell_type": "code",
   "execution_count": 2,
   "id": "59f4f30d",
   "metadata": {
    "ExecuteTime": {
     "end_time": "2021-07-19T15:05:23.548650Z",
     "start_time": "2021-07-19T15:05:23.532495Z"
    }
   },
   "outputs": [
    {
     "name": "stdout",
     "output_type": "stream",
     "text": [
      "5\n",
      "0\n",
      "1\n"
     ]
    }
   ],
   "source": [
    "#Q5- Ans:\n",
    "\n",
    "def hamming_distance(str1, str2):\n",
    "    if len(str1)!=len(str2):\n",
    "        print(\"The length of the strings are not equal\")\n",
    "    else:\n",
    "        dis=0\n",
    "        for i in range(len(str1)):\n",
    "            if str1[i]!=str2[i]:\n",
    "                dis+=1\n",
    "    return dis\n",
    "\n",
    "\n",
    "print(hamming_distance(\"abcde\", \"bcdef\"))\n",
    "\n",
    "print(hamming_distance(\"abcde\", \"abcde\"))\n",
    "\n",
    "print(hamming_distance(\"strong\", \"strung\")) "
   ]
  },
  {
   "cell_type": "code",
   "execution_count": null,
   "id": "057155da",
   "metadata": {},
   "outputs": [],
   "source": []
  }
 ],
 "metadata": {
  "hide_input": false,
  "kernelspec": {
   "display_name": "Python 3",
   "language": "python",
   "name": "python3"
  },
  "language_info": {
   "codemirror_mode": {
    "name": "ipython",
    "version": 3
   },
   "file_extension": ".py",
   "mimetype": "text/x-python",
   "name": "python",
   "nbconvert_exporter": "python",
   "pygments_lexer": "ipython3",
   "version": "3.8.8"
  },
  "toc": {
   "base_numbering": 1,
   "nav_menu": {},
   "number_sections": true,
   "sideBar": true,
   "skip_h1_title": false,
   "title_cell": "Table of Contents",
   "title_sidebar": "Contents",
   "toc_cell": false,
   "toc_position": {},
   "toc_section_display": true,
   "toc_window_display": false
  }
 },
 "nbformat": 4,
 "nbformat_minor": 5
}
