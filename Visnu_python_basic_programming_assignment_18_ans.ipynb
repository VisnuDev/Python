{
 "cells": [
  {
   "cell_type": "markdown",
   "id": "e170deef",
   "metadata": {
    "ExecuteTime": {
     "end_time": "2021-07-19T15:57:00.495654Z",
     "start_time": "2021-07-19T15:57:00.127137Z"
    }
   },
   "source": [
    "# Visnu_python_basic_programming_assignment_18_ans"
   ]
  },
  {
   "cell_type": "code",
   "execution_count": null,
   "id": "e15570de",
   "metadata": {},
   "outputs": [],
   "source": []
  },
  {
   "cell_type": "raw",
   "id": "230a2343",
   "metadata": {},
   "source": [
    "Question 1\n",
    "Create a function that takes a list of non-negative integers and strings and return a new list without the strings.\n",
    "Examples\n",
    "filter_list([1, 2, \"a\", \"b\"]) ➞ [1, 2]\n",
    "\n",
    "filter_list([1, \"a\", \"b\", 0, 15]) ➞ [1, 0, 15]\n",
    "\n",
    "filter_list([1, 2, \"aasf\", \"1\", \"123\", 123]) ➞ [1, 2, 123]"
   ]
  },
  {
   "cell_type": "code",
   "execution_count": 13,
   "id": "c2a5b608",
   "metadata": {
    "ExecuteTime": {
     "end_time": "2021-07-19T16:52:22.064689Z",
     "start_time": "2021-07-19T16:52:22.040754Z"
    }
   },
   "outputs": [
    {
     "name": "stdout",
     "output_type": "stream",
     "text": [
      "[1, 2]\n",
      "[1, 0, 15]\n",
      "[1, 2, 123]\n"
     ]
    }
   ],
   "source": [
    "#Q1-Ans:\n",
    "\n",
    "def filter_list(lst):\n",
    "    fil_lst=[]\n",
    "    for i in range(len(lst)):\n",
    "        if type(lst[i])!=str:\n",
    "            fil_lst.append(lst[i])\n",
    "    return fil_lst\n",
    "\n",
    "\n",
    "print(filter_list([1, 2, \"a\", \"b\"]))\n",
    "\n",
    "print(filter_list([1, \"a\", \"b\", 0, 15]))\n",
    "\n",
    "print(filter_list([1, 2, \"aasf\", \"1\", \"123\", 123]))"
   ]
  },
  {
   "cell_type": "code",
   "execution_count": null,
   "id": "e4b13bff",
   "metadata": {},
   "outputs": [],
   "source": []
  },
  {
   "cell_type": "code",
   "execution_count": null,
   "id": "6f6434e5",
   "metadata": {},
   "outputs": [],
   "source": [
    "Question 2\n",
    "The \"Reverser\" takes a string as input and returns that string in reverse order, with the opposite case.\n",
    "Examples\n",
    "reverse(\"Hello World\") ➞ \"DLROw OLLEh\"\n",
    "\n",
    "reverse(\"ReVeRsE\") ➞ \"eSrEvEr\"\n",
    "\n",
    "reverse(\"Radar\") ➞ \"RADAr\""
   ]
  },
  {
   "cell_type": "code",
   "execution_count": 12,
   "id": "f6ab546d",
   "metadata": {
    "ExecuteTime": {
     "end_time": "2021-07-19T16:48:49.672628Z",
     "start_time": "2021-07-19T16:48:49.653645Z"
    }
   },
   "outputs": [
    {
     "name": "stdout",
     "output_type": "stream",
     "text": [
      "DLROw OLLEh\n",
      "eSrEvEr\n",
      "RADAr\n"
     ]
    }
   ],
   "source": [
    "#Q2-Ans:\n",
    "\n",
    "def reverse(word):\n",
    "    rev_word=\"\"\n",
    "\n",
    "    for i in range(len(word)-1, -1, -1):\n",
    "        rev_word += word[i].swapcase()\n",
    "    return rev_word\n",
    "\n",
    "\n",
    "print(reverse(\"Hello World\"))\n",
    "\n",
    "print(reverse(\"ReVeRsE\"))\n",
    "\n",
    "print(reverse(\"Radar\"))"
   ]
  },
  {
   "cell_type": "code",
   "execution_count": null,
   "id": "c9062099",
   "metadata": {},
   "outputs": [],
   "source": []
  },
  {
   "cell_type": "code",
   "execution_count": null,
   "id": "4e670fd9",
   "metadata": {},
   "outputs": [],
   "source": [
    "\n",
    "\n",
    "\n",
    "Question 3\n",
    "You can assign variables from lists like this:\n",
    "lst = [1, 2, 3, 4, 5, 6]\n",
    "first = lst[0]\n",
    "middle = lst[1:-1]\n",
    "last = lst[-1]\n",
    "\n",
    "print(first) ➞ outputs 1\n",
    "print(middle) ➞ outputs [2, 3, 4, 5]\n",
    "print(last) ➞ outputs 6\n",
    "With Python 3, you can assign variables from lists in a much more succinct way. Create variables first, middle and last from the given list using destructuring assignment (check the Resources tab for some examples), where:\n",
    "first  ➞ 1\n",
    "\n",
    "middle ➞ [2, 3, 4, 5]\n",
    "\n",
    "last ➞ 6\n",
    "Your task is to unpack the list writeyourcodehere into three variables, being first, middle, and last, with middle being everything in between the first and last element. Then print all three variables.\n",
    "\n",
    "\n",
    "\n",
    "\n",
    "\n"
   ]
  },
  {
   "cell_type": "code",
   "execution_count": 2,
   "id": "2cd0a9c1",
   "metadata": {
    "ExecuteTime": {
     "end_time": "2021-07-26T15:13:12.671274Z",
     "start_time": "2021-07-26T15:13:12.657312Z"
    }
   },
   "outputs": [
    {
     "name": "stdout",
     "output_type": "stream",
     "text": [
      "1\n",
      "[2, 3, 4, 5]\n",
      "6\n"
     ]
    }
   ],
   "source": [
    "#Q3-Ans:\n",
    "\n",
    "#using destructuring assignment\n",
    "\n",
    "lst=[1,2,3,4,5,6]\n",
    "\n",
    "first, *middle, last = lst\n",
    "\n",
    "print(first)\n",
    "print(middle)\n",
    "print(last)"
   ]
  },
  {
   "cell_type": "code",
   "execution_count": null,
   "id": "f6ccc48d",
   "metadata": {},
   "outputs": [],
   "source": []
  },
  {
   "cell_type": "raw",
   "id": "ff3f28f9",
   "metadata": {},
   "source": [
    "Question 4\n",
    "Write a function that calculates the factorial of a number recursively.\n",
    "Examples\n",
    "factorial(5) ➞ 120\n",
    "\n",
    "factorial(3) ➞ 6\n",
    "\n",
    "factorial(1) ➞ 1\n",
    "\n",
    "factorial(0) ➞ 1"
   ]
  },
  {
   "cell_type": "code",
   "execution_count": 5,
   "id": "bf0ed06f",
   "metadata": {
    "ExecuteTime": {
     "end_time": "2021-07-19T16:37:52.982061Z",
     "start_time": "2021-07-19T16:37:52.968099Z"
    }
   },
   "outputs": [
    {
     "name": "stdout",
     "output_type": "stream",
     "text": [
      "120\n",
      "24\n",
      "6\n",
      "2\n",
      "1\n",
      "1\n"
     ]
    }
   ],
   "source": [
    "#Q4-Ans:\n",
    "\n",
    "def factorial(num):\n",
    "    if num==0:\n",
    "        return 1\n",
    "    else:\n",
    "        return num * factorial(num-1)\n",
    "    \n",
    "    \n",
    "print(factorial(5))\n",
    "\n",
    "print(factorial(4))\n",
    "print(factorial(3))\n",
    "print(factorial(2))\n",
    "\n",
    "print(factorial(1))\n",
    "\n",
    "print(factorial(0))"
   ]
  },
  {
   "cell_type": "code",
   "execution_count": null,
   "id": "678ef896",
   "metadata": {},
   "outputs": [],
   "source": []
  },
  {
   "cell_type": "raw",
   "id": "df6c52c4",
   "metadata": {},
   "source": [
    "Question 5\n",
    "Write a function that moves all elements of one type to the end of the list.\n",
    "Examples\n",
    "move_to_end([1, 3, 2, 4, 4, 1], 1) ➞ [3, 2, 4, 4, 1, 1]\n",
    "# Move all the 1s to the end of the array.\n",
    "\n",
    "move_to_end([7, 8, 9, 1, 2, 3, 4], 9) ➞ [7, 8, 1, 2, 3, 4, 9]\n",
    "\n",
    "move_to_end([\"a\", \"a\", \"a\", \"b\"], \"a\") ➞ [\"b\", \"a\", \"a\", \"a\"]\n"
   ]
  },
  {
   "cell_type": "code",
   "execution_count": 4,
   "id": "d3780527",
   "metadata": {
    "ExecuteTime": {
     "end_time": "2021-07-19T16:34:44.761551Z",
     "start_time": "2021-07-19T16:34:44.739461Z"
    }
   },
   "outputs": [
    {
     "name": "stdout",
     "output_type": "stream",
     "text": [
      "[3, 2, 4, 4, 1, 1]\n",
      "['a', 'a', 'a', 'b']\n"
     ]
    }
   ],
   "source": [
    "#Q5- Ans:\n",
    "\n",
    "def move_to_end(lst, el):\n",
    "    i, j= 0, len(lst)\n",
    "    while i<j:\n",
    "        if lst[i]==el:\n",
    "            k=i\n",
    "            while lst[k+1]!=el:\n",
    "                lst[k], lst[k+1]= lst[k+1], lst[k]\n",
    "                k+=1\n",
    "            j=k\n",
    "        else:\n",
    "            pass\n",
    "        i+=1\n",
    "    return lst\n",
    "\n",
    "\n",
    "\n",
    "\n",
    "print(move_to_end([1, 3, 2, 4, 4, 1], 1))\n",
    "            \n",
    "#print(move_to_end([7, 8, 9, 1, 2, 3, 4], 9))\n",
    "\n",
    "print(move_to_end([\"a\", \"a\", \"a\", \"b\"], \"a\")\n",
    "    "
   ]
  },
  {
   "cell_type": "code",
   "execution_count": null,
   "id": "391a9166",
   "metadata": {},
   "outputs": [],
   "source": []
  }
 ],
 "metadata": {
  "hide_input": false,
  "kernelspec": {
   "display_name": "Python 3",
   "language": "python",
   "name": "python3"
  },
  "language_info": {
   "codemirror_mode": {
    "name": "ipython",
    "version": 3
   },
   "file_extension": ".py",
   "mimetype": "text/x-python",
   "name": "python",
   "nbconvert_exporter": "python",
   "pygments_lexer": "ipython3",
   "version": "3.8.8"
  },
  "toc": {
   "base_numbering": 1,
   "nav_menu": {},
   "number_sections": true,
   "sideBar": true,
   "skip_h1_title": false,
   "title_cell": "Table of Contents",
   "title_sidebar": "Contents",
   "toc_cell": false,
   "toc_position": {},
   "toc_section_display": true,
   "toc_window_display": false
  }
 },
 "nbformat": 4,
 "nbformat_minor": 5
}
