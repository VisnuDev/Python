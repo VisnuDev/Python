{
 "cells": [
  {
   "cell_type": "markdown",
   "id": "3398589c",
   "metadata": {},
   "source": [
    "# Visnu_python_basic_programming_assignment_19_ans"
   ]
  },
  {
   "cell_type": "code",
   "execution_count": null,
   "id": "e93adeb3",
   "metadata": {},
   "outputs": [],
   "source": []
  },
  {
   "cell_type": "code",
   "execution_count": null,
   "id": "af1c5a68",
   "metadata": {},
   "outputs": [],
   "source": [
    "Question1\n",
    "Create a function that takes a string and returns a string in which each character is repeated once.\n",
    "Examples\n",
    "double_char(\"String\") ➞ \"SSttrriinngg\"\n",
    "\n",
    "double_char(\"Hello World!\") ➞ \"HHeelllloo  WWoorrlldd!!\"\n",
    "\n",
    "double_char(\"1234!_ \") ➞ \"11223344!!__  \"\n",
    "\n",
    "\n"
   ]
  },
  {
   "cell_type": "code",
   "execution_count": 18,
   "id": "74fada6b",
   "metadata": {
    "ExecuteTime": {
     "end_time": "2021-07-26T16:03:08.942845Z",
     "start_time": "2021-07-26T16:03:08.926886Z"
    }
   },
   "outputs": [
    {
     "name": "stdout",
     "output_type": "stream",
     "text": [
      "SSttrriinngg\n",
      "HHeelllloo  WWoorrlldd\n",
      "11223344!!__  \n"
     ]
    }
   ],
   "source": [
    "#Q1 Ans:\n",
    "\n",
    "def double_char(string):\n",
    "    double_str=\"\"\n",
    "    for x in string:\n",
    "        double_str += x*2\n",
    "    return double_str\n",
    "\n",
    "\n",
    "\n",
    "\n",
    "\n",
    "print(double_char(\"String\"))\n",
    "        \n",
    "print(double_char(\"Hello World\"))\n",
    "\n",
    "print(double_char(\"1234!_ \"))"
   ]
  },
  {
   "cell_type": "code",
   "execution_count": null,
   "id": "b74a7b56",
   "metadata": {},
   "outputs": [],
   "source": []
  },
  {
   "cell_type": "code",
   "execution_count": null,
   "id": "3fbcb791",
   "metadata": {},
   "outputs": [],
   "source": [
    "Question2\n",
    "Create a function that reverses a boolean value and returns the string \"boolean expected\" if another variable type is given.\n",
    "Examples\n",
    "reverse(True) ➞ False\n",
    "\n",
    "reverse(False) ➞ True\n",
    "\n",
    "reverse(0) ➞ \"boolean expected\"\n",
    "\n",
    "reverse(None) ➞ \"boolean expected\""
   ]
  },
  {
   "cell_type": "code",
   "execution_count": 15,
   "id": "a1d8819e",
   "metadata": {
    "ExecuteTime": {
     "end_time": "2021-07-26T15:59:24.378083Z",
     "start_time": "2021-07-26T15:59:24.364116Z"
    }
   },
   "outputs": [
    {
     "name": "stdout",
     "output_type": "stream",
     "text": [
      "False\n",
      "True\n",
      "boolean expected\n",
      "boolean expected\n",
      "boolean expected\n"
     ]
    }
   ],
   "source": [
    "#Q2 Ans:\n",
    "\n",
    "def reverse(state):\n",
    "    if type(state) != bool:\n",
    "        return \"boolean expected\"\n",
    "    else:\n",
    "        return not(state)\n",
    "    \n",
    "    \n",
    "    \n",
    "    \n",
    "    \n",
    "print(reverse(True))\n",
    "\n",
    "print(reverse(False))\n",
    "\n",
    "print(reverse(1))\n",
    "\n",
    "print(reverse(\"DS\"))\n",
    "\n",
    "print(reverse(None))\n",
    "\n",
    "\n",
    "\n"
   ]
  },
  {
   "cell_type": "code",
   "execution_count": null,
   "id": "f3c63504",
   "metadata": {},
   "outputs": [],
   "source": []
  },
  {
   "cell_type": "raw",
   "id": "c5ed8a7f",
   "metadata": {},
   "source": [
    "Question3\n",
    "Create a function that returns the thickness (in meters) of a piece of paper after folding it n number of times. The paper starts off with a thickness of 0.5mm.\n",
    "Examples\n",
    "num_layers(1) ➞ \"0.001m\"\n",
    "# Paper folded once is 1mm (equal to 0.001m)\n",
    "\n",
    "num_layers(4) ➞ \"0.008m\"\n",
    "# Paper folded 4 times is 8mm (equal to 0.008m)\n",
    "\n",
    "num_layers(21) ➞ \"1048.576m\"\n",
    "# Paper folded 21 times is 1048576mm (equal to 1048.576m)"
   ]
  },
  {
   "cell_type": "code",
   "execution_count": 12,
   "id": "c33bed42",
   "metadata": {
    "ExecuteTime": {
     "end_time": "2021-07-26T15:44:56.485523Z",
     "start_time": "2021-07-26T15:44:56.475550Z"
    }
   },
   "outputs": [
    {
     "name": "stdout",
     "output_type": "stream",
     "text": [
      "0.001m\n",
      "0.008m\n",
      "1048.576m\n"
     ]
    }
   ],
   "source": [
    "#Q3 Ans:\n",
    "\n",
    "def num_layers(n):\n",
    "    thick= 0.5/1000\n",
    "    final_thick=thick\n",
    "    for i in range(0, n):\n",
    "        final_thick *= 2\n",
    "    return final_thick\n",
    "\n",
    "\n",
    "print(f\"{num_layers(1)}m\")\n",
    "\n",
    "print(f\"{num_layers(4)}m\")\n",
    "        \n",
    "print(f\"{num_layers(21)}m\")"
   ]
  },
  {
   "cell_type": "code",
   "execution_count": null,
   "id": "9a9ef05d",
   "metadata": {},
   "outputs": [],
   "source": []
  },
  {
   "cell_type": "raw",
   "id": "18aedae5",
   "metadata": {},
   "source": [
    "Question4\n",
    "Create a function that takes a single string as argument and returns an ordered list containing the indices of all capital letters in the string.\n",
    "Examples\n",
    "index_of_caps(\"eDaBiT\") ➞ [1, 3, 5]\n",
    "\n",
    "index_of_caps(\"eQuINoX\") ➞ [1, 3, 4, 6]\n",
    "\n",
    "index_of_caps(\"determine\") ➞ []\n",
    "\n",
    "index_of_caps(\"STRIKE\") ➞ [0, 1, 2, 3, 4, 5]\n",
    "\n",
    "index_of_caps(\"sUn\") ➞ [1]"
   ]
  },
  {
   "cell_type": "code",
   "execution_count": 8,
   "id": "a3a1b34a",
   "metadata": {
    "ExecuteTime": {
     "end_time": "2021-07-26T15:24:29.329416Z",
     "start_time": "2021-07-26T15:24:29.314456Z"
    }
   },
   "outputs": [
    {
     "name": "stdout",
     "output_type": "stream",
     "text": [
      "[1, 3, 5]\n",
      "[1, 3, 4, 6]\n",
      "[]\n",
      "[0, 1, 2, 3, 4, 5]\n",
      "[1]\n"
     ]
    }
   ],
   "source": [
    "#Q4 Ans:\n",
    "\n",
    "\n",
    "def index_of_caps(string):\n",
    "    cap_index=[i for i in range(0, len(string)) if string[i].isupper() ]\n",
    "    return cap_index\n",
    "\n",
    "print(index_of_caps(\"eDaBiT\"))\n",
    "print(index_of_caps(\"eQuINoX\"))\n",
    "\n",
    "print(index_of_caps(\"determine\"))\n",
    "\n",
    "print(index_of_caps(\"STRIKE\"))\n",
    "\n",
    "print(index_of_caps(\"sUn\"))"
   ]
  },
  {
   "cell_type": "code",
   "execution_count": null,
   "id": "fcc5d13a",
   "metadata": {},
   "outputs": [],
   "source": []
  },
  {
   "cell_type": "raw",
   "id": "351f377a",
   "metadata": {},
   "source": [
    "Question5\n",
    "Using list comprehensions, create a function that finds all even numbers from 1 to the given number.\n",
    "Examples\n",
    "find_even_nums(8) ➞ [2, 4, 6, 8]\n",
    "\n",
    "find_even_nums(4) ➞ [2, 4]\n",
    "\n",
    "find_even_nums(2) ➞ [2]"
   ]
  },
  {
   "cell_type": "code",
   "execution_count": 5,
   "id": "952b85b1",
   "metadata": {
    "ExecuteTime": {
     "end_time": "2021-07-26T15:20:11.558415Z",
     "start_time": "2021-07-26T15:20:11.533486Z"
    }
   },
   "outputs": [
    {
     "name": "stdout",
     "output_type": "stream",
     "text": [
      "[2, 4, 6, 8]\n",
      "[2, 4]\n",
      "[2]\n",
      "[2, 4, 6, 8, 10, 12, 14, 16, 18, 20, 22, 24, 26, 28, 30, 32, 34, 36, 38, 40, 42, 44, 46, 48, 50]\n"
     ]
    }
   ],
   "source": [
    "#Q5 ANS:\n",
    "\n",
    "\n",
    "def find_even_nums(n):\n",
    "    even_lst= [x for x in range(1, n+1) if x%2==0]\n",
    "    return even_lst\n",
    "\n",
    "\n",
    "\n",
    "print(find_even_nums(8))\n",
    "print(find_even_nums(4))\n",
    "print(find_even_nums(2))\n",
    "print(find_even_nums(50))"
   ]
  },
  {
   "cell_type": "code",
   "execution_count": null,
   "id": "cb916315",
   "metadata": {},
   "outputs": [],
   "source": []
  }
 ],
 "metadata": {
  "hide_input": false,
  "kernelspec": {
   "display_name": "Python 3",
   "language": "python",
   "name": "python3"
  },
  "language_info": {
   "codemirror_mode": {
    "name": "ipython",
    "version": 3
   },
   "file_extension": ".py",
   "mimetype": "text/x-python",
   "name": "python",
   "nbconvert_exporter": "python",
   "pygments_lexer": "ipython3",
   "version": "3.8.8"
  },
  "toc": {
   "base_numbering": 1,
   "nav_menu": {},
   "number_sections": true,
   "sideBar": true,
   "skip_h1_title": false,
   "title_cell": "Table of Contents",
   "title_sidebar": "Contents",
   "toc_cell": false,
   "toc_position": {},
   "toc_section_display": true,
   "toc_window_display": false
  }
 },
 "nbformat": 4,
 "nbformat_minor": 5
}
