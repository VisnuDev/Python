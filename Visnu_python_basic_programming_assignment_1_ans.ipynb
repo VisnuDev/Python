{
 "cells": [
  {
   "cell_type": "markdown",
   "id": "ada1d497",
   "metadata": {},
   "source": [
    "# Visnu_python_basic_programming_assignment_1_ans"
   ]
  },
  {
   "cell_type": "markdown",
   "id": "edc263df",
   "metadata": {},
   "source": [
    "1.\tWrite a Python program to print \"Hello Python\"?\n",
    "2.\tWrite a Python program to do arithmetical operations addition and division.?\n",
    "3.\tWrite a Python program to find the area of a triangle?\n",
    "4.\tWrite a Python program to swap two variables?\n",
    "5.\tWrite a Python program to generate a random number?\n"
   ]
  },
  {
   "cell_type": "code",
   "execution_count": 14,
   "id": "304e7992",
   "metadata": {},
   "outputs": [
    {
     "name": "stdout",
     "output_type": "stream",
     "text": [
      "Hello Python\n"
     ]
    }
   ],
   "source": [
    "# 1.\tWrite a Python program to print \"Hello Python\"?\n",
    "\n",
    "print(\"Hello Python\")"
   ]
  },
  {
   "cell_type": "code",
   "execution_count": 16,
   "id": "785a4983",
   "metadata": {},
   "outputs": [
    {
     "name": "stdout",
     "output_type": "stream",
     "text": [
      "Enter value a: 10\n",
      "Enter value b: 4\n",
      "Addition:  14\n",
      "Division: 2.50\n"
     ]
    }
   ],
   "source": [
    "#2.\tWrite a Python program to do arithmetical operations addition and division.?\n",
    "\n",
    "\n",
    "a= int(input(\"Enter value a: \"))\n",
    "b= int(input(\"Enter value b: \"))\n",
    "\n",
    "print(\"Addition: \",a+b)\n",
    "print(\"Division: %0.2f\" %(a/b))"
   ]
  },
  {
   "cell_type": "code",
   "execution_count": 17,
   "id": "da1dbdbf",
   "metadata": {},
   "outputs": [
    {
     "name": "stdout",
     "output_type": "stream",
     "text": [
      "Enter breadth: 4\n",
      "Enter height: 6\n",
      "The area of the triangle is :12.0 sq.cm\n"
     ]
    }
   ],
   "source": [
    "#3.\tWrite a Python program to find the area of a triangle?\n",
    "\n",
    "def area(b, h):\n",
    "    return 0.5 * b * h\n",
    "\n",
    "\n",
    "b= int(input(\"Enter breadth: \"))\n",
    "h= int(input(\"Enter height: \"))\n",
    "\n",
    "res= area(b, h)\n",
    "\n",
    "print(f\"The area of the triangle is :{res} sq.cm\")"
   ]
  },
  {
   "cell_type": "code",
   "execution_count": 18,
   "id": "ab9e68f5",
   "metadata": {},
   "outputs": [
    {
     "name": "stdout",
     "output_type": "stream",
     "text": [
      "Enter value a: 10\n",
      "Enter value b: 34\n",
      "Before swapping. a= 10, b= 34\n",
      "After swapping. a= 34, b= 10\n"
     ]
    }
   ],
   "source": [
    "#4.\tWrite a Python program to swap two variables?\n",
    "\n",
    "\n",
    "    \n",
    "\n",
    "a= int(input(\"Enter value a: \"))\n",
    "b= int(input(\"Enter value b: \"))\n",
    "\n",
    "print(f\"Before swapping. a= {a}, b= {b}\")\n",
    "\n",
    "a, b= b, a\n",
    "\n",
    "print(f\"After swapping. a= {a}, b= {b}\")"
   ]
  },
  {
   "cell_type": "code",
   "execution_count": 19,
   "id": "d4a98e91",
   "metadata": {},
   "outputs": [
    {
     "name": "stdout",
     "output_type": "stream",
     "text": [
      "8\n"
     ]
    }
   ],
   "source": [
    "#5.\tWrite a Python program to generate a random number?\n",
    "\n",
    "import random # importing random module\n",
    "\n",
    "\n",
    "print(random.randint(1, 10))"
   ]
  },
  {
   "cell_type": "code",
   "execution_count": null,
   "id": "dcdacb7b",
   "metadata": {},
   "outputs": [],
   "source": []
  },
  {
   "cell_type": "code",
   "execution_count": null,
   "id": "04a9ad9b",
   "metadata": {},
   "outputs": [],
   "source": []
  }
 ],
 "metadata": {
  "kernelspec": {
   "display_name": "Python 3",
   "language": "python",
   "name": "python3"
  },
  "language_info": {
   "codemirror_mode": {
    "name": "ipython",
    "version": 3
   },
   "file_extension": ".py",
   "mimetype": "text/x-python",
   "name": "python",
   "nbconvert_exporter": "python",
   "pygments_lexer": "ipython3",
   "version": "3.8.8"
  }
 },
 "nbformat": 4,
 "nbformat_minor": 5
}
