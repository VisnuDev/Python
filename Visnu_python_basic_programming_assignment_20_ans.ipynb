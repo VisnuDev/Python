{
 "cells": [
  {
   "cell_type": "markdown",
   "id": "96ab684e",
   "metadata": {},
   "source": [
    "# Visnu_python_basic_programming_assignment_20_ans"
   ]
  },
  {
   "cell_type": "raw",
   "id": "795bf9b9",
   "metadata": {},
   "source": [
    "Question1\n",
    "Create a function that takes a list of strings and integers, and filters out the list so that it returns a list of integers only.\n",
    "Examples\n",
    "filter_list([1, 2, 3, \"a\", \"b\", 4]) ➞ [1, 2, 3, 4]\n",
    "\n",
    "filter_list([\"A\", 0, \"Edabit\", 1729, \"Python\", \"1729\"]) ➞ [0, 1729]\n",
    "\n",
    "filter_list([\"Nothing\", \"here\"]) ➞ []\n"
   ]
  },
  {
   "cell_type": "code",
   "execution_count": 23,
   "id": "88d5cb0d",
   "metadata": {
    "ExecuteTime": {
     "end_time": "2021-07-26T16:31:20.381021Z",
     "start_time": "2021-07-26T16:31:20.361074Z"
    }
   },
   "outputs": [
    {
     "name": "stdout",
     "output_type": "stream",
     "text": [
      "[1, 2, 3, 4]\n",
      "[0, 1729]\n",
      "[]\n"
     ]
    }
   ],
   "source": [
    "#Q1 Ans:\n",
    "\n",
    "def filter_list(lst):\n",
    "    final_lst= [x for x in lst if type(x)==int ]\n",
    "    return final_lst\n",
    "\n",
    "\n",
    "print(filter_list([1, 2, 3, \"a\", \"b\", 4]))\n",
    "\n",
    "print(filter_list([\"A\", 0, \"Edabit\", 1729, \"Python\", \"1729\"]))\n",
    "\n",
    "print(filter_list([\"Nothing\", \"here\"]) )"
   ]
  },
  {
   "cell_type": "code",
   "execution_count": null,
   "id": "832bf37a",
   "metadata": {},
   "outputs": [],
   "source": []
  },
  {
   "cell_type": "raw",
   "id": "93670475",
   "metadata": {},
   "source": [
    "Question2\n",
    "Given a list of numbers, create a function which returns the list but with each element's index in the list added to itself. This means you add 0 to the number at index 0, add 1 to the number at index 1, etc...\n",
    "Examples\n",
    "add_indexes([0, 0, 0, 0, 0]) ➞ [0, 1, 2, 3, 4]\n",
    "\n",
    "add_indexes([1, 2, 3, 4, 5]) ➞ [1, 3, 5, 7, 9]\n",
    "\n",
    "add_indexes([5, 4, 3, 2, 1]) ➞ [5, 5, 5, 5, 5]"
   ]
  },
  {
   "cell_type": "code",
   "execution_count": 21,
   "id": "fb9de1e9",
   "metadata": {
    "ExecuteTime": {
     "end_time": "2021-07-26T16:28:58.760646Z",
     "start_time": "2021-07-26T16:28:58.742693Z"
    }
   },
   "outputs": [
    {
     "name": "stdout",
     "output_type": "stream",
     "text": [
      "[0, 1, 2, 3, 4]\n",
      "[1, 3, 5, 7, 9]\n",
      "[5, 5, 5, 5, 5]\n"
     ]
    }
   ],
   "source": [
    "#Q2 Ans:\n",
    "\n",
    "def add_indexes(lst):\n",
    "    final_lst= [lst[i]+i for i in range(0, len(lst)) ]\n",
    "    return final_lst\n",
    "\n",
    "print(add_indexes([0, 0, 0, 0, 0]) )\n",
    "\n",
    "print(add_indexes([1, 2, 3, 4, 5]))\n",
    "\n",
    "print(add_indexes([5, 4, 3, 2, 1]))"
   ]
  },
  {
   "cell_type": "code",
   "execution_count": null,
   "id": "6658e45e",
   "metadata": {},
   "outputs": [],
   "source": []
  },
  {
   "cell_type": "raw",
   "id": "ea78bff2",
   "metadata": {},
   "source": [
    "Question3\n",
    "Create a function that takes the height and radius of a cone as arguments and returns the volume of the cone rounded to the nearest hundredth. See the resources tab for the formula.\n",
    " \n",
    "Examples\n",
    "cone_volume(3, 2) ➞ 12.57\n",
    "\n",
    "cone_volume(15, 6) ➞ 565.49\n",
    "\n",
    "cone_volume(18, 0) ➞ 0"
   ]
  },
  {
   "cell_type": "code",
   "execution_count": 17,
   "id": "dd60f079",
   "metadata": {
    "ExecuteTime": {
     "end_time": "2021-07-26T16:24:58.645543Z",
     "start_time": "2021-07-26T16:24:58.634602Z"
    }
   },
   "outputs": [
    {
     "name": "stdout",
     "output_type": "stream",
     "text": [
      "12.57\n",
      "565.71\n",
      "0.00\n"
     ]
    }
   ],
   "source": [
    "#Q3 Ans:\n",
    "\n",
    "def cone_volume(h, r):\n",
    "    return (1/3 * 22/7 * r**2 * h)\n",
    "\n",
    "\n",
    "print(\"%0.2f\" %cone_volume(3, 2))\n",
    "\n",
    "print(\"%0.2f\" %cone_volume(15, 6))\n",
    "\n",
    "print(\"%0.2f\" %cone_volume(18, 0))"
   ]
  },
  {
   "cell_type": "code",
   "execution_count": null,
   "id": "f243edeb",
   "metadata": {},
   "outputs": [],
   "source": []
  },
  {
   "cell_type": "raw",
   "id": "2e275167",
   "metadata": {},
   "source": [
    "Question4\n",
    "This Triangular Number Sequence is generated from a pattern of dots that form a triangle. The first 5 numbers of the sequence, or dots, are: \n",
    "1, 3, 6, 10, 15\n",
    "This means that the first triangle has just one dot, the second one has three dots, the third one has 6 dots and so on.\n",
    "Write a function that gives the number of dots with its corresponding triangle number of the sequence.\n",
    "Examples\n",
    "triangle(1) ➞ 1\n",
    "\n",
    "triangle(6) ➞ 21\n",
    "\n",
    "triangle(215) ➞ 23220"
   ]
  },
  {
   "cell_type": "code",
   "execution_count": 5,
   "id": "fbfef306",
   "metadata": {
    "ExecuteTime": {
     "end_time": "2021-07-26T16:17:59.085028Z",
     "start_time": "2021-07-26T16:17:59.060378Z"
    }
   },
   "outputs": [
    {
     "name": "stdout",
     "output_type": "stream",
     "text": [
      "1\n",
      "21\n",
      "23220\n"
     ]
    }
   ],
   "source": [
    "#Q4 Ans:\n",
    "\n",
    "def triangle(num):\n",
    "    x=0\n",
    "    for i in range(1, num+1):\n",
    "        x += i\n",
    "    return x\n",
    "\n",
    "\n",
    "print(triangle(1))\n",
    "print(triangle(6))\n",
    "print(triangle(215))"
   ]
  },
  {
   "cell_type": "code",
   "execution_count": null,
   "id": "d7fe310a",
   "metadata": {},
   "outputs": [],
   "source": []
  },
  {
   "cell_type": "raw",
   "id": "587403e0",
   "metadata": {},
   "source": [
    "Question5\n",
    "Create a function that takes a list of numbers between 1 and 10 (excluding one number) and returns the missing number.\n",
    "Examples\n",
    "missing_num([1, 2, 3, 4, 6, 7, 8, 9, 10]) ➞ 5\n",
    "\n",
    "missing_num([7, 2, 3, 6, 5, 9, 1, 4, 8]) ➞ 10\n",
    "\n",
    "missing_num([10, 5, 1, 2, 4, 6, 8, 3, 9]) ➞ 7\n"
   ]
  },
  {
   "cell_type": "code",
   "execution_count": 2,
   "id": "5c401c98",
   "metadata": {
    "ExecuteTime": {
     "end_time": "2021-07-26T16:12:51.222461Z",
     "start_time": "2021-07-26T16:12:51.198528Z"
    }
   },
   "outputs": [
    {
     "name": "stdout",
     "output_type": "stream",
     "text": [
      "5\n",
      "10\n",
      "7\n"
     ]
    }
   ],
   "source": [
    "#Q5 Ans:\n",
    "\n",
    "def missing_num(lst):\n",
    "    for x in range(1, 11):\n",
    "        if x not in lst:\n",
    "            return x\n",
    "\n",
    "print(missing_num([1, 2, 3, 4, 6, 7, 8, 9, 10]))\n",
    "\n",
    "print(missing_num([7, 2, 3, 6, 5, 9, 1, 4, 8]))\n",
    "\n",
    "print(missing_num([10, 5, 1, 2, 4, 6, 8, 3, 9]))"
   ]
  },
  {
   "cell_type": "code",
   "execution_count": null,
   "id": "e531d131",
   "metadata": {},
   "outputs": [],
   "source": []
  }
 ],
 "metadata": {
  "hide_input": false,
  "kernelspec": {
   "display_name": "Python 3",
   "language": "python",
   "name": "python3"
  },
  "language_info": {
   "codemirror_mode": {
    "name": "ipython",
    "version": 3
   },
   "file_extension": ".py",
   "mimetype": "text/x-python",
   "name": "python",
   "nbconvert_exporter": "python",
   "pygments_lexer": "ipython3",
   "version": "3.8.8"
  },
  "toc": {
   "base_numbering": 1,
   "nav_menu": {},
   "number_sections": true,
   "sideBar": true,
   "skip_h1_title": false,
   "title_cell": "Table of Contents",
   "title_sidebar": "Contents",
   "toc_cell": false,
   "toc_position": {},
   "toc_section_display": true,
   "toc_window_display": false
  }
 },
 "nbformat": 4,
 "nbformat_minor": 5
}
