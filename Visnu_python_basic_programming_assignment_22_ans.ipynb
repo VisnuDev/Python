{
 "cells": [
  {
   "cell_type": "markdown",
   "id": "bc8ff8fb",
   "metadata": {},
   "source": [
    "# Visnu_python_basic_programming_assignment_22_ans"
   ]
  },
  {
   "cell_type": "code",
   "execution_count": null,
   "id": "0c4b2b9d",
   "metadata": {},
   "outputs": [],
   "source": []
  },
  {
   "cell_type": "markdown",
   "id": "7cb95c85",
   "metadata": {},
   "source": [
    "Question1\n",
    "Create a function that takes three parameters where:\n",
    "•\tx is the start of the range (inclusive).\n",
    "•\ty is the end of the range (inclusive).\n",
    "•\tn is the divisor to be checked against.\n",
    "Return an ordered list with numbers in the range that are divisible by the third parameter n. Return an empty list if there are no numbers that are divisible by n.\n",
    "Examples\n",
    "list_operation(1, 10, 3) ➞ [3, 6, 9]\n",
    "\n",
    "list_operation(7, 9, 2) ➞ [8]\n",
    "\n",
    "list_operation(15, 20, 7) ➞ []\n"
   ]
  },
  {
   "cell_type": "code",
   "execution_count": 1,
   "id": "24b130f6",
   "metadata": {
    "ExecuteTime": {
     "end_time": "2021-08-09T02:14:58.530477Z",
     "start_time": "2021-08-09T02:14:58.511627Z"
    }
   },
   "outputs": [
    {
     "name": "stdout",
     "output_type": "stream",
     "text": [
      "[3, 6, 9]\n",
      "[8]\n",
      "[]\n"
     ]
    }
   ],
   "source": [
    "#Q1-Ans:\n",
    "\n",
    "\n",
    "def list_operation(x, y, n):\n",
    "    lst=[i for i in range(x, y+1)  if i%n==0]\n",
    "    return lst\n",
    "\n",
    "\n",
    "\n",
    "print(list_operation(1, 10, 3))\n",
    "print(list_operation(7, 9, 2))\n",
    "print(list_operation(15, 20, 7))"
   ]
  },
  {
   "cell_type": "code",
   "execution_count": null,
   "id": "63fda18d",
   "metadata": {},
   "outputs": [],
   "source": []
  },
  {
   "cell_type": "code",
   "execution_count": null,
   "id": "73384e69",
   "metadata": {},
   "outputs": [],
   "source": [
    "Question2\n",
    "Create a function that takes in two lists and returns True if the second list follows the first list by one element, and False otherwise. In other words, determine if the second list is the first list shifted to the right by 1.\n",
    "Examples\n",
    "simon_says([1, 2], [5, 1]) ➞ True\n",
    "\n",
    "simon_says([1, 2], [5, 5]) ➞ False\n",
    "\n",
    "simon_says([1, 2, 3, 4, 5], [0, 1, 2, 3, 4]) ➞ True\n",
    "\n",
    "simon_says([1, 2, 3, 4, 5], [5, 5, 1, 2, 3]) ➞ False\n",
    "Notes\n",
    "•\tBoth input lists will be of the same length, and will have a minimum length of 2.\n",
    "•\tThe values of the 0-indexed element in the second list and the n-1th indexed element in the first list do not matter."
   ]
  },
  {
   "cell_type": "code",
   "execution_count": null,
   "id": "db878f9b",
   "metadata": {},
   "outputs": [],
   "source": []
  },
  {
   "cell_type": "code",
   "execution_count": null,
   "id": "c7157166",
   "metadata": {},
   "outputs": [],
   "source": [
    "Question3\n",
    "A group of friends have decided to start a secret society. The name will be the first letter of each of their names, sorted in alphabetical order.\n",
    "Create a function that takes in a list of names and returns the name of the secret society.\n",
    "Examples\n",
    "society_name([\"Adam\", \"Sarah\", \"Malcolm\"]) ➞ \"AMS\"\n",
    "\n",
    "society_name([\"Harry\", \"Newt\", \"Luna\", \"Cho\"]) ➞ \"CHLN\"\n",
    "\n",
    "society_name([\"Phoebe\", \"Chandler\", \"Rachel\", \"Ross\", \"Monica\", \"Joey\"])"
   ]
  },
  {
   "cell_type": "code",
   "execution_count": 2,
   "id": "85525ab3",
   "metadata": {
    "ExecuteTime": {
     "end_time": "2021-08-09T02:23:25.010140Z",
     "start_time": "2021-08-09T02:23:25.000067Z"
    }
   },
   "outputs": [
    {
     "name": "stdout",
     "output_type": "stream",
     "text": [
      "AMS\n",
      "CHLN\n",
      "CJMPRR\n"
     ]
    }
   ],
   "source": [
    "#Q3 -Ans:\n",
    "\n",
    "\n",
    "def society_name(names):\n",
    "    lst=[x[0]  for x in names]\n",
    "    lst.sort()\n",
    "    return ''.join(lst)\n",
    "\n",
    "\n",
    "print(society_name([\"Adam\", \"Sarah\", \"Malcolm\"]))\n",
    "print(society_name([\"Harry\", \"Newt\", \"Luna\", \"Cho\"]))\n",
    "print(society_name([\"Phoebe\", \"Chandler\", \"Rachel\", \"Ross\", \"Monica\", \"Joey\"]))"
   ]
  },
  {
   "cell_type": "code",
   "execution_count": null,
   "id": "8fda3592",
   "metadata": {},
   "outputs": [],
   "source": []
  },
  {
   "cell_type": "markdown",
   "id": "42b46d8f",
   "metadata": {},
   "source": [
    "\n",
    "Question4\n",
    "An isogram is a word that has no duplicate letters. Create a function that takes a string and returns either True or False depending on whether or not it's an \"isogram\".\n",
    "Examples\n",
    "is_isogram(\"Algorism\") ➞ True\n",
    "\n",
    "is_isogram(\"PasSword\") ➞ False\n",
    "#not case sensitive.\n",
    "\n",
    "is_isogram(\"Consecutive\") ➞ False\n",
    "Notes\n",
    "•\tIgnore letter case (should not be case sensitive).\n",
    "•\tAll test cases contain valid one word strings."
   ]
  },
  {
   "cell_type": "code",
   "execution_count": 7,
   "id": "50fd40c9",
   "metadata": {
    "ExecuteTime": {
     "end_time": "2021-08-09T02:55:05.548159Z",
     "start_time": "2021-08-09T02:55:05.529257Z"
    }
   },
   "outputs": [
    {
     "name": "stdout",
     "output_type": "stream",
     "text": [
      "True\n",
      "False\n",
      "False\n",
      "False\n",
      "True\n"
     ]
    }
   ],
   "source": [
    "#Q4-Ans\n",
    "\n",
    "def is_isogram(string):\n",
    "    return len(string.lower())==len(set(string.lower()))\n",
    "\n",
    "\n",
    "print(is_isogram(\"Algorism\"))\n",
    "\n",
    "print(is_isogram(\"PasSword\"))\n",
    "\n",
    "print(is_isogram(\"Consecutive\"))\n",
    "\n",
    "print(is_isogram('tree'))\n",
    "\n",
    "print(is_isogram('true'))"
   ]
  },
  {
   "cell_type": "code",
   "execution_count": null,
   "id": "5b5b3758",
   "metadata": {},
   "outputs": [],
   "source": []
  },
  {
   "cell_type": "markdown",
   "id": "ffdf8584",
   "metadata": {},
   "source": [
    "Question5\n",
    "Create a function that takes a string and returns True or False, depending on whether the characters are in order or not.\n",
    "Examples\n",
    "is_in_order(\"abc\") ➞ True\n",
    "\n",
    "is_in_order(\"edabit\") ➞ False\n",
    "\n",
    "is_in_order(\"123\") ➞ True\n",
    "\n",
    "is_in_order(\"xyzz\") ➞ True\n",
    "Notes\n",
    "You don't have to handle empty strings."
   ]
  },
  {
   "cell_type": "code",
   "execution_count": 14,
   "id": "9e072abf",
   "metadata": {
    "ExecuteTime": {
     "end_time": "2021-08-09T03:03:38.097925Z",
     "start_time": "2021-08-09T03:03:38.088410Z"
    }
   },
   "outputs": [
    {
     "name": "stdout",
     "output_type": "stream",
     "text": [
      "True\n",
      "False\n",
      "True\n",
      "True\n"
     ]
    }
   ],
   "source": [
    "#Q5-Ans\n",
    "\n",
    "def is_in_order(string):\n",
    "    return string==''.join(sorted(string))\n",
    "\n",
    "\n",
    "\n",
    "print(is_in_order(\"abc\") )\n",
    "\n",
    "print(is_in_order(\"edabit\"))\n",
    "\n",
    "print(is_in_order(\"123\"))\n",
    "\n",
    "print(is_in_order(\"xyzz\"))"
   ]
  },
  {
   "cell_type": "code",
   "execution_count": null,
   "id": "7766cc0f",
   "metadata": {},
   "outputs": [],
   "source": []
  }
 ],
 "metadata": {
  "hide_input": false,
  "kernelspec": {
   "display_name": "Python 3",
   "language": "python",
   "name": "python3"
  },
  "language_info": {
   "codemirror_mode": {
    "name": "ipython",
    "version": 3
   },
   "file_extension": ".py",
   "mimetype": "text/x-python",
   "name": "python",
   "nbconvert_exporter": "python",
   "pygments_lexer": "ipython3",
   "version": "3.8.8"
  },
  "toc": {
   "base_numbering": 1,
   "nav_menu": {},
   "number_sections": true,
   "sideBar": true,
   "skip_h1_title": false,
   "title_cell": "Table of Contents",
   "title_sidebar": "Contents",
   "toc_cell": false,
   "toc_position": {},
   "toc_section_display": true,
   "toc_window_display": false
  }
 },
 "nbformat": 4,
 "nbformat_minor": 5
}
