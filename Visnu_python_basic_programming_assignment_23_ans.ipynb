{
 "cells": [
  {
   "cell_type": "markdown",
   "id": "372cf7d8",
   "metadata": {},
   "source": [
    "# Visnu_python_basic_programming_assignment_23_ans"
   ]
  },
  {
   "cell_type": "code",
   "execution_count": null,
   "id": "67fb063e",
   "metadata": {},
   "outputs": [],
   "source": []
  },
  {
   "cell_type": "markdown",
   "id": "ea17298c",
   "metadata": {},
   "source": [
    "Question 1\n",
    "Create a function that takes a number as an argument and returns True or False depending on whether the number is symmetrical or not. A number is symmetrical when it is the same as its reverse.\n",
    "Examples\n",
    "is_symmetrical(7227) ➞ True\n",
    "\n",
    "is_symmetrical(12567) ➞ False\n",
    "\n",
    "is_symmetrical(44444444) ➞ True\n",
    "\n",
    "is_symmetrical(9939) ➞ False\n",
    "\n",
    "is_symmetrical(1112111) ➞ True"
   ]
  },
  {
   "cell_type": "code",
   "execution_count": 2,
   "id": "09a54e07",
   "metadata": {
    "ExecuteTime": {
     "end_time": "2021-08-09T03:12:40.767650Z",
     "start_time": "2021-08-09T03:12:40.737405Z"
    }
   },
   "outputs": [
    {
     "name": "stdout",
     "output_type": "stream",
     "text": [
      "True\n",
      "False\n",
      "True\n",
      "False\n",
      "True\n"
     ]
    }
   ],
   "source": [
    "#Q1-Ans:\n",
    "\n",
    "def is_symmetrical(num):\n",
    "    string= str(num)\n",
    "    return string==string[::-1]\n",
    "\n",
    "\n",
    "\n",
    "\n",
    "\n",
    "print(is_symmetrical(7227))\n",
    "\n",
    "print(is_symmetrical(12567))\n",
    "\n",
    "print(is_symmetrical(44444444))\n",
    "\n",
    "print(is_symmetrical(9939))\n",
    "\n",
    "print(is_symmetrical(1112111))"
   ]
  },
  {
   "cell_type": "code",
   "execution_count": null,
   "id": "060c25a8",
   "metadata": {},
   "outputs": [],
   "source": []
  },
  {
   "cell_type": "markdown",
   "id": "996046a5",
   "metadata": {},
   "source": [
    "Question 2\n",
    "Given a string of numbers separated by a comma and space, return the product of the numbers.\n",
    "Examples\n",
    "multiply_nums(\"2, 3\") ➞ 6\n",
    "\n",
    "multiply_nums(\"1, 2, 3, 4\") ➞ 24\n",
    "\n",
    "multiply_nums(\"54, 75, 453, 0\") ➞ 0\n",
    "\n",
    "multiply_nums(\"10, -2\") ➞ -20"
   ]
  },
  {
   "cell_type": "code",
   "execution_count": 1,
   "id": "350a373e",
   "metadata": {
    "ExecuteTime": {
     "end_time": "2021-08-11T02:36:31.433449Z",
     "start_time": "2021-08-11T02:36:31.423181Z"
    }
   },
   "outputs": [
    {
     "name": "stdout",
     "output_type": "stream",
     "text": [
      "24\n",
      "0\n",
      "-20\n",
      "6\n"
     ]
    }
   ],
   "source": [
    "#Q2-Ans:\n",
    "\n",
    "def multiply_nums(numbers):\n",
    "    num_lst= numbers.split(', ')\n",
    "    if '0' in num_lst:\n",
    "        return 0\n",
    "    else:\n",
    "        mul=1\n",
    "        for x in num_lst:\n",
    "            mul*= int(x)\n",
    "        return mul\n",
    "    \n",
    "    \n",
    "\n",
    "\n",
    "\n",
    "print(multiply_nums(\"1, 2, 3, 4\") )\n",
    "\n",
    "print(multiply_nums(\"54, 75, 453, 0\"))\n",
    "\n",
    "print(multiply_nums(\"10, -2\"))\n",
    "\n",
    "print(multiply_nums(\"2, 3\"))"
   ]
  },
  {
   "cell_type": "code",
   "execution_count": null,
   "id": "64b1bf53",
   "metadata": {},
   "outputs": [],
   "source": []
  },
  {
   "cell_type": "raw",
   "id": "99bb332c",
   "metadata": {},
   "source": [
    "Question 3\n",
    "Create a function that squares every digit of a number.\n",
    "Examples\n",
    "square_digits(9119) ➞ 811181\n",
    "\n",
    "square_digits(2483) ➞ 416649\n",
    "\n",
    "square_digits(3212) ➞ 9414\n",
    "Notes\n",
    "The function receives an integer and must return an integer."
   ]
  },
  {
   "cell_type": "code",
   "execution_count": 11,
   "id": "e92233d0",
   "metadata": {
    "ExecuteTime": {
     "end_time": "2021-08-09T03:31:35.437758Z",
     "start_time": "2021-08-09T03:31:35.421785Z"
    }
   },
   "outputs": [
    {
     "name": "stdout",
     "output_type": "stream",
     "text": [
      "811181\n",
      "416649\n",
      "9414\n"
     ]
    }
   ],
   "source": [
    "#Q3-Ans:\n",
    "\n",
    "\n",
    "def square_digits(num):\n",
    "    str1=str(num)\n",
    "    dig_lst=[digit for digit in str1]\n",
    "    for i in range(len(dig_lst)):\n",
    "        sq= int(dig_lst[i]) **2\n",
    "        dig_lst[i]=str(sq)\n",
    "    res=''.join(dig_lst)\n",
    "    return  res\n",
    "\n",
    "\n",
    "\n",
    "print(square_digits(9119))\n",
    "\n",
    "print(square_digits(2483))\n",
    "\n",
    "print(square_digits(3212))"
   ]
  },
  {
   "cell_type": "code",
   "execution_count": null,
   "id": "72d59172",
   "metadata": {},
   "outputs": [],
   "source": []
  },
  {
   "cell_type": "raw",
   "id": "2f9a5bf3",
   "metadata": {},
   "source": [
    "Question 4\n",
    "Create a function that sorts a list and removes all duplicate items from it.\n",
    "Examples\n",
    "setify([1, 3, 3, 5, 5]) ➞ [1, 3, 5]\n",
    "\n",
    "setify([4, 4, 4, 4]) ➞ [4]\n",
    "\n",
    "setify([5, 7, 8, 9, 10, 15]) ➞ [5, 7, 8, 9, 10, 15]\n",
    "\n",
    "setify([3, 3, 3, 2, 1]) ➞ [1, 2, 3]"
   ]
  },
  {
   "cell_type": "code",
   "execution_count": 2,
   "id": "a3a523b0",
   "metadata": {
    "ExecuteTime": {
     "end_time": "2021-08-10T14:05:29.813001Z",
     "start_time": "2021-08-10T14:05:29.800979Z"
    }
   },
   "outputs": [
    {
     "name": "stdout",
     "output_type": "stream",
     "text": [
      "[1, 3, 5]\n",
      "[4]\n",
      "[5, 7, 8, 9, 10, 15]\n",
      "[1, 2, 3]\n"
     ]
    }
   ],
   "source": [
    "#Q4-Ans:\n",
    "\n",
    "def setify(lst):\n",
    "    return list(set(lst))\n",
    "\n",
    "\n",
    "print(setify([1, 3, 3, 5, 5]))\n",
    "\n",
    "print(setify([4, 4, 4, 4]))\n",
    "\n",
    "print(setify([5, 7, 8, 9, 10, 15]))\n",
    "\n",
    "print(setify([3, 3, 3, 2, 1]))"
   ]
  },
  {
   "cell_type": "code",
   "execution_count": null,
   "id": "7d843c8a",
   "metadata": {},
   "outputs": [],
   "source": []
  },
  {
   "cell_type": "markdown",
   "id": "63180a33",
   "metadata": {},
   "source": [
    "Question 5\n",
    "Create a function that returns the mean of all digits.\n",
    "Examples\n",
    "mean(42) ➞ 3\n",
    "\n",
    "mean(12345) ➞ 3\n",
    "\n",
    "mean(666) ➞ 6\n",
    "Notes\n",
    "•\tThe mean of all digits is the sum of digits / how many digits there are (e.g. mean of digits in 512 is (5+1+2)/3(number of digits) = 8/3=2).\n",
    "•\tThe mean will always be an integer.\n"
   ]
  },
  {
   "cell_type": "code",
   "execution_count": 3,
   "id": "c6918cc5",
   "metadata": {
    "ExecuteTime": {
     "end_time": "2021-08-10T16:07:44.268501Z",
     "start_time": "2021-08-10T16:07:44.248767Z"
    }
   },
   "outputs": [
    {
     "name": "stdout",
     "output_type": "stream",
     "text": [
      "3\n",
      "3\n",
      "6\n"
     ]
    }
   ],
   "source": [
    "#Q5-Ans:\n",
    "\n",
    "def mean(num):\n",
    "    digits=[d for d in str(num) ]\n",
    "    add=0\n",
    "    for d in digits:\n",
    "        add+= int(d)\n",
    "    m= add//len(digits)\n",
    "    return m\n",
    "    \n",
    "    \n",
    "print(mean(42))\n",
    "\n",
    "print(mean(12345))\n",
    "\n",
    "print(mean(666) )\n",
    "    "
   ]
  },
  {
   "cell_type": "code",
   "execution_count": null,
   "id": "e7de06ad",
   "metadata": {},
   "outputs": [],
   "source": []
  }
 ],
 "metadata": {
  "hide_input": false,
  "kernelspec": {
   "display_name": "Python 3",
   "language": "python",
   "name": "python3"
  },
  "language_info": {
   "codemirror_mode": {
    "name": "ipython",
    "version": 3
   },
   "file_extension": ".py",
   "mimetype": "text/x-python",
   "name": "python",
   "nbconvert_exporter": "python",
   "pygments_lexer": "ipython3",
   "version": "3.8.8"
  },
  "toc": {
   "base_numbering": 1,
   "nav_menu": {},
   "number_sections": true,
   "sideBar": true,
   "skip_h1_title": false,
   "title_cell": "Table of Contents",
   "title_sidebar": "Contents",
   "toc_cell": false,
   "toc_position": {},
   "toc_section_display": true,
   "toc_window_display": false
  }
 },
 "nbformat": 4,
 "nbformat_minor": 5
}
