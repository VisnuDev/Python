{
 "cells": [
  {
   "cell_type": "markdown",
   "id": "42bab0f4",
   "metadata": {},
   "source": [
    "# Visnu_python_basic_programming_assignment_24_ans"
   ]
  },
  {
   "cell_type": "code",
   "execution_count": null,
   "id": "9a5a6315",
   "metadata": {},
   "outputs": [],
   "source": []
  },
  {
   "cell_type": "raw",
   "id": "424c2e37",
   "metadata": {},
   "source": [
    "Question1\n",
    "Create a function that takes an integer and returns a list from 1 to the given number, where:\n",
    "1.\tIf the number can be divided evenly by 4, amplify it by 10 (i.e. return 10 times the number).\n",
    "2.\tIf the number cannot be divided evenly by 4, simply return the number.\n",
    "Examples\n",
    "amplify(4) ➞ [1, 2, 3, 40]\n",
    "\n",
    "amplify(3) ➞ [1, 2, 3]\n",
    "\n",
    "amplify(25) ➞ [1, 2, 3, 40, 5, 6, 7, 80, 9, 10, 11, 120, 13, 14, 15, 160, 17, 18, 19, 200, 21, 22, 23, 240, 25]\n",
    "Notes\n",
    "•\tThe given integer will always be equal to or greater than 1.\n",
    "•\tInclude the number (see example above).\n",
    "•\tTo perform this problem with its intended purpose, try doing it with list comprehensions. If that's too difficult, just solve the challenge any way you can.\n"
   ]
  },
  {
   "cell_type": "code",
   "execution_count": 6,
   "id": "e717d071",
   "metadata": {
    "ExecuteTime": {
     "end_time": "2021-08-10T16:17:29.788472Z",
     "start_time": "2021-08-10T16:17:29.768565Z"
    }
   },
   "outputs": [
    {
     "name": "stdout",
     "output_type": "stream",
     "text": [
      "[1, 2, 3, 40]\n",
      "[1, 2, 3]\n",
      "[1, 2, 3, 40, 5, 6, 7, 80, 9, 10, 11, 120, 13, 14, 15, 160, 17, 18, 19, 200, 21, 22, 23, 240, 25]\n"
     ]
    }
   ],
   "source": [
    "#Q1-Ans:\n",
    "\n",
    "\n",
    "def amplify(lim):\n",
    "    if lim<1:\n",
    "        return None\n",
    "    lst= [i*10 if i%4==0 else i for i in range(1,lim+1) ]\n",
    "    return lst\n",
    "    \n",
    "\n",
    "print(amplify(4))\n",
    "\n",
    "print(amplify(3))\n",
    "\n",
    "print(amplify(25))"
   ]
  },
  {
   "cell_type": "code",
   "execution_count": null,
   "id": "90475301",
   "metadata": {},
   "outputs": [],
   "source": []
  },
  {
   "cell_type": "raw",
   "id": "801679e6",
   "metadata": {},
   "source": [
    "Question2\n",
    "Create a function that takes a list of numbers and return the number that's unique.\n",
    "Examples\n",
    "unique([3, 3, 3, 7, 3, 3]) ➞ 7\n",
    "\n",
    "unique([0, 0, 0.77, 0, 0]) ➞ 0.77\n",
    "\n",
    "unique([0, 1, 1, 1, 1, 1, 1, 1]) ➞ 0\n",
    "Notes\n",
    "Test cases will always have exactly one unique number while all others are the same."
   ]
  },
  {
   "cell_type": "code",
   "execution_count": 9,
   "id": "8b71a6c3",
   "metadata": {
    "ExecuteTime": {
     "end_time": "2021-08-10T16:25:26.597709Z",
     "start_time": "2021-08-10T16:25:26.587629Z"
    }
   },
   "outputs": [
    {
     "name": "stdout",
     "output_type": "stream",
     "text": [
      "7\n",
      "0.77\n",
      "0\n"
     ]
    }
   ],
   "source": [
    "#Q2-Ans:\n",
    "\n",
    "def unique(lst):\n",
    "    lst2=lst.copy()\n",
    "    l1= list(set(lst))\n",
    "    lst2.remove(l1[0])\n",
    "    if len(set(lst2))==1:\n",
    "        return l1[0]\n",
    "    else:\n",
    "        return l1[1]\n",
    "    \n",
    "    \n",
    "    \n",
    "print(unique([3, 3, 3, 7, 3, 3]))\n",
    "    \n",
    "print(unique([0, 0, 0.77, 0, 0]) )\n",
    "\n",
    "print(unique([0, 1, 1, 1, 1, 1, 1, 1]))\n",
    "    "
   ]
  },
  {
   "cell_type": "code",
   "execution_count": null,
   "id": "2175c731",
   "metadata": {},
   "outputs": [],
   "source": []
  },
  {
   "cell_type": "raw",
   "id": "a5d2f662",
   "metadata": {},
   "source": [
    "\n",
    "Question3\n",
    "Your task is to create a Circle constructor that creates a circle with a radius provided by an argument. The circles constructed must have two getters getArea() (PIr^2) and getPerimeter() (2PI*r) which give both respective areas and perimeter (circumference).\n",
    "For help with this class, I have provided you with a Rectangle constructor which you can use as a base example.\n",
    "Examples\n",
    "circy = Circle(11)\n",
    "circy.getArea()\n",
    "\n",
    "# Should return 380.132711084365\n",
    "\n",
    "circy = Circle(4.44)\n",
    "circy.getPerimeter()\n",
    "\n",
    "# Should return 27.897342763877365\n",
    "Notes\n",
    "Round results up to the nearest integer."
   ]
  },
  {
   "cell_type": "code",
   "execution_count": 4,
   "id": "b53f2953",
   "metadata": {
    "ExecuteTime": {
     "end_time": "2021-08-11T02:19:14.594005Z",
     "start_time": "2021-08-11T02:19:14.575557Z"
    }
   },
   "outputs": [
    {
     "name": "stdout",
     "output_type": "stream",
     "text": [
      "379.94\n",
      "27.883200000000002\n"
     ]
    }
   ],
   "source": [
    "#Q3-Ans:\n",
    "\n",
    "PI=3.14\n",
    "\n",
    "class Circle():\n",
    "    def __init__(self, rad):\n",
    "        self.r= rad\n",
    "        \n",
    "    def getArea(self):\n",
    "        return PI * self.r**2\n",
    "    \n",
    "    def getPerimeter(self):\n",
    "        return 2*PI*self.r\n",
    "\n",
    "    \n",
    "    \n",
    "circy = Circle(11)\n",
    "print(circy.getArea())\n",
    "\n",
    "   \n",
    "circy = Circle(4.44)\n",
    "print(circy.getPerimeter())"
   ]
  },
  {
   "cell_type": "code",
   "execution_count": null,
   "id": "07da5f44",
   "metadata": {},
   "outputs": [],
   "source": []
  },
  {
   "cell_type": "raw",
   "id": "47be9587",
   "metadata": {},
   "source": [
    "Question4\n",
    "Create a function that takes a list of strings and return a list, sorted from shortest to longest.\n",
    "Examples\n",
    "sort_by_length([\"Google\", \"Apple\", \"Microsoft\"])\n",
    "➞ [\"Apple\", \"Google\", \"Microsoft\"]\n",
    "\n",
    "sort_by_length([\"Leonardo\", \"Michelangelo\", \"Raphael\", \"Donatello\"])\n",
    "➞ [\"Raphael\", \"Leonardo\", \"Donatello\", \"Michelangelo\"]\n",
    "\n",
    "sort_by_length([\"Turing\", \"Einstein\", \"Jung\"])\n",
    "➞ [\"Jung\", \"Turing\", \"Einstein\"]\n",
    "Notes\n",
    "All test cases contain lists with strings of different lengths, so you won't have to deal with multiple strings of the same length.\n"
   ]
  },
  {
   "cell_type": "code",
   "execution_count": 13,
   "id": "89693c6e",
   "metadata": {
    "ExecuteTime": {
     "end_time": "2021-08-10T16:46:38.513512Z",
     "start_time": "2021-08-10T16:46:38.494561Z"
    }
   },
   "outputs": [
    {
     "name": "stdout",
     "output_type": "stream",
     "text": [
      "['Apple', 'Google', 'Microsoft']\n",
      "['Raphael', 'Leonardo', 'Donatello', 'Michelangelo']\n",
      "['Jung', 'Turing', 'Einstein']\n"
     ]
    }
   ],
   "source": [
    "#Q4-Ans:\n",
    "\n",
    "def sort_by_length(lst):\n",
    "    lst.sort(key=len)\n",
    "    return lst\n",
    "\n",
    "\n",
    "print(sort_by_length([\"Google\", \"Apple\", \"Microsoft\"]))\n",
    "\n",
    "print(sort_by_length([\"Leonardo\", \"Michelangelo\", \"Raphael\", \"Donatello\"]))\n",
    "\n",
    "print(sort_by_length([\"Turing\", \"Einstein\", \"Jung\"]))"
   ]
  },
  {
   "cell_type": "code",
   "execution_count": null,
   "id": "28c6de87",
   "metadata": {
    "ExecuteTime": {
     "end_time": "2021-08-10T16:44:25.394090Z",
     "start_time": "2021-08-10T16:44:25.373149Z"
    }
   },
   "outputs": [],
   "source": []
  },
  {
   "cell_type": "raw",
   "id": "62323a4b",
   "metadata": {
    "ExecuteTime": {
     "end_time": "2021-08-10T16:45:30.271466Z",
     "start_time": "2021-08-10T16:45:30.256507Z"
    }
   },
   "source": [
    "\n",
    "Question5\n",
    "Create a function that validates whether three given integers form a Pythagorean triplet. The sum of the squares of the two smallest integers must equal the square of the largest number to be validated.\n",
    "\n",
    "\n",
    "Examples\n",
    "is_triplet(3, 4, 5) ➞ True\n",
    "# 3² + 4² = 25\n",
    "# 5² = 25\n",
    "\n",
    "is_triplet(13, 5, 12) ➞ True\n",
    "# 5² + 12² = 169\n",
    "# 13² = 169\n",
    "\n",
    "is_triplet(1, 2, 3) ➞ False\n",
    "# 1² + 2² = 5\n",
    "# 3² = 9\n",
    "Notes\n",
    "Numbers may not be given in a sorted order."
   ]
  },
  {
   "cell_type": "code",
   "execution_count": 26,
   "id": "320ac4ae",
   "metadata": {
    "ExecuteTime": {
     "end_time": "2021-08-10T17:05:44.214986Z",
     "start_time": "2021-08-10T17:05:44.194797Z"
    }
   },
   "outputs": [
    {
     "name": "stdout",
     "output_type": "stream",
     "text": [
      "True\n",
      "True\n",
      "False\n"
     ]
    }
   ],
   "source": [
    "#Q5-Ans:\n",
    "\n",
    "\n",
    "def is_triplet(a,b,c):\n",
    "    lst=[a,b,c]\n",
    "    lst.sort()\n",
    "    return (lst[0]**2 + lst[1]**2 == lst[2]**2)\n",
    "\n",
    "\n",
    "\n",
    "print(is_triplet(3, 4, 5))\n",
    "\n",
    "print(is_triplet(13, 5, 12))\n",
    "\n",
    "print(is_triplet(1, 2, 3))\n",
    "    "
   ]
  },
  {
   "cell_type": "code",
   "execution_count": null,
   "id": "5c3d1c3f",
   "metadata": {},
   "outputs": [],
   "source": []
  }
 ],
 "metadata": {
  "hide_input": false,
  "kernelspec": {
   "display_name": "Python 3",
   "language": "python",
   "name": "python3"
  },
  "language_info": {
   "codemirror_mode": {
    "name": "ipython",
    "version": 3
   },
   "file_extension": ".py",
   "mimetype": "text/x-python",
   "name": "python",
   "nbconvert_exporter": "python",
   "pygments_lexer": "ipython3",
   "version": "3.8.8"
  },
  "toc": {
   "base_numbering": 1,
   "nav_menu": {},
   "number_sections": true,
   "sideBar": true,
   "skip_h1_title": false,
   "title_cell": "Table of Contents",
   "title_sidebar": "Contents",
   "toc_cell": false,
   "toc_position": {},
   "toc_section_display": true,
   "toc_window_display": false
  }
 },
 "nbformat": 4,
 "nbformat_minor": 5
}
