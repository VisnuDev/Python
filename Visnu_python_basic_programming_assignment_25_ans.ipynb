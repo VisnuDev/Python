{
 "cells": [
  {
   "cell_type": "markdown",
   "id": "45ed728c",
   "metadata": {},
   "source": [
    "# Visnu_python_basic_programming_assignment_25_ans"
   ]
  },
  {
   "cell_type": "raw",
   "id": "4bfec991",
   "metadata": {},
   "source": [
    "Question1\n",
    "Create a function that takes three integer arguments (a, b, c) and returns the amount of integers which are of equal value.\n",
    "Examples\n",
    "equal(3, 4, 3) ➞ 2\n",
    "\n",
    "equal(1, 1, 1) ➞ 3\n",
    "\n",
    "equal(3, 4, 1) ➞ 0 \n",
    "Notes\n",
    "Your function must return 0, 2 or 3."
   ]
  },
  {
   "cell_type": "code",
   "execution_count": 4,
   "id": "763e9913",
   "metadata": {
    "ExecuteTime": {
     "end_time": "2021-08-10T17:07:57.744406Z",
     "start_time": "2021-08-10T17:07:57.714532Z"
    }
   },
   "outputs": [
    {
     "name": "stdout",
     "output_type": "stream",
     "text": [
      "2\n",
      "3\n",
      "0\n"
     ]
    }
   ],
   "source": [
    "#Q1-Ans:\n",
    "\n",
    "def equal(a,b,c):\n",
    "    lst=[a,b,c]\n",
    "    if len(set(lst))==3:\n",
    "        return 0\n",
    "    elif len(set(lst))==2:\n",
    "        return 2\n",
    "    elif len(set(lst))==1:\n",
    "        return 3\n",
    "    \n",
    "    \n",
    "\n",
    "\n",
    "print(equal(3, 4, 3))\n",
    "\n",
    "print(equal(1,1,1))\n",
    "\n",
    "print(equal(3, 4, 1))"
   ]
  },
  {
   "cell_type": "code",
   "execution_count": null,
   "id": "8fe50034",
   "metadata": {},
   "outputs": [],
   "source": []
  },
  {
   "cell_type": "raw",
   "id": "2457ff80",
   "metadata": {},
   "source": [
    "Question2\n",
    "Write a function that converts a dictionary into a list of keys-values tuples.\n",
    "Examples\n",
    "dict_to_list({\n",
    "  \"D\": 1,\n",
    "  \"B\": 2,\n",
    "  \"C\": 3\n",
    "}) ➞ [(\"B\", 2), (\"C\", 3), (\"D\", 1)]\n",
    "\n",
    "dict_to_list({\n",
    "  \"likes\": 2,\n",
    "  \"dislikes\": 3,\n",
    "  \"followers\": 10\n",
    "}) ➞ [(\"dislikes\", 3), (\"followers\", 10), (\"likes\", 2)]\n",
    "Notes\n",
    "Return the elements in the list in alphabetical order."
   ]
  },
  {
   "cell_type": "code",
   "execution_count": 9,
   "id": "f6cf6d75",
   "metadata": {
    "ExecuteTime": {
     "end_time": "2021-08-10T17:17:13.994206Z",
     "start_time": "2021-08-10T17:17:13.975880Z"
    }
   },
   "outputs": [
    {
     "name": "stdout",
     "output_type": "stream",
     "text": [
      "[('B', 2), ('C', 3), ('D', 1)]\n",
      "[('dislikes', 3), ('followers', 10), ('likes', 2)]\n"
     ]
    }
   ],
   "source": [
    "#Q2-Ans:\n",
    "\n",
    "def dict_to_list(dic):\n",
    "    lst= [(k,v) for k,v in dic.items()]\n",
    "    lst.sort(key= lambda x: x[0])\n",
    "    return lst\n",
    "\n",
    "\n",
    "\n",
    "print(dict_to_list({\n",
    "  \"D\": 1,\n",
    "  \"B\": 2,\n",
    "  \"C\": 3\n",
    "}))\n",
    "\n",
    "\n",
    "print(dict_to_list({\n",
    "  \"likes\": 2,\n",
    "  \"dislikes\": 3,\n",
    "  \"followers\": 10\n",
    "}))"
   ]
  },
  {
   "cell_type": "code",
   "execution_count": null,
   "id": "b384ad79",
   "metadata": {},
   "outputs": [],
   "source": []
  },
  {
   "cell_type": "raw",
   "id": "7ef58cfc",
   "metadata": {},
   "source": [
    "Question3\n",
    "Write a function that creates a dictionary with each (key, value) pair being the (lower case, upper case) versions of a letter, respectively.\n",
    "Examples\n",
    "mapping([\"p\", \"s\"]) ➞ { \"p\": \"P\", \"s\": \"S\" }\n",
    "\n",
    "mapping([\"a\", \"b\", \"c\"]) ➞ { \"a\": \"A\", \"b\": \"B\", \"c\": \"C\" }\n",
    "\n",
    "mapping([\"a\", \"v\", \"y\", \"z\"]) ➞ { \"a\": \"A\", \"v\": \"V\", \"y\": \"Y\", \"z\": \"Z\" }\n",
    "Notes\n",
    "All of the letters in the input list will always be lowercase.\n"
   ]
  },
  {
   "cell_type": "code",
   "execution_count": 11,
   "id": "d43fa67f",
   "metadata": {
    "ExecuteTime": {
     "end_time": "2021-08-10T17:20:32.974012Z",
     "start_time": "2021-08-10T17:20:32.963506Z"
    }
   },
   "outputs": [
    {
     "name": "stdout",
     "output_type": "stream",
     "text": [
      "{'p': 'P', 's': 'S'}\n",
      "{'a': 'A', 'b': 'B', 'c': 'C'}\n",
      "{'a': 'A', 'v': 'V', 'y': 'Y', 'z': 'Z'}\n"
     ]
    }
   ],
   "source": [
    "#Q3-Ans:\n",
    "\n",
    "def mapping(lst):\n",
    "    dic={}\n",
    "    for x in lst:\n",
    "        dic[x]=x.upper()\n",
    "    return dic\n",
    "\n",
    "\n",
    "print(mapping([\"p\", \"s\"]))\n",
    "\n",
    "print(mapping([\"a\", \"b\", \"c\"]))\n",
    "    \n",
    "print(mapping([\"a\", \"v\", \"y\", \"z\"]))\n",
    "        "
   ]
  },
  {
   "cell_type": "code",
   "execution_count": null,
   "id": "78f8f3ee",
   "metadata": {},
   "outputs": [],
   "source": []
  },
  {
   "cell_type": "raw",
   "id": "f6c9de9e",
   "metadata": {},
   "source": [
    "Question4\n",
    "Write a function, that replaces all vowels in a string with a specified vowel.\n",
    "Examples\n",
    "vow_replace(\"apples and bananas\", \"u\") ➞ \"upplus und bununus\"\n",
    "\n",
    "vow_replace(\"cheese casserole\", \"o\") ➞ \"chooso cossorolo\"\n",
    "\n",
    "vow_replace(\"stuffed jalapeno poppers\", \"e\") ➞ \"steffed jelepene peppers\"\n",
    "Notes\n",
    "All words will be lowercase. Y is not considered a vowel."
   ]
  },
  {
   "cell_type": "code",
   "execution_count": 15,
   "id": "397a3957",
   "metadata": {
    "ExecuteTime": {
     "end_time": "2021-08-10T17:25:20.123636Z",
     "start_time": "2021-08-10T17:25:20.103235Z"
    }
   },
   "outputs": [
    {
     "name": "stdout",
     "output_type": "stream",
     "text": [
      "upplus und bununus\n",
      "chooso cossorolo\n",
      "steffed jelepene peppers\n"
     ]
    }
   ],
   "source": [
    "#Q4-Ans:\n",
    "\n",
    "def vow_replace(string, vow):\n",
    "    vowels='aeiou'\n",
    "    final_str=''\n",
    "    for c in string:\n",
    "        if c in vowels:\n",
    "            final_str += vow\n",
    "        else:\n",
    "            final_str += c\n",
    "    return final_str\n",
    "\n",
    "\n",
    "\n",
    "\n",
    "print(vow_replace(\"apples and bananas\", \"u\"))\n",
    "\n",
    "print(vow_replace(\"cheese casserole\", \"o\"))\n",
    "\n",
    "print(vow_replace(\"stuffed jalapeno poppers\", \"e\"))"
   ]
  },
  {
   "cell_type": "code",
   "execution_count": null,
   "id": "aedd75ca",
   "metadata": {},
   "outputs": [],
   "source": []
  },
  {
   "cell_type": "raw",
   "id": "321a15b2",
   "metadata": {
    "ExecuteTime": {
     "end_time": "2021-08-10T17:23:14.503523Z",
     "start_time": "2021-08-10T17:23:14.483408Z"
    }
   },
   "source": [
    "Question5\n",
    "Create a function that takes a string as input and capitalizes a letter if its ASCII code is even and returns its lower case version if its ASCII code is odd.\n",
    "Examples\n",
    "ascii_capitalize(\"to be or not to be!\") ➞ \"To Be oR NoT To Be!\"\n",
    "\n",
    "ascii_capitalize(\"THE LITTLE MERMAID\") ➞ \"THe LiTTLe meRmaiD\"\n",
    "\n",
    "ascii_capitalize(\"Oh what a beautiful morning.\") ➞ \"oH wHaT a BeauTiFuL moRNiNg.\""
   ]
  },
  {
   "cell_type": "code",
   "execution_count": 36,
   "id": "c80b6d29",
   "metadata": {
    "ExecuteTime": {
     "end_time": "2021-08-10T17:43:08.227026Z",
     "start_time": "2021-08-10T17:43:08.207483Z"
    }
   },
   "outputs": [
    {
     "name": "stdout",
     "output_type": "stream",
     "text": [
      "To Be oR NoT To Be!\n",
      "THe LiTTLe meRmaiD\n",
      "oH wHaT a BeauTiFuL moRNiNg.\n"
     ]
    }
   ],
   "source": [
    "#Q5-Ans:\n",
    "\n",
    "def ascii_capitalize(string):\n",
    "    final_str=''\n",
    "    for c in string:\n",
    "        if int(ascii(ord(c)))%2==0:\n",
    "            final_str += c.upper()\n",
    "        else:\n",
    "            final_str += c.lower()\n",
    "    return final_str\n",
    "\n",
    "\n",
    "\n",
    "print(ascii_capitalize(\"to be or not to be!\"))\n",
    "\n",
    "print(ascii_capitalize(\"THE LITTLE MERMAID\"))\n",
    "\n",
    "print(ascii_capitalize(\"Oh what a beautiful morning.\"))\n",
    "    "
   ]
  },
  {
   "cell_type": "code",
   "execution_count": null,
   "id": "e1e6abbe",
   "metadata": {},
   "outputs": [],
   "source": []
  }
 ],
 "metadata": {
  "hide_input": false,
  "kernelspec": {
   "display_name": "Python 3",
   "language": "python",
   "name": "python3"
  },
  "language_info": {
   "codemirror_mode": {
    "name": "ipython",
    "version": 3
   },
   "file_extension": ".py",
   "mimetype": "text/x-python",
   "name": "python",
   "nbconvert_exporter": "python",
   "pygments_lexer": "ipython3",
   "version": "3.8.8"
  },
  "toc": {
   "base_numbering": 1,
   "nav_menu": {},
   "number_sections": true,
   "sideBar": true,
   "skip_h1_title": false,
   "title_cell": "Table of Contents",
   "title_sidebar": "Contents",
   "toc_cell": false,
   "toc_position": {},
   "toc_section_display": true,
   "toc_window_display": false
  }
 },
 "nbformat": 4,
 "nbformat_minor": 5
}
