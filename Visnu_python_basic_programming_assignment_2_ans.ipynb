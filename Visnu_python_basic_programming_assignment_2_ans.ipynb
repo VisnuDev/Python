{
 "cells": [
  {
   "cell_type": "markdown",
   "id": "58b3d8fa",
   "metadata": {},
   "source": [
    "# Visnu_python_basic_programming_assignment_2_ans"
   ]
  },
  {
   "cell_type": "code",
   "execution_count": null,
   "id": "317cb784",
   "metadata": {},
   "outputs": [],
   "source": [
    "1.\tWrite a Python program to convert kilometers to miles?\n",
    "2.\tWrite a Python program to convert Celsius to Fahrenheit?\n",
    "3.\tWrite a Python program to display calendar?\n",
    "4.\tWrite a Python program to solve quadratic equation?\n",
    "5.\tWrite a Python program to swap two variables without temp variable?\n"
   ]
  },
  {
   "cell_type": "code",
   "execution_count": 2,
   "id": "f21bc3a0",
   "metadata": {},
   "outputs": [
    {
     "name": "stdout",
     "output_type": "stream",
     "text": [
      "Enter the kilometers value: 3.4\n",
      "3.40 kms is equal to 2.11 miles\n"
     ]
    }
   ],
   "source": [
    "# 1.\tWrite a Python program to convert kilometers to miles?\n",
    "\n",
    "kms = float(input(\"Enter the kilometers value: \"))\n",
    "\n",
    "mile_factor= 0.62137119\n",
    "\n",
    "miles= kms * mile_factor\n",
    "\n",
    "print(\"%0.2f kms is equal to %0.2f miles\" %(kms, miles))"
   ]
  },
  {
   "cell_type": "code",
   "execution_count": 3,
   "id": "215a8f49",
   "metadata": {},
   "outputs": [
    {
     "name": "stdout",
     "output_type": "stream",
     "text": [
      "Enter the celcius value: 36.7\n",
      "36.70 celcius is equal to 98.06 farenheit\n"
     ]
    }
   ],
   "source": [
    "#2.\tWrite a Python program to convert Celsius to Fahrenheit?\n",
    "\n",
    "cel = float(input(\"Enter the celcius value: \"))\n",
    "\n",
    "faren= (cel * 1.8) +32\n",
    "\n",
    "print(\"%0.2f celcius is equal to %0.2f farenheit\" %(cel, faren))"
   ]
  },
  {
   "cell_type": "code",
   "execution_count": 10,
   "id": "8014a8a6",
   "metadata": {},
   "outputs": [
    {
     "name": "stdout",
     "output_type": "stream",
     "text": [
      "Enter the year as four digit: 2021\n",
      "Enter the month in number (1 to 12): 10\n",
      "    October 2021\n",
      "Mo Tu We Th Fr Sa Su\n",
      "             1  2  3\n",
      " 4  5  6  7  8  9 10\n",
      "11 12 13 14 15 16 17\n",
      "18 19 20 21 22 23 24\n",
      "25 26 27 28 29 30 31\n",
      "\n"
     ]
    }
   ],
   "source": [
    "#3.\tWrite a Python program to display calendar?\n",
    "\n",
    "\n",
    "import calendar # importing module\n",
    "\n",
    "\n",
    "\n",
    "yr =int(input(\"Enter the year as four digit: \"))\n",
    "mon= int(input(\"Enter the month in number (1 to 12): \"))\n",
    "\n",
    "\n",
    "print(calendar.month(yr, mon))\n",
    "\n"
   ]
  },
  {
   "cell_type": "code",
   "execution_count": 19,
   "id": "91d786b2",
   "metadata": {},
   "outputs": [
    {
     "name": "stdout",
     "output_type": "stream",
     "text": [
      "The format of quadratic equation is ax**2 + bx + c = 0 \n",
      "\n",
      "Enter the value a: 10\n",
      "Enter the value b: 4\n",
      "Enter the value c: 6\n",
      "The solution for quadratic equation is (-0.2+0.7483314773547882j) and (-0.2-0.7483314773547882j)\n"
     ]
    }
   ],
   "source": [
    "#4.\tWrite a Python program to solve quadratic equation?\n",
    "\n",
    "#we can use complex math module to solve this\n",
    "\n",
    "\n",
    "print(\"The format of quadratic equation is ax**2 + bx + c = 0 \\n\")\n",
    "import cmath # importing complex math module\n",
    "\n",
    "a= int(input(\"Enter the value a: \"))\n",
    "b= int(input(\"Enter the value b: \"))\n",
    "c= int(input(\"Enter the value c: \"))\n",
    "\n",
    "\n",
    "\n",
    "d = b**2 - (4 * a *c)\n",
    "\n",
    "res1 = (-b + cmath.sqrt(d)) / (2 * a)\n",
    "res2 = (-b - cmath.sqrt(d)) / (2 * a)\n",
    "\n",
    "\n",
    "print(f\"The solution for quadratic equation is {res1} and {res2}\")"
   ]
  },
  {
   "cell_type": "code",
   "execution_count": 20,
   "id": "9b225ee6",
   "metadata": {},
   "outputs": [
    {
     "name": "stdout",
     "output_type": "stream",
     "text": [
      "Enter value a: 10\n",
      "Enter value b: 20\n",
      "Before swapping. a=10, b=20\n",
      "Before swapping. a=20, b=10\n"
     ]
    }
   ],
   "source": [
    "#5.\tWrite a Python program to swap two variables without temp variable?\n",
    "\n",
    "\n",
    "a= int(input(\"Enter value a: \"))\n",
    "b= int(input(\"Enter value b: \"))\n",
    "\n",
    "print(f\"Before swapping. a={a}, b={b}\")\n",
    "\n",
    "a, b= b, a\n",
    "\n",
    "print(f\"After swapping. a={a}, b={b}\")"
   ]
  },
  {
   "cell_type": "code",
   "execution_count": null,
   "id": "870f46e5",
   "metadata": {},
   "outputs": [],
   "source": []
  }
 ],
 "metadata": {
  "kernelspec": {
   "display_name": "Python 3",
   "language": "python",
   "name": "python3"
  },
  "language_info": {
   "codemirror_mode": {
    "name": "ipython",
    "version": 3
   },
   "file_extension": ".py",
   "mimetype": "text/x-python",
   "name": "python",
   "nbconvert_exporter": "python",
   "pygments_lexer": "ipython3",
   "version": "3.8.8"
  }
 },
 "nbformat": 4,
 "nbformat_minor": 5
}
