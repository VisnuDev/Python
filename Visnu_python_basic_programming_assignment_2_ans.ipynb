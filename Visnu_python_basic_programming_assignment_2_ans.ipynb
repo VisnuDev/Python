{
 "cells": [
  {
   "cell_type": "markdown",
   "id": "58b3d8fa",
   "metadata": {},
   "source": [
    "# Visnu_python_basic_programming_assignment_2_ans"
   ]
  },
  {
   "cell_type": "code",
   "execution_count": null,
   "id": "317cb784",
   "metadata": {},
   "outputs": [],
   "source": [
    "1.\tWrite a Python program to convert kilometers to miles?\n",
    "2.\tWrite a Python program to convert Celsius to Fahrenheit?\n",
    "3.\tWrite a Python program to display calendar?\n",
    "4.\tWrite a Python program to solve quadratic equation?\n",
    "5.\tWrite a Python program to swap two variables without temp variable?\n"
   ]
  },
  {
   "cell_type": "code",
   "execution_count": 1,
   "id": "f21bc3a0",
   "metadata": {
    "ExecuteTime": {
     "end_time": "2022-02-13T13:36:28.063089Z",
     "start_time": "2022-02-13T13:36:24.153950Z"
    }
   },
   "outputs": [
    {
     "name": "stdout",
     "output_type": "stream",
     "text": [
      "Enter the kilometers value: 6.7\n",
      "6.70 kms is equal to 4.16 miles\n"
     ]
    }
   ],
   "source": [
    "# 1.\tWrite a Python program to convert kilometers to miles?\n",
    "\n",
    "kms = float(input(\"Enter the kilometers value: \"))\n",
    "\n",
    "mile_factor= 0.62137119\n",
    "\n",
    "miles= kms * mile_factor\n",
    "\n",
    "print(\"%0.2f kms is equal to %0.2f miles\" %(kms, miles))"
   ]
  },
  {
   "cell_type": "code",
   "execution_count": 3,
   "id": "215a8f49",
   "metadata": {},
   "outputs": [
    {
     "name": "stdout",
     "output_type": "stream",
     "text": [
      "Enter the celcius value: 36.7\n",
      "36.70 celcius is equal to 98.06 farenheit\n"
     ]
    }
   ],
   "source": [
    "#2.\tWrite a Python program to convert Celsius to Fahrenheit?\n",
    "\n",
    "cel = float(input(\"Enter the celcius value: \"))\n",
    "\n",
    "faren= (cel * 1.8) +32\n",
    "\n",
    "print(\"%0.2f celcius is equal to %0.2f farenheit\" %(cel, faren))"
   ]
  },
  {
   "cell_type": "code",
   "execution_count": 3,
   "id": "8014a8a6",
   "metadata": {
    "ExecuteTime": {
     "end_time": "2022-02-13T13:37:42.663087Z",
     "start_time": "2022-02-13T13:37:38.090389Z"
    }
   },
   "outputs": [
    {
     "name": "stdout",
     "output_type": "stream",
     "text": [
      "Enter the year as four digit: 2022\n",
      "Enter the month in number (1 to 12): 2\n",
      "   February 2022\n",
      "Mo Tu We Th Fr Sa Su\n",
      "    1  2  3  4  5  6\n",
      " 7  8  9 10 11 12 13\n",
      "14 15 16 17 18 19 20\n",
      "21 22 23 24 25 26 27\n",
      "28\n",
      "\n"
     ]
    }
   ],
   "source": [
    "#3.\tWrite a Python program to display calendar?\n",
    "\n",
    "\n",
    "import calendar # importing module\n",
    "\n",
    "\n",
    "\n",
    "yr =int(input(\"Enter the year as four digit: \"))\n",
    "mon= int(input(\"Enter the month in number (1 to 12): \"))\n",
    "\n",
    "\n",
    "print(calendar.month(yr, mon))\n",
    "\n"
   ]
  },
  {
   "cell_type": "code",
   "execution_count": 4,
   "id": "91d786b2",
   "metadata": {
    "ExecuteTime": {
     "end_time": "2022-02-13T13:39:18.800682Z",
     "start_time": "2022-02-13T13:39:14.530113Z"
    }
   },
   "outputs": [
    {
     "name": "stdout",
     "output_type": "stream",
     "text": [
      "The format of quadratic equation is ax**2 + bx + c = 0 \n",
      "\n",
      "Enter the value a: 5\n",
      "Enter the value b: 9\n",
      "Enter the value c: 23\n",
      "The solution for quadratic equation is (-0.9+1.9467922333931784j) and (-0.9-1.9467922333931784j)\n"
     ]
    }
   ],
   "source": [
    "#4.\tWrite a Python program to solve quadratic equation?\n",
    "\n",
    "#we can use complex math module to solve this\n",
    "\n",
    "\n",
    "print(\"The format of quadratic equation is ax**2 + bx + c = 0 \\n\")\n",
    "import cmath # importing complex math module\n",
    "\n",
    "a= int(input(\"Enter the value a: \"))\n",
    "b= int(input(\"Enter the value b: \"))\n",
    "c= int(input(\"Enter the value c: \"))\n",
    "\n",
    "\n",
    "\n",
    "d = b**2 - (4 * a *c)\n",
    "\n",
    "res1 = (-b + cmath.sqrt(d)) / (2 * a)\n",
    "res2 = (-b - cmath.sqrt(d)) / (2 * a)\n",
    "\n",
    "\n",
    "print(f\"The solution for quadratic equation is {res1} and {res2}\")"
   ]
  },
  {
   "cell_type": "code",
   "execution_count": 20,
   "id": "9b225ee6",
   "metadata": {},
   "outputs": [
    {
     "name": "stdout",
     "output_type": "stream",
     "text": [
      "Enter value a: 10\n",
      "Enter value b: 20\n",
      "Before swapping. a=10, b=20\n",
      "Before swapping. a=20, b=10\n"
     ]
    }
   ],
   "source": [
    "#5.\tWrite a Python program to swap two variables without temp variable?\n",
    "\n",
    "\n",
    "a= int(input(\"Enter value a: \"))\n",
    "b= int(input(\"Enter value b: \"))\n",
    "\n",
    "print(f\"Before swapping. a={a}, b={b}\")\n",
    "\n",
    "a, b= b, a\n",
    "\n",
    "print(f\"After swapping. a={a}, b={b}\")"
   ]
  },
  {
   "cell_type": "code",
   "execution_count": null,
   "id": "870f46e5",
   "metadata": {},
   "outputs": [],
   "source": []
  }
 ],
 "metadata": {
  "hide_input": false,
  "kernelspec": {
   "display_name": "Python 3",
   "language": "python",
   "name": "python3"
  },
  "language_info": {
   "codemirror_mode": {
    "name": "ipython",
    "version": 3
   },
   "file_extension": ".py",
   "mimetype": "text/x-python",
   "name": "python",
   "nbconvert_exporter": "python",
   "pygments_lexer": "ipython3",
   "version": "3.8.8"
  },
  "toc": {
   "base_numbering": 1,
   "nav_menu": {},
   "number_sections": true,
   "sideBar": true,
   "skip_h1_title": false,
   "title_cell": "Table of Contents",
   "title_sidebar": "Contents",
   "toc_cell": false,
   "toc_position": {},
   "toc_section_display": true,
   "toc_window_display": false
  }
 },
 "nbformat": 4,
 "nbformat_minor": 5
}
