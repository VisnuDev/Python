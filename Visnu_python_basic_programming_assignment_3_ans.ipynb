{
 "cells": [
  {
   "cell_type": "markdown",
   "id": "42d5f2ef",
   "metadata": {},
   "source": [
    "# Visnu_python_basic_programming_assignment_3_ans"
   ]
  },
  {
   "cell_type": "code",
   "execution_count": null,
   "id": "52b7272a",
   "metadata": {},
   "outputs": [],
   "source": [
    "1.\tWrite a Python Program to Check if a Number is Positive, Negative or Zero?\n",
    "2.\tWrite a Python Program to Check if a Number is Odd or Even?\n",
    "3.\tWrite a Python Program to Check Leap Year?\n",
    "4.\tWrite a Python Program to Check Prime Number?\n",
    "5.\tWrite a Python Program to Print all Prime Numbers in an Interval of 1-10000?\n"
   ]
  },
  {
   "cell_type": "code",
   "execution_count": 1,
   "id": "eda617bb",
   "metadata": {
    "ExecuteTime": {
     "end_time": "2022-02-13T13:44:51.679233Z",
     "start_time": "2022-02-13T13:44:49.863452Z"
    }
   },
   "outputs": [
    {
     "name": "stdout",
     "output_type": "stream",
     "text": [
      "Enter the number: 8\n",
      "8 is Positive\n"
     ]
    }
   ],
   "source": [
    "#1.\tWrite a Python Program to Check if a Number is Positive, Negative or Zero?\n",
    "\n",
    "def check_sign(n):\n",
    "    if n==0:\n",
    "        return 'Zero'\n",
    "    elif n>0:\n",
    "        return 'Positive'\n",
    "    else:\n",
    "        return 'Negative'\n",
    "    \n",
    "num = int(input(\"Enter the number: \"))\n",
    "\n",
    "res= check_sign(num)\n",
    "\n",
    "print(f\"{num} is {res}\")"
   ]
  },
  {
   "cell_type": "code",
   "execution_count": 2,
   "id": "7fdd6c5c",
   "metadata": {
    "ExecuteTime": {
     "end_time": "2022-02-13T13:45:01.269823Z",
     "start_time": "2022-02-13T13:44:59.162101Z"
    }
   },
   "outputs": [
    {
     "name": "stdout",
     "output_type": "stream",
     "text": [
      "Enter the number: 567\n",
      "567 is a Odd number\n"
     ]
    }
   ],
   "source": [
    "#2.\tWrite a Python Program to Check if a Number is Odd or Even?\n",
    "\n",
    "def odd_or_even(n):\n",
    "    if n%2==0:\n",
    "        return 'Even'\n",
    "    else: \n",
    "        return 'Odd'\n",
    "    \n",
    "    \n",
    "num = int(input(\"Enter the number: \"))\n",
    "\n",
    "res = odd_or_even(num)\n",
    "print(f\"{num} is a {res} number\") "
   ]
  },
  {
   "cell_type": "code",
   "execution_count": 11,
   "id": "2b6e7eab",
   "metadata": {},
   "outputs": [
    {
     "name": "stdout",
     "output_type": "stream",
     "text": [
      "Enter the year: 2020\n",
      "2020 is leap year\n"
     ]
    }
   ],
   "source": [
    "#3.\tWrite a Python Program to Check Leap Year?\n",
    "\n",
    "\n",
    "def leap_or_not(year):\n",
    "    if year%4 ==0:\n",
    "        if year%100 ==0:\n",
    "            if year%400 ==0:\n",
    "                return True\n",
    "            else:\n",
    "                return False\n",
    "        else:\n",
    "            return True\n",
    "    else:\n",
    "        return False\n",
    "    \n",
    "    \n",
    "\n",
    "year = int(input(\"Enter the year: \"))\n",
    "\n",
    "res= leap_or_not(year)\n",
    "\n",
    "if res==True:\n",
    "    print(f\"{year} is leap year\")\n",
    "else:\n",
    "    print(f\"{year} is not a leap year\")"
   ]
  },
  {
   "cell_type": "code",
   "execution_count": 17,
   "id": "b7e08768",
   "metadata": {},
   "outputs": [
    {
     "name": "stdout",
     "output_type": "stream",
     "text": [
      "Enter the number: 11\n",
      "11 is a prime number\n"
     ]
    }
   ],
   "source": [
    "#4.\tWrite a Python Program to Check Prime Number?\n",
    "\n",
    "def prime_or_not(x):\n",
    "    flag=0\n",
    "    for i in range(2, x):\n",
    "        if x%i==0:\n",
    "            flag=1\n",
    "            break\n",
    "    if flag==0:\n",
    "        return True\n",
    "    else: \n",
    "        return False\n",
    "    \n",
    "    \n",
    "\n",
    "num = int(input(\"Enter the number: \"))\n",
    "\n",
    "res= prime_or_not(num)\n",
    "\n",
    "if res==True:\n",
    "    print(f\"{num} is a prime number\")\n",
    "else:\n",
    "    print(f\"{num} is a not a prime number\")\n",
    "    \n"
   ]
  },
  {
   "cell_type": "code",
   "execution_count": 6,
   "id": "78fee5fd",
   "metadata": {
    "ExecuteTime": {
     "end_time": "2022-02-13T14:01:09.814475Z",
     "start_time": "2022-02-13T14:01:09.802511Z"
    }
   },
   "outputs": [
    {
     "name": "stdout",
     "output_type": "stream",
     "text": [
      "1\n",
      "2\n",
      "3\n",
      "5\n",
      "7\n",
      "11\n",
      "13\n",
      "17\n",
      "19\n",
      "23\n",
      "29\n",
      "31\n",
      "37\n",
      "41\n",
      "43\n",
      "47\n",
      "53\n",
      "59\n",
      "61\n",
      "67\n",
      "71\n",
      "73\n",
      "79\n",
      "83\n",
      "89\n",
      "97\n"
     ]
    }
   ],
   "source": [
    "#5.\tWrite a Python Program to Print all Prime Numbers in an Interval of 1-10000?\n",
    "\n",
    "\n",
    "\n",
    "\n",
    "def prime_list(max):\n",
    "    for x in range(1, max+1):\n",
    "        flag=0\n",
    "        for i in range(2, x):\n",
    "            if x%i==0:\n",
    "                flag=1\n",
    "                break\n",
    "        if flag==0:\n",
    "            print(x)\n",
    "        else: \n",
    "            pass\n",
    "    \n",
    "    \n",
    "prime_list(100)\n"
   ]
  },
  {
   "cell_type": "code",
   "execution_count": null,
   "id": "c23975a4",
   "metadata": {},
   "outputs": [],
   "source": []
  }
 ],
 "metadata": {
  "hide_input": false,
  "kernelspec": {
   "display_name": "Python 3",
   "language": "python",
   "name": "python3"
  },
  "language_info": {
   "codemirror_mode": {
    "name": "ipython",
    "version": 3
   },
   "file_extension": ".py",
   "mimetype": "text/x-python",
   "name": "python",
   "nbconvert_exporter": "python",
   "pygments_lexer": "ipython3",
   "version": "3.8.8"
  },
  "toc": {
   "base_numbering": 1,
   "nav_menu": {},
   "number_sections": true,
   "sideBar": true,
   "skip_h1_title": false,
   "title_cell": "Table of Contents",
   "title_sidebar": "Contents",
   "toc_cell": false,
   "toc_position": {},
   "toc_section_display": true,
   "toc_window_display": false
  }
 },
 "nbformat": 4,
 "nbformat_minor": 5
}
