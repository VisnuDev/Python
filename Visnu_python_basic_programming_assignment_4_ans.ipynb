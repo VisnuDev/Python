{
 "cells": [
  {
   "cell_type": "markdown",
   "id": "2b30b71e",
   "metadata": {},
   "source": [
    "# Visnu_python_basic_programming_assignment_4_ans"
   ]
  },
  {
   "cell_type": "code",
   "execution_count": null,
   "id": "6d84bfde",
   "metadata": {},
   "outputs": [],
   "source": [
    "1.\tWrite a Python Program to Find the Factorial of a Number?\n",
    "2.\tWrite a Python Program to Display the multiplication Table?\n",
    "3.\tWrite a Python Program to Print the Fibonacci sequence?\n",
    "4.\tWrite a Python Program to Check Armstrong Number?\n",
    "5.\tWrite a Python Program to Find Armstrong Number in an Interval?\n",
    "6.\tWrite a Python Program to Find the Sum of Natural Numbers?\n"
   ]
  },
  {
   "cell_type": "code",
   "execution_count": 4,
   "id": "2dd14852",
   "metadata": {},
   "outputs": [
    {
     "name": "stdout",
     "output_type": "stream",
     "text": [
      "Enter the number to find factorial: 5\n",
      "The factorial of 5 is 120\n"
     ]
    }
   ],
   "source": [
    "#1.\tWrite a Python Program to Find the Factorial of a Number?\n",
    "\n",
    "\n",
    "def factorial(n):\n",
    "    fact=1\n",
    "    while n>0:\n",
    "        fact = fact * n\n",
    "        n-=1\n",
    "    return fact\n",
    "\n",
    "\n",
    "\n",
    "num =int(input(\"Enter the number to find factorial: \"))\n",
    "\n",
    "res= factorial(num)\n",
    "\n",
    "print(f\"The factorial of {num} is {res}\")\n",
    "\n",
    "\n"
   ]
  },
  {
   "cell_type": "code",
   "execution_count": 6,
   "id": "7d08e504",
   "metadata": {},
   "outputs": [
    {
     "name": "stdout",
     "output_type": "stream",
     "text": [
      "Enter the number: 8\n",
      "1 x 8 = 8\n",
      "2 x 8 = 16\n",
      "3 x 8 = 24\n",
      "4 x 8 = 32\n",
      "5 x 8 = 40\n",
      "6 x 8 = 48\n",
      "7 x 8 = 56\n",
      "8 x 8 = 64\n",
      "9 x 8 = 72\n",
      "10 x 8 = 80\n"
     ]
    }
   ],
   "source": [
    "#2.\tWrite a Python Program to Display the multiplication Table?\n",
    "\n",
    "\n",
    "def multiplication_table(n):\n",
    "    for i in range(1, 11):\n",
    "        print(f\"{i} x {n} = {n*i}\")\n",
    "    \n",
    "\n",
    "    \n",
    "num = int(input(\"Enter the number: \"))\n",
    "\n",
    "multiplication_table(num)\n",
    "\n"
   ]
  },
  {
   "cell_type": "code",
   "execution_count": 8,
   "id": "368f4bdc",
   "metadata": {},
   "outputs": [
    {
     "name": "stdout",
     "output_type": "stream",
     "text": [
      "Enter the upper limit number to create a fibonacci series: 765\n",
      "0\n",
      "1\n",
      "1\n",
      "2\n",
      "3\n",
      "5\n",
      "8\n",
      "13\n",
      "21\n",
      "34\n",
      "55\n",
      "89\n",
      "144\n",
      "233\n",
      "377\n",
      "610\n"
     ]
    }
   ],
   "source": [
    "#3.\tWrite a Python Program to Print the Fibonacci sequence?\n",
    "\n",
    "\n",
    "def fibonacci(lim):\n",
    "    a=0\n",
    "    b=1\n",
    "    print(a)\n",
    "    print(b)\n",
    "    c=a+b\n",
    "    while c <= lim:\n",
    "        print(c)\n",
    "        a=b\n",
    "        b=c\n",
    "        c=a+b\n",
    "    \n",
    "\n",
    "    \n",
    "\n",
    "\n",
    "lim =int(input(\"Enter the upper limit number to create a fibonacci series: \"))\n",
    "\n",
    "fibonacci(lim)\n",
    "               \n",
    "        \n",
    "        "
   ]
  },
  {
   "cell_type": "code",
   "execution_count": 17,
   "id": "65c8b897",
   "metadata": {},
   "outputs": [
    {
     "name": "stdout",
     "output_type": "stream",
     "text": [
      "Enter the number to check for Armstrong: 153\n",
      "153 is a Armstrong number\n"
     ]
    }
   ],
   "source": [
    "#4.\tWrite a Python Program to Check Armstrong Number?\n",
    "\n",
    "\n",
    "\n",
    "def check_for_armstrong(num):\n",
    "    digits=[]\n",
    "    x=num\n",
    "    sum=0\n",
    "    while x>0:\n",
    "        rem = x%10\n",
    "        digits.append(rem)\n",
    "        x= int( x/10)\n",
    "    for p in digits:\n",
    "        sum += p**3\n",
    "    if sum==num:\n",
    "        return True\n",
    "    else:\n",
    "        return False\n",
    "        \n",
    "#end of function\n",
    "\n",
    "\n",
    "\n",
    "\n",
    "        \n",
    "\n",
    "num= int(input(\"Enter the number to check for Armstrong: \"))\n",
    "\n",
    "res= check_for_armstrong(num)\n",
    "\n",
    "if res==True:\n",
    "    print(f\"{num} is a Armstrong number\")\n",
    "else:\n",
    "    print(f\"{num} is not a Armstrong number\")\n",
    "\n",
    "\n",
    "\n"
   ]
  },
  {
   "cell_type": "code",
   "execution_count": null,
   "id": "f6c0d09f",
   "metadata": {},
   "outputs": [],
   "source": []
  },
  {
   "cell_type": "code",
   "execution_count": 26,
   "id": "e2268e06",
   "metadata": {},
   "outputs": [
    {
     "name": "stdout",
     "output_type": "stream",
     "text": [
      "Enter the lower limit and upper limit value to find Armstrong numbers between them: 1 1000\n",
      "1\n",
      "153\n",
      "370\n",
      "371\n",
      "407\n"
     ]
    }
   ],
   "source": [
    "# 5.\tWrite a Python Program to Find Armstrong Number in an Interval?\n",
    "\n",
    "\n",
    "def Armstrong_list(mini, maxi):\n",
    "    for num in range(mini, maxi+1):\n",
    "        digits=[]\n",
    "        x=num\n",
    "        sum=0\n",
    "        while x>0:\n",
    "            rem= x%10\n",
    "            digits.append(rem)\n",
    "            x = int(x/10)\n",
    "        for p in digits:\n",
    "            sum += p**3\n",
    "        if sum==num:\n",
    "            print(num)\n",
    "        else:\n",
    "            pass\n",
    "        \n",
    "\n",
    "        \n",
    "mini, maxi= map(int, input(\"Enter the lower limit and upper limit value(with space between) to find Armstrong numbers between them: \").split() )\n",
    "\n",
    "Armstrong_list(mini, maxi)\n",
    "\n"
   ]
  },
  {
   "cell_type": "code",
   "execution_count": 28,
   "id": "72e9ffc7",
   "metadata": {},
   "outputs": [
    {
     "name": "stdout",
     "output_type": "stream",
     "text": [
      "Enter the value to find the sum of natural numbers: 99\n",
      "The sum of 99 natural numbers is = 4950\n"
     ]
    }
   ],
   "source": [
    "#6.\tWrite a Python Program to Find the Sum of Natural Numbers?\n",
    "\n",
    "def sum_of_natural_numbers(n):\n",
    "    sum=0\n",
    "    for x in range(1, n+1):\n",
    "        sum += x\n",
    "    return sum\n",
    "\n",
    "\n",
    "num= int(input(\"Enter the value to find the sum of natural numbers: \"))\n",
    "\n",
    "res= sum_of_natural_numbers(num)\n",
    "\n",
    "print(f\"The sum of {num} natural numbers is = {res}\")"
   ]
  },
  {
   "cell_type": "code",
   "execution_count": null,
   "id": "9baa60ce",
   "metadata": {},
   "outputs": [],
   "source": []
  }
 ],
 "metadata": {
  "kernelspec": {
   "display_name": "Python 3",
   "language": "python",
   "name": "python3"
  },
  "language_info": {
   "codemirror_mode": {
    "name": "ipython",
    "version": 3
   },
   "file_extension": ".py",
   "mimetype": "text/x-python",
   "name": "python",
   "nbconvert_exporter": "python",
   "pygments_lexer": "ipython3",
   "version": "3.8.8"
  }
 },
 "nbformat": 4,
 "nbformat_minor": 5
}
