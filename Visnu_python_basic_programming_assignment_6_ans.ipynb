{
 "cells": [
  {
   "cell_type": "markdown",
   "id": "0f0ef3fc",
   "metadata": {},
   "source": [
    "# Visnu_python_basic_programming_assignment_6_ans"
   ]
  },
  {
   "cell_type": "code",
   "execution_count": null,
   "id": "604f2d30",
   "metadata": {},
   "outputs": [],
   "source": [
    "1.\tWrite a Python Program to Display Fibonacci Sequence Using Recursion?\n",
    "2.\tWrite a Python Program to Find Factorial of Number Using Recursion?\n",
    "3.\tWrite a Python Program to calculate your Body Mass Index?\n",
    "4.\tWrite a Python Program to calculate the natural logarithm of any number?\n",
    "5.\tWrite a Python Program for cube sum of first n natural numbers?\n"
   ]
  },
  {
   "cell_type": "code",
   "execution_count": 8,
   "id": "0fc2df72",
   "metadata": {},
   "outputs": [
    {
     "name": "stdout",
     "output_type": "stream",
     "text": [
      "Enter the number of terms for fibonacci: 20\n",
      "0\n",
      "1\n",
      "1\n",
      "2\n",
      "3\n",
      "5\n",
      "8\n",
      "13\n",
      "21\n",
      "34\n",
      "55\n",
      "89\n",
      "144\n",
      "233\n",
      "377\n",
      "610\n",
      "987\n",
      "1597\n",
      "2584\n",
      "4181\n"
     ]
    }
   ],
   "source": [
    "#1.\tWrite a Python Program to Display Fibonacci Sequence Using Recursion?\n",
    "\n",
    "\n",
    "def fibonacci_rec(n):\n",
    "    if n<=1:\n",
    "        return n\n",
    "    else:\n",
    "        return (fibonacci_rec(n-1) + fibonacci_rec(n-2))\n",
    "    \n",
    "    \n",
    "n =int(input(\"Enter the number of terms for fibonacci: \"))\n",
    "\n",
    "if n<0:\n",
    "    print(\"Enter a positive number.\")\n",
    "else:\n",
    "    for i in range(n):\n",
    "        print(fibonacci_rec(i))"
   ]
  },
  {
   "cell_type": "code",
   "execution_count": 11,
   "id": "e5654c38",
   "metadata": {},
   "outputs": [
    {
     "name": "stdout",
     "output_type": "stream",
     "text": [
      "Enter a number to find it's factorial: 6\n",
      "The factorial of 6 is 720\n"
     ]
    }
   ],
   "source": [
    "#2.\tWrite a Python Program to Find Factorial of Number Using Recursion?\n",
    "\n",
    "\n",
    "def fact_rec(n):\n",
    "    fact=1\n",
    "    while n>0:\n",
    "        fact *= n\n",
    "        n -= 1\n",
    "    return fact\n",
    "\n",
    "\n",
    "num= int(input(\"Enter a number to find it's factorial: \"))\n",
    "\n",
    "if num<0:\n",
    "    print(\"Enter a positive number\")\n",
    "    \n",
    "else:\n",
    "    print(f\"The factorial of {num} is {fact_rec(num)}\")"
   ]
  },
  {
   "cell_type": "code",
   "execution_count": 2,
   "id": "39b9e9fe",
   "metadata": {},
   "outputs": [
    {
     "name": "stdout",
     "output_type": "stream",
     "text": [
      "Enter your height in cm: 178\n",
      "Enter your weight in Kg: 94\n",
      "Your BMI is : 29.667971215755585\n"
     ]
    }
   ],
   "source": [
    "#3.\tWrite a Python Program to calculate your Body Mass Index?\n",
    "\n",
    "\n",
    "def BMI(h, w):\n",
    "    bmi= w/ (h**2)\n",
    "    return bmi\n",
    "\n",
    "\n",
    "\n",
    "height= int(input(\"Enter your height in cm: \"))\n",
    "\n",
    "weight= float(input(\"Enter your weight in Kg: \"))\n",
    "\n",
    "height= height/100\n",
    "\n",
    "bmi=BMI(height, weight)\n",
    "\n",
    "print(f\"Your BMI is : {bmi}\")"
   ]
  },
  {
   "cell_type": "code",
   "execution_count": 4,
   "id": "b6b6ee15",
   "metadata": {},
   "outputs": [
    {
     "name": "stdout",
     "output_type": "stream",
     "text": [
      "Enter a value to find it's natural log: 4.5\n",
      "The natural log of 4.5 is: 1.5040773967762742\n"
     ]
    }
   ],
   "source": [
    "#4.\tWrite a Python Program to calculate the natural logarithm of any number?\n",
    "\n",
    "\n",
    "import numpy\n",
    "\n",
    "def natural_log(n):\n",
    "    return numpy.log(n)\n",
    "\n",
    "\n",
    "val =float(input(\"Enter a value to find it's natural log: \"))\n",
    "\n",
    "nlog= natural_log(val)\n",
    "\n",
    "print(f\"The natural log of {val} is: {nlog}\") "
   ]
  },
  {
   "cell_type": "code",
   "execution_count": 7,
   "id": "9903dc6b",
   "metadata": {},
   "outputs": [
    {
     "name": "stdout",
     "output_type": "stream",
     "text": [
      "Enter a number: 8\n",
      "The sum of cube of natural number 8 is: 1296\n"
     ]
    }
   ],
   "source": [
    "#5.\tWrite a Python Program for cube sum of first n natural numbers?\n",
    "\n",
    "\n",
    "def cube_sum(n):\n",
    "    res=0\n",
    "    while n>0:\n",
    "        res += n**3\n",
    "        n-=1\n",
    "    return res\n",
    "\n",
    "\n",
    "\n",
    "\n",
    "\n",
    "num= int(input(\"Enter a number: \"))\n",
    "\n",
    "\n",
    "res= cube_sum(num)\n",
    "\n",
    "print(f\"The sum of cube of natural number {num} is: {res}\")\n",
    "\n",
    "\n"
   ]
  },
  {
   "cell_type": "code",
   "execution_count": null,
   "id": "588a27d9",
   "metadata": {},
   "outputs": [],
   "source": []
  }
 ],
 "metadata": {
  "kernelspec": {
   "display_name": "Python 3",
   "language": "python",
   "name": "python3"
  },
  "language_info": {
   "codemirror_mode": {
    "name": "ipython",
    "version": 3
   },
   "file_extension": ".py",
   "mimetype": "text/x-python",
   "name": "python",
   "nbconvert_exporter": "python",
   "pygments_lexer": "ipython3",
   "version": "3.8.8"
  }
 },
 "nbformat": 4,
 "nbformat_minor": 5
}
