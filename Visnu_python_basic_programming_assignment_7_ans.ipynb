{
 "cells": [
  {
   "cell_type": "markdown",
   "id": "247696f6",
   "metadata": {},
   "source": [
    "# Visnu_python_basic_programming_assignment_7_ans"
   ]
  },
  {
   "cell_type": "code",
   "execution_count": null,
   "id": "9338cb77",
   "metadata": {},
   "outputs": [],
   "source": [
    "1.\tWrite a Python Program to find sum of array?\n",
    "2.\tWrite a Python Program to find largest element in an array?\n",
    "3.\tWrite a Python Program for array rotation?\n",
    "4.\tWrite a Python Program to Split the array and add the first part to the end?\n",
    "5.\tWrite a Python Program to check if given array is Monotonic?\n"
   ]
  },
  {
   "cell_type": "code",
   "execution_count": 12,
   "id": "6baef9ca",
   "metadata": {},
   "outputs": [
    {
     "name": "stdout",
     "output_type": "stream",
     "text": [
      "The sum of all array elements is: 230\n"
     ]
    }
   ],
   "source": [
    "#1.\tWrite a Python Program to find sum of array?\n",
    "\n",
    "\n",
    "import array as arr\n",
    "\n",
    "\n",
    "def sum_array(a):\n",
    "    res=0\n",
    "    for i in range(len(a)):\n",
    "        res += a[i]\n",
    "    return res\n",
    "\n",
    "\n",
    "\n",
    "a= arr.array('i', [10, 20, 50, 60, 90])\n",
    "\n",
    "res= sum_array(a)\n",
    "\n",
    "print(f\"The sum of all array elements is: {res}\")\n",
    "\n",
    "\n"
   ]
  },
  {
   "cell_type": "code",
   "execution_count": 15,
   "id": "3c4e7988",
   "metadata": {},
   "outputs": [
    {
     "name": "stdout",
     "output_type": "stream",
     "text": [
      "The max of array is :90\n",
      "The max of array is: 90\n"
     ]
    }
   ],
   "source": [
    "#2.\tWrite a Python Program to find largest element in an array?\n",
    "\n",
    "\n",
    "\n",
    "import array as arr\n",
    "\n",
    "#method 1\n",
    "def max_of_array1(a):\n",
    "    max=a[0]\n",
    "    for i in range(1, len(a)):\n",
    "        if max < a[i]:\n",
    "            max=a[i]\n",
    "        else:\n",
    "            pass\n",
    "    return max\n",
    "\n",
    "\n",
    "#method2\n",
    "def max_of_array2(a):\n",
    "    return max(a)\n",
    "\n",
    "\n",
    "\n",
    "a= arr.array('i', [10, 20, 50, 60, 90])\n",
    "\n",
    "maxi1 = max_of_array1(a)# calling method1\n",
    "\n",
    "print(f\"The max of array is :{maxi1}\")\n",
    "\n",
    "maxi2= max_of_array2(a)# calling method2 \n",
    "\n",
    "print(f\"The max of array is: {maxi2}\")\n",
    "\n",
    "\n",
    "\n",
    "\n",
    "    \n",
    "    \n",
    "\n",
    "\n",
    "\n"
   ]
  },
  {
   "cell_type": "code",
   "execution_count": 40,
   "id": "031d1404",
   "metadata": {},
   "outputs": [
    {
     "name": "stdout",
     "output_type": "stream",
     "text": [
      "Before rotating: \n",
      "array('i', [10, 20, 30, 40, 50, 60, 70, 80, 90, 100])\n",
      "Enter the rotation count: 4\n",
      "Enter the direction to rotate: (L / R): l\n",
      "After rotating in L direction 4 times: \n",
      "array('i', [50, 60, 70, 80, 90, 100, 10, 20, 30, 40])\n"
     ]
    }
   ],
   "source": [
    "#3.\tWrite a Python Program for array rotation?\n",
    "\n",
    "import array as arr\n",
    "\n",
    "\n",
    "def arrayRotateLeft(a, r):\n",
    "    n=len(a)\n",
    "    for i in range(r):\n",
    "        temp= a[0]\n",
    "        for j in range(n-1):\n",
    "            a[j]= a[j+1]\n",
    "        a[n-1]=temp\n",
    "        \n",
    "        \n",
    "def arrayRotateRight(a, r):\n",
    "    n=len(a)\n",
    "    for i in range(r):\n",
    "        temp=a[n-1]\n",
    "        for j in range(n-1, 0, -1):\n",
    "            a[j]= a[j-1]\n",
    "        a[0]= temp\n",
    "\n",
    "        \n",
    "        \n",
    "\n",
    "\n",
    "a= arr.array('i', [10, 20, 30, 40, 50, 60, 70, 80, 90, 100])\n",
    "\n",
    "\n",
    "print(\"Before rotating: \")\n",
    "print(a)\n",
    "\n",
    "\n",
    "\n",
    "rot= int(input(\"Enter the rotation count: \"))\n",
    "\n",
    "d= input(\"Enter the direction to rotate: (L / R): \")\n",
    "\n",
    "\n",
    "if d.lower()=='l':\n",
    "    arrayRotateLeft(a, rot)\n",
    "elif d.lower()=='r':\n",
    "    arrayRotateRight(a, rot)\n",
    "else: \n",
    "    print(\"Invalid direction\")\n",
    "    \n",
    "    \n",
    "print(f\"After rotating in {d.upper()} direction {rot} times: \")\n",
    "print(a)\n",
    "\n",
    "\n",
    "           \n"
   ]
  },
  {
   "cell_type": "code",
   "execution_count": 32,
   "id": "7d80957f",
   "metadata": {},
   "outputs": [
    {
     "name": "stdout",
     "output_type": "stream",
     "text": [
      "Before:\n",
      "array('i', [10, 20, 30, 40, 50, 60, 70, 80, 90, 100])\n",
      "After: \n",
      "array('i', [60, 70, 80, 90, 100, 10, 20, 30, 40, 50])\n"
     ]
    }
   ],
   "source": [
    "#4.\tWrite a Python Program to Split the array and add the first part to the end?\n",
    "\n",
    "import array as arr\n",
    "\n",
    "\n",
    "def array_flip(a):\n",
    "    mid= int(len(a)/2)\n",
    "    for i in range(mid):\n",
    "        a[i], a[mid+i] = a[mid+i], a[i]\n",
    "    \n",
    "        \n",
    "\n",
    "\n",
    "a= arr.array('i', [10, 20, 30, 40, 50, 60, 70, 80, 90, 100])\n",
    "\n",
    "\n",
    "print(\"Before:\" )\n",
    "print(a)\n",
    "\n",
    "\n",
    "array_flip(a)\n",
    "\n",
    "print(\"After: \")\n",
    "print(a)\n",
    "\n",
    "\n",
    "\n",
    "\n"
   ]
  },
  {
   "cell_type": "code",
   "execution_count": 20,
   "id": "0fa6400f",
   "metadata": {},
   "outputs": [
    {
     "name": "stdout",
     "output_type": "stream",
     "text": [
      "True\n",
      "True\n",
      "False\n"
     ]
    }
   ],
   "source": [
    "#5.\tWrite a Python Program to check if given array is Monotonic?\n",
    "\n",
    "\n",
    "\n",
    "import array as arr\n",
    "\n",
    "\n",
    "def asc_check(a):\n",
    "    flag=0\n",
    "    for i in range(len(a)-1):\n",
    "        if a[i] > a[i+1]:\n",
    "            flag=1\n",
    "            break\n",
    "    return flag==0\n",
    "\n",
    "\n",
    "def desc_check(a):\n",
    "    flag=0\n",
    "    for i in range(len(a)-1):\n",
    "        if a[i] < a[i+1]:\n",
    "            flag=1\n",
    "            break\n",
    "    return flag==0\n",
    "\n",
    "\n",
    "def monotonic_check(a):\n",
    "    flag=0\n",
    "    if a[0] < a[1]:\n",
    "        return asc_check(a)\n",
    "    elif a[0] > a[1]:\n",
    "        return desc_check(a)\n",
    "    \n",
    "        \n",
    "\n",
    "\n",
    "\n",
    "\n",
    "\n",
    "a1= arr.array('i', [10, 20, 30, 40, 40, 50, 60, 80, 100]) #monotonic-asc\n",
    "\n",
    "a2= arr.array('i', [9, 8, 6, 6, 4, 3, 1, 0, 0])# monotonic -desc\n",
    "\n",
    "a3= arr.array('i', [1, 2, 3, 5, 2, 6, 8, 9, 4, 10])# non monotonic\n",
    "\n",
    "\n",
    "print(monotonic_check(a1))\n",
    "\n",
    "print(monotonic_check(a2))\n",
    "\n",
    "print(monotonic_check(a3))\n",
    "\n",
    "\n"
   ]
  },
  {
   "cell_type": "code",
   "execution_count": 18,
   "id": "d437460f",
   "metadata": {},
   "outputs": [
    {
     "ename": "NameError",
     "evalue": "name 'ArrayType' is not defined",
     "output_type": "error",
     "traceback": [
      "\u001b[1;31m---------------------------------------------------------------------------\u001b[0m",
      "\u001b[1;31mNameError\u001b[0m                                 Traceback (most recent call last)",
      "\u001b[1;32m<ipython-input-18-e43874e3b1a1>\u001b[0m in \u001b[0;36m<module>\u001b[1;34m\u001b[0m\n\u001b[0;32m      2\u001b[0m \u001b[0ma1\u001b[0m\u001b[1;33m=\u001b[0m \u001b[0marr\u001b[0m\u001b[1;33m.\u001b[0m\u001b[0marray\u001b[0m\u001b[1;33m(\u001b[0m\u001b[1;34m'i'\u001b[0m\u001b[1;33m,\u001b[0m \u001b[1;33m[\u001b[0m\u001b[1;36m10\u001b[0m\u001b[1;33m,\u001b[0m \u001b[1;36m20\u001b[0m\u001b[1;33m,\u001b[0m \u001b[1;36m30\u001b[0m\u001b[1;33m,\u001b[0m \u001b[1;36m40\u001b[0m\u001b[1;33m,\u001b[0m \u001b[1;36m40\u001b[0m\u001b[1;33m,\u001b[0m \u001b[1;36m50\u001b[0m\u001b[1;33m,\u001b[0m \u001b[1;36m60\u001b[0m\u001b[1;33m,\u001b[0m \u001b[1;36m80\u001b[0m\u001b[1;33m,\u001b[0m \u001b[1;36m100\u001b[0m\u001b[1;33m]\u001b[0m\u001b[1;33m)\u001b[0m\u001b[1;33m\u001b[0m\u001b[1;33m\u001b[0m\u001b[0m\n\u001b[0;32m      3\u001b[0m \u001b[1;33m\u001b[0m\u001b[0m\n\u001b[1;32m----> 4\u001b[1;33m \u001b[0mdir\u001b[0m\u001b[1;33m(\u001b[0m\u001b[0mArrayType\u001b[0m\u001b[1;33m(\u001b[0m\u001b[0ma1\u001b[0m\u001b[1;33m)\u001b[0m\u001b[1;33m)\u001b[0m\u001b[1;33m\u001b[0m\u001b[1;33m\u001b[0m\u001b[0m\n\u001b[0m",
      "\u001b[1;31mNameError\u001b[0m: name 'ArrayType' is not defined"
     ]
    }
   ],
   "source": [
    "\n"
   ]
  },
  {
   "cell_type": "code",
   "execution_count": null,
   "id": "1dd08a54",
   "metadata": {},
   "outputs": [],
   "source": []
  }
 ],
 "metadata": {
  "kernelspec": {
   "display_name": "Python 3",
   "language": "python",
   "name": "python3"
  },
  "language_info": {
   "codemirror_mode": {
    "name": "ipython",
    "version": 3
   },
   "file_extension": ".py",
   "mimetype": "text/x-python",
   "name": "python",
   "nbconvert_exporter": "python",
   "pygments_lexer": "ipython3",
   "version": "3.8.8"
  }
 },
 "nbformat": 4,
 "nbformat_minor": 5
}
