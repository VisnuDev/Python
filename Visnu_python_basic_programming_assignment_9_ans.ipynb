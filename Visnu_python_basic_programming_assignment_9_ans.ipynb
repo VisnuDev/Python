{
 "cells": [
  {
   "cell_type": "markdown",
   "id": "52dcf1f1",
   "metadata": {},
   "source": [
    "# Visnu_python_basic_programming_assignment_9_ans"
   ]
  },
  {
   "cell_type": "code",
   "execution_count": null,
   "id": "94b40c9e",
   "metadata": {},
   "outputs": [],
   "source": [
    "1.\tWrite a Python program to check if the given number is a Disarium Number?\n",
    "2.\tWrite a Python program to print all disarium numbers between 1 to 100?\n",
    "3.\tWrite a Python program to check if the given number is Happy Number?\n",
    "4.\tWrite a Python program to print all happy numbers between 1 and 100?\n",
    "5.\tWrite a Python program to determine whether the given number is a Harshad Number?\n",
    "6.\tWrite a Python program to print all pronic numbers between 1 and 100?\n"
   ]
  },
  {
   "cell_type": "code",
   "execution_count": 12,
   "id": "434a5953",
   "metadata": {},
   "outputs": [
    {
     "name": "stdout",
     "output_type": "stream",
     "text": [
      "Enter a number: 175\n",
      "175 is a Disarium number\n"
     ]
    }
   ],
   "source": [
    "#1.\tWrite a Python program to check if the given number is a Disarium Number?\n",
    "\n",
    "\n",
    "def checkDisarium(n):\n",
    "    x=n\n",
    "    d= []\n",
    "    while x>0:\n",
    "        rem= x%10\n",
    "        d.append(rem)\n",
    "        x = int(x/10)\n",
    "    d.reverse()\n",
    "    add=0\n",
    "    for i in range(len(d)):\n",
    "        add += d[i]**(i+1)\n",
    "    \n",
    "    if add==n:\n",
    "        return True\n",
    "    else:\n",
    "        return False\n",
    "        \n",
    "    \n",
    "        \n",
    "\n",
    "num = int(input(\"Enter a number: \"))\n",
    "\n",
    "if checkDisarium(num):\n",
    "    print(f\"{num} is a Disarium number\")\n",
    "else:\n",
    "    print(f\"{num} is not a Disarium number\")\n",
    "    \n"
   ]
  },
  {
   "cell_type": "code",
   "execution_count": 13,
   "id": "5c870354",
   "metadata": {},
   "outputs": [
    {
     "name": "stdout",
     "output_type": "stream",
     "text": [
      "The list of all Disarium numbers between 1 to 100: \n",
      "1\n",
      "2\n",
      "3\n",
      "4\n",
      "5\n",
      "6\n",
      "7\n",
      "8\n",
      "9\n",
      "89\n"
     ]
    }
   ],
   "source": [
    "#2.\tWrite a Python program to print all disarium numbers between 1 to 100?\n",
    "\n",
    "\n",
    "def checkDisarium(n):\n",
    "    x=n\n",
    "    d= []\n",
    "    while x>0:\n",
    "        rem= x%10\n",
    "        d.append(rem)\n",
    "        x = int(x/10)\n",
    "    d.reverse()\n",
    "    add=0\n",
    "    for i in range(len(d)):\n",
    "        add += d[i]**(i+1)\n",
    "    \n",
    "    if add==n:\n",
    "        return True\n",
    "    else:\n",
    "        return False\n",
    "    \n",
    "    \n",
    "    \n",
    "print(\"The list of all Disarium numbers between 1 to 100: \")\n",
    "\n",
    "for i in range(1, 101):\n",
    "    if checkDisarium(i):\n",
    "        print(i)\n",
    "    else:\n",
    "        pass\n",
    "\n"
   ]
  },
  {
   "cell_type": "code",
   "execution_count": 17,
   "id": "6a6da688",
   "metadata": {},
   "outputs": [
    {
     "name": "stdout",
     "output_type": "stream",
     "text": [
      "Enter a number: 13\n",
      "13 is Happy number\n"
     ]
    }
   ],
   "source": [
    "#3.\tWrite a Python program to check if the given number is Happy Number?\n",
    "\n",
    "\n",
    "def checkHappyNumber(x):\n",
    "    while x>=10:\n",
    "        y=x\n",
    "        d=[]\n",
    "        while y>0:\n",
    "            rem= y%10\n",
    "            d.append(rem)\n",
    "            y = int(y/10)\n",
    "        add=0\n",
    "        for i in d:\n",
    "            add  += i**2\n",
    "        x=add\n",
    "    \n",
    "    return x==1\n",
    "\n",
    "\n",
    "\n",
    "\n",
    "num = int(input(\"Enter a number: \"))\n",
    "\n",
    "if checkHappyNumber(num):\n",
    "    print(f\"{num} is Happy number\")\n",
    "else:\n",
    "    print(f\"{num} is not a happy number\")\n",
    "    \n",
    "\n",
    "        "
   ]
  },
  {
   "cell_type": "code",
   "execution_count": 18,
   "id": "f3fc07b2",
   "metadata": {},
   "outputs": [
    {
     "name": "stdout",
     "output_type": "stream",
     "text": [
      "The list of Happy numbers from 1 to 100: \n",
      "1\n",
      "10\n",
      "13\n",
      "19\n",
      "23\n",
      "28\n",
      "31\n",
      "32\n",
      "44\n",
      "49\n",
      "68\n",
      "70\n",
      "79\n",
      "82\n",
      "86\n",
      "91\n",
      "94\n",
      "97\n",
      "100\n"
     ]
    }
   ],
   "source": [
    "#4.\tWrite a Python program to print all happy numbers between 1 and 100?\n",
    "\n",
    "\n",
    "def checkHappyNumber(x):\n",
    "    while x>=10:\n",
    "        y=x\n",
    "        d=[]\n",
    "        while y>0:\n",
    "            rem=y%10\n",
    "            d.append(rem)\n",
    "            y= int(y/10)\n",
    "        add=0\n",
    "        for i in d:\n",
    "            add += i**2\n",
    "        x=add\n",
    "    return x==1\n",
    "\n",
    "\n",
    "\n",
    "\n",
    "print(\"The list of Happy numbers from 1 to 100: \")\n",
    "\n",
    "for i in range(1, 101):\n",
    "    if checkHappyNumber(i):\n",
    "        print(i)\n",
    "    else:\n",
    "        pass\n",
    "    \n",
    "\n",
    "        \n",
    "        \n"
   ]
  },
  {
   "cell_type": "code",
   "execution_count": 21,
   "id": "281a5674",
   "metadata": {},
   "outputs": [
    {
     "name": "stdout",
     "output_type": "stream",
     "text": [
      "Enter a number: 18\n",
      "18 is an Harshad number\n"
     ]
    }
   ],
   "source": [
    "#5.\tWrite a Python program to determine whether the given number is a Harshad Number?\n",
    "\n",
    "\n",
    "def checkHarshadnumber(n):\n",
    "    x= n\n",
    "    add=0\n",
    "    while x>0:\n",
    "        rem= x%10\n",
    "        add += rem\n",
    "        x = int(x/10)\n",
    "    \n",
    "    return n%add==0\n",
    "\n",
    "\n",
    "\n",
    "\n",
    "num = int(input(\"Enter a number: \"))\n",
    "\n",
    "if checkHarshadnumber(num):\n",
    "    print(f\"{num} is an Harshad number\")\n",
    "else:\n",
    "    print(f\"{num} is NOT an Harshad number\")\n"
   ]
  },
  {
   "cell_type": "code",
   "execution_count": 22,
   "id": "4fe901ca",
   "metadata": {},
   "outputs": [
    {
     "name": "stdout",
     "output_type": "stream",
     "text": [
      "Pronic numbers between 1 and 100: \n",
      "2\n",
      "6\n",
      "12\n",
      "20\n",
      "30\n",
      "42\n",
      "56\n",
      "72\n",
      "90\n"
     ]
    }
   ],
   "source": [
    "#6.\tWrite a Python program to print all pronic numbers between 1 and 100?\n",
    "\n",
    "\n",
    "def checkPronic(n):\n",
    "    i=0\n",
    "    mul=0\n",
    "    while mul<=n:\n",
    "        mul= i* (i+1)\n",
    "        if mul==n:\n",
    "            return True\n",
    "        i+=1\n",
    "    return False\n",
    "\n",
    "\n",
    "\n",
    "print(\"Pronic numbers between 1 and 100: \")\n",
    "\n",
    "for i in range(1, 101):\n",
    "    if checkPronic(i):\n",
    "        print(i)\n",
    "    else: \n",
    "        pass"
   ]
  }
 ],
 "metadata": {
  "kernelspec": {
   "display_name": "Python 3",
   "language": "python",
   "name": "python3"
  },
  "language_info": {
   "codemirror_mode": {
    "name": "ipython",
    "version": 3
   },
   "file_extension": ".py",
   "mimetype": "text/x-python",
   "name": "python",
   "nbconvert_exporter": "python",
   "pygments_lexer": "ipython3",
   "version": "3.8.8"
  }
 },
 "nbformat": 4,
 "nbformat_minor": 5
}
